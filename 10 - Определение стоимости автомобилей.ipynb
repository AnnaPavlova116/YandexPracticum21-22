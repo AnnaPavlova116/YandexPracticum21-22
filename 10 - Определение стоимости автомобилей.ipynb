{
 "cells": [
  {
   "cell_type": "markdown",
   "metadata": {},
   "source": [
    "<div style=\"border:solid green 2px; padding: 20px\">\n",
    "<b>Комментарий ревьюера:</b> \n",
    "    \n",
    "Анна, привет! Меня зовут Бунакова Влада. Если не возражаешь, предлагаю общаться на «ты» :)\n",
    "\n",
    "Ниже в файле ты найдешь мои комментарии: <font color='green'>зеленый цвет — «все отлично»; </font> <font color='orange'>желтый — «хорошо, но можно лучше (один-два таких замечаний допустимы, но если их больше — придется исправлять)»; </font> <font color='red'>красный — «нужно исправить».</font> Комментарии в самом коде я отделяю знаками «###». Пожалуйста, не удаляй мои комментарии, они мне нужны при повторной проверке. Будет здорово, если в своих новых комментариях (выделяй их другим цветом) ты напишешь о сделанных тобой изменениях в коде. \n"
   ]
  },
  {
   "cell_type": "markdown",
   "metadata": {},
   "source": [
    "<div style=\"background: #eeeeee\">\n",
    "<font color='blue'> \n",
    "    <b><u>КОММЕНТАРИЙ СТУДЕНТА:</u></b>\n",
    "<font color='blue'><br>\n",
    "Спасибо! Свои комментарии оставила таким цветом. "
   ]
  },
  {
   "cell_type": "markdown",
   "metadata": {},
   "source": [
    "<div style=\"border:solid green 2px; padding: 20px\">\n",
    "<b>Комментарий ревьюера v2:</b>   \n",
    "    \n",
    "Анна, спасибо, все отлично!"
   ]
  },
  {
   "cell_type": "markdown",
   "metadata": {},
   "source": [
    "# Определение стоимости автомобилей"
   ]
  },
  {
   "cell_type": "markdown",
   "metadata": {},
   "source": [
    "Сервис по продаже автомобилей с пробегом «Не бит, не крашен» разрабатывает приложение для привлечения новых клиентов. В нём можно быстро узнать рыночную стоимость своего автомобиля. В вашем распоряжении исторические данные: технические характеристики, комплектации и цены автомобилей. Вам нужно построить модель для определения стоимости. \n",
    "\n",
    "Заказчику важны:\n",
    "\n",
    "- качество предсказания;\n",
    "- скорость предсказания;\n",
    "- время обучения."
   ]
  },
  {
   "cell_type": "markdown",
   "metadata": {},
   "source": [
    "_Примечания к заданию: Чтобы усилить исследование, не ограничивайтесь градиентным бустингом. Попробуйте более простые модели — иногда они работают лучше. Это редкие случаи, которые легко пропустить, если всегда применять только бустинг. Поэкспериментируйте и сравните характеристики моделей: скорость работы, точность результата._"
   ]
  },
  {
   "cell_type": "markdown",
   "metadata": {},
   "source": [
    "## Подготовка данных"
   ]
  },
  {
   "cell_type": "markdown",
   "metadata": {},
   "source": [
    "Загрузим и подготовим данные."
   ]
  },
  {
   "cell_type": "code",
   "execution_count": 1,
   "metadata": {},
   "outputs": [],
   "source": [
    "import pandas as pd\n",
    "import numpy as np\n",
    "\n",
    "import time\n",
    "\n",
    "import matplotlib.pyplot as plt\n",
    "from pandas.plotting import scatter_matrix\n",
    "\n",
    "import seaborn as sns\n",
    "sns.set(context='talk', style='whitegrid', palette='muted')\n",
    "\n",
    "#import optuna\n",
    "from sklearn.model_selection import GridSearchCV \n",
    "\n",
    "import statsmodels.api as sm\n",
    "\n",
    "#import random\n",
    "#import math\n",
    "#from scipy import stats\n",
    "\n",
    "# import datetime \n",
    "# from datetime import datetime, date\n",
    "\n",
    "# from sklearn.tree import DecisionTreeClassifier\n",
    "# from sklearn.ensemble import RandomForestClassifier\n",
    "# from sklearn.dummy import DummyClassifier\n",
    "\n",
    "from sklearn.ensemble import RandomForestRegressor\n",
    "from sklearn.linear_model import LinearRegression  \n",
    "# from sklearn.linear_model import LogisticRegression\n",
    "# from sklearn.neural_network import MLPRegressor \n",
    "from sklearn.linear_model import Ridge\n",
    "# from sklearn.linear_model import Lasso\n",
    "from sklearn.dummy import DummyRegressor\n",
    "from lightgbm import LGBMRegressor\n",
    "from sklearn.tree import DecisionTreeRegressor\n",
    "\n",
    "# import xgboost\n",
    "from catboost import Pool, CatBoostRegressor, cv\n",
    "from lightgbm import LGBMRegressor\n",
    "\n",
    "from sklearn.model_selection import train_test_split\n",
    "\n",
    "from sklearn.preprocessing import OrdinalEncoder, MinMaxScaler, StandardScaler, OneHotEncoder\n",
    "\n",
    "from sklearn.pipeline import Pipeline\n",
    "\n",
    "# from sklearn.utils import shuffle\n",
    "\n",
    "from sklearn.metrics import mean_squared_error\n",
    "from sklearn.model_selection import cross_val_score\n",
    "#from sklearn.metrics import accuracy_score, roc_auc_score, precision_score, recall_score, f1_score, confusion_matrix\n",
    "#from sklearn.metrics import precision_recall_curve, roc_curve\n",
    "\n",
    "pd.set_option('display.max_columns', 40) #макс кол-во колонок в выводимых данных \n",
    "pd.set_option('display.max_rows', 20) #макс кол-во строк в выводимых данных\n",
    "pd.set_option('display.width', 80) #макс кол-во символов в строке\n",
    "\n",
    "%matplotlib inline\n",
    "import warnings\n",
    "warnings.simplefilter('ignore')\n",
    "pd.options.mode.chained_assignment = None"
   ]
  },
  {
   "cell_type": "code",
   "execution_count": 2,
   "metadata": {},
   "outputs": [],
   "source": [
    "try: \n",
    "    df=pd.read_csv('/datasets/autos.csv')\n",
    "    \n",
    "except: \n",
    "    df=pd.read_csv('datasets/autos.csv')"
   ]
  },
  {
   "cell_type": "markdown",
   "metadata": {},
   "source": [
    "#### Загрузим и рассмотрим данные"
   ]
  },
  {
   "cell_type": "code",
   "execution_count": 3,
   "metadata": {},
   "outputs": [
    {
     "data": {
      "text/html": [
       "<div>\n",
       "<style scoped>\n",
       "    .dataframe tbody tr th:only-of-type {\n",
       "        vertical-align: middle;\n",
       "    }\n",
       "\n",
       "    .dataframe tbody tr th {\n",
       "        vertical-align: top;\n",
       "    }\n",
       "\n",
       "    .dataframe thead th {\n",
       "        text-align: right;\n",
       "    }\n",
       "</style>\n",
       "<table border=\"1\" class=\"dataframe\">\n",
       "  <thead>\n",
       "    <tr style=\"text-align: right;\">\n",
       "      <th></th>\n",
       "      <th>DateCrawled</th>\n",
       "      <th>Price</th>\n",
       "      <th>VehicleType</th>\n",
       "      <th>RegistrationYear</th>\n",
       "      <th>Gearbox</th>\n",
       "      <th>Power</th>\n",
       "      <th>Model</th>\n",
       "      <th>Kilometer</th>\n",
       "      <th>RegistrationMonth</th>\n",
       "      <th>FuelType</th>\n",
       "      <th>Brand</th>\n",
       "      <th>NotRepaired</th>\n",
       "      <th>DateCreated</th>\n",
       "      <th>NumberOfPictures</th>\n",
       "      <th>PostalCode</th>\n",
       "      <th>LastSeen</th>\n",
       "    </tr>\n",
       "  </thead>\n",
       "  <tbody>\n",
       "    <tr>\n",
       "      <td>0</td>\n",
       "      <td>2016-03-24 11:52:17</td>\n",
       "      <td>480</td>\n",
       "      <td>NaN</td>\n",
       "      <td>1993</td>\n",
       "      <td>manual</td>\n",
       "      <td>0</td>\n",
       "      <td>golf</td>\n",
       "      <td>150000</td>\n",
       "      <td>0</td>\n",
       "      <td>petrol</td>\n",
       "      <td>volkswagen</td>\n",
       "      <td>NaN</td>\n",
       "      <td>2016-03-24 00:00:00</td>\n",
       "      <td>0</td>\n",
       "      <td>70435</td>\n",
       "      <td>2016-04-07 03:16:57</td>\n",
       "    </tr>\n",
       "    <tr>\n",
       "      <td>1</td>\n",
       "      <td>2016-03-24 10:58:45</td>\n",
       "      <td>18300</td>\n",
       "      <td>coupe</td>\n",
       "      <td>2011</td>\n",
       "      <td>manual</td>\n",
       "      <td>190</td>\n",
       "      <td>NaN</td>\n",
       "      <td>125000</td>\n",
       "      <td>5</td>\n",
       "      <td>gasoline</td>\n",
       "      <td>audi</td>\n",
       "      <td>yes</td>\n",
       "      <td>2016-03-24 00:00:00</td>\n",
       "      <td>0</td>\n",
       "      <td>66954</td>\n",
       "      <td>2016-04-07 01:46:50</td>\n",
       "    </tr>\n",
       "    <tr>\n",
       "      <td>2</td>\n",
       "      <td>2016-03-14 12:52:21</td>\n",
       "      <td>9800</td>\n",
       "      <td>suv</td>\n",
       "      <td>2004</td>\n",
       "      <td>auto</td>\n",
       "      <td>163</td>\n",
       "      <td>grand</td>\n",
       "      <td>125000</td>\n",
       "      <td>8</td>\n",
       "      <td>gasoline</td>\n",
       "      <td>jeep</td>\n",
       "      <td>NaN</td>\n",
       "      <td>2016-03-14 00:00:00</td>\n",
       "      <td>0</td>\n",
       "      <td>90480</td>\n",
       "      <td>2016-04-05 12:47:46</td>\n",
       "    </tr>\n",
       "    <tr>\n",
       "      <td>3</td>\n",
       "      <td>2016-03-17 16:54:04</td>\n",
       "      <td>1500</td>\n",
       "      <td>small</td>\n",
       "      <td>2001</td>\n",
       "      <td>manual</td>\n",
       "      <td>75</td>\n",
       "      <td>golf</td>\n",
       "      <td>150000</td>\n",
       "      <td>6</td>\n",
       "      <td>petrol</td>\n",
       "      <td>volkswagen</td>\n",
       "      <td>no</td>\n",
       "      <td>2016-03-17 00:00:00</td>\n",
       "      <td>0</td>\n",
       "      <td>91074</td>\n",
       "      <td>2016-03-17 17:40:17</td>\n",
       "    </tr>\n",
       "    <tr>\n",
       "      <td>4</td>\n",
       "      <td>2016-03-31 17:25:20</td>\n",
       "      <td>3600</td>\n",
       "      <td>small</td>\n",
       "      <td>2008</td>\n",
       "      <td>manual</td>\n",
       "      <td>69</td>\n",
       "      <td>fabia</td>\n",
       "      <td>90000</td>\n",
       "      <td>7</td>\n",
       "      <td>gasoline</td>\n",
       "      <td>skoda</td>\n",
       "      <td>no</td>\n",
       "      <td>2016-03-31 00:00:00</td>\n",
       "      <td>0</td>\n",
       "      <td>60437</td>\n",
       "      <td>2016-04-06 10:17:21</td>\n",
       "    </tr>\n",
       "  </tbody>\n",
       "</table>\n",
       "</div>"
      ],
      "text/plain": [
       "           DateCrawled  Price VehicleType  RegistrationYear Gearbox  Power  \\\n",
       "0  2016-03-24 11:52:17    480         NaN              1993  manual      0   \n",
       "1  2016-03-24 10:58:45  18300       coupe              2011  manual    190   \n",
       "2  2016-03-14 12:52:21   9800         suv              2004    auto    163   \n",
       "3  2016-03-17 16:54:04   1500       small              2001  manual     75   \n",
       "4  2016-03-31 17:25:20   3600       small              2008  manual     69   \n",
       "\n",
       "   Model  Kilometer  RegistrationMonth  FuelType       Brand NotRepaired  \\\n",
       "0   golf     150000                  0    petrol  volkswagen         NaN   \n",
       "1    NaN     125000                  5  gasoline        audi         yes   \n",
       "2  grand     125000                  8  gasoline        jeep         NaN   \n",
       "3   golf     150000                  6    petrol  volkswagen          no   \n",
       "4  fabia      90000                  7  gasoline       skoda          no   \n",
       "\n",
       "           DateCreated  NumberOfPictures  PostalCode             LastSeen  \n",
       "0  2016-03-24 00:00:00                 0       70435  2016-04-07 03:16:57  \n",
       "1  2016-03-24 00:00:00                 0       66954  2016-04-07 01:46:50  \n",
       "2  2016-03-14 00:00:00                 0       90480  2016-04-05 12:47:46  \n",
       "3  2016-03-17 00:00:00                 0       91074  2016-03-17 17:40:17  \n",
       "4  2016-03-31 00:00:00                 0       60437  2016-04-06 10:17:21  "
      ]
     },
     "execution_count": 3,
     "metadata": {},
     "output_type": "execute_result"
    }
   ],
   "source": [
    "df.head()"
   ]
  },
  {
   "cell_type": "markdown",
   "metadata": {},
   "source": [
    "Признаки: \n",
    "- DateCrawled — дата скачивания анкеты из базы\n",
    "- VehicleType — тип автомобильного кузова\n",
    "- RegistrationYear — год регистрации автомобиля\n",
    "- Gearbox — тип коробки передач\n",
    "- Power — мощность (л. с.)\n",
    "- Model — модель автомобиля\n",
    "- Kilometer — пробег (км)\n",
    "- RegistrationMonth — месяц регистрации автомобиля\n",
    "- FuelType — тип топлива\n",
    "- Brand — марка автомобиля\n",
    "- NotRepaired — была машина в ремонте или нет\n",
    "- DateCreated — дата создания анкеты\n",
    "- NumberOfPictures — количество фотографий автомобиля\n",
    "- PostalCode — почтовый индекс владельца анкеты (пользователя)\n",
    "- LastSeen — дата последней активности пользователя\n",
    "- Price — цена (евро) - __целевой__"
   ]
  },
  {
   "cell_type": "markdown",
   "metadata": {},
   "source": [
    "Удалим следующие столбцы из датасета: дата скачивания анкеты, дата последней активности пользователя, почтовый индекс пользователя (в России он, возможно, и имел бы значение, т.к.  оценка автомобилей в регионах РФ сильно отличается, но скорее всего это данные из Европы, поэтому географическая привязка здесь бесполезна), дата создания анкеты, количество фотографий автомобиля (фактически это сильно влияет на цену продажи и скорость продажи, но здесь в этой колонке везде нули, и прогнозирование скорости продажи здесь не является нашей задачей). Также удалим месяц регистрации (считается, что если автомобиль зарегистрирован в ноябре или декабре, он может равняться по цене с автомобилями следующего года выпуска, но фактически это может хоть сколько-то влиять на цену автомобилей возраста 1-2 лет, не более). "
   ]
  },
  {
   "cell_type": "code",
   "execution_count": 4,
   "metadata": {},
   "outputs": [
    {
     "data": {
      "text/html": [
       "<div>\n",
       "<style scoped>\n",
       "    .dataframe tbody tr th:only-of-type {\n",
       "        vertical-align: middle;\n",
       "    }\n",
       "\n",
       "    .dataframe tbody tr th {\n",
       "        vertical-align: top;\n",
       "    }\n",
       "\n",
       "    .dataframe thead th {\n",
       "        text-align: right;\n",
       "    }\n",
       "</style>\n",
       "<table border=\"1\" class=\"dataframe\">\n",
       "  <thead>\n",
       "    <tr style=\"text-align: right;\">\n",
       "      <th></th>\n",
       "      <th>Price</th>\n",
       "      <th>VehicleType</th>\n",
       "      <th>RegistrationYear</th>\n",
       "      <th>Gearbox</th>\n",
       "      <th>Power</th>\n",
       "      <th>Model</th>\n",
       "      <th>Kilometer</th>\n",
       "      <th>FuelType</th>\n",
       "      <th>Brand</th>\n",
       "      <th>NotRepaired</th>\n",
       "    </tr>\n",
       "  </thead>\n",
       "  <tbody>\n",
       "    <tr>\n",
       "      <td>0</td>\n",
       "      <td>480</td>\n",
       "      <td>NaN</td>\n",
       "      <td>1993</td>\n",
       "      <td>manual</td>\n",
       "      <td>0</td>\n",
       "      <td>golf</td>\n",
       "      <td>150000</td>\n",
       "      <td>petrol</td>\n",
       "      <td>volkswagen</td>\n",
       "      <td>NaN</td>\n",
       "    </tr>\n",
       "    <tr>\n",
       "      <td>1</td>\n",
       "      <td>18300</td>\n",
       "      <td>coupe</td>\n",
       "      <td>2011</td>\n",
       "      <td>manual</td>\n",
       "      <td>190</td>\n",
       "      <td>NaN</td>\n",
       "      <td>125000</td>\n",
       "      <td>gasoline</td>\n",
       "      <td>audi</td>\n",
       "      <td>yes</td>\n",
       "    </tr>\n",
       "    <tr>\n",
       "      <td>2</td>\n",
       "      <td>9800</td>\n",
       "      <td>suv</td>\n",
       "      <td>2004</td>\n",
       "      <td>auto</td>\n",
       "      <td>163</td>\n",
       "      <td>grand</td>\n",
       "      <td>125000</td>\n",
       "      <td>gasoline</td>\n",
       "      <td>jeep</td>\n",
       "      <td>NaN</td>\n",
       "    </tr>\n",
       "    <tr>\n",
       "      <td>3</td>\n",
       "      <td>1500</td>\n",
       "      <td>small</td>\n",
       "      <td>2001</td>\n",
       "      <td>manual</td>\n",
       "      <td>75</td>\n",
       "      <td>golf</td>\n",
       "      <td>150000</td>\n",
       "      <td>petrol</td>\n",
       "      <td>volkswagen</td>\n",
       "      <td>no</td>\n",
       "    </tr>\n",
       "    <tr>\n",
       "      <td>4</td>\n",
       "      <td>3600</td>\n",
       "      <td>small</td>\n",
       "      <td>2008</td>\n",
       "      <td>manual</td>\n",
       "      <td>69</td>\n",
       "      <td>fabia</td>\n",
       "      <td>90000</td>\n",
       "      <td>gasoline</td>\n",
       "      <td>skoda</td>\n",
       "      <td>no</td>\n",
       "    </tr>\n",
       "  </tbody>\n",
       "</table>\n",
       "</div>"
      ],
      "text/plain": [
       "   Price VehicleType  RegistrationYear Gearbox  Power  Model  Kilometer  \\\n",
       "0    480         NaN              1993  manual      0   golf     150000   \n",
       "1  18300       coupe              2011  manual    190    NaN     125000   \n",
       "2   9800         suv              2004    auto    163  grand     125000   \n",
       "3   1500       small              2001  manual     75   golf     150000   \n",
       "4   3600       small              2008  manual     69  fabia      90000   \n",
       "\n",
       "   FuelType       Brand NotRepaired  \n",
       "0    petrol  volkswagen         NaN  \n",
       "1  gasoline        audi         yes  \n",
       "2  gasoline        jeep         NaN  \n",
       "3    petrol  volkswagen          no  \n",
       "4  gasoline       skoda          no  "
      ]
     },
     "execution_count": 4,
     "metadata": {},
     "output_type": "execute_result"
    }
   ],
   "source": [
    "list_to_drop = ['DateCrawled', 'RegistrationMonth', 'DateCreated', 'NumberOfPictures', 'PostalCode', 'LastSeen']\n",
    "df=df.drop(list_to_drop, axis=1)\n",
    "df.head()"
   ]
  },
  {
   "cell_type": "markdown",
   "metadata": {},
   "source": [
    "<div class=\"alert alert-block alert-success\">\n",
    "<b>Комментарий ревьюера ✔️</b> \n",
    "\n",
    "Лишние признаки определены верно 👍\n",
    "</div>\n"
   ]
  },
  {
   "cell_type": "code",
   "execution_count": 5,
   "metadata": {},
   "outputs": [
    {
     "name": "stdout",
     "output_type": "stream",
     "text": [
      "<class 'pandas.core.frame.DataFrame'>\n",
      "RangeIndex: 354369 entries, 0 to 354368\n",
      "Data columns (total 10 columns):\n",
      "Price               354369 non-null int64\n",
      "VehicleType         316879 non-null object\n",
      "RegistrationYear    354369 non-null int64\n",
      "Gearbox             334536 non-null object\n",
      "Power               354369 non-null int64\n",
      "Model               334664 non-null object\n",
      "Kilometer           354369 non-null int64\n",
      "FuelType            321474 non-null object\n",
      "Brand               354369 non-null object\n",
      "NotRepaired         283215 non-null object\n",
      "dtypes: int64(4), object(6)\n",
      "memory usage: 27.0+ MB\n"
     ]
    },
    {
     "data": {
      "text/plain": [
       "None"
      ]
     },
     "metadata": {},
     "output_type": "display_data"
    },
    {
     "data": {
      "text/plain": [
       "Price                   0\n",
       "VehicleType         37490\n",
       "RegistrationYear        0\n",
       "Gearbox             19833\n",
       "Power                   0\n",
       "Model               19705\n",
       "Kilometer               0\n",
       "FuelType            32895\n",
       "Brand                   0\n",
       "NotRepaired         71154\n",
       "dtype: int64"
      ]
     },
     "metadata": {},
     "output_type": "display_data"
    }
   ],
   "source": [
    "display (df.info())\n",
    "display (df.isna().sum())"
   ]
  },
  {
   "cell_type": "code",
   "execution_count": 6,
   "metadata": {},
   "outputs": [
    {
     "name": "stdout",
     "output_type": "stream",
     "text": [
      "Price - 0%\n",
      "VehicleType - 11%\n",
      "RegistrationYear - 0%\n",
      "Gearbox - 6%\n",
      "Power - 0%\n",
      "Model - 6%\n",
      "Kilometer - 0%\n",
      "FuelType - 9%\n",
      "Brand - 0%\n",
      "NotRepaired - 20%\n"
     ]
    }
   ],
   "source": [
    "for col in df.columns:\n",
    "    pct_missing = np.mean(df[col].isnull())\n",
    "    print('{} - {}%'.format(col, round(pct_missing*100)))"
   ]
  },
  {
   "cell_type": "markdown",
   "metadata": {},
   "source": [
    "Видим наличие пропусков в данных, от 6% до 20% в зависимости от признака. "
   ]
  },
  {
   "cell_type": "markdown",
   "metadata": {},
   "source": [
    "<div class=\"alert alert-block alert-warning\">\n",
    "<b>Комментарий ревьюера ⚠️</b> \n",
    "\n",
    "~~А есть ли дубликаты?~~\n",
    "</div>\n"
   ]
  },
  {
   "cell_type": "markdown",
   "metadata": {},
   "source": [
    "<div style=\"background: #eeeeee\">\n",
    "<font color='blue'> \n",
    "    <b><u>КОММЕНТАРИЙ СТУДЕНТА:</u></b>\n",
    "<font color='blue'><br>\n",
    "Проверим на дубликаты."
   ]
  },
  {
   "cell_type": "code",
   "execution_count": 7,
   "metadata": {},
   "outputs": [
    {
     "data": {
      "text/plain": [
       "45040"
      ]
     },
     "execution_count": 7,
     "metadata": {},
     "output_type": "execute_result"
    }
   ],
   "source": [
    "df.duplicated().sum()"
   ]
  },
  {
   "cell_type": "code",
   "execution_count": 8,
   "metadata": {},
   "outputs": [],
   "source": [
    "df = df.drop_duplicates()"
   ]
  },
  {
   "cell_type": "code",
   "execution_count": 9,
   "metadata": {},
   "outputs": [
    {
     "name": "stdout",
     "output_type": "stream",
     "text": [
      "<class 'pandas.core.frame.DataFrame'>\n",
      "Int64Index: 309329 entries, 0 to 354368\n",
      "Data columns (total 10 columns):\n",
      "Price               309329 non-null int64\n",
      "VehicleType         274770 non-null object\n",
      "RegistrationYear    309329 non-null int64\n",
      "Gearbox             292122 non-null object\n",
      "Power               309329 non-null int64\n",
      "Model               290968 non-null object\n",
      "Kilometer           309329 non-null int64\n",
      "FuelType            278565 non-null object\n",
      "Brand               309329 non-null object\n",
      "NotRepaired         244771 non-null object\n",
      "dtypes: int64(4), object(6)\n",
      "memory usage: 26.0+ MB\n"
     ]
    }
   ],
   "source": [
    "df.info()"
   ]
  },
  {
   "cell_type": "markdown",
   "metadata": {},
   "source": [
    "<div style=\"background: #eeeeee\">\n",
    "<font color='blue'> \n",
    "    <b><u>КОММЕНТАРИЙ СТУДЕНТА:</u></b>\n",
    "<font color='blue'><br>\n",
    "Удалили проявившиеся дубликаты."
   ]
  },
  {
   "cell_type": "code",
   "execution_count": 10,
   "metadata": {},
   "outputs": [
    {
     "data": {
      "text/plain": [
       "<matplotlib.axes._subplots.AxesSubplot at 0x7f94c202a0d0>"
      ]
     },
     "execution_count": 10,
     "metadata": {},
     "output_type": "execute_result"
    },
    {
     "data": {
      "image/png": "[encoded data removed]",
      "text/plain": [
       "<Figure size 432x288 with 2 Axes>"
      ]
     },
     "metadata": {
      "needs_background": "light"
     },
     "output_type": "display_data"
    }
   ],
   "source": [
    "cols = df.columns \n",
    "# желтый - пропущенные данные, синий - не пропущенные\n",
    "colours = ['#000099', '#ffff00'] \n",
    "sns.heatmap(df[cols].isnull(), cmap=sns.color_palette(colours))"
   ]
  },
  {
   "cell_type": "markdown",
   "metadata": {},
   "source": [
    "Не факт, что в тех данных, в которых пропуски не отображаются, нет нулей, которые по факту являются отсутствующими данными. Требуется обработка и изучение пропусков. "
   ]
  },
  {
   "cell_type": "code",
   "execution_count": 11,
   "metadata": {},
   "outputs": [],
   "source": [
    "def unique_rows (data):\n",
    "    for column in data: \n",
    "        print ('Уникальные значения', column)\n",
    "        print (data[column].unique())\n",
    "        print ()"
   ]
  },
  {
   "cell_type": "code",
   "execution_count": 12,
   "metadata": {},
   "outputs": [
    {
     "name": "stdout",
     "output_type": "stream",
     "text": [
      "Уникальные значения Price\n",
      "[  480 18300  9800 ... 12395 18429 10985]\n",
      "\n",
      "Уникальные значения VehicleType\n",
      "[nan 'coupe' 'suv' 'small' 'sedan' 'convertible' 'bus' 'wagon' 'other']\n",
      "\n",
      "Уникальные значения RegistrationYear\n",
      "[1993 2011 2004 2001 2008 1995 1980 2014 1998 2005 1910 2016 2007 2009\n",
      " 2002 2018 1997 1990 2017 1981 2003 1994 1991 1984 2006 1999 2012 2010\n",
      " 2000 1992 2013 1996 1985 1989 2015 1982 1976 1983 1973 1111 1969 1971\n",
      " 1987 1986 1988 1970 1965 1945 1925 1974 1979 1955 1978 1972 1968 1977\n",
      " 1961 1960 1966 1975 1963 1964 5000 1954 1958 1967 1959 9999 1956 3200\n",
      " 1000 1941 8888 1500 2200 4100 1962 1929 1957 1940 3000 2066 1949 2019\n",
      " 1937 1951 1800 1953 1234 8000 5300 9000 2900 6000 5900 5911 1933 1400\n",
      " 1950 4000 1948 1952 1200 8500 1932 1255 3700 3800 4800 1942 7000 1935\n",
      " 1936 6500 1923 2290 2500 1930 1001 9450 1944 1943 1934 1938 1688 2800\n",
      " 1253 1928 1919 5555 5600 1600 2222 1039 9996 1300 8455 1931 1915 4500\n",
      " 1920 1602 7800 9229 1947 1927 7100 8200 1946 7500 3500]\n",
      "\n",
      "Уникальные значения Gearbox\n",
      "['manual' 'auto' nan]\n",
      "\n",
      "Уникальные значения Power\n",
      "[    0   190   163    75    69   102   109    50   125   101   105   140\n",
      "   115   131    60   136   160   231    90   118   193    99   113   218\n",
      "   122   129    70   306    95    61   177    80   170    55   143    64\n",
      "   286   232   150   156    82   155    54   185    87   180    86    84\n",
      "   224   235   200   178   265    77   110   144   120   116   184   126\n",
      "   204    88   194   305   197   179   250    45   313    41   165    98\n",
      "   130   114   211    56   201   213    58   107    83   174   100   220\n",
      "    85    73   192    68    66   299    74    52   147    65   310    71\n",
      "    97   239   203     5   300   103   258   320    63    81   148    44\n",
      "   145   230   280   260   104   188   333   186   117   141    59   132\n",
      "   234   158    39    92    51   135    53   209    43   146    67   106\n",
      "   166   276   344    72   249   237   245   111   326   279    23   138\n",
      "   175    96   226    26    37   301   334   128   133   124    33   219\n",
      "   241   167    94   182   196   238  1398   228   112    48   272   139\n",
      "  1799    40   240    79   256   360   243   375   252   396   340   108\n",
      "   121   345   187   289   222   198   284   450   233   387   152   347\n",
      "   172    57   137   212   476   314    30     7    47   173   290   207\n",
      "   205   171   750    78    91    89   349   325    76   151   350   953\n",
      "    93   142   500   343   199   119   164    16   264   367   208   210\n",
      "    46   435  1001   225   127   176   161   603   307   354    35   206\n",
      "   771   355   273   223   255   123   154   149  7515  1400   268   620\n",
      "   169   400   275    34     2   242  1779   285   162   328  1753   329\n",
      "   134   420   247   168 10317   215    18   330   283    62    10   214\n",
      "   183   254    15   321   322   315   952   600   181   426   599   379\n",
      "   999    22   157    42   195   553     4   309   507   381   271   440\n",
      "   189   401  1111  2729    21   236  1240  1704   521     1  1900   270\n",
      "    24   159   292   808   515  1200   303    29    38  1993    14   216\n",
      "   610   504    49   267   331   363   261   385  1011   253   696 10520\n",
      "   376   227   311    27   217    20  1999    11  1056    25   394    12\n",
      "   298   296  1659   294   551  6920   246    17  1800  1625   368   390\n",
      "   221  1367   259   606   327  2017  1597   266   374   392     9   405\n",
      "    13   262   601   430   295     8   411   900   541  7512   382 10218\n",
      "  7544  1102   287    19   751   297  1090   457   282   602   388     6\n",
      "  1000  5411   335  1360   202  3750   805  1062  1024 11530   364  1796\n",
      "  5000   269   460  1002   288  1780 12012 17932   316  2005  1399   191\n",
      "   278  1300   380   257   449  1256   153  1653   520   560   281 12510\n",
      "     3  1500   386    32  1202  2016  1436  1405   671   274  1288  1055\n",
      " 10912 15016  6226  1115   277  1105   341  1223  2340  8404  1968   338\n",
      "   445  1920   370   517  4400 10710 10522  9010   431  1164 11509   371\n",
      "  1501   428 11635    36   304   348  1703  1910  1995   579 10000   580\n",
      "   408    31  1005   358  1403   489  5575 19211   585   960   365   353\n",
      "   490   352  1801   346   550  3199   800  7508  1312   357  1937   950\n",
      "  4700  1600  3454 19208   251   850   337   700  8011  2331  2789   487\n",
      "   519  2461  6006  3500  5815  6018  1781  1503   612  1596   229  1506\n",
      "  5809 15020  5867  2172  1598 17410  1363   584  1054   851  1339   318\n",
      "   510   525  1700    28  1151   685  6011   317   703  1771 15001   514\n",
      "   362   332   324  6045   530   425   308  6010   475   903   640  2000\n",
      "   248   651  2799 17011   505  1103  1521   351 16051   398  9000  1998\n",
      " 10311   409  1230 17019 12684  8259  1895   901  1317   871   909  2201\n",
      "  1595   776 17700 11011  1199   459  1162  1120 15033  1896   339   361\n",
      "   574  6512   454   650 13616   604   607 16312  1082   336 20000   416\n",
      "   678  6012  1401  1021  1870 13636  1250  9710   323  1158  2009   902\n",
      "  6062  1275   572   244   399  1016   743  1221  2402 16011  1362   544\n",
      "   645   907   702 12512  1986  1003  1432  9013  9011   442  1017  1394\n",
      " 15017 10910  1992   540  2018 11025  1433  1701  2792  1502  1239  1390\n",
      " 14009  1160  1351 11111  1783  9007   923  1149   754  1988   402  2004\n",
      "  5420  1793  1324   356  7511  1299   293 19312  1079  1689   998  1100\n",
      "  9012  1933   508 16311   682  1252  1922  7529   732  2389  2200  1707\n",
      "  1416  8500  1012   485  3000 10110   421  4507  1631  7518   377  1004\n",
      "  2007  2598  1548  1241]\n",
      "\n",
      "Уникальные значения Model\n",
      "['golf' nan 'grand' 'fabia' '3er' '2_reihe' 'other' 'c_max' '3_reihe'\n",
      " 'passat' 'navara' 'ka' 'polo' 'twingo' 'a_klasse' 'scirocco' '5er'\n",
      " 'meriva' 'arosa' 'c4' 'civic' 'transporter' 'punto' 'e_klasse' 'clio'\n",
      " 'kadett' 'kangoo' 'corsa' 'one' 'fortwo' '1er' 'b_klasse' 'signum'\n",
      " 'astra' 'a8' 'jetta' 'fiesta' 'c_klasse' 'micra' 'vito' 'sprinter' '156'\n",
      " 'escort' 'forester' 'xc_reihe' 'scenic' 'a4' 'a1' 'insignia' 'combo'\n",
      " 'focus' 'tt' 'a6' 'jazz' 'omega' 'slk' '7er' '80' '147' '100' 'z_reihe'\n",
      " 'sportage' 'sorento' 'v40' 'ibiza' 'mustang' 'eos' 'touran' 'getz' 'a3'\n",
      " 'almera' 'megane' 'lupo' 'r19' 'zafira' 'caddy' 'mondeo' 'cordoba' 'colt'\n",
      " 'impreza' 'vectra' 'berlingo' 'tiguan' 'i_reihe' 'espace' 'sharan'\n",
      " '6_reihe' 'panda' 'up' 'seicento' 'ceed' '5_reihe' 'yeti' 'octavia' 'mii'\n",
      " 'rx_reihe' '6er' 'modus' 'fox' 'matiz' 'beetle' 'c1' 'rio' 'touareg'\n",
      " 'logan' 'spider' 'cuore' 's_max' 'a2' 'galaxy' 'c3' 'viano' 's_klasse'\n",
      " '1_reihe' 'avensis' 'roomster' 'sl' 'kaefer' 'santa' 'cooper' 'leon'\n",
      " '4_reihe' 'a5' '500' 'laguna' 'ptcruiser' 'clk' 'primera' 'x_reihe'\n",
      " 'exeo' '159' 'transit' 'juke' 'qashqai' 'carisma' 'accord' 'corolla'\n",
      " 'lanos' 'phaeton' 'verso' 'swift' 'rav' 'picanto' 'boxster' 'kalos'\n",
      " 'superb' 'stilo' 'alhambra' 'mx_reihe' 'roadster' 'ypsilon' 'cayenne'\n",
      " 'galant' 'justy' '90' 'sirion' 'crossfire' 'agila' 'duster' 'cr_reihe'\n",
      " 'v50' 'c_reihe' 'v_klasse' 'm_klasse' 'yaris' 'c5' 'aygo' 'cc' 'carnival'\n",
      " 'fusion' '911' 'bora' 'forfour' 'm_reihe' 'cl' 'tigra' '300c' 'spark'\n",
      " 'v70' 'kuga' 'x_type' 'ducato' 's_type' 'x_trail' 'toledo' 'altea'\n",
      " 'voyager' 'calibra' 'bravo' 'antara' 'tucson' 'citigo' 'jimny' 'wrangler'\n",
      " 'lybra' 'q7' 'lancer' 'captiva' 'c2' 'discovery' 'freelander' 'sandero'\n",
      " 'note' '900' 'cherokee' 'clubman' 'samara' 'defender' '601' 'cx_reihe'\n",
      " 'legacy' 'pajero' 'auris' 'niva' 's60' 'nubira' 'vivaro' 'g_klasse'\n",
      " 'lodgy' '850' 'range_rover' 'q3' 'serie_2' 'glk' 'charade' 'croma'\n",
      " 'outlander' 'doblo' 'musa' 'move' '9000' 'v60' '145' 'aveo' '200' 'b_max'\n",
      " 'range_rover_sport' 'terios' 'rangerover' 'q5' 'range_rover_evoque'\n",
      " 'materia' 'delta' 'gl' 'kalina' 'amarok' 'elefantino' 'i3' 'kappa'\n",
      " 'serie_3' 'serie_1']\n",
      "\n",
      "Уникальные значения Kilometer\n",
      "[150000 125000  90000  40000  30000  70000   5000 100000  60000  20000\n",
      "  80000  50000  10000]\n",
      "\n",
      "Уникальные значения FuelType\n",
      "['petrol' 'gasoline' nan 'lpg' 'other' 'hybrid' 'cng' 'electric']\n",
      "\n",
      "Уникальные значения Brand\n",
      "['volkswagen' 'audi' 'jeep' 'skoda' 'bmw' 'peugeot' 'ford' 'mazda'\n",
      " 'nissan' 'renault' 'mercedes_benz' 'opel' 'seat' 'citroen' 'honda' 'fiat'\n",
      " 'mini' 'smart' 'hyundai' 'sonstige_autos' 'alfa_romeo' 'subaru' 'volvo'\n",
      " 'mitsubishi' 'kia' 'suzuki' 'lancia' 'toyota' 'chevrolet' 'dacia'\n",
      " 'daihatsu' 'trabant' 'saab' 'chrysler' 'jaguar' 'daewoo' 'porsche'\n",
      " 'rover' 'land_rover' 'lada']\n",
      "\n",
      "Уникальные значения NotRepaired\n",
      "[nan 'yes' 'no']\n",
      "\n"
     ]
    }
   ],
   "source": [
    "unique_rows(df)"
   ]
  },
  {
   "cell_type": "markdown",
   "metadata": {},
   "source": [
    "Видим следующее: \n",
    "- VehicleType - пропуски\n",
    "- RegistrationYear - некорректные значения, множество\n",
    "- Gearbox - пропуски\n",
    "- Power - пропуски, некорректные значения (2, 5 и т.д.)\n",
    "- FuelType - пропуски \n",
    "- NotRepaired - пропуски"
   ]
  },
  {
   "cell_type": "markdown",
   "metadata": {},
   "source": [
    "Оценим распределение значений: диапазон, нормальность, выбросы. Функция num_info даст визуальное представление о данных: describe, kde, boxplot, Q-Q-plot. По умолчанию - для всех числовых столбцов."
   ]
  },
  {
   "cell_type": "code",
   "execution_count": 13,
   "metadata": {},
   "outputs": [],
   "source": [
    "# def num_info(df, cols=None):\n",
    "#     if cols == None:\n",
    "#         cols = [col for col in df.columns if df[col].dtype in ['float64','int64']]\n",
    "\n",
    "#     df_descr = round(df[cols].describe(), 2)\n",
    "    \n",
    "#     f, ax = plt.subplots(len(cols), 4, gridspec_kw={'hspace': 0.4, 'wspace': 0.4})\n",
    "#     f.set_figheight(6 * len(cols))\n",
    "#     f.set_figwidth(20)\n",
    "    \n",
    "#     for i, col in enumerate(cols):\n",
    "#         if len(cols) == 1:\n",
    "#             ax_xy = [ax[0],ax[1],ax[2],ax[3]]\n",
    "#         else:\n",
    "#             ax_xy = [ax[i,0],ax[i,1],ax[i,2],ax[i,3]]\n",
    "        \n",
    "#         the_table = ax_xy[0].table(\n",
    "#             #Содержимое таблицы в виде списка списков строк\n",
    "#             cellText = [list(x) for x in df_descr.loc[:,col].values.reshape(df_descr.shape[0],1).astype('str')],\n",
    "#             rowLabels = list(df_descr.index),\n",
    "#             colLabels = [col],\n",
    "#             loc = 'upper center',\n",
    "#             colWidths = [0.8],\n",
    "#         )\n",
    "#         the_table.scale(1, 2)\n",
    "#         the_table.auto_set_font_size(False)\n",
    "#         the_table.set_fontsize(16)\n",
    "#         ax_xy[0].grid(False)\n",
    "#         ax_xy[0].axis('off')\n",
    "\n",
    "#         sns.kdeplot(\n",
    "#             x = col,\n",
    "#             data = df,\n",
    "#             shade = True,\n",
    "#             linewidth = 3,\n",
    "#             ax = ax_xy[1]\n",
    "#         )\n",
    "    \n",
    "#         sns.boxplot(\n",
    "#             x = col,\n",
    "#             data = df,\n",
    "#             orient = 'h',\n",
    "#             ax = ax_xy[2]\n",
    "#         )\n",
    "#         sm.qqplot(df[df[col].notna()][col], line='45', fit=True, ax=ax_xy[3])\n",
    "\n",
    "#     plt.show()"
   ]
  },
  {
   "cell_type": "code",
   "execution_count": 14,
   "metadata": {},
   "outputs": [],
   "source": [
    "#num_info(df)"
   ]
  },
  {
   "cell_type": "markdown",
   "metadata": {},
   "source": [
    "<div class=\"alert alert-block alert-danger\">\n",
    "<b>Комментарий ревьюера ❌</b> \n",
    "\n",
    "~~Код выдает ошибку. Скорее всего, проблема в несоответствии версий. См. раздел ноушна «Установка окружения - как избежать конфликта версий библиотек».~~\n",
    "</div>\n"
   ]
  },
  {
   "cell_type": "markdown",
   "metadata": {},
   "source": [
    "<div style=\"background: #eeeeee\">\n",
    "<font color='blue'> \n",
    "    <b><u>КОММЕНТАРИЙ СТУДЕНТА:</u></b>\n",
    "<font color='blue'><br>\n",
    "Жаль, что функция не сработала, у меня на локальной машине все по-прежнему работает хорошо. "
   ]
  },
  {
   "cell_type": "markdown",
   "metadata": {},
   "source": [
    "<div style=\"background: #eeeeee\">\n",
    "<font color='blue'> \n",
    "    <b><u>КОММЕНТАРИЙ СТУДЕНТА:</u></b>\n",
    "<font color='blue'><br>В таком случае разделим написанную и закомментированную функцию на операции и посмотрим результат."
   ]
  },
  {
   "cell_type": "code",
   "execution_count": 15,
   "metadata": {},
   "outputs": [
    {
     "data": {
      "text/plain": [
       "count    309329.000000\n",
       "mean       4486.937196\n",
       "std        4564.852796\n",
       "min           0.000000\n",
       "25%        1100.000000\n",
       "50%        2800.000000\n",
       "75%        6500.000000\n",
       "max       20000.000000\n",
       "Name: Price, dtype: float64"
      ]
     },
     "metadata": {},
     "output_type": "display_data"
    },
    {
     "data": {
      "text/plain": [
       "<matplotlib.axes._subplots.AxesSubplot at 0x7f94c1ee7b10>"
      ]
     },
     "execution_count": 15,
     "metadata": {},
     "output_type": "execute_result"
    },
    {
     "data": {
      "image/png": "[encoded data removed]",
      "text/plain": [
       "<Figure size 432x288 with 1 Axes>"
      ]
     },
     "metadata": {
      "needs_background": "light"
     },
     "output_type": "display_data"
    }
   ],
   "source": [
    "display(df['Price'].describe())\n",
    "df['Price'].hist()"
   ]
  },
  {
   "cell_type": "code",
   "execution_count": 16,
   "metadata": {},
   "outputs": [
    {
     "data": {
      "image/png": "[encoded data removed]",
      "text/plain": [
       "<Figure size 432x288 with 1 Axes>"
      ]
     },
     "metadata": {
      "needs_background": "light"
     },
     "output_type": "display_data"
    }
   ],
   "source": [
    "df.boxplot(column='Price')\n",
    "plt.show() "
   ]
  },
  {
   "cell_type": "code",
   "execution_count": 17,
   "metadata": {},
   "outputs": [
    {
     "data": {
      "text/plain": [
       "count    309329.000000\n",
       "mean     127217.735809\n",
       "std       38532.941010\n",
       "min        5000.000000\n",
       "25%      125000.000000\n",
       "50%      150000.000000\n",
       "75%      150000.000000\n",
       "max      150000.000000\n",
       "Name: Kilometer, dtype: float64"
      ]
     },
     "metadata": {},
     "output_type": "display_data"
    },
    {
     "data": {
      "text/plain": [
       "<matplotlib.axes._subplots.AxesSubplot at 0x7f94c136da10>"
      ]
     },
     "execution_count": 17,
     "metadata": {},
     "output_type": "execute_result"
    },
    {
     "data": {
      "image/png": "[encoded data removed]",
      "text/plain": [
       "<Figure size 432x288 with 1 Axes>"
      ]
     },
     "metadata": {
      "needs_background": "light"
     },
     "output_type": "display_data"
    }
   ],
   "source": [
    "display(df['Kilometer'].describe())\n",
    "df['Kilometer'].hist()"
   ]
  },
  {
   "cell_type": "code",
   "execution_count": 18,
   "metadata": {},
   "outputs": [
    {
     "data": {
      "image/png": "[encoded data removed]",
      "text/plain": [
       "<Figure size 432x288 with 1 Axes>"
      ]
     },
     "metadata": {
      "needs_background": "light"
     },
     "output_type": "display_data"
    }
   ],
   "source": [
    "df.boxplot(column='Kilometer')\n",
    "plt.show() "
   ]
  },
  {
   "cell_type": "code",
   "execution_count": 19,
   "metadata": {},
   "outputs": [
    {
     "data": {
      "text/plain": [
       "count    309329.000000\n",
       "mean       2004.360105\n",
       "std          92.541399\n",
       "min        1000.000000\n",
       "25%        1999.000000\n",
       "50%        2003.000000\n",
       "75%        2008.000000\n",
       "max        9999.000000\n",
       "Name: RegistrationYear, dtype: float64"
      ]
     },
     "metadata": {},
     "output_type": "display_data"
    },
    {
     "data": {
      "text/plain": [
       "<matplotlib.axes._subplots.AxesSubplot at 0x7f94be55fed0>"
      ]
     },
     "execution_count": 19,
     "metadata": {},
     "output_type": "execute_result"
    },
    {
     "data": {
      "image/png": "[encoded data removed]",
      "text/plain": [
       "<Figure size 432x288 with 1 Axes>"
      ]
     },
     "metadata": {
      "needs_background": "light"
     },
     "output_type": "display_data"
    }
   ],
   "source": [
    "display(df['RegistrationYear'].describe())\n",
    "df['RegistrationYear'].hist()"
   ]
  },
  {
   "cell_type": "code",
   "execution_count": 20,
   "metadata": {},
   "outputs": [
    {
     "data": {
      "image/png": "[encoded data removed]",
      "text/plain": [
       "<Figure size 432x288 with 1 Axes>"
      ]
     },
     "metadata": {
      "needs_background": "light"
     },
     "output_type": "display_data"
    }
   ],
   "source": [
    "df.boxplot(column='RegistrationYear')\n",
    "plt.show() "
   ]
  },
  {
   "cell_type": "code",
   "execution_count": 21,
   "metadata": {},
   "outputs": [
    {
     "data": {
      "text/plain": [
       "array([[<matplotlib.axes._subplots.AxesSubplot object at 0x7f94c13d9690>,\n",
       "        <matplotlib.axes._subplots.AxesSubplot object at 0x7f94be4647d0>,\n",
       "        <matplotlib.axes._subplots.AxesSubplot object at 0x7f94be41cad0>,\n",
       "        <matplotlib.axes._subplots.AxesSubplot object at 0x7f94be3d2dd0>],\n",
       "       [<matplotlib.axes._subplots.AxesSubplot object at 0x7f94be396b90>,\n",
       "        <matplotlib.axes._subplots.AxesSubplot object at 0x7f94be34ff90>,\n",
       "        <matplotlib.axes._subplots.AxesSubplot object at 0x7f94be383c50>,\n",
       "        <matplotlib.axes._subplots.AxesSubplot object at 0x7f94be344fd0>],\n",
       "       [<matplotlib.axes._subplots.AxesSubplot object at 0x7f94be2d0110>,\n",
       "        <matplotlib.axes._subplots.AxesSubplot object at 0x7f94be303990>,\n",
       "        <matplotlib.axes._subplots.AxesSubplot object at 0x7f94be26ccd0>,\n",
       "        <matplotlib.axes._subplots.AxesSubplot object at 0x7f94be22d510>],\n",
       "       [<matplotlib.axes._subplots.AxesSubplot object at 0x7f94be1e1d10>,\n",
       "        <matplotlib.axes._subplots.AxesSubplot object at 0x7f94be1a2550>,\n",
       "        <matplotlib.axes._subplots.AxesSubplot object at 0x7f94be158d50>,\n",
       "        <matplotlib.axes._subplots.AxesSubplot object at 0x7f94be119590>]],\n",
       "      dtype=object)"
      ]
     },
     "execution_count": 21,
     "metadata": {},
     "output_type": "execute_result"
    },
    {
     "data": {
      "image/png": "[encoded data removed]",
      "text/plain": [
       "<Figure size 1440x1440 with 16 Axes>"
      ]
     },
     "metadata": {
      "needs_background": "light"
     },
     "output_type": "display_data"
    }
   ],
   "source": [
    "scatter_matrix(df, alpha=0.2, figsize=(20, 20), diagonal='kde')"
   ]
  },
  {
   "cell_type": "code",
   "execution_count": null,
   "metadata": {},
   "outputs": [],
   "source": []
  },
  {
   "cell_type": "markdown",
   "metadata": {},
   "source": [
    "Можем также взглянуть на матрицу корреляции, но половина столбцов у нас - категориальные. "
   ]
  },
  {
   "cell_type": "code",
   "execution_count": 22,
   "metadata": {},
   "outputs": [
    {
     "data": {
      "text/html": [
       "<div>\n",
       "<style scoped>\n",
       "    .dataframe tbody tr th:only-of-type {\n",
       "        vertical-align: middle;\n",
       "    }\n",
       "\n",
       "    .dataframe tbody tr th {\n",
       "        vertical-align: top;\n",
       "    }\n",
       "\n",
       "    .dataframe thead th {\n",
       "        text-align: right;\n",
       "    }\n",
       "</style>\n",
       "<table border=\"1\" class=\"dataframe\">\n",
       "  <thead>\n",
       "    <tr style=\"text-align: right;\">\n",
       "      <th></th>\n",
       "      <th>Price</th>\n",
       "      <th>RegistrationYear</th>\n",
       "      <th>Power</th>\n",
       "      <th>Kilometer</th>\n",
       "    </tr>\n",
       "  </thead>\n",
       "  <tbody>\n",
       "    <tr>\n",
       "      <th>Price</th>\n",
       "      <td>1.000000</td>\n",
       "      <td>0.025714</td>\n",
       "      <td>0.147634</td>\n",
       "      <td>-0.325592</td>\n",
       "    </tr>\n",
       "    <tr>\n",
       "      <th>RegistrationYear</th>\n",
       "      <td>0.025714</td>\n",
       "      <td>1.000000</td>\n",
       "      <td>-0.000896</td>\n",
       "      <td>-0.052516</td>\n",
       "    </tr>\n",
       "    <tr>\n",
       "      <th>Power</th>\n",
       "      <td>0.147634</td>\n",
       "      <td>-0.000896</td>\n",
       "      <td>1.000000</td>\n",
       "      <td>0.026446</td>\n",
       "    </tr>\n",
       "    <tr>\n",
       "      <th>Kilometer</th>\n",
       "      <td>-0.325592</td>\n",
       "      <td>-0.052516</td>\n",
       "      <td>0.026446</td>\n",
       "      <td>1.000000</td>\n",
       "    </tr>\n",
       "  </tbody>\n",
       "</table>\n",
       "</div>"
      ],
      "text/plain": [
       "                     Price  RegistrationYear     Power  Kilometer\n",
       "Price             1.000000          0.025714  0.147634  -0.325592\n",
       "RegistrationYear  0.025714          1.000000 -0.000896  -0.052516\n",
       "Power             0.147634         -0.000896  1.000000   0.026446\n",
       "Kilometer        -0.325592         -0.052516  0.026446   1.000000"
      ]
     },
     "execution_count": 22,
     "metadata": {},
     "output_type": "execute_result"
    }
   ],
   "source": [
    "df.corr()"
   ]
  },
  {
   "cell_type": "markdown",
   "metadata": {},
   "source": [
    "Почти всегда существует фактическая корреляция между годом и пробегом, например. Удивительно, что здесь ее нет (т.е. она всего лишь -0.33). Вопрос в том, насколько корректно указан пробег заполнявшим анкету автовладельцем :)"
   ]
  },
  {
   "cell_type": "markdown",
   "metadata": {},
   "source": [
    "<div class=\"alert alert-block alert-warning\">\n",
    "<b>Комментарий ревьюера ⚠️</b> \n",
    "\n",
    "~~Проверь, разве корреляция между годом и пробегом получилась -0.33?~~\n",
    "</div>\n",
    "\n"
   ]
  },
  {
   "cell_type": "markdown",
   "metadata": {},
   "source": [
    "<div style=\"background: #eeeeee\">\n",
    "<font color='blue'> \n",
    "    <b><u>КОММЕНТАРИЙ СТУДЕНТА:</u></b>\n",
    "<font color='blue'><br>Корреляция между годом и пробегом и того меньше: -0.05."
   ]
  },
  {
   "cell_type": "markdown",
   "metadata": {},
   "source": [
    "Так, посмотрев на датасет более пристально увидим, что многие данные о типе кузова, например, годе выпуска и т.д. заполнены неверно, типы кузова не соответствуют моделям, даже продававшимся на европейском и американском рынках. Очевидно, данные в датасет вносились автовладельцами, а не оценщиками. Кроме того, наиболее влияющие на цену автомобиля факторы - ключевые позиции комплектации (например, наличие подушек безопасности, климат-контроля, электронных систем разного рода) - здесь вообще не указаны. Но мы не будем исправлять данные, а будем исходить из учебной задачи, которая перед нами стоит - изучение ранее не изученных моделей машинного обучения, их построение и сравнение между собой. "
   ]
  },
  {
   "cell_type": "markdown",
   "metadata": {},
   "source": [
    "Поэтому поступим следующим образом: заполним пропуски, исправим или удалим, если количество незначительно, явно некорректные значения года выпуска, мощности и перейдем к моделям. "
   ]
  },
  {
   "cell_type": "markdown",
   "metadata": {},
   "source": [
    "#### Заполним пропуски и исправим ошибки"
   ]
  },
  {
   "cell_type": "markdown",
   "metadata": {},
   "source": [
    "Сначала найдем и удалим все строки, в которых и VehicleType, и Gearbox, и Model не заполнены."
   ]
  },
  {
   "cell_type": "code",
   "execution_count": 23,
   "metadata": {},
   "outputs": [
    {
     "data": {
      "text/html": [
       "<div>\n",
       "<style scoped>\n",
       "    .dataframe tbody tr th:only-of-type {\n",
       "        vertical-align: middle;\n",
       "    }\n",
       "\n",
       "    .dataframe tbody tr th {\n",
       "        vertical-align: top;\n",
       "    }\n",
       "\n",
       "    .dataframe thead th {\n",
       "        text-align: right;\n",
       "    }\n",
       "</style>\n",
       "<table border=\"1\" class=\"dataframe\">\n",
       "  <thead>\n",
       "    <tr style=\"text-align: right;\">\n",
       "      <th></th>\n",
       "      <th>Price</th>\n",
       "      <th>VehicleType</th>\n",
       "      <th>RegistrationYear</th>\n",
       "      <th>Gearbox</th>\n",
       "      <th>Power</th>\n",
       "      <th>Model</th>\n",
       "      <th>Kilometer</th>\n",
       "      <th>FuelType</th>\n",
       "      <th>Brand</th>\n",
       "      <th>NotRepaired</th>\n",
       "    </tr>\n",
       "  </thead>\n",
       "  <tbody>\n",
       "    <tr>\n",
       "      <th>306</th>\n",
       "      <td>200</td>\n",
       "      <td>NaN</td>\n",
       "      <td>2009</td>\n",
       "      <td>NaN</td>\n",
       "      <td>0</td>\n",
       "      <td>NaN</td>\n",
       "      <td>10000</td>\n",
       "      <td>NaN</td>\n",
       "      <td>sonstige_autos</td>\n",
       "      <td>NaN</td>\n",
       "    </tr>\n",
       "    <tr>\n",
       "      <th>522</th>\n",
       "      <td>0</td>\n",
       "      <td>NaN</td>\n",
       "      <td>2000</td>\n",
       "      <td>NaN</td>\n",
       "      <td>0</td>\n",
       "      <td>NaN</td>\n",
       "      <td>150000</td>\n",
       "      <td>NaN</td>\n",
       "      <td>volvo</td>\n",
       "      <td>NaN</td>\n",
       "    </tr>\n",
       "    <tr>\n",
       "      <th>538</th>\n",
       "      <td>2600</td>\n",
       "      <td>NaN</td>\n",
       "      <td>2005</td>\n",
       "      <td>NaN</td>\n",
       "      <td>0</td>\n",
       "      <td>NaN</td>\n",
       "      <td>125000</td>\n",
       "      <td>NaN</td>\n",
       "      <td>chevrolet</td>\n",
       "      <td>NaN</td>\n",
       "    </tr>\n",
       "    <tr>\n",
       "      <th>552</th>\n",
       "      <td>50</td>\n",
       "      <td>NaN</td>\n",
       "      <td>1985</td>\n",
       "      <td>NaN</td>\n",
       "      <td>0</td>\n",
       "      <td>NaN</td>\n",
       "      <td>150000</td>\n",
       "      <td>NaN</td>\n",
       "      <td>trabant</td>\n",
       "      <td>NaN</td>\n",
       "    </tr>\n",
       "    <tr>\n",
       "      <th>622</th>\n",
       "      <td>0</td>\n",
       "      <td>NaN</td>\n",
       "      <td>1111</td>\n",
       "      <td>NaN</td>\n",
       "      <td>0</td>\n",
       "      <td>NaN</td>\n",
       "      <td>5000</td>\n",
       "      <td>NaN</td>\n",
       "      <td>opel</td>\n",
       "      <td>NaN</td>\n",
       "    </tr>\n",
       "    <tr>\n",
       "      <th>...</th>\n",
       "      <td>...</td>\n",
       "      <td>...</td>\n",
       "      <td>...</td>\n",
       "      <td>...</td>\n",
       "      <td>...</td>\n",
       "      <td>...</td>\n",
       "      <td>...</td>\n",
       "      <td>...</td>\n",
       "      <td>...</td>\n",
       "      <td>...</td>\n",
       "    </tr>\n",
       "    <tr>\n",
       "      <th>353961</th>\n",
       "      <td>200</td>\n",
       "      <td>NaN</td>\n",
       "      <td>1910</td>\n",
       "      <td>NaN</td>\n",
       "      <td>0</td>\n",
       "      <td>NaN</td>\n",
       "      <td>5000</td>\n",
       "      <td>petrol</td>\n",
       "      <td>sonstige_autos</td>\n",
       "      <td>NaN</td>\n",
       "    </tr>\n",
       "    <tr>\n",
       "      <th>354073</th>\n",
       "      <td>1750</td>\n",
       "      <td>NaN</td>\n",
       "      <td>1995</td>\n",
       "      <td>NaN</td>\n",
       "      <td>0</td>\n",
       "      <td>NaN</td>\n",
       "      <td>100000</td>\n",
       "      <td>NaN</td>\n",
       "      <td>sonstige_autos</td>\n",
       "      <td>NaN</td>\n",
       "    </tr>\n",
       "    <tr>\n",
       "      <th>354162</th>\n",
       "      <td>1500</td>\n",
       "      <td>NaN</td>\n",
       "      <td>1995</td>\n",
       "      <td>NaN</td>\n",
       "      <td>0</td>\n",
       "      <td>NaN</td>\n",
       "      <td>150000</td>\n",
       "      <td>NaN</td>\n",
       "      <td>volkswagen</td>\n",
       "      <td>NaN</td>\n",
       "    </tr>\n",
       "    <tr>\n",
       "      <th>354338</th>\n",
       "      <td>180</td>\n",
       "      <td>NaN</td>\n",
       "      <td>1995</td>\n",
       "      <td>NaN</td>\n",
       "      <td>0</td>\n",
       "      <td>NaN</td>\n",
       "      <td>125000</td>\n",
       "      <td>petrol</td>\n",
       "      <td>opel</td>\n",
       "      <td>NaN</td>\n",
       "    </tr>\n",
       "    <tr>\n",
       "      <th>354365</th>\n",
       "      <td>2200</td>\n",
       "      <td>NaN</td>\n",
       "      <td>2005</td>\n",
       "      <td>NaN</td>\n",
       "      <td>0</td>\n",
       "      <td>NaN</td>\n",
       "      <td>20000</td>\n",
       "      <td>NaN</td>\n",
       "      <td>sonstige_autos</td>\n",
       "      <td>NaN</td>\n",
       "    </tr>\n",
       "  </tbody>\n",
       "</table>\n",
       "<p>2361 rows × 10 columns</p>\n",
       "</div>"
      ],
      "text/plain": [
       "        Price VehicleType  RegistrationYear Gearbox  Power Model  Kilometer  \\\n",
       "306       200         NaN              2009     NaN      0   NaN      10000   \n",
       "522         0         NaN              2000     NaN      0   NaN     150000   \n",
       "538      2600         NaN              2005     NaN      0   NaN     125000   \n",
       "552        50         NaN              1985     NaN      0   NaN     150000   \n",
       "622         0         NaN              1111     NaN      0   NaN       5000   \n",
       "...       ...         ...               ...     ...    ...   ...        ...   \n",
       "353961    200         NaN              1910     NaN      0   NaN       5000   \n",
       "354073   1750         NaN              1995     NaN      0   NaN     100000   \n",
       "354162   1500         NaN              1995     NaN      0   NaN     150000   \n",
       "354338    180         NaN              1995     NaN      0   NaN     125000   \n",
       "354365   2200         NaN              2005     NaN      0   NaN      20000   \n",
       "\n",
       "       FuelType           Brand NotRepaired  \n",
       "306         NaN  sonstige_autos         NaN  \n",
       "522         NaN           volvo         NaN  \n",
       "538         NaN       chevrolet         NaN  \n",
       "552         NaN         trabant         NaN  \n",
       "622         NaN            opel         NaN  \n",
       "...         ...             ...         ...  \n",
       "353961   petrol  sonstige_autos         NaN  \n",
       "354073      NaN  sonstige_autos         NaN  \n",
       "354162      NaN      volkswagen         NaN  \n",
       "354338   petrol            opel         NaN  \n",
       "354365      NaN  sonstige_autos         NaN  \n",
       "\n",
       "[2361 rows x 10 columns]"
      ]
     },
     "execution_count": 23,
     "metadata": {},
     "output_type": "execute_result"
    }
   ],
   "source": [
    "df.loc[(df['VehicleType'].isna()) & (df['Gearbox'].isna()) & (df['Model'].isna())]"
   ]
  },
  {
   "cell_type": "markdown",
   "metadata": {},
   "source": [
    "У многих из них даже бренд - sonstige autos (прочие автомобили), поэтому мы не восстановим вообще никакой информации, у нас есть только год, пробег и цена (да и та не везде)."
   ]
  },
  {
   "cell_type": "code",
   "execution_count": 24,
   "metadata": {},
   "outputs": [],
   "source": [
    "indexes_to_delete = df.loc[(df['VehicleType'].isna()) & (df['Gearbox'].isna()) & (df['Model'].isna())].index.tolist()\n",
    "df = df.drop(index=indexes_to_delete)"
   ]
  },
  {
   "cell_type": "markdown",
   "metadata": {},
   "source": [
    "_RegistrationYear_"
   ]
  },
  {
   "cell_type": "code",
   "execution_count": 25,
   "metadata": {},
   "outputs": [
    {
     "data": {
      "text/html": [
       "<div>\n",
       "<style scoped>\n",
       "    .dataframe tbody tr th:only-of-type {\n",
       "        vertical-align: middle;\n",
       "    }\n",
       "\n",
       "    .dataframe tbody tr th {\n",
       "        vertical-align: top;\n",
       "    }\n",
       "\n",
       "    .dataframe thead th {\n",
       "        text-align: right;\n",
       "    }\n",
       "</style>\n",
       "<table border=\"1\" class=\"dataframe\">\n",
       "  <thead>\n",
       "    <tr style=\"text-align: right;\">\n",
       "      <th></th>\n",
       "      <th>Price</th>\n",
       "      <th>VehicleType</th>\n",
       "      <th>RegistrationYear</th>\n",
       "      <th>Gearbox</th>\n",
       "      <th>Power</th>\n",
       "      <th>Model</th>\n",
       "      <th>Kilometer</th>\n",
       "      <th>FuelType</th>\n",
       "      <th>Brand</th>\n",
       "      <th>NotRepaired</th>\n",
       "    </tr>\n",
       "  </thead>\n",
       "  <tbody>\n",
       "    <tr>\n",
       "      <th>12946</th>\n",
       "      <td>49</td>\n",
       "      <td>NaN</td>\n",
       "      <td>5000</td>\n",
       "      <td>NaN</td>\n",
       "      <td>0</td>\n",
       "      <td>golf</td>\n",
       "      <td>5000</td>\n",
       "      <td>NaN</td>\n",
       "      <td>volkswagen</td>\n",
       "      <td>NaN</td>\n",
       "    </tr>\n",
       "    <tr>\n",
       "      <th>16062</th>\n",
       "      <td>190</td>\n",
       "      <td>NaN</td>\n",
       "      <td>1000</td>\n",
       "      <td>NaN</td>\n",
       "      <td>0</td>\n",
       "      <td>mondeo</td>\n",
       "      <td>5000</td>\n",
       "      <td>NaN</td>\n",
       "      <td>ford</td>\n",
       "      <td>NaN</td>\n",
       "    </tr>\n",
       "    <tr>\n",
       "      <th>17271</th>\n",
       "      <td>700</td>\n",
       "      <td>NaN</td>\n",
       "      <td>9999</td>\n",
       "      <td>NaN</td>\n",
       "      <td>0</td>\n",
       "      <td>other</td>\n",
       "      <td>10000</td>\n",
       "      <td>NaN</td>\n",
       "      <td>opel</td>\n",
       "      <td>NaN</td>\n",
       "    </tr>\n",
       "    <tr>\n",
       "      <th>18224</th>\n",
       "      <td>7999</td>\n",
       "      <td>NaN</td>\n",
       "      <td>1500</td>\n",
       "      <td>manual</td>\n",
       "      <td>224</td>\n",
       "      <td>impreza</td>\n",
       "      <td>5000</td>\n",
       "      <td>NaN</td>\n",
       "      <td>subaru</td>\n",
       "      <td>NaN</td>\n",
       "    </tr>\n",
       "    <tr>\n",
       "      <th>18259</th>\n",
       "      <td>300</td>\n",
       "      <td>NaN</td>\n",
       "      <td>2200</td>\n",
       "      <td>NaN</td>\n",
       "      <td>0</td>\n",
       "      <td>twingo</td>\n",
       "      <td>5000</td>\n",
       "      <td>NaN</td>\n",
       "      <td>renault</td>\n",
       "      <td>NaN</td>\n",
       "    </tr>\n",
       "    <tr>\n",
       "      <th>...</th>\n",
       "      <td>...</td>\n",
       "      <td>...</td>\n",
       "      <td>...</td>\n",
       "      <td>...</td>\n",
       "      <td>...</td>\n",
       "      <td>...</td>\n",
       "      <td>...</td>\n",
       "      <td>...</td>\n",
       "      <td>...</td>\n",
       "      <td>...</td>\n",
       "    </tr>\n",
       "    <tr>\n",
       "      <th>338829</th>\n",
       "      <td>50</td>\n",
       "      <td>NaN</td>\n",
       "      <td>3000</td>\n",
       "      <td>NaN</td>\n",
       "      <td>3000</td>\n",
       "      <td>golf</td>\n",
       "      <td>100000</td>\n",
       "      <td>NaN</td>\n",
       "      <td>volkswagen</td>\n",
       "      <td>yes</td>\n",
       "    </tr>\n",
       "    <tr>\n",
       "      <th>340548</th>\n",
       "      <td>0</td>\n",
       "      <td>NaN</td>\n",
       "      <td>3500</td>\n",
       "      <td>manual</td>\n",
       "      <td>75</td>\n",
       "      <td>NaN</td>\n",
       "      <td>5000</td>\n",
       "      <td>petrol</td>\n",
       "      <td>sonstige_autos</td>\n",
       "      <td>NaN</td>\n",
       "    </tr>\n",
       "    <tr>\n",
       "      <th>340759</th>\n",
       "      <td>700</td>\n",
       "      <td>NaN</td>\n",
       "      <td>1600</td>\n",
       "      <td>manual</td>\n",
       "      <td>1600</td>\n",
       "      <td>a3</td>\n",
       "      <td>150000</td>\n",
       "      <td>petrol</td>\n",
       "      <td>audi</td>\n",
       "      <td>no</td>\n",
       "    </tr>\n",
       "    <tr>\n",
       "      <th>341791</th>\n",
       "      <td>1</td>\n",
       "      <td>NaN</td>\n",
       "      <td>3000</td>\n",
       "      <td>NaN</td>\n",
       "      <td>0</td>\n",
       "      <td>zafira</td>\n",
       "      <td>5000</td>\n",
       "      <td>NaN</td>\n",
       "      <td>opel</td>\n",
       "      <td>NaN</td>\n",
       "    </tr>\n",
       "    <tr>\n",
       "      <th>351682</th>\n",
       "      <td>11500</td>\n",
       "      <td>NaN</td>\n",
       "      <td>1800</td>\n",
       "      <td>NaN</td>\n",
       "      <td>16</td>\n",
       "      <td>other</td>\n",
       "      <td>5000</td>\n",
       "      <td>petrol</td>\n",
       "      <td>fiat</td>\n",
       "      <td>NaN</td>\n",
       "    </tr>\n",
       "  </tbody>\n",
       "</table>\n",
       "<p>101 rows × 10 columns</p>\n",
       "</div>"
      ],
      "text/plain": [
       "        Price VehicleType  RegistrationYear Gearbox  Power    Model  \\\n",
       "12946      49         NaN              5000     NaN      0     golf   \n",
       "16062     190         NaN              1000     NaN      0   mondeo   \n",
       "17271     700         NaN              9999     NaN      0    other   \n",
       "18224    7999         NaN              1500  manual    224  impreza   \n",
       "18259     300         NaN              2200     NaN      0   twingo   \n",
       "...       ...         ...               ...     ...    ...      ...   \n",
       "338829     50         NaN              3000     NaN   3000     golf   \n",
       "340548      0         NaN              3500  manual     75      NaN   \n",
       "340759    700         NaN              1600  manual   1600       a3   \n",
       "341791      1         NaN              3000     NaN      0   zafira   \n",
       "351682  11500         NaN              1800     NaN     16    other   \n",
       "\n",
       "        Kilometer FuelType           Brand NotRepaired  \n",
       "12946        5000      NaN      volkswagen         NaN  \n",
       "16062        5000      NaN            ford         NaN  \n",
       "17271       10000      NaN            opel         NaN  \n",
       "18224        5000      NaN          subaru         NaN  \n",
       "18259        5000      NaN         renault         NaN  \n",
       "...           ...      ...             ...         ...  \n",
       "338829     100000      NaN      volkswagen         yes  \n",
       "340548       5000   petrol  sonstige_autos         NaN  \n",
       "340759     150000   petrol            audi          no  \n",
       "341791       5000      NaN            opel         NaN  \n",
       "351682       5000   petrol            fiat         NaN  \n",
       "\n",
       "[101 rows x 10 columns]"
      ]
     },
     "execution_count": 25,
     "metadata": {},
     "output_type": "execute_result"
    }
   ],
   "source": [
    "df.loc[(df['RegistrationYear'] < 1910) | (df['RegistrationYear'] > 2020)]"
   ]
  },
  {
   "cell_type": "markdown",
   "metadata": {},
   "source": [
    "Посмотрим записи с неверными годами регистрации и удалим. Заполнять эти данные не будем, т.к. их, во-первых, немного, а во-вторых, это один из основных факторов, который влияет на цену автомобиля."
   ]
  },
  {
   "cell_type": "code",
   "execution_count": 26,
   "metadata": {},
   "outputs": [],
   "source": [
    "indexes_to_delete = df.loc[(df['RegistrationYear'] < 1910) | (df['RegistrationYear'] > 2020)].index.tolist()\n",
    "df = df.drop(index=indexes_to_delete)"
   ]
  },
  {
   "cell_type": "code",
   "execution_count": 27,
   "metadata": {},
   "outputs": [
    {
     "data": {
      "text/html": [
       "<div>\n",
       "<style scoped>\n",
       "    .dataframe tbody tr th:only-of-type {\n",
       "        vertical-align: middle;\n",
       "    }\n",
       "\n",
       "    .dataframe tbody tr th {\n",
       "        vertical-align: top;\n",
       "    }\n",
       "\n",
       "    .dataframe thead th {\n",
       "        text-align: right;\n",
       "    }\n",
       "</style>\n",
       "<table border=\"1\" class=\"dataframe\">\n",
       "  <thead>\n",
       "    <tr style=\"text-align: right;\">\n",
       "      <th></th>\n",
       "      <th>Price</th>\n",
       "      <th>VehicleType</th>\n",
       "      <th>RegistrationYear</th>\n",
       "      <th>Gearbox</th>\n",
       "      <th>Power</th>\n",
       "      <th>Model</th>\n",
       "      <th>Kilometer</th>\n",
       "      <th>FuelType</th>\n",
       "      <th>Brand</th>\n",
       "      <th>NotRepaired</th>\n",
       "    </tr>\n",
       "  </thead>\n",
       "  <tbody>\n",
       "  </tbody>\n",
       "</table>\n",
       "</div>"
      ],
      "text/plain": [
       "Empty DataFrame\n",
       "Columns: [Price, VehicleType, RegistrationYear, Gearbox, Power, Model, Kilometer, FuelType, Brand, NotRepaired]\n",
       "Index: []"
      ]
     },
     "execution_count": 27,
     "metadata": {},
     "output_type": "execute_result"
    }
   ],
   "source": [
    "df.loc[(df['RegistrationYear'] < 1910) | (df['RegistrationYear'] > 2020)]"
   ]
  },
  {
   "cell_type": "markdown",
   "metadata": {},
   "source": [
    "_Model_"
   ]
  },
  {
   "cell_type": "code",
   "execution_count": 28,
   "metadata": {},
   "outputs": [
    {
     "data": {
      "text/plain": [
       "15993"
      ]
     },
     "execution_count": 28,
     "metadata": {},
     "output_type": "execute_result"
    }
   ],
   "source": [
    "df['Model'].isna().sum()"
   ]
  },
  {
   "cell_type": "markdown",
   "metadata": {},
   "source": [
    "Заполним пропуски в моделях модой модели по автомобильному бренду."
   ]
  },
  {
   "cell_type": "code",
   "execution_count": 29,
   "metadata": {},
   "outputs": [
    {
     "data": {
      "text/html": [
       "<div>\n",
       "<style scoped>\n",
       "    .dataframe tbody tr th:only-of-type {\n",
       "        vertical-align: middle;\n",
       "    }\n",
       "\n",
       "    .dataframe tbody tr th {\n",
       "        vertical-align: top;\n",
       "    }\n",
       "\n",
       "    .dataframe thead th {\n",
       "        text-align: right;\n",
       "    }\n",
       "</style>\n",
       "<table border=\"1\" class=\"dataframe\">\n",
       "  <thead>\n",
       "    <tr style=\"text-align: right;\">\n",
       "      <th></th>\n",
       "      <th>Model</th>\n",
       "      <th>Power</th>\n",
       "    </tr>\n",
       "    <tr>\n",
       "      <th>Brand</th>\n",
       "      <th></th>\n",
       "      <th></th>\n",
       "    </tr>\n",
       "  </thead>\n",
       "  <tbody>\n",
       "    <tr>\n",
       "      <th>alfa_romeo</th>\n",
       "      <td>156</td>\n",
       "      <td>570</td>\n",
       "    </tr>\n",
       "    <tr>\n",
       "      <th>audi</th>\n",
       "      <td>a4</td>\n",
       "      <td>8268</td>\n",
       "    </tr>\n",
       "    <tr>\n",
       "      <th>bmw</th>\n",
       "      <td>3er</td>\n",
       "      <td>16695</td>\n",
       "    </tr>\n",
       "    <tr>\n",
       "      <th>chevrolet</th>\n",
       "      <td>other</td>\n",
       "      <td>898</td>\n",
       "    </tr>\n",
       "    <tr>\n",
       "      <th>chrysler</th>\n",
       "      <td>other</td>\n",
       "      <td>362</td>\n",
       "    </tr>\n",
       "    <tr>\n",
       "      <th>...</th>\n",
       "      <td>...</td>\n",
       "      <td>...</td>\n",
       "    </tr>\n",
       "    <tr>\n",
       "      <th>suzuki</th>\n",
       "      <td>other</td>\n",
       "      <td>1006</td>\n",
       "    </tr>\n",
       "    <tr>\n",
       "      <th>toyota</th>\n",
       "      <td>yaris</td>\n",
       "      <td>926</td>\n",
       "    </tr>\n",
       "    <tr>\n",
       "      <th>trabant</th>\n",
       "      <td>601</td>\n",
       "      <td>393</td>\n",
       "    </tr>\n",
       "    <tr>\n",
       "      <th>volkswagen</th>\n",
       "      <td>golf</td>\n",
       "      <td>23626</td>\n",
       "    </tr>\n",
       "    <tr>\n",
       "      <th>volvo</th>\n",
       "      <td>v40</td>\n",
       "      <td>714</td>\n",
       "    </tr>\n",
       "  </tbody>\n",
       "</table>\n",
       "<p>39 rows × 2 columns</p>\n",
       "</div>"
      ],
      "text/plain": [
       "            Model  Power\n",
       "Brand                   \n",
       "alfa_romeo    156    570\n",
       "audi           a4   8268\n",
       "bmw           3er  16695\n",
       "chevrolet   other    898\n",
       "chrysler    other    362\n",
       "...           ...    ...\n",
       "suzuki      other   1006\n",
       "toyota      yaris    926\n",
       "trabant       601    393\n",
       "volkswagen   golf  23626\n",
       "volvo         v40    714\n",
       "\n",
       "[39 rows x 2 columns]"
      ]
     },
     "execution_count": 29,
     "metadata": {},
     "output_type": "execute_result"
    }
   ],
   "source": [
    "models=df.groupby(['Brand', 'Model'], as_index=False).aggregate(\n",
    "    {'Power': 'count'}).sort_values(by=['Brand', 'Power'], ascending=False).groupby('Brand').first()\n",
    "models"
   ]
  },
  {
   "cell_type": "markdown",
   "metadata": {},
   "source": [
    "<div class=\"alert alert-block alert-success\">\n",
    "<b>Комментарий ревьюера ✔️</b> \n",
    "\n",
    "Или так:\n",
    "    \n",
    "    .. = df.groupby('Brand')['Model'].agg(pd.Series.mode)\n",
    "</div>\n",
    "\n"
   ]
  },
  {
   "cell_type": "code",
   "execution_count": 30,
   "metadata": {},
   "outputs": [
    {
     "data": {
      "text/plain": [
       "{'alfa_romeo': '156',\n",
       " 'audi': 'a4',\n",
       " 'bmw': '3er',\n",
       " 'chevrolet': 'other',\n",
       " 'chrysler': 'other',\n",
       " 'citroen': 'other',\n",
       " 'dacia': 'logan',\n",
       " 'daewoo': 'matiz',\n",
       " 'daihatsu': 'cuore',\n",
       " 'fiat': 'punto',\n",
       " 'ford': 'focus',\n",
       " 'honda': 'civic',\n",
       " 'hyundai': 'i_reihe',\n",
       " 'jaguar': 'other',\n",
       " 'jeep': 'grand',\n",
       " 'kia': 'other',\n",
       " 'lada': 'niva',\n",
       " 'lancia': 'ypsilon',\n",
       " 'land_rover': 'freelander',\n",
       " 'mazda': '3_reihe',\n",
       " 'mercedes_benz': 'c_klasse',\n",
       " 'mini': 'cooper',\n",
       " 'mitsubishi': 'colt',\n",
       " 'nissan': 'micra',\n",
       " 'opel': 'corsa',\n",
       " 'peugeot': '2_reihe',\n",
       " 'porsche': 'cayenne',\n",
       " 'renault': 'twingo',\n",
       " 'rover': 'other',\n",
       " 'saab': 'other',\n",
       " 'seat': 'ibiza',\n",
       " 'skoda': 'fabia',\n",
       " 'smart': 'fortwo',\n",
       " 'subaru': 'impreza',\n",
       " 'suzuki': 'other',\n",
       " 'toyota': 'yaris',\n",
       " 'trabant': '601',\n",
       " 'volkswagen': 'golf',\n",
       " 'volvo': 'v40'}"
      ]
     },
     "execution_count": 30,
     "metadata": {},
     "output_type": "execute_result"
    }
   ],
   "source": [
    "models_dict = dict(zip(list(models.index), list(models.Model)))\n",
    "models_dict"
   ]
  },
  {
   "cell_type": "code",
   "execution_count": 31,
   "metadata": {},
   "outputs": [],
   "source": [
    "for model in models_dict.keys(): \n",
    "    df.loc[(df['Model'].isna()), 'Model'] = models_dict[model]"
   ]
  },
  {
   "cell_type": "code",
   "execution_count": 32,
   "metadata": {},
   "outputs": [
    {
     "data": {
      "text/plain": [
       "0"
      ]
     },
     "execution_count": 32,
     "metadata": {},
     "output_type": "execute_result"
    }
   ],
   "source": [
    "df['Model'].isna().sum()"
   ]
  },
  {
   "cell_type": "markdown",
   "metadata": {},
   "source": [
    "_FuelType - пропуски заменим на моду._"
   ]
  },
  {
   "cell_type": "code",
   "execution_count": 33,
   "metadata": {},
   "outputs": [
    {
     "data": {
      "text/plain": [
       "28930"
      ]
     },
     "execution_count": 33,
     "metadata": {},
     "output_type": "execute_result"
    }
   ],
   "source": [
    "df.FuelType.isna().sum()"
   ]
  },
  {
   "cell_type": "code",
   "execution_count": 34,
   "metadata": {},
   "outputs": [
    {
     "data": {
      "text/plain": [
       "petrol      187408\n",
       "gasoline     84632\n",
       "lpg           4876\n",
       "cng            522\n",
       "hybrid         221\n",
       "other          190\n",
       "electric        88\n",
       "Name: FuelType, dtype: int64"
      ]
     },
     "execution_count": 34,
     "metadata": {},
     "output_type": "execute_result"
    }
   ],
   "source": [
    "df.FuelType.value_counts()"
   ]
  },
  {
   "cell_type": "markdown",
   "metadata": {},
   "source": [
    "Подавляющее большинство автомобилей в этой выборке - на бензине (обозначены как petrol и gasoline), удивительно, что нет автомобилей на дизельном топливе (если только в other, 153 шт.). Полагаю, что, возможно gasoline здесь это дизельное топливо, но по факту это обозначение неверное - по-настоящему газолиновых автомобилей в мире практически не существует. Не будем менять обозначения, заполним пропуски модой - petrol. В России дизельный автомобиль менее 5 лет возрастом был бы дороже бензинового, более 5 лет - дешевле, т.к. топливная аппаратура очень дорога в ремонте, а качество российского дизеля для легковых дизелей стандарта Евро-6 ужасное. "
   ]
  },
  {
   "cell_type": "markdown",
   "metadata": {},
   "source": [
    "У нас не получится восстановить тип топлива по модели автомобиля, т.к. многие модели выпускаются как в бензиновых, так и в иных версиях - в одном и том же типе кузова, в одних и тех же комплектациях. Пример: Volkswagen Golf (типы кузова: хетчбек 3 двери, 5 дверей, универсал; типы топлива: бензин, дизель, cng, КПП: 5-ступенчатая МКПП, 4-ступенчатая АКПП, 6-ступенчатая АКПП, 7-ступенчатая АКПП, 6-ступенчатая МКПП - практически всех сочетаниях между собой)."
   ]
  },
  {
   "cell_type": "code",
   "execution_count": 35,
   "metadata": {},
   "outputs": [],
   "source": [
    "df['FuelType'] = df['FuelType'].fillna('petrol')"
   ]
  },
  {
   "cell_type": "code",
   "execution_count": 36,
   "metadata": {},
   "outputs": [
    {
     "data": {
      "text/plain": [
       "0"
      ]
     },
     "execution_count": 36,
     "metadata": {},
     "output_type": "execute_result"
    }
   ],
   "source": [
    "df.FuelType.isna().sum()"
   ]
  },
  {
   "cell_type": "markdown",
   "metadata": {},
   "source": [
    "_Gearbox - пропуски заменим на моду по модели_"
   ]
  },
  {
   "cell_type": "code",
   "execution_count": 37,
   "metadata": {},
   "outputs": [
    {
     "data": {
      "text/plain": [
       "14775"
      ]
     },
     "execution_count": 37,
     "metadata": {},
     "output_type": "execute_result"
    }
   ],
   "source": [
    "df.Gearbox.isna().sum()"
   ]
  },
  {
   "cell_type": "code",
   "execution_count": 38,
   "metadata": {},
   "outputs": [
    {
     "data": {
      "text/plain": [
       "manual    232750\n",
       "auto       59342\n",
       "Name: Gearbox, dtype: int64"
      ]
     },
     "execution_count": 38,
     "metadata": {},
     "output_type": "execute_result"
    }
   ],
   "source": [
    "df.Gearbox.value_counts()"
   ]
  },
  {
   "cell_type": "markdown",
   "metadata": {},
   "source": [
    "Сделаем словарь из названия модели и наиболее типичной коробки передач для этой модели."
   ]
  },
  {
   "cell_type": "code",
   "execution_count": 39,
   "metadata": {
    "scrolled": false
   },
   "outputs": [
    {
     "data": {
      "text/plain": [
       "manual    215\n",
       "auto       35\n",
       "Name: gearbox_type, dtype: int64"
      ]
     },
     "metadata": {},
     "output_type": "display_data"
    },
    {
     "data": {
      "text/plain": [
       "{'100': 'manual',\n",
       " '145': 'manual',\n",
       " '147': 'manual',\n",
       " '156': 'manual',\n",
       " '159': 'manual',\n",
       " '1_reihe': 'manual',\n",
       " '1er': 'manual',\n",
       " '200': 'manual',\n",
       " '2_reihe': 'manual',\n",
       " '300c': 'auto',\n",
       " '3_reihe': 'manual',\n",
       " '3er': 'manual',\n",
       " '4_reihe': 'manual',\n",
       " '500': 'manual',\n",
       " '5_reihe': 'manual',\n",
       " '5er': 'auto',\n",
       " '601': 'manual',\n",
       " '6_reihe': 'manual',\n",
       " '6er': 'auto',\n",
       " '7er': 'auto',\n",
       " '80': 'manual',\n",
       " '850': 'manual',\n",
       " '90': 'manual',\n",
       " '900': 'manual',\n",
       " '9000': 'manual',\n",
       " '911': 'manual',\n",
       " 'a1': 'manual',\n",
       " 'a2': 'manual',\n",
       " 'a3': 'manual',\n",
       " 'a4': 'manual',\n",
       " 'a5': 'manual',\n",
       " 'a6': 'auto',\n",
       " 'a8': 'auto',\n",
       " 'a_klasse': 'manual',\n",
       " 'accord': 'manual',\n",
       " 'agila': 'manual',\n",
       " 'alhambra': 'manual',\n",
       " 'almera': 'manual',\n",
       " 'altea': 'manual',\n",
       " 'amarok': 'manual',\n",
       " 'antara': 'manual',\n",
       " 'arosa': 'manual',\n",
       " 'astra': 'manual',\n",
       " 'auris': 'manual',\n",
       " 'avensis': 'manual',\n",
       " 'aveo': 'manual',\n",
       " 'aygo': 'manual',\n",
       " 'b_klasse': 'manual',\n",
       " 'b_max': 'manual',\n",
       " 'beetle': 'manual',\n",
       " 'berlingo': 'manual',\n",
       " 'bora': 'manual',\n",
       " 'boxster': 'manual',\n",
       " 'bravo': 'manual',\n",
       " 'c1': 'manual',\n",
       " 'c2': 'manual',\n",
       " 'c3': 'manual',\n",
       " 'c4': 'manual',\n",
       " 'c5': 'manual',\n",
       " 'c_klasse': 'manual',\n",
       " 'c_max': 'manual',\n",
       " 'c_reihe': 'manual',\n",
       " 'caddy': 'manual',\n",
       " 'calibra': 'manual',\n",
       " 'captiva': 'manual',\n",
       " 'carisma': 'manual',\n",
       " 'carnival': 'manual',\n",
       " 'cayenne': 'auto',\n",
       " 'cc': 'manual',\n",
       " 'ceed': 'manual',\n",
       " 'charade': 'manual',\n",
       " 'cherokee': 'auto',\n",
       " 'citigo': 'manual',\n",
       " 'civic': 'manual',\n",
       " 'cl': 'auto',\n",
       " 'clio': 'manual',\n",
       " 'clk': 'auto',\n",
       " 'clubman': 'manual',\n",
       " 'colt': 'manual',\n",
       " 'combo': 'manual',\n",
       " 'cooper': 'manual',\n",
       " 'cordoba': 'manual',\n",
       " 'corolla': 'manual',\n",
       " 'corsa': 'manual',\n",
       " 'cr_reihe': 'manual',\n",
       " 'croma': 'manual',\n",
       " 'crossfire': 'auto',\n",
       " 'cuore': 'manual',\n",
       " 'cx_reihe': 'manual',\n",
       " 'defender': 'manual',\n",
       " 'delta': 'manual',\n",
       " 'discovery': 'auto',\n",
       " 'doblo': 'manual',\n",
       " 'ducato': 'manual',\n",
       " 'duster': 'manual',\n",
       " 'e_klasse': 'auto',\n",
       " 'elefantino': 'manual',\n",
       " 'eos': 'manual',\n",
       " 'escort': 'manual',\n",
       " 'espace': 'manual',\n",
       " 'exeo': 'manual',\n",
       " 'fabia': 'manual',\n",
       " 'fiesta': 'manual',\n",
       " 'focus': 'manual',\n",
       " 'forester': 'manual',\n",
       " 'forfour': 'manual',\n",
       " 'fortwo': 'auto',\n",
       " 'fox': 'manual',\n",
       " 'freelander': 'manual',\n",
       " 'fusion': 'manual',\n",
       " 'g_klasse': 'manual',\n",
       " 'galant': 'manual',\n",
       " 'galaxy': 'manual',\n",
       " 'getz': 'manual',\n",
       " 'gl': 'auto',\n",
       " 'glk': 'auto',\n",
       " 'golf': 'manual',\n",
       " 'grand': 'auto',\n",
       " 'i3': 'manual',\n",
       " 'i_reihe': 'manual',\n",
       " 'ibiza': 'manual',\n",
       " 'impreza': 'manual',\n",
       " 'insignia': 'manual',\n",
       " 'jazz': 'manual',\n",
       " 'jetta': 'manual',\n",
       " 'jimny': 'manual',\n",
       " 'juke': 'manual',\n",
       " 'justy': 'manual',\n",
       " 'ka': 'manual',\n",
       " 'kadett': 'manual',\n",
       " 'kaefer': 'manual',\n",
       " 'kalina': 'manual',\n",
       " 'kalos': 'manual',\n",
       " 'kangoo': 'manual',\n",
       " 'kappa': 'manual',\n",
       " 'kuga': 'manual',\n",
       " 'laguna': 'manual',\n",
       " 'lancer': 'manual',\n",
       " 'lanos': 'manual',\n",
       " 'legacy': 'manual',\n",
       " 'leon': 'manual',\n",
       " 'lodgy': 'manual',\n",
       " 'logan': 'manual',\n",
       " 'lupo': 'manual',\n",
       " 'lybra': 'manual',\n",
       " 'm_klasse': 'auto',\n",
       " 'm_reihe': 'manual',\n",
       " 'materia': 'manual',\n",
       " 'matiz': 'manual',\n",
       " 'megane': 'manual',\n",
       " 'meriva': 'manual',\n",
       " 'micra': 'manual',\n",
       " 'mii': 'manual',\n",
       " 'modus': 'manual',\n",
       " 'mondeo': 'manual',\n",
       " 'move': 'manual',\n",
       " 'musa': 'manual',\n",
       " 'mustang': 'auto',\n",
       " 'mx_reihe': 'manual',\n",
       " 'navara': 'manual',\n",
       " 'niva': 'manual',\n",
       " 'note': 'manual',\n",
       " 'nubira': 'manual',\n",
       " 'octavia': 'manual',\n",
       " 'omega': 'manual',\n",
       " 'one': 'manual',\n",
       " 'other': 'manual',\n",
       " 'outlander': 'manual',\n",
       " 'pajero': 'manual',\n",
       " 'panda': 'manual',\n",
       " 'passat': 'manual',\n",
       " 'phaeton': 'auto',\n",
       " 'picanto': 'manual',\n",
       " 'polo': 'manual',\n",
       " 'primera': 'manual',\n",
       " 'ptcruiser': 'manual',\n",
       " 'punto': 'manual',\n",
       " 'q3': 'manual',\n",
       " 'q5': 'auto',\n",
       " 'q7': 'auto',\n",
       " 'qashqai': 'manual',\n",
       " 'r19': 'manual',\n",
       " 'range_rover': 'auto',\n",
       " 'range_rover_evoque': 'auto',\n",
       " 'range_rover_sport': 'auto',\n",
       " 'rangerover': 'manual',\n",
       " 'rav': 'manual',\n",
       " 'rio': 'manual',\n",
       " 'roadster': 'auto',\n",
       " 'roomster': 'manual',\n",
       " 'rx_reihe': 'manual',\n",
       " 's60': 'manual',\n",
       " 's_klasse': 'auto',\n",
       " 's_max': 'manual',\n",
       " 's_type': 'auto',\n",
       " 'samara': 'manual',\n",
       " 'sandero': 'manual',\n",
       " 'santa': 'manual',\n",
       " 'scenic': 'manual',\n",
       " 'scirocco': 'manual',\n",
       " 'seicento': 'manual',\n",
       " 'serie_1': 'manual',\n",
       " 'serie_2': 'manual',\n",
       " 'serie_3': 'manual',\n",
       " 'sharan': 'manual',\n",
       " 'signum': 'manual',\n",
       " 'sirion': 'manual',\n",
       " 'sl': 'auto',\n",
       " 'slk': 'auto',\n",
       " 'sorento': 'auto',\n",
       " 'spark': 'manual',\n",
       " 'spider': 'manual',\n",
       " 'sportage': 'manual',\n",
       " 'sprinter': 'manual',\n",
       " 'stilo': 'manual',\n",
       " 'superb': 'manual',\n",
       " 'swift': 'manual',\n",
       " 'terios': 'manual',\n",
       " 'tigra': 'manual',\n",
       " 'tiguan': 'manual',\n",
       " 'toledo': 'manual',\n",
       " 'touareg': 'auto',\n",
       " 'touran': 'manual',\n",
       " 'transit': 'manual',\n",
       " 'transporter': 'manual',\n",
       " 'tt': 'manual',\n",
       " 'tucson': 'manual',\n",
       " 'twingo': 'manual',\n",
       " 'up': 'manual',\n",
       " 'v40': 'manual',\n",
       " 'v50': 'manual',\n",
       " 'v60': 'manual',\n",
       " 'v70': 'manual',\n",
       " 'v_klasse': 'manual',\n",
       " 'vectra': 'manual',\n",
       " 'verso': 'manual',\n",
       " 'viano': 'auto',\n",
       " 'vito': 'manual',\n",
       " 'vivaro': 'manual',\n",
       " 'voyager': 'manual',\n",
       " 'wrangler': 'manual',\n",
       " 'x_reihe': 'auto',\n",
       " 'x_trail': 'manual',\n",
       " 'x_type': 'manual',\n",
       " 'xc_reihe': 'auto',\n",
       " 'yaris': 'manual',\n",
       " 'yeti': 'manual',\n",
       " 'ypsilon': 'manual',\n",
       " 'z_reihe': 'manual',\n",
       " 'zafira': 'manual'}"
      ]
     },
     "execution_count": 39,
     "metadata": {},
     "output_type": "execute_result"
    }
   ],
   "source": [
    "gearbox=df.pivot_table(index=['Model'], columns='Gearbox', values='Power', aggfunc='count').fillna(0)\n",
    "gearbox['gearbox_moda']=gearbox['manual']-gearbox['auto']\n",
    "gearbox.loc[gearbox['gearbox_moda'] > 0, 'gearbox_type'] = 'manual'\n",
    "gearbox.loc[gearbox['gearbox_moda'] <= 0, 'gearbox_type'] = 'auto'\n",
    "display(gearbox['gearbox_type'].value_counts())\n",
    "gearbox_dict = dict(zip(list(gearbox.index), list(gearbox.gearbox_type)))\n",
    "gearbox_dict"
   ]
  },
  {
   "cell_type": "code",
   "execution_count": 40,
   "metadata": {},
   "outputs": [],
   "source": [
    "for gearbox in gearbox_dict.keys(): \n",
    "    df.loc[(df['Gearbox'].isna()), 'Gearbox'] = gearbox_dict[gearbox]"
   ]
  },
  {
   "cell_type": "code",
   "execution_count": 41,
   "metadata": {},
   "outputs": [
    {
     "data": {
      "text/plain": [
       "0"
      ]
     },
     "execution_count": 41,
     "metadata": {},
     "output_type": "execute_result"
    }
   ],
   "source": [
    "df.Gearbox.isna().sum()"
   ]
  },
  {
   "cell_type": "markdown",
   "metadata": {},
   "source": [
    "_VehicleType_"
   ]
  },
  {
   "cell_type": "markdown",
   "metadata": {},
   "source": [
    "VehicleType отражает функциональность автомобиля, также влияет на цену. Найдем моду по модели и заменим пропуски на моду. Чаще всего одна и та же модель выпускалась в одном типе кузова, или в нескольких, но один из них преобладал по причине универсальности в данном классе (хетчбеки в классе В, седаны в классе С и Д, универсалы в классе Д - на европейском рынке)."
   ]
  },
  {
   "cell_type": "code",
   "execution_count": 42,
   "metadata": {},
   "outputs": [
    {
     "data": {
      "text/plain": [
       "32097"
      ]
     },
     "execution_count": 42,
     "metadata": {},
     "output_type": "execute_result"
    }
   ],
   "source": [
    "df.VehicleType.isna().sum()"
   ]
  },
  {
   "cell_type": "code",
   "execution_count": 43,
   "metadata": {},
   "outputs": [
    {
     "data": {
      "text/html": [
       "<div>\n",
       "<style scoped>\n",
       "    .dataframe tbody tr th:only-of-type {\n",
       "        vertical-align: middle;\n",
       "    }\n",
       "\n",
       "    .dataframe tbody tr th {\n",
       "        vertical-align: top;\n",
       "    }\n",
       "\n",
       "    .dataframe thead th {\n",
       "        text-align: right;\n",
       "    }\n",
       "</style>\n",
       "<table border=\"1\" class=\"dataframe\">\n",
       "  <thead>\n",
       "    <tr style=\"text-align: right;\">\n",
       "      <th></th>\n",
       "      <th>VehicleType</th>\n",
       "      <th>Power</th>\n",
       "    </tr>\n",
       "    <tr>\n",
       "      <th>Model</th>\n",
       "      <th></th>\n",
       "      <th></th>\n",
       "    </tr>\n",
       "  </thead>\n",
       "  <tbody>\n",
       "    <tr>\n",
       "      <th>100</th>\n",
       "      <td>sedan</td>\n",
       "      <td>247</td>\n",
       "    </tr>\n",
       "    <tr>\n",
       "      <th>145</th>\n",
       "      <td>small</td>\n",
       "      <td>18</td>\n",
       "    </tr>\n",
       "    <tr>\n",
       "      <th>147</th>\n",
       "      <td>sedan</td>\n",
       "      <td>321</td>\n",
       "    </tr>\n",
       "    <tr>\n",
       "      <th>156</th>\n",
       "      <td>sedan</td>\n",
       "      <td>3448</td>\n",
       "    </tr>\n",
       "    <tr>\n",
       "      <th>159</th>\n",
       "      <td>wagon</td>\n",
       "      <td>135</td>\n",
       "    </tr>\n",
       "    <tr>\n",
       "      <th>...</th>\n",
       "      <td>...</td>\n",
       "      <td>...</td>\n",
       "    </tr>\n",
       "    <tr>\n",
       "      <th>yaris</th>\n",
       "      <td>small</td>\n",
       "      <td>787</td>\n",
       "    </tr>\n",
       "    <tr>\n",
       "      <th>yeti</th>\n",
       "      <td>suv</td>\n",
       "      <td>154</td>\n",
       "    </tr>\n",
       "    <tr>\n",
       "      <th>ypsilon</th>\n",
       "      <td>small</td>\n",
       "      <td>163</td>\n",
       "    </tr>\n",
       "    <tr>\n",
       "      <th>z_reihe</th>\n",
       "      <td>convertible</td>\n",
       "      <td>603</td>\n",
       "    </tr>\n",
       "    <tr>\n",
       "      <th>zafira</th>\n",
       "      <td>bus</td>\n",
       "      <td>2034</td>\n",
       "    </tr>\n",
       "  </tbody>\n",
       "</table>\n",
       "<p>250 rows × 2 columns</p>\n",
       "</div>"
      ],
      "text/plain": [
       "         VehicleType  Power\n",
       "Model                      \n",
       "100            sedan    247\n",
       "145            small     18\n",
       "147            sedan    321\n",
       "156            sedan   3448\n",
       "159            wagon    135\n",
       "...              ...    ...\n",
       "yaris          small    787\n",
       "yeti             suv    154\n",
       "ypsilon        small    163\n",
       "z_reihe  convertible    603\n",
       "zafira           bus   2034\n",
       "\n",
       "[250 rows x 2 columns]"
      ]
     },
     "execution_count": 43,
     "metadata": {},
     "output_type": "execute_result"
    }
   ],
   "source": [
    "vtype=df.groupby(['Model', 'VehicleType'], as_index=False).aggregate(\n",
    "    {'Power': 'count'}).sort_values(by=['Model', 'Power'], ascending=False).groupby('Model').first()\n",
    "vtype"
   ]
  },
  {
   "cell_type": "code",
   "execution_count": 44,
   "metadata": {},
   "outputs": [
    {
     "data": {
      "text/plain": [
       "{'100': 'sedan',\n",
       " '145': 'small',\n",
       " '147': 'sedan',\n",
       " '156': 'sedan',\n",
       " '159': 'wagon',\n",
       " '1_reihe': 'small',\n",
       " '1er': 'sedan',\n",
       " '200': 'sedan',\n",
       " '2_reihe': 'small',\n",
       " '300c': 'wagon',\n",
       " '3_reihe': 'sedan',\n",
       " '3er': 'sedan',\n",
       " '4_reihe': 'wagon',\n",
       " '500': 'small',\n",
       " '5_reihe': 'bus',\n",
       " '5er': 'sedan',\n",
       " '601': 'sedan',\n",
       " '6_reihe': 'wagon',\n",
       " '6er': 'coupe',\n",
       " '7er': 'sedan',\n",
       " '80': 'sedan',\n",
       " '850': 'wagon',\n",
       " '90': 'sedan',\n",
       " '900': 'convertible',\n",
       " '9000': 'sedan',\n",
       " '911': 'coupe',\n",
       " 'a1': 'small',\n",
       " 'a2': 'small',\n",
       " 'a3': 'sedan',\n",
       " 'a4': 'wagon',\n",
       " 'a5': 'coupe',\n",
       " 'a6': 'wagon',\n",
       " 'a8': 'sedan',\n",
       " 'a_klasse': 'sedan',\n",
       " 'accord': 'sedan',\n",
       " 'agila': 'small',\n",
       " 'alhambra': 'bus',\n",
       " 'almera': 'sedan',\n",
       " 'altea': 'bus',\n",
       " 'amarok': 'suv',\n",
       " 'antara': 'suv',\n",
       " 'arosa': 'small',\n",
       " 'astra': 'sedan',\n",
       " 'auris': 'sedan',\n",
       " 'avensis': 'wagon',\n",
       " 'aveo': 'small',\n",
       " 'aygo': 'small',\n",
       " 'b_klasse': 'bus',\n",
       " 'b_max': 'bus',\n",
       " 'beetle': 'sedan',\n",
       " 'berlingo': 'bus',\n",
       " 'bora': 'sedan',\n",
       " 'boxster': 'convertible',\n",
       " 'bravo': 'sedan',\n",
       " 'c1': 'small',\n",
       " 'c2': 'small',\n",
       " 'c3': 'small',\n",
       " 'c4': 'sedan',\n",
       " 'c5': 'wagon',\n",
       " 'c_klasse': 'sedan',\n",
       " 'c_max': 'bus',\n",
       " 'c_reihe': 'convertible',\n",
       " 'caddy': 'wagon',\n",
       " 'calibra': 'coupe',\n",
       " 'captiva': 'suv',\n",
       " 'carisma': 'sedan',\n",
       " 'carnival': 'bus',\n",
       " 'cayenne': 'suv',\n",
       " 'cc': 'coupe',\n",
       " 'ceed': 'sedan',\n",
       " 'charade': 'small',\n",
       " 'cherokee': 'suv',\n",
       " 'citigo': 'small',\n",
       " 'civic': 'sedan',\n",
       " 'cl': 'coupe',\n",
       " 'clio': 'small',\n",
       " 'clk': 'coupe',\n",
       " 'clubman': 'wagon',\n",
       " 'colt': 'sedan',\n",
       " 'combo': 'bus',\n",
       " 'cooper': 'small',\n",
       " 'cordoba': 'wagon',\n",
       " 'corolla': 'sedan',\n",
       " 'corsa': 'small',\n",
       " 'cr_reihe': 'suv',\n",
       " 'croma': 'wagon',\n",
       " 'crossfire': 'coupe',\n",
       " 'cuore': 'small',\n",
       " 'cx_reihe': 'suv',\n",
       " 'defender': 'suv',\n",
       " 'delta': 'sedan',\n",
       " 'discovery': 'suv',\n",
       " 'doblo': 'bus',\n",
       " 'ducato': 'bus',\n",
       " 'duster': 'suv',\n",
       " 'e_klasse': 'sedan',\n",
       " 'elefantino': 'small',\n",
       " 'eos': 'convertible',\n",
       " 'escort': 'sedan',\n",
       " 'espace': 'bus',\n",
       " 'exeo': 'wagon',\n",
       " 'fabia': 'small',\n",
       " 'fiesta': 'small',\n",
       " 'focus': 'wagon',\n",
       " 'forester': 'wagon',\n",
       " 'forfour': 'small',\n",
       " 'fortwo': 'small',\n",
       " 'fox': 'small',\n",
       " 'freelander': 'suv',\n",
       " 'fusion': 'small',\n",
       " 'g_klasse': 'suv',\n",
       " 'galant': 'sedan',\n",
       " 'galaxy': 'bus',\n",
       " 'getz': 'small',\n",
       " 'gl': 'suv',\n",
       " 'glk': 'suv',\n",
       " 'golf': 'sedan',\n",
       " 'grand': 'suv',\n",
       " 'i3': 'sedan',\n",
       " 'i_reihe': 'small',\n",
       " 'ibiza': 'small',\n",
       " 'impreza': 'sedan',\n",
       " 'insignia': 'wagon',\n",
       " 'jazz': 'small',\n",
       " 'jetta': 'sedan',\n",
       " 'jimny': 'suv',\n",
       " 'juke': 'small',\n",
       " 'justy': 'small',\n",
       " 'ka': 'small',\n",
       " 'kadett': 'sedan',\n",
       " 'kaefer': 'sedan',\n",
       " 'kalina': 'sedan',\n",
       " 'kalos': 'small',\n",
       " 'kangoo': 'bus',\n",
       " 'kappa': 'sedan',\n",
       " 'kuga': 'suv',\n",
       " 'laguna': 'wagon',\n",
       " 'lancer': 'sedan',\n",
       " 'lanos': 'small',\n",
       " 'legacy': 'wagon',\n",
       " 'leon': 'sedan',\n",
       " 'lodgy': 'bus',\n",
       " 'logan': 'wagon',\n",
       " 'lupo': 'small',\n",
       " 'lybra': 'wagon',\n",
       " 'm_klasse': 'suv',\n",
       " 'm_reihe': 'coupe',\n",
       " 'materia': 'wagon',\n",
       " 'matiz': 'small',\n",
       " 'megane': 'sedan',\n",
       " 'meriva': 'bus',\n",
       " 'micra': 'small',\n",
       " 'mii': 'small',\n",
       " 'modus': 'bus',\n",
       " 'mondeo': 'wagon',\n",
       " 'move': 'small',\n",
       " 'musa': 'bus',\n",
       " 'mustang': 'coupe',\n",
       " 'mx_reihe': 'convertible',\n",
       " 'navara': 'suv',\n",
       " 'niva': 'suv',\n",
       " 'note': 'bus',\n",
       " 'nubira': 'wagon',\n",
       " 'octavia': 'wagon',\n",
       " 'omega': 'wagon',\n",
       " 'one': 'small',\n",
       " 'other': 'sedan',\n",
       " 'outlander': 'suv',\n",
       " 'pajero': 'suv',\n",
       " 'panda': 'small',\n",
       " 'passat': 'wagon',\n",
       " 'phaeton': 'sedan',\n",
       " 'picanto': 'small',\n",
       " 'polo': 'small',\n",
       " 'primera': 'sedan',\n",
       " 'ptcruiser': 'wagon',\n",
       " 'punto': 'small',\n",
       " 'q3': 'sedan',\n",
       " 'q5': 'sedan',\n",
       " 'q7': 'sedan',\n",
       " 'qashqai': 'sedan',\n",
       " 'r19': 'sedan',\n",
       " 'range_rover': 'suv',\n",
       " 'range_rover_evoque': 'suv',\n",
       " 'range_rover_sport': 'suv',\n",
       " 'rangerover': 'other',\n",
       " 'rav': 'suv',\n",
       " 'rio': 'small',\n",
       " 'roadster': 'convertible',\n",
       " 'roomster': 'bus',\n",
       " 'rx_reihe': 'coupe',\n",
       " 's60': 'sedan',\n",
       " 's_klasse': 'sedan',\n",
       " 's_max': 'bus',\n",
       " 's_type': 'sedan',\n",
       " 'samara': 'sedan',\n",
       " 'sandero': 'small',\n",
       " 'santa': 'suv',\n",
       " 'scenic': 'bus',\n",
       " 'scirocco': 'coupe',\n",
       " 'seicento': 'small',\n",
       " 'serie_1': 'wagon',\n",
       " 'serie_2': 'other',\n",
       " 'serie_3': 'suv',\n",
       " 'sharan': 'bus',\n",
       " 'signum': 'wagon',\n",
       " 'sirion': 'small',\n",
       " 'sl': 'convertible',\n",
       " 'slk': 'convertible',\n",
       " 'sorento': 'suv',\n",
       " 'spark': 'small',\n",
       " 'spider': 'convertible',\n",
       " 'sportage': 'suv',\n",
       " 'sprinter': 'bus',\n",
       " 'stilo': 'sedan',\n",
       " 'superb': 'sedan',\n",
       " 'swift': 'small',\n",
       " 'terios': 'sedan',\n",
       " 'tigra': 'convertible',\n",
       " 'tiguan': 'suv',\n",
       " 'toledo': 'sedan',\n",
       " 'touareg': 'suv',\n",
       " 'touran': 'bus',\n",
       " 'transit': 'bus',\n",
       " 'transporter': 'bus',\n",
       " 'tt': 'coupe',\n",
       " 'tucson': 'suv',\n",
       " 'twingo': 'small',\n",
       " 'up': 'small',\n",
       " 'v40': 'wagon',\n",
       " 'v50': 'wagon',\n",
       " 'v60': 'wagon',\n",
       " 'v70': 'wagon',\n",
       " 'v_klasse': 'bus',\n",
       " 'vectra': 'sedan',\n",
       " 'verso': 'bus',\n",
       " 'viano': 'bus',\n",
       " 'vito': 'bus',\n",
       " 'vivaro': 'bus',\n",
       " 'voyager': 'bus',\n",
       " 'wrangler': 'suv',\n",
       " 'x_reihe': 'sedan',\n",
       " 'x_trail': 'suv',\n",
       " 'x_type': 'sedan',\n",
       " 'xc_reihe': 'suv',\n",
       " 'yaris': 'small',\n",
       " 'yeti': 'suv',\n",
       " 'ypsilon': 'small',\n",
       " 'z_reihe': 'convertible',\n",
       " 'zafira': 'bus'}"
      ]
     },
     "execution_count": 44,
     "metadata": {},
     "output_type": "execute_result"
    }
   ],
   "source": [
    "vtype_dict = dict(zip(list(vtype.index), list(vtype.VehicleType)))\n",
    "vtype_dict"
   ]
  },
  {
   "cell_type": "code",
   "execution_count": 45,
   "metadata": {},
   "outputs": [],
   "source": [
    "for type in vtype_dict.keys(): \n",
    "    df.loc[(df['VehicleType'].isna()), 'VehicleType'] = vtype_dict[type]"
   ]
  },
  {
   "cell_type": "code",
   "execution_count": 46,
   "metadata": {},
   "outputs": [
    {
     "data": {
      "text/plain": [
       "0"
      ]
     },
     "execution_count": 46,
     "metadata": {},
     "output_type": "execute_result"
    }
   ],
   "source": [
    "df.VehicleType.isna().sum()"
   ]
  },
  {
   "cell_type": "markdown",
   "metadata": {},
   "source": [
    "_Power_"
   ]
  },
  {
   "cell_type": "markdown",
   "metadata": {},
   "source": [
    "Посмотрим на значение лошадиных сил менее 35 л.с. и более 500 (это встречается крайне редко для легковых автомобилей)."
   ]
  },
  {
   "cell_type": "code",
   "execution_count": 47,
   "metadata": {},
   "outputs": [
    {
     "data": {
      "text/html": [
       "<div>\n",
       "<style scoped>\n",
       "    .dataframe tbody tr th:only-of-type {\n",
       "        vertical-align: middle;\n",
       "    }\n",
       "\n",
       "    .dataframe tbody tr th {\n",
       "        vertical-align: top;\n",
       "    }\n",
       "\n",
       "    .dataframe thead th {\n",
       "        text-align: right;\n",
       "    }\n",
       "</style>\n",
       "<table border=\"1\" class=\"dataframe\">\n",
       "  <thead>\n",
       "    <tr style=\"text-align: right;\">\n",
       "      <th></th>\n",
       "      <th>Price</th>\n",
       "      <th>VehicleType</th>\n",
       "      <th>RegistrationYear</th>\n",
       "      <th>Gearbox</th>\n",
       "      <th>Power</th>\n",
       "      <th>Model</th>\n",
       "      <th>Kilometer</th>\n",
       "      <th>FuelType</th>\n",
       "      <th>Brand</th>\n",
       "      <th>NotRepaired</th>\n",
       "    </tr>\n",
       "  </thead>\n",
       "  <tbody>\n",
       "    <tr>\n",
       "      <th>0</th>\n",
       "      <td>480</td>\n",
       "      <td>sedan</td>\n",
       "      <td>1993</td>\n",
       "      <td>manual</td>\n",
       "      <td>0</td>\n",
       "      <td>golf</td>\n",
       "      <td>150000</td>\n",
       "      <td>petrol</td>\n",
       "      <td>volkswagen</td>\n",
       "      <td>NaN</td>\n",
       "    </tr>\n",
       "    <tr>\n",
       "      <th>15</th>\n",
       "      <td>450</td>\n",
       "      <td>small</td>\n",
       "      <td>1910</td>\n",
       "      <td>manual</td>\n",
       "      <td>0</td>\n",
       "      <td>ka</td>\n",
       "      <td>5000</td>\n",
       "      <td>petrol</td>\n",
       "      <td>ford</td>\n",
       "      <td>NaN</td>\n",
       "    </tr>\n",
       "    <tr>\n",
       "      <th>32</th>\n",
       "      <td>245</td>\n",
       "      <td>sedan</td>\n",
       "      <td>1994</td>\n",
       "      <td>manual</td>\n",
       "      <td>0</td>\n",
       "      <td>golf</td>\n",
       "      <td>150000</td>\n",
       "      <td>petrol</td>\n",
       "      <td>volkswagen</td>\n",
       "      <td>no</td>\n",
       "    </tr>\n",
       "    <tr>\n",
       "      <th>37</th>\n",
       "      <td>1500</td>\n",
       "      <td>sedan</td>\n",
       "      <td>2016</td>\n",
       "      <td>manual</td>\n",
       "      <td>0</td>\n",
       "      <td>kangoo</td>\n",
       "      <td>150000</td>\n",
       "      <td>gasoline</td>\n",
       "      <td>renault</td>\n",
       "      <td>no</td>\n",
       "    </tr>\n",
       "    <tr>\n",
       "      <th>40</th>\n",
       "      <td>0</td>\n",
       "      <td>sedan</td>\n",
       "      <td>1990</td>\n",
       "      <td>manual</td>\n",
       "      <td>0</td>\n",
       "      <td>corsa</td>\n",
       "      <td>150000</td>\n",
       "      <td>petrol</td>\n",
       "      <td>opel</td>\n",
       "      <td>NaN</td>\n",
       "    </tr>\n",
       "  </tbody>\n",
       "</table>\n",
       "</div>"
      ],
      "text/plain": [
       "    Price VehicleType  RegistrationYear Gearbox  Power   Model  Kilometer  \\\n",
       "0     480       sedan              1993  manual      0    golf     150000   \n",
       "15    450       small              1910  manual      0      ka       5000   \n",
       "32    245       sedan              1994  manual      0    golf     150000   \n",
       "37   1500       sedan              2016  manual      0  kangoo     150000   \n",
       "40      0       sedan              1990  manual      0   corsa     150000   \n",
       "\n",
       "    FuelType       Brand NotRepaired  \n",
       "0     petrol  volkswagen         NaN  \n",
       "15    petrol        ford         NaN  \n",
       "32    petrol  volkswagen          no  \n",
       "37  gasoline     renault          no  \n",
       "40    petrol        opel         NaN  "
      ]
     },
     "execution_count": 47,
     "metadata": {},
     "output_type": "execute_result"
    }
   ],
   "source": [
    "df.loc[df.Power < 35].head()"
   ]
  },
  {
   "cell_type": "code",
   "execution_count": 48,
   "metadata": {},
   "outputs": [
    {
     "data": {
      "text/html": [
       "<div>\n",
       "<style scoped>\n",
       "    .dataframe tbody tr th:only-of-type {\n",
       "        vertical-align: middle;\n",
       "    }\n",
       "\n",
       "    .dataframe tbody tr th {\n",
       "        vertical-align: top;\n",
       "    }\n",
       "\n",
       "    .dataframe thead th {\n",
       "        text-align: right;\n",
       "    }\n",
       "</style>\n",
       "<table border=\"1\" class=\"dataframe\">\n",
       "  <thead>\n",
       "    <tr style=\"text-align: right;\">\n",
       "      <th></th>\n",
       "      <th>Price</th>\n",
       "      <th>VehicleType</th>\n",
       "      <th>RegistrationYear</th>\n",
       "      <th>Gearbox</th>\n",
       "      <th>Power</th>\n",
       "      <th>Model</th>\n",
       "      <th>Kilometer</th>\n",
       "      <th>FuelType</th>\n",
       "      <th>Brand</th>\n",
       "      <th>NotRepaired</th>\n",
       "    </tr>\n",
       "  </thead>\n",
       "  <tbody>\n",
       "    <tr>\n",
       "      <th>1816</th>\n",
       "      <td>3200</td>\n",
       "      <td>small</td>\n",
       "      <td>2004</td>\n",
       "      <td>manual</td>\n",
       "      <td>1398</td>\n",
       "      <td>corolla</td>\n",
       "      <td>5000</td>\n",
       "      <td>petrol</td>\n",
       "      <td>toyota</td>\n",
       "      <td>no</td>\n",
       "    </tr>\n",
       "    <tr>\n",
       "      <th>2102</th>\n",
       "      <td>0</td>\n",
       "      <td>sedan</td>\n",
       "      <td>1999</td>\n",
       "      <td>manual</td>\n",
       "      <td>1799</td>\n",
       "      <td>vectra</td>\n",
       "      <td>150000</td>\n",
       "      <td>petrol</td>\n",
       "      <td>opel</td>\n",
       "      <td>yes</td>\n",
       "    </tr>\n",
       "    <tr>\n",
       "      <th>3746</th>\n",
       "      <td>0</td>\n",
       "      <td>sedan</td>\n",
       "      <td>2017</td>\n",
       "      <td>manual</td>\n",
       "      <td>750</td>\n",
       "      <td>156</td>\n",
       "      <td>150000</td>\n",
       "      <td>petrol</td>\n",
       "      <td>smart</td>\n",
       "      <td>no</td>\n",
       "    </tr>\n",
       "    <tr>\n",
       "      <th>4060</th>\n",
       "      <td>3100</td>\n",
       "      <td>sedan</td>\n",
       "      <td>2005</td>\n",
       "      <td>manual</td>\n",
       "      <td>953</td>\n",
       "      <td>colt</td>\n",
       "      <td>150000</td>\n",
       "      <td>gasoline</td>\n",
       "      <td>mitsubishi</td>\n",
       "      <td>no</td>\n",
       "    </tr>\n",
       "    <tr>\n",
       "      <th>5328</th>\n",
       "      <td>500</td>\n",
       "      <td>wagon</td>\n",
       "      <td>1999</td>\n",
       "      <td>manual</td>\n",
       "      <td>1001</td>\n",
       "      <td>astra</td>\n",
       "      <td>150000</td>\n",
       "      <td>petrol</td>\n",
       "      <td>opel</td>\n",
       "      <td>NaN</td>\n",
       "    </tr>\n",
       "  </tbody>\n",
       "</table>\n",
       "</div>"
      ],
      "text/plain": [
       "      Price VehicleType  RegistrationYear Gearbox  Power    Model  Kilometer  \\\n",
       "1816   3200       small              2004  manual   1398  corolla       5000   \n",
       "2102      0       sedan              1999  manual   1799   vectra     150000   \n",
       "3746      0       sedan              2017  manual    750      156     150000   \n",
       "4060   3100       sedan              2005  manual    953     colt     150000   \n",
       "5328    500       wagon              1999  manual   1001    astra     150000   \n",
       "\n",
       "      FuelType       Brand NotRepaired  \n",
       "1816    petrol      toyota          no  \n",
       "2102    petrol        opel         yes  \n",
       "3746    petrol       smart          no  \n",
       "4060  gasoline  mitsubishi          no  \n",
       "5328    petrol        opel         NaN  "
      ]
     },
     "execution_count": 48,
     "metadata": {},
     "output_type": "execute_result"
    }
   ],
   "source": [
    "df.loc[(df['Power']>500)].head()"
   ]
  },
  {
   "cell_type": "markdown",
   "metadata": {},
   "source": [
    "Видим, что это нули, а также числа, которые являются, скорее всего, объемом двигателя в кубических сантиметрах (очень похоже), поэтому заменим на медиану по модели. "
   ]
  },
  {
   "cell_type": "code",
   "execution_count": 49,
   "metadata": {},
   "outputs": [
    {
     "data": {
      "text/plain": [
       "{'100': 133.0,\n",
       " '145': 103.0,\n",
       " '147': 120.0,\n",
       " '156': 110.0,\n",
       " '159': 170.0,\n",
       " '1_reihe': 60.0,\n",
       " '1er': 143.0,\n",
       " '200': 182.0,\n",
       " '2_reihe': 90.0,\n",
       " '300c': 218.0,\n",
       " '3_reihe': 109.0,\n",
       " '3er': 150.0,\n",
       " '4_reihe': 136.0,\n",
       " '500': 69.0,\n",
       " '5_reihe': 143.0,\n",
       " '5er': 184.0,\n",
       " '601': 40.5,\n",
       " '6_reihe': 125.0,\n",
       " '6er': 333.0,\n",
       " '7er': 242.0,\n",
       " '80': 111.5,\n",
       " '850': 144.0,\n",
       " '90': 136.0,\n",
       " '900': 143.0,\n",
       " '9000': 165.0,\n",
       " '911': 300.0,\n",
       " 'a1': 95.0,\n",
       " 'a2': 75.0,\n",
       " 'a3': 125.0,\n",
       " 'a4': 143.0,\n",
       " 'a5': 190.0,\n",
       " 'a6': 179.0,\n",
       " 'a8': 275.0,\n",
       " 'a_klasse': 95.0,\n",
       " 'accord': 148.0,\n",
       " 'agila': 65.0,\n",
       " 'alhambra': 116.0,\n",
       " 'almera': 90.0,\n",
       " 'altea': 125.0,\n",
       " 'amarok': 163.0,\n",
       " 'antara': 150.0,\n",
       " 'arosa': 50.0,\n",
       " 'astra': 101.0,\n",
       " 'auris': 124.0,\n",
       " 'avensis': 129.0,\n",
       " 'aveo': 86.0,\n",
       " 'aygo': 68.0,\n",
       " 'b_klasse': 116.0,\n",
       " 'b_max': 100.5,\n",
       " 'beetle': 105.0,\n",
       " 'berlingo': 90.0,\n",
       " 'bora': 115.0,\n",
       " 'boxster': 224.0,\n",
       " 'bravo': 104.5,\n",
       " 'c1': 68.0,\n",
       " 'c2': 68.0,\n",
       " 'c3': 73.0,\n",
       " 'c4': 109.0,\n",
       " 'c5': 136.0,\n",
       " 'c_klasse': 143.0,\n",
       " 'c_max': 116.0,\n",
       " 'c_reihe': 145.0,\n",
       " 'caddy': 102.0,\n",
       " 'calibra': 136.0,\n",
       " 'captiva': 150.0,\n",
       " 'carisma': 122.0,\n",
       " 'carnival': 144.0,\n",
       " 'cayenne': 340.0,\n",
       " 'cc': 160.0,\n",
       " 'ceed': 119.0,\n",
       " 'charade': 84.0,\n",
       " 'cherokee': 173.0,\n",
       " 'citigo': 60.0,\n",
       " 'civic': 90.0,\n",
       " 'cl': 306.0,\n",
       " 'clio': 75.0,\n",
       " 'clk': 193.0,\n",
       " 'clubman': 120.0,\n",
       " 'colt': 82.0,\n",
       " 'combo': 75.0,\n",
       " 'cooper': 120.0,\n",
       " 'cordoba': 75.0,\n",
       " 'corolla': 97.0,\n",
       " 'corsa': 60.0,\n",
       " 'cr_reihe': 140.0,\n",
       " 'croma': 150.0,\n",
       " 'crossfire': 218.0,\n",
       " 'cuore': 56.0,\n",
       " 'cx_reihe': 173.0,\n",
       " 'defender': 122.0,\n",
       " 'delta': 120.0,\n",
       " 'discovery': 190.0,\n",
       " 'doblo': 90.0,\n",
       " 'ducato': 120.0,\n",
       " 'duster': 105.0,\n",
       " 'e_klasse': 170.0,\n",
       " 'elefantino': 60.0,\n",
       " 'eos': 140.0,\n",
       " 'escort': 90.0,\n",
       " 'espace': 140.0,\n",
       " 'exeo': 143.0,\n",
       " 'fabia': 75.0,\n",
       " 'fiesta': 69.0,\n",
       " 'focus': 109.0,\n",
       " 'forester': 125.0,\n",
       " 'forfour': 75.0,\n",
       " 'fortwo': 61.0,\n",
       " 'fox': 54.0,\n",
       " 'freelander': 120.0,\n",
       " 'fusion': 80.0,\n",
       " 'g_klasse': 120.0,\n",
       " 'galant': 150.0,\n",
       " 'galaxy': 131.0,\n",
       " 'getz': 67.0,\n",
       " 'gl': 224.0,\n",
       " 'glk': 170.0,\n",
       " 'golf': 101.0,\n",
       " 'grand': 163.0,\n",
       " 'i3': 136.0,\n",
       " 'i_reihe': 99.0,\n",
       " 'ibiza': 75.0,\n",
       " 'impreza': 125.0,\n",
       " 'insignia': 160.0,\n",
       " 'jazz': 83.0,\n",
       " 'jetta': 102.0,\n",
       " 'jimny': 86.0,\n",
       " 'juke': 117.0,\n",
       " 'justy': 70.5,\n",
       " 'ka': 60.0,\n",
       " 'kadett': 75.0,\n",
       " 'kaefer': 50.0,\n",
       " 'kalina': 84.0,\n",
       " 'kalos': 83.0,\n",
       " 'kangoo': 75.0,\n",
       " 'kappa': 155.0,\n",
       " 'kuga': 140.0,\n",
       " 'laguna': 120.0,\n",
       " 'lancer': 117.0,\n",
       " 'lanos': 75.0,\n",
       " 'legacy': 133.5,\n",
       " 'leon': 125.0,\n",
       " 'lodgy': 107.0,\n",
       " 'logan': 84.0,\n",
       " 'lupo': 54.0,\n",
       " 'lybra': 146.5,\n",
       " 'm_klasse': 218.0,\n",
       " 'm_reihe': 343.0,\n",
       " 'materia': 103.0,\n",
       " 'matiz': 52.0,\n",
       " 'megane': 107.0,\n",
       " 'meriva': 101.0,\n",
       " 'micra': 60.0,\n",
       " 'mii': 60.0,\n",
       " 'modus': 75.0,\n",
       " 'mondeo': 130.0,\n",
       " 'move': 55.0,\n",
       " 'musa': 95.0,\n",
       " 'mustang': 213.0,\n",
       " 'mx_reihe': 115.0,\n",
       " 'navara': 171.0,\n",
       " 'niva': 82.0,\n",
       " 'note': 88.0,\n",
       " 'nubira': 122.0,\n",
       " 'octavia': 116.0,\n",
       " 'omega': 144.0,\n",
       " 'one': 90.0,\n",
       " 'other': 116.0,\n",
       " 'outlander': 156.0,\n",
       " 'pajero': 160.0,\n",
       " 'panda': 60.0,\n",
       " 'passat': 131.0,\n",
       " 'phaeton': 239.0,\n",
       " 'picanto': 65.0,\n",
       " 'polo': 60.0,\n",
       " 'primera': 116.0,\n",
       " 'ptcruiser': 141.0,\n",
       " 'punto': 60.0,\n",
       " 'q3': 140.0,\n",
       " 'q5': 170.0,\n",
       " 'q7': 232.0,\n",
       " 'qashqai': 140.0,\n",
       " 'r19': 88.0,\n",
       " 'range_rover': 216.0,\n",
       " 'range_rover_evoque': 296.0,\n",
       " 'range_rover_sport': 190.0,\n",
       " 'rangerover': 135.0,\n",
       " 'rav': 150.0,\n",
       " 'rio': 97.0,\n",
       " 'roadster': 82.0,\n",
       " 'roomster': 86.0,\n",
       " 'rx_reihe': 192.0,\n",
       " 's60': 163.0,\n",
       " 's_klasse': 235.0,\n",
       " 's_max': 140.0,\n",
       " 's_type': 238.0,\n",
       " 'samara': 70.0,\n",
       " 'sandero': 75.0,\n",
       " 'santa': 147.0,\n",
       " 'scenic': 107.0,\n",
       " 'scirocco': 160.0,\n",
       " 'seicento': 54.0,\n",
       " 'serie_2': 69.5,\n",
       " 'serie_3': 69.0,\n",
       " 'sharan': 116.0,\n",
       " 'signum': 155.0,\n",
       " 'sirion': 69.0,\n",
       " 'sl': 231.0,\n",
       " 'slk': 163.0,\n",
       " 'sorento': 140.0,\n",
       " 'spark': 68.0,\n",
       " 'spider': 150.0,\n",
       " 'sportage': 136.0,\n",
       " 'sprinter': 122.0,\n",
       " 'stilo': 103.0,\n",
       " 'superb': 160.0,\n",
       " 'swift': 92.0,\n",
       " 'terios': 105.0,\n",
       " 'tigra': 90.0,\n",
       " 'tiguan': 140.0,\n",
       " 'toledo': 105.0,\n",
       " 'touareg': 224.0,\n",
       " 'touran': 136.0,\n",
       " 'transit': 90.0,\n",
       " 'transporter': 102.0,\n",
       " 'tt': 200.0,\n",
       " 'tucson': 141.0,\n",
       " 'twingo': 58.0,\n",
       " 'up': 60.0,\n",
       " 'v40': 116.0,\n",
       " 'v50': 136.0,\n",
       " 'v60': 163.0,\n",
       " 'v70': 163.0,\n",
       " 'v_klasse': 122.0,\n",
       " 'vectra': 116.0,\n",
       " 'verso': 129.5,\n",
       " 'viano': 150.0,\n",
       " 'vito': 116.0,\n",
       " 'vivaro': 114.0,\n",
       " 'voyager': 150.0,\n",
       " 'wrangler': 177.0,\n",
       " 'x_reihe': 204.0,\n",
       " 'x_trail': 136.0,\n",
       " 'x_type': 190.0,\n",
       " 'xc_reihe': 185.0,\n",
       " 'yaris': 75.0,\n",
       " 'yeti': 110.0,\n",
       " 'ypsilon': 60.0,\n",
       " 'z_reihe': 170.0,\n",
       " 'zafira': 125.0}"
      ]
     },
     "execution_count": 49,
     "metadata": {},
     "output_type": "execute_result"
    }
   ],
   "source": [
    "power_df = (df.loc[(df['Power']<500) & (df['Power']>35)]).groupby('Model')['Power'].agg('median').reset_index().set_index('Model')\n",
    "power_dict = dict(zip(list(power_df.index), list(power_df.Power)))\n",
    "power_dict"
   ]
  },
  {
   "cell_type": "code",
   "execution_count": 50,
   "metadata": {},
   "outputs": [],
   "source": [
    "for model in power_dict.keys(): \n",
    "    df.loc[((df['Power']>500) | (df['Power']<35)) & (df['Model'] == model), 'Power'] = power_dict[model]"
   ]
  },
  {
   "cell_type": "markdown",
   "metadata": {},
   "source": [
    "_NotRepaired_"
   ]
  },
  {
   "cell_type": "markdown",
   "metadata": {},
   "source": [
    "Была ли машина в ремонте (скорее всего, кузовном), т.к. слесарный ремонт был для 99% автомобилей в той или иной степени, и это ОК."
   ]
  },
  {
   "cell_type": "code",
   "execution_count": 51,
   "metadata": {},
   "outputs": [
    {
     "data": {
      "text/plain": [
       "no     211111\n",
       "yes     33331\n",
       "Name: NotRepaired, dtype: int64"
      ]
     },
     "execution_count": 51,
     "metadata": {},
     "output_type": "execute_result"
    }
   ],
   "source": [
    "df.NotRepaired.value_counts()"
   ]
  },
  {
   "cell_type": "code",
   "execution_count": 52,
   "metadata": {},
   "outputs": [
    {
     "data": {
      "text/plain": [
       "62425"
      ]
     },
     "execution_count": 52,
     "metadata": {},
     "output_type": "execute_result"
    }
   ],
   "source": [
    "df.NotRepaired.isna().sum()"
   ]
  },
  {
   "cell_type": "markdown",
   "metadata": {},
   "source": [
    "Большинство автомобилей в кузовном ремонте было. Проверим эту гипотезу и заменим."
   ]
  },
  {
   "cell_type": "code",
   "execution_count": 53,
   "metadata": {},
   "outputs": [
    {
     "data": {
      "text/plain": [
       "no     89\n",
       "yes     3\n",
       "Name: repair, dtype: int64"
      ]
     },
     "metadata": {},
     "output_type": "display_data"
    },
    {
     "data": {
      "text/html": [
       "<div>\n",
       "<style scoped>\n",
       "    .dataframe tbody tr th:only-of-type {\n",
       "        vertical-align: middle;\n",
       "    }\n",
       "\n",
       "    .dataframe tbody tr th {\n",
       "        vertical-align: top;\n",
       "    }\n",
       "\n",
       "    .dataframe thead th {\n",
       "        text-align: right;\n",
       "    }\n",
       "</style>\n",
       "<table border=\"1\" class=\"dataframe\">\n",
       "  <thead>\n",
       "    <tr style=\"text-align: right;\">\n",
       "      <th>NotRepaired</th>\n",
       "      <th>no</th>\n",
       "      <th>yes</th>\n",
       "      <th>repair_moda</th>\n",
       "      <th>repair</th>\n",
       "    </tr>\n",
       "    <tr>\n",
       "      <th>RegistrationYear</th>\n",
       "      <th></th>\n",
       "      <th></th>\n",
       "      <th></th>\n",
       "      <th></th>\n",
       "    </tr>\n",
       "  </thead>\n",
       "  <tbody>\n",
       "    <tr>\n",
       "      <th>1910</th>\n",
       "      <td>6.0</td>\n",
       "      <td>6.0</td>\n",
       "      <td>0.0</td>\n",
       "      <td>no</td>\n",
       "    </tr>\n",
       "    <tr>\n",
       "      <th>1919</th>\n",
       "      <td>0.0</td>\n",
       "      <td>1.0</td>\n",
       "      <td>1.0</td>\n",
       "      <td>yes</td>\n",
       "    </tr>\n",
       "    <tr>\n",
       "      <th>1923</th>\n",
       "      <td>2.0</td>\n",
       "      <td>0.0</td>\n",
       "      <td>-2.0</td>\n",
       "      <td>no</td>\n",
       "    </tr>\n",
       "    <tr>\n",
       "      <th>1925</th>\n",
       "      <td>1.0</td>\n",
       "      <td>0.0</td>\n",
       "      <td>-1.0</td>\n",
       "      <td>no</td>\n",
       "    </tr>\n",
       "    <tr>\n",
       "      <th>1929</th>\n",
       "      <td>2.0</td>\n",
       "      <td>2.0</td>\n",
       "      <td>0.0</td>\n",
       "      <td>no</td>\n",
       "    </tr>\n",
       "  </tbody>\n",
       "</table>\n",
       "</div>"
      ],
      "text/plain": [
       "NotRepaired        no  yes  repair_moda repair\n",
       "RegistrationYear                              \n",
       "1910              6.0  6.0          0.0     no\n",
       "1919              0.0  1.0          1.0    yes\n",
       "1923              2.0  0.0         -2.0     no\n",
       "1925              1.0  0.0         -1.0     no\n",
       "1929              2.0  2.0          0.0     no"
      ]
     },
     "execution_count": 53,
     "metadata": {},
     "output_type": "execute_result"
    }
   ],
   "source": [
    "not_repaired = df.pivot_table(index=['RegistrationYear'], columns='NotRepaired', values='Power', aggfunc='count').fillna(0)\n",
    "not_repaired['repair_moda']=not_repaired['yes']-not_repaired['no']\n",
    "not_repaired.loc[not_repaired['repair_moda'] > 0, 'repair'] = 'yes'\n",
    "not_repaired.loc[not_repaired['repair_moda'] <= 0, 'repair'] = 'no'\n",
    "display(not_repaired['repair'].value_counts())\n",
    "not_repaired.head()"
   ]
  },
  {
   "cell_type": "code",
   "execution_count": 54,
   "metadata": {},
   "outputs": [
    {
     "data": {
      "text/plain": [
       "0"
      ]
     },
     "execution_count": 54,
     "metadata": {},
     "output_type": "execute_result"
    }
   ],
   "source": [
    "df['NotRepaired'] = df['NotRepaired'].fillna('no')\n",
    "df.NotRepaired.isna().sum()"
   ]
  },
  {
   "cell_type": "markdown",
   "metadata": {},
   "source": [
    "<div class=\"alert alert-block alert-success\">\n",
    "<b>Комментарий ревьюера ✔️</b> \n",
    "\n",
    "Прекрасно, пропуски обработаны!\n",
    "</div>\n"
   ]
  },
  {
   "cell_type": "markdown",
   "metadata": {},
   "source": [
    "_Price_"
   ]
  },
  {
   "cell_type": "code",
   "execution_count": 55,
   "metadata": {},
   "outputs": [
    {
     "data": {
      "text/plain": [
       "count    306867.000000\n",
       "mean       4510.171788\n",
       "std        4568.466267\n",
       "min           0.000000\n",
       "25%        1100.000000\n",
       "50%        2800.000000\n",
       "75%        6500.000000\n",
       "max       20000.000000\n",
       "Name: Price, dtype: float64"
      ]
     },
     "execution_count": 55,
     "metadata": {},
     "output_type": "execute_result"
    }
   ],
   "source": [
    "df.Price.describe()"
   ]
  },
  {
   "cell_type": "markdown",
   "metadata": {},
   "source": [
    "Данные в столбце Price содержат нулевые значения, максимальное значение - 20000 евро, что вполне может иметь место для автомобиля с пробегом."
   ]
  },
  {
   "cell_type": "code",
   "execution_count": 56,
   "metadata": {},
   "outputs": [
    {
     "data": {
      "text/plain": [
       "<AxesSubplot:ylabel='Frequency'>"
      ]
     },
     "execution_count": 56,
     "metadata": {},
     "output_type": "execute_result"
    },
    {
     "data": {
      "image/png": "[encoded data removed]",
      "text/plain": [
       "<Figure size 432x288 with 1 Axes>"
      ]
     },
     "metadata": {
      "needs_background": "light"
     },
     "output_type": "display_data"
    }
   ],
   "source": [
    "df.Price.plot(kind='hist')"
   ]
  },
  {
   "cell_type": "code",
   "execution_count": 57,
   "metadata": {},
   "outputs": [
    {
     "data": {
      "text/html": [
       "<div>\n",
       "<style scoped>\n",
       "    .dataframe tbody tr th:only-of-type {\n",
       "        vertical-align: middle;\n",
       "    }\n",
       "\n",
       "    .dataframe tbody tr th {\n",
       "        vertical-align: top;\n",
       "    }\n",
       "\n",
       "    .dataframe thead th {\n",
       "        text-align: right;\n",
       "    }\n",
       "</style>\n",
       "<table border=\"1\" class=\"dataframe\">\n",
       "  <thead>\n",
       "    <tr style=\"text-align: right;\">\n",
       "      <th></th>\n",
       "      <th>Price</th>\n",
       "      <th>VehicleType</th>\n",
       "      <th>RegistrationYear</th>\n",
       "      <th>Gearbox</th>\n",
       "      <th>Power</th>\n",
       "      <th>Model</th>\n",
       "      <th>Kilometer</th>\n",
       "      <th>FuelType</th>\n",
       "      <th>Brand</th>\n",
       "      <th>NotRepaired</th>\n",
       "    </tr>\n",
       "  </thead>\n",
       "  <tbody>\n",
       "    <tr>\n",
       "      <th>7</th>\n",
       "      <td>0</td>\n",
       "      <td>sedan</td>\n",
       "      <td>1980</td>\n",
       "      <td>manual</td>\n",
       "      <td>50.0</td>\n",
       "      <td>other</td>\n",
       "      <td>40000</td>\n",
       "      <td>petrol</td>\n",
       "      <td>volkswagen</td>\n",
       "      <td>no</td>\n",
       "    </tr>\n",
       "    <tr>\n",
       "      <th>40</th>\n",
       "      <td>0</td>\n",
       "      <td>sedan</td>\n",
       "      <td>1990</td>\n",
       "      <td>manual</td>\n",
       "      <td>60.0</td>\n",
       "      <td>corsa</td>\n",
       "      <td>150000</td>\n",
       "      <td>petrol</td>\n",
       "      <td>opel</td>\n",
       "      <td>no</td>\n",
       "    </tr>\n",
       "    <tr>\n",
       "      <th>111</th>\n",
       "      <td>0</td>\n",
       "      <td>sedan</td>\n",
       "      <td>2017</td>\n",
       "      <td>manual</td>\n",
       "      <td>101.0</td>\n",
       "      <td>golf</td>\n",
       "      <td>5000</td>\n",
       "      <td>petrol</td>\n",
       "      <td>volkswagen</td>\n",
       "      <td>no</td>\n",
       "    </tr>\n",
       "    <tr>\n",
       "      <th>115</th>\n",
       "      <td>0</td>\n",
       "      <td>small</td>\n",
       "      <td>1999</td>\n",
       "      <td>manual</td>\n",
       "      <td>110.0</td>\n",
       "      <td>156</td>\n",
       "      <td>5000</td>\n",
       "      <td>petrol</td>\n",
       "      <td>volkswagen</td>\n",
       "      <td>no</td>\n",
       "    </tr>\n",
       "    <tr>\n",
       "      <th>152</th>\n",
       "      <td>0</td>\n",
       "      <td>bus</td>\n",
       "      <td>2004</td>\n",
       "      <td>manual</td>\n",
       "      <td>101.0</td>\n",
       "      <td>meriva</td>\n",
       "      <td>150000</td>\n",
       "      <td>lpg</td>\n",
       "      <td>opel</td>\n",
       "      <td>yes</td>\n",
       "    </tr>\n",
       "    <tr>\n",
       "      <th>...</th>\n",
       "      <td>...</td>\n",
       "      <td>...</td>\n",
       "      <td>...</td>\n",
       "      <td>...</td>\n",
       "      <td>...</td>\n",
       "      <td>...</td>\n",
       "      <td>...</td>\n",
       "      <td>...</td>\n",
       "      <td>...</td>\n",
       "      <td>...</td>\n",
       "    </tr>\n",
       "    <tr>\n",
       "      <th>354205</th>\n",
       "      <td>0</td>\n",
       "      <td>sedan</td>\n",
       "      <td>2000</td>\n",
       "      <td>manual</td>\n",
       "      <td>65.0</td>\n",
       "      <td>corsa</td>\n",
       "      <td>150000</td>\n",
       "      <td>petrol</td>\n",
       "      <td>opel</td>\n",
       "      <td>yes</td>\n",
       "    </tr>\n",
       "    <tr>\n",
       "      <th>354238</th>\n",
       "      <td>0</td>\n",
       "      <td>small</td>\n",
       "      <td>2002</td>\n",
       "      <td>manual</td>\n",
       "      <td>60.0</td>\n",
       "      <td>fiesta</td>\n",
       "      <td>150000</td>\n",
       "      <td>petrol</td>\n",
       "      <td>ford</td>\n",
       "      <td>no</td>\n",
       "    </tr>\n",
       "    <tr>\n",
       "      <th>354248</th>\n",
       "      <td>0</td>\n",
       "      <td>small</td>\n",
       "      <td>1999</td>\n",
       "      <td>manual</td>\n",
       "      <td>53.0</td>\n",
       "      <td>swift</td>\n",
       "      <td>150000</td>\n",
       "      <td>petrol</td>\n",
       "      <td>suzuki</td>\n",
       "      <td>no</td>\n",
       "    </tr>\n",
       "    <tr>\n",
       "      <th>354277</th>\n",
       "      <td>0</td>\n",
       "      <td>small</td>\n",
       "      <td>1999</td>\n",
       "      <td>manual</td>\n",
       "      <td>37.0</td>\n",
       "      <td>arosa</td>\n",
       "      <td>150000</td>\n",
       "      <td>petrol</td>\n",
       "      <td>seat</td>\n",
       "      <td>yes</td>\n",
       "    </tr>\n",
       "    <tr>\n",
       "      <th>354364</th>\n",
       "      <td>0</td>\n",
       "      <td>sedan</td>\n",
       "      <td>2005</td>\n",
       "      <td>manual</td>\n",
       "      <td>82.0</td>\n",
       "      <td>colt</td>\n",
       "      <td>150000</td>\n",
       "      <td>petrol</td>\n",
       "      <td>mitsubishi</td>\n",
       "      <td>yes</td>\n",
       "    </tr>\n",
       "  </tbody>\n",
       "</table>\n",
       "<p>8448 rows × 10 columns</p>\n",
       "</div>"
      ],
      "text/plain": [
       "        Price VehicleType  RegistrationYear Gearbox  Power   Model  Kilometer  \\\n",
       "7           0       sedan              1980  manual   50.0   other      40000   \n",
       "40          0       sedan              1990  manual   60.0   corsa     150000   \n",
       "111         0       sedan              2017  manual  101.0    golf       5000   \n",
       "115         0       small              1999  manual  110.0     156       5000   \n",
       "152         0         bus              2004  manual  101.0  meriva     150000   \n",
       "...       ...         ...               ...     ...    ...     ...        ...   \n",
       "354205      0       sedan              2000  manual   65.0   corsa     150000   \n",
       "354238      0       small              2002  manual   60.0  fiesta     150000   \n",
       "354248      0       small              1999  manual   53.0   swift     150000   \n",
       "354277      0       small              1999  manual   37.0   arosa     150000   \n",
       "354364      0       sedan              2005  manual   82.0    colt     150000   \n",
       "\n",
       "       FuelType       Brand NotRepaired  \n",
       "7        petrol  volkswagen          no  \n",
       "40       petrol        opel          no  \n",
       "111      petrol  volkswagen          no  \n",
       "115      petrol  volkswagen          no  \n",
       "152         lpg        opel         yes  \n",
       "...         ...         ...         ...  \n",
       "354205   petrol        opel         yes  \n",
       "354238   petrol        ford          no  \n",
       "354248   petrol      suzuki          no  \n",
       "354277   petrol        seat         yes  \n",
       "354364   petrol  mitsubishi         yes  \n",
       "\n",
       "[8448 rows x 10 columns]"
      ]
     },
     "execution_count": 57,
     "metadata": {},
     "output_type": "execute_result"
    }
   ],
   "source": [
    "df.loc[df['Price']==0]"
   ]
  },
  {
   "cell_type": "markdown",
   "metadata": {},
   "source": [
    "Итак, есть около 10 тыс.записей с нулевым целевым признаком, удалим их."
   ]
  },
  {
   "cell_type": "code",
   "execution_count": 58,
   "metadata": {},
   "outputs": [],
   "source": [
    "indexes_to_delete = df.loc[df['Price']==0].index.tolist()\n",
    "df = df.drop(index=indexes_to_delete)"
   ]
  },
  {
   "cell_type": "markdown",
   "metadata": {},
   "source": [
    "<div class=\"alert alert-block alert-success\">\n",
    "<b>Комментарий ревьюера ✔️</b> \n",
    "\n",
    "Да, нулевые цены подозрительны :)\n",
    "</div>\n",
    "\n"
   ]
  },
  {
   "cell_type": "code",
   "execution_count": 59,
   "metadata": {},
   "outputs": [
    {
     "data": {
      "text/html": [
       "<div>\n",
       "<style scoped>\n",
       "    .dataframe tbody tr th:only-of-type {\n",
       "        vertical-align: middle;\n",
       "    }\n",
       "\n",
       "    .dataframe tbody tr th {\n",
       "        vertical-align: top;\n",
       "    }\n",
       "\n",
       "    .dataframe thead th {\n",
       "        text-align: right;\n",
       "    }\n",
       "</style>\n",
       "<table border=\"1\" class=\"dataframe\">\n",
       "  <thead>\n",
       "    <tr style=\"text-align: right;\">\n",
       "      <th></th>\n",
       "      <th>Price</th>\n",
       "      <th>VehicleType</th>\n",
       "      <th>RegistrationYear</th>\n",
       "      <th>Gearbox</th>\n",
       "      <th>Power</th>\n",
       "      <th>Model</th>\n",
       "      <th>Kilometer</th>\n",
       "      <th>FuelType</th>\n",
       "      <th>Brand</th>\n",
       "      <th>NotRepaired</th>\n",
       "    </tr>\n",
       "  </thead>\n",
       "  <tbody>\n",
       "  </tbody>\n",
       "</table>\n",
       "</div>"
      ],
      "text/plain": [
       "Empty DataFrame\n",
       "Columns: [Price, VehicleType, RegistrationYear, Gearbox, Power, Model, Kilometer, FuelType, Brand, NotRepaired]\n",
       "Index: []"
      ]
     },
     "execution_count": 59,
     "metadata": {},
     "output_type": "execute_result"
    }
   ],
   "source": [
    "df.loc[df['Price']==0]"
   ]
  },
  {
   "cell_type": "markdown",
   "metadata": {},
   "source": [
    "Закодируем коробку передач в 0 или 1."
   ]
  },
  {
   "cell_type": "code",
   "execution_count": 60,
   "metadata": {},
   "outputs": [
    {
     "data": {
      "text/html": [
       "<div>\n",
       "<style scoped>\n",
       "    .dataframe tbody tr th:only-of-type {\n",
       "        vertical-align: middle;\n",
       "    }\n",
       "\n",
       "    .dataframe tbody tr th {\n",
       "        vertical-align: top;\n",
       "    }\n",
       "\n",
       "    .dataframe thead th {\n",
       "        text-align: right;\n",
       "    }\n",
       "</style>\n",
       "<table border=\"1\" class=\"dataframe\">\n",
       "  <thead>\n",
       "    <tr style=\"text-align: right;\">\n",
       "      <th></th>\n",
       "      <th>Price</th>\n",
       "      <th>VehicleType</th>\n",
       "      <th>RegistrationYear</th>\n",
       "      <th>Gearbox</th>\n",
       "      <th>Power</th>\n",
       "      <th>Model</th>\n",
       "      <th>Kilometer</th>\n",
       "      <th>FuelType</th>\n",
       "      <th>Brand</th>\n",
       "      <th>NotRepaired</th>\n",
       "      <th>GearboxManual</th>\n",
       "    </tr>\n",
       "  </thead>\n",
       "  <tbody>\n",
       "    <tr>\n",
       "      <th>0</th>\n",
       "      <td>480</td>\n",
       "      <td>sedan</td>\n",
       "      <td>1993</td>\n",
       "      <td>manual</td>\n",
       "      <td>101.0</td>\n",
       "      <td>golf</td>\n",
       "      <td>150000</td>\n",
       "      <td>petrol</td>\n",
       "      <td>volkswagen</td>\n",
       "      <td>no</td>\n",
       "      <td>1</td>\n",
       "    </tr>\n",
       "    <tr>\n",
       "      <th>1</th>\n",
       "      <td>18300</td>\n",
       "      <td>coupe</td>\n",
       "      <td>2011</td>\n",
       "      <td>manual</td>\n",
       "      <td>190.0</td>\n",
       "      <td>156</td>\n",
       "      <td>125000</td>\n",
       "      <td>gasoline</td>\n",
       "      <td>audi</td>\n",
       "      <td>yes</td>\n",
       "      <td>1</td>\n",
       "    </tr>\n",
       "    <tr>\n",
       "      <th>2</th>\n",
       "      <td>9800</td>\n",
       "      <td>suv</td>\n",
       "      <td>2004</td>\n",
       "      <td>auto</td>\n",
       "      <td>163.0</td>\n",
       "      <td>grand</td>\n",
       "      <td>125000</td>\n",
       "      <td>gasoline</td>\n",
       "      <td>jeep</td>\n",
       "      <td>no</td>\n",
       "      <td>0</td>\n",
       "    </tr>\n",
       "    <tr>\n",
       "      <th>3</th>\n",
       "      <td>1500</td>\n",
       "      <td>small</td>\n",
       "      <td>2001</td>\n",
       "      <td>manual</td>\n",
       "      <td>75.0</td>\n",
       "      <td>golf</td>\n",
       "      <td>150000</td>\n",
       "      <td>petrol</td>\n",
       "      <td>volkswagen</td>\n",
       "      <td>no</td>\n",
       "      <td>1</td>\n",
       "    </tr>\n",
       "    <tr>\n",
       "      <th>4</th>\n",
       "      <td>3600</td>\n",
       "      <td>small</td>\n",
       "      <td>2008</td>\n",
       "      <td>manual</td>\n",
       "      <td>69.0</td>\n",
       "      <td>fabia</td>\n",
       "      <td>90000</td>\n",
       "      <td>gasoline</td>\n",
       "      <td>skoda</td>\n",
       "      <td>no</td>\n",
       "      <td>1</td>\n",
       "    </tr>\n",
       "  </tbody>\n",
       "</table>\n",
       "</div>"
      ],
      "text/plain": [
       "   Price VehicleType  RegistrationYear Gearbox  Power  Model  Kilometer  \\\n",
       "0    480       sedan              1993  manual  101.0   golf     150000   \n",
       "1  18300       coupe              2011  manual  190.0    156     125000   \n",
       "2   9800         suv              2004    auto  163.0  grand     125000   \n",
       "3   1500       small              2001  manual   75.0   golf     150000   \n",
       "4   3600       small              2008  manual   69.0  fabia      90000   \n",
       "\n",
       "   FuelType       Brand NotRepaired  GearboxManual  \n",
       "0    petrol  volkswagen          no              1  \n",
       "1  gasoline        audi         yes              1  \n",
       "2  gasoline        jeep          no              0  \n",
       "3    petrol  volkswagen          no              1  \n",
       "4  gasoline       skoda          no              1  "
      ]
     },
     "execution_count": 60,
     "metadata": {},
     "output_type": "execute_result"
    }
   ],
   "source": [
    "df['GearboxManual'] = 0\n",
    "df.loc[df['Gearbox'] == 'manual', 'GearboxManual'] = 1\n",
    "df.head()"
   ]
  },
  {
   "cell_type": "code",
   "execution_count": 61,
   "metadata": {},
   "outputs": [
    {
     "data": {
      "text/html": [
       "<div>\n",
       "<style scoped>\n",
       "    .dataframe tbody tr th:only-of-type {\n",
       "        vertical-align: middle;\n",
       "    }\n",
       "\n",
       "    .dataframe tbody tr th {\n",
       "        vertical-align: top;\n",
       "    }\n",
       "\n",
       "    .dataframe thead th {\n",
       "        text-align: right;\n",
       "    }\n",
       "</style>\n",
       "<table border=\"1\" class=\"dataframe\">\n",
       "  <thead>\n",
       "    <tr style=\"text-align: right;\">\n",
       "      <th></th>\n",
       "      <th>Price</th>\n",
       "      <th>VehicleType</th>\n",
       "      <th>RegistrationYear</th>\n",
       "      <th>Gearbox</th>\n",
       "      <th>Power</th>\n",
       "      <th>Model</th>\n",
       "      <th>Kilometer</th>\n",
       "      <th>FuelType</th>\n",
       "      <th>Brand</th>\n",
       "      <th>NotRepaired</th>\n",
       "      <th>GearboxManual</th>\n",
       "    </tr>\n",
       "  </thead>\n",
       "  <tbody>\n",
       "    <tr>\n",
       "      <th>0</th>\n",
       "      <td>480</td>\n",
       "      <td>sedan</td>\n",
       "      <td>1993</td>\n",
       "      <td>manual</td>\n",
       "      <td>101.0</td>\n",
       "      <td>golf</td>\n",
       "      <td>150000</td>\n",
       "      <td>petrol</td>\n",
       "      <td>volkswagen</td>\n",
       "      <td>0</td>\n",
       "      <td>1</td>\n",
       "    </tr>\n",
       "    <tr>\n",
       "      <th>1</th>\n",
       "      <td>18300</td>\n",
       "      <td>coupe</td>\n",
       "      <td>2011</td>\n",
       "      <td>manual</td>\n",
       "      <td>190.0</td>\n",
       "      <td>156</td>\n",
       "      <td>125000</td>\n",
       "      <td>gasoline</td>\n",
       "      <td>audi</td>\n",
       "      <td>0</td>\n",
       "      <td>1</td>\n",
       "    </tr>\n",
       "    <tr>\n",
       "      <th>2</th>\n",
       "      <td>9800</td>\n",
       "      <td>suv</td>\n",
       "      <td>2004</td>\n",
       "      <td>auto</td>\n",
       "      <td>163.0</td>\n",
       "      <td>grand</td>\n",
       "      <td>125000</td>\n",
       "      <td>gasoline</td>\n",
       "      <td>jeep</td>\n",
       "      <td>0</td>\n",
       "      <td>0</td>\n",
       "    </tr>\n",
       "    <tr>\n",
       "      <th>3</th>\n",
       "      <td>1500</td>\n",
       "      <td>small</td>\n",
       "      <td>2001</td>\n",
       "      <td>manual</td>\n",
       "      <td>75.0</td>\n",
       "      <td>golf</td>\n",
       "      <td>150000</td>\n",
       "      <td>petrol</td>\n",
       "      <td>volkswagen</td>\n",
       "      <td>0</td>\n",
       "      <td>1</td>\n",
       "    </tr>\n",
       "    <tr>\n",
       "      <th>4</th>\n",
       "      <td>3600</td>\n",
       "      <td>small</td>\n",
       "      <td>2008</td>\n",
       "      <td>manual</td>\n",
       "      <td>69.0</td>\n",
       "      <td>fabia</td>\n",
       "      <td>90000</td>\n",
       "      <td>gasoline</td>\n",
       "      <td>skoda</td>\n",
       "      <td>0</td>\n",
       "      <td>1</td>\n",
       "    </tr>\n",
       "  </tbody>\n",
       "</table>\n",
       "</div>"
      ],
      "text/plain": [
       "   Price VehicleType  RegistrationYear Gearbox  Power  Model  Kilometer  \\\n",
       "0    480       sedan              1993  manual  101.0   golf     150000   \n",
       "1  18300       coupe              2011  manual  190.0    156     125000   \n",
       "2   9800         suv              2004    auto  163.0  grand     125000   \n",
       "3   1500       small              2001  manual   75.0   golf     150000   \n",
       "4   3600       small              2008  manual   69.0  fabia      90000   \n",
       "\n",
       "   FuelType       Brand  NotRepaired  GearboxManual  \n",
       "0    petrol  volkswagen            0              1  \n",
       "1  gasoline        audi            0              1  \n",
       "2  gasoline        jeep            0              0  \n",
       "3    petrol  volkswagen            0              1  \n",
       "4  gasoline       skoda            0              1  "
      ]
     },
     "execution_count": 61,
     "metadata": {},
     "output_type": "execute_result"
    }
   ],
   "source": [
    "df['NotRepaired'] = 0\n",
    "df.loc[df['NotRepaired'] == 'no', 'NotRepaired'] = 0\n",
    "df.loc[df['NotRepaired'] == 'yes', 'NotRepaired'] = 1\n",
    "df.head()"
   ]
  },
  {
   "cell_type": "code",
   "execution_count": 62,
   "metadata": {
    "scrolled": true
   },
   "outputs": [],
   "source": [
    "df=df.drop('Gearbox', axis=1)"
   ]
  },
  {
   "cell_type": "markdown",
   "metadata": {},
   "source": [
    "Удалим также данные о бренде, т.к. он однозначно определяется моделью. Данные о модели удалять не будем, т.к. при прочих равных параметрах (из тех, что есть у нас в данных) будто бы \"одинаковые\" автомобили разных моделей будут стоить по-разному из-за бренда и классов автомобилей."
   ]
  },
  {
   "cell_type": "markdown",
   "metadata": {},
   "source": [
    "<div class=\"alert alert-block alert-success\">\n",
    "<b>Комментарий ревьюера ✔️</b> \n",
    "\n",
    "Замечу, что брендов всего 40, в то время как моделей – более 200. Можно поэкспериментировать: посмотреть на качество моделей с разными наборами признаков (например, с признаком Brand и без него) и выбрать оптимальное решение.\n",
    "</div>\n",
    "\n"
   ]
  },
  {
   "cell_type": "code",
   "execution_count": 63,
   "metadata": {},
   "outputs": [
    {
     "data": {
      "text/html": [
       "<div>\n",
       "<style scoped>\n",
       "    .dataframe tbody tr th:only-of-type {\n",
       "        vertical-align: middle;\n",
       "    }\n",
       "\n",
       "    .dataframe tbody tr th {\n",
       "        vertical-align: top;\n",
       "    }\n",
       "\n",
       "    .dataframe thead th {\n",
       "        text-align: right;\n",
       "    }\n",
       "</style>\n",
       "<table border=\"1\" class=\"dataframe\">\n",
       "  <thead>\n",
       "    <tr style=\"text-align: right;\">\n",
       "      <th></th>\n",
       "      <th>Price</th>\n",
       "      <th>VehicleType</th>\n",
       "      <th>RegistrationYear</th>\n",
       "      <th>Power</th>\n",
       "      <th>Model</th>\n",
       "      <th>Kilometer</th>\n",
       "      <th>FuelType</th>\n",
       "      <th>NotRepaired</th>\n",
       "      <th>GearboxManual</th>\n",
       "    </tr>\n",
       "  </thead>\n",
       "  <tbody>\n",
       "    <tr>\n",
       "      <th>0</th>\n",
       "      <td>480</td>\n",
       "      <td>sedan</td>\n",
       "      <td>1993</td>\n",
       "      <td>101.0</td>\n",
       "      <td>golf</td>\n",
       "      <td>150000</td>\n",
       "      <td>petrol</td>\n",
       "      <td>0</td>\n",
       "      <td>1</td>\n",
       "    </tr>\n",
       "    <tr>\n",
       "      <th>1</th>\n",
       "      <td>18300</td>\n",
       "      <td>coupe</td>\n",
       "      <td>2011</td>\n",
       "      <td>190.0</td>\n",
       "      <td>156</td>\n",
       "      <td>125000</td>\n",
       "      <td>gasoline</td>\n",
       "      <td>0</td>\n",
       "      <td>1</td>\n",
       "    </tr>\n",
       "    <tr>\n",
       "      <th>2</th>\n",
       "      <td>9800</td>\n",
       "      <td>suv</td>\n",
       "      <td>2004</td>\n",
       "      <td>163.0</td>\n",
       "      <td>grand</td>\n",
       "      <td>125000</td>\n",
       "      <td>gasoline</td>\n",
       "      <td>0</td>\n",
       "      <td>0</td>\n",
       "    </tr>\n",
       "    <tr>\n",
       "      <th>3</th>\n",
       "      <td>1500</td>\n",
       "      <td>small</td>\n",
       "      <td>2001</td>\n",
       "      <td>75.0</td>\n",
       "      <td>golf</td>\n",
       "      <td>150000</td>\n",
       "      <td>petrol</td>\n",
       "      <td>0</td>\n",
       "      <td>1</td>\n",
       "    </tr>\n",
       "    <tr>\n",
       "      <th>4</th>\n",
       "      <td>3600</td>\n",
       "      <td>small</td>\n",
       "      <td>2008</td>\n",
       "      <td>69.0</td>\n",
       "      <td>fabia</td>\n",
       "      <td>90000</td>\n",
       "      <td>gasoline</td>\n",
       "      <td>0</td>\n",
       "      <td>1</td>\n",
       "    </tr>\n",
       "  </tbody>\n",
       "</table>\n",
       "</div>"
      ],
      "text/plain": [
       "   Price VehicleType  RegistrationYear  Power  Model  Kilometer  FuelType  \\\n",
       "0    480       sedan              1993  101.0   golf     150000    petrol   \n",
       "1  18300       coupe              2011  190.0    156     125000  gasoline   \n",
       "2   9800         suv              2004  163.0  grand     125000  gasoline   \n",
       "3   1500       small              2001   75.0   golf     150000    petrol   \n",
       "4   3600       small              2008   69.0  fabia      90000  gasoline   \n",
       "\n",
       "   NotRepaired  GearboxManual  \n",
       "0            0              1  \n",
       "1            0              1  \n",
       "2            0              0  \n",
       "3            0              1  \n",
       "4            0              1  "
      ]
     },
     "execution_count": 63,
     "metadata": {},
     "output_type": "execute_result"
    }
   ],
   "source": [
    "df=df.drop('Brand', axis=1)\n",
    "df.head()"
   ]
  },
  {
   "cell_type": "code",
   "execution_count": 64,
   "metadata": {},
   "outputs": [
    {
     "name": "stdout",
     "output_type": "stream",
     "text": [
      "<class 'pandas.core.frame.DataFrame'>\n",
      "Int64Index: 298419 entries, 0 to 354368\n",
      "Data columns (total 9 columns):\n",
      " #   Column            Non-Null Count   Dtype  \n",
      "---  ------            --------------   -----  \n",
      " 0   Price             298419 non-null  int64  \n",
      " 1   VehicleType       298419 non-null  object \n",
      " 2   RegistrationYear  298419 non-null  int64  \n",
      " 3   Power             298419 non-null  float64\n",
      " 4   Model             298419 non-null  object \n",
      " 5   Kilometer         298419 non-null  int64  \n",
      " 6   FuelType          298419 non-null  object \n",
      " 7   NotRepaired       298419 non-null  int64  \n",
      " 8   GearboxManual     298419 non-null  int64  \n",
      "dtypes: float64(1), int64(5), object(3)\n",
      "memory usage: 22.8+ MB\n"
     ]
    }
   ],
   "source": [
    "df.info()"
   ]
  },
  {
   "cell_type": "code",
   "execution_count": 65,
   "metadata": {},
   "outputs": [],
   "source": [
    "def func_downcast(column_name): \n",
    "    df[column_name] = pd.to_numeric(df[column_name], downcast='integer')"
   ]
  },
  {
   "cell_type": "code",
   "execution_count": 66,
   "metadata": {},
   "outputs": [
    {
     "name": "stdout",
     "output_type": "stream",
     "text": [
      "<class 'pandas.core.frame.DataFrame'>\n",
      "Int64Index: 298419 entries, 0 to 354368\n",
      "Data columns (total 9 columns):\n",
      " #   Column            Non-Null Count   Dtype  \n",
      "---  ------            --------------   -----  \n",
      " 0   Price             298419 non-null  int16  \n",
      " 1   VehicleType       298419 non-null  object \n",
      " 2   RegistrationYear  298419 non-null  int16  \n",
      " 3   Power             298419 non-null  float64\n",
      " 4   Model             298419 non-null  object \n",
      " 5   Kilometer         298419 non-null  int32  \n",
      " 6   FuelType          298419 non-null  object \n",
      " 7   NotRepaired       298419 non-null  int8   \n",
      " 8   GearboxManual     298419 non-null  int8   \n",
      "dtypes: float64(1), int16(2), int32(1), int8(2), object(3)\n",
      "memory usage: 14.2+ MB\n"
     ]
    }
   ],
   "source": [
    "column_list=['NotRepaired', 'GearboxManual', 'RegistrationYear', 'Power', 'Kilometer', 'Price']\n",
    "for column in column_list: \n",
    "    func_downcast(column)\n",
    "df.info()"
   ]
  },
  {
   "cell_type": "markdown",
   "metadata": {},
   "source": [
    "#### Вывод по обработке данных"
   ]
  },
  {
   "cell_type": "markdown",
   "metadata": {},
   "source": [
    "Провели обработку данных, удалили неинформативные записи, восстановили пропущенные значения. <div> \n",
    "    Уменьшили использование памяти для более быстрой работы с признаками."
   ]
  },
  {
   "cell_type": "markdown",
   "metadata": {},
   "source": [
    "<div class=\"alert alert-block alert-success\">\n",
    "<b>Комментарий ревьюера ✔️</b> \n",
    "\n",
    "Блестящая предобработка данных 👏👏👏\n",
    "</div>\n",
    "\n"
   ]
  },
  {
   "cell_type": "markdown",
   "metadata": {},
   "source": [
    "## Обучение моделей"
   ]
  },
  {
   "cell_type": "markdown",
   "metadata": {},
   "source": [
    "Примечания к заданию:\n",
    "- Самостоятельно освойте библиотеку LightGBM и её средствами постройте модели градиентного бустинга.\n",
    "- Время выполнения ячейки кода Jupyter Notebook можно получить специальной командой. Найдите её.\n",
    "- Поскольку модель градиентного бустинга может обучаться долго, измените у неё только два-три параметра."
   ]
  },
  {
   "cell_type": "markdown",
   "metadata": {},
   "source": [
    "Обучим разные модели. Для каждой попробуем различные гиперпараметры."
   ]
  },
  {
   "cell_type": "markdown",
   "metadata": {},
   "source": [
    " - Linear Regression\n",
    " - Ridge Regression \n",
    " - Decision Tree Regressor\n",
    " - CatBoost Regressor\n",
    " - LGBM Regressor"
   ]
  },
  {
   "cell_type": "markdown",
   "metadata": {},
   "source": [
    "В качестве метрики возьмем MSE, и в конце сведем все в таблицу, где MSE превратим в RMSE. Будем также использовать кросс-валидацию."
   ]
  },
  {
   "cell_type": "markdown",
   "metadata": {},
   "source": [
    "Сделаем копию исходного датафрейма."
   ]
  },
  {
   "cell_type": "code",
   "execution_count": 67,
   "metadata": {},
   "outputs": [
    {
     "data": {
      "text/html": [
       "<div>\n",
       "<style scoped>\n",
       "    .dataframe tbody tr th:only-of-type {\n",
       "        vertical-align: middle;\n",
       "    }\n",
       "\n",
       "    .dataframe tbody tr th {\n",
       "        vertical-align: top;\n",
       "    }\n",
       "\n",
       "    .dataframe thead th {\n",
       "        text-align: right;\n",
       "    }\n",
       "</style>\n",
       "<table border=\"1\" class=\"dataframe\">\n",
       "  <thead>\n",
       "    <tr style=\"text-align: right;\">\n",
       "      <th></th>\n",
       "      <th>Price</th>\n",
       "      <th>VehicleType</th>\n",
       "      <th>RegistrationYear</th>\n",
       "      <th>Power</th>\n",
       "      <th>Model</th>\n",
       "      <th>Kilometer</th>\n",
       "      <th>FuelType</th>\n",
       "      <th>NotRepaired</th>\n",
       "      <th>GearboxManual</th>\n",
       "    </tr>\n",
       "  </thead>\n",
       "  <tbody>\n",
       "    <tr>\n",
       "      <th>0</th>\n",
       "      <td>480</td>\n",
       "      <td>sedan</td>\n",
       "      <td>1993</td>\n",
       "      <td>101.0</td>\n",
       "      <td>golf</td>\n",
       "      <td>150000</td>\n",
       "      <td>petrol</td>\n",
       "      <td>0</td>\n",
       "      <td>1</td>\n",
       "    </tr>\n",
       "    <tr>\n",
       "      <th>1</th>\n",
       "      <td>18300</td>\n",
       "      <td>coupe</td>\n",
       "      <td>2011</td>\n",
       "      <td>190.0</td>\n",
       "      <td>156</td>\n",
       "      <td>125000</td>\n",
       "      <td>gasoline</td>\n",
       "      <td>0</td>\n",
       "      <td>1</td>\n",
       "    </tr>\n",
       "    <tr>\n",
       "      <th>2</th>\n",
       "      <td>9800</td>\n",
       "      <td>suv</td>\n",
       "      <td>2004</td>\n",
       "      <td>163.0</td>\n",
       "      <td>grand</td>\n",
       "      <td>125000</td>\n",
       "      <td>gasoline</td>\n",
       "      <td>0</td>\n",
       "      <td>0</td>\n",
       "    </tr>\n",
       "    <tr>\n",
       "      <th>3</th>\n",
       "      <td>1500</td>\n",
       "      <td>small</td>\n",
       "      <td>2001</td>\n",
       "      <td>75.0</td>\n",
       "      <td>golf</td>\n",
       "      <td>150000</td>\n",
       "      <td>petrol</td>\n",
       "      <td>0</td>\n",
       "      <td>1</td>\n",
       "    </tr>\n",
       "    <tr>\n",
       "      <th>4</th>\n",
       "      <td>3600</td>\n",
       "      <td>small</td>\n",
       "      <td>2008</td>\n",
       "      <td>69.0</td>\n",
       "      <td>fabia</td>\n",
       "      <td>90000</td>\n",
       "      <td>gasoline</td>\n",
       "      <td>0</td>\n",
       "      <td>1</td>\n",
       "    </tr>\n",
       "  </tbody>\n",
       "</table>\n",
       "</div>"
      ],
      "text/plain": [
       "   Price VehicleType  RegistrationYear  Power  Model  Kilometer  FuelType  \\\n",
       "0    480       sedan              1993  101.0   golf     150000    petrol   \n",
       "1  18300       coupe              2011  190.0    156     125000  gasoline   \n",
       "2   9800         suv              2004  163.0  grand     125000  gasoline   \n",
       "3   1500       small              2001   75.0   golf     150000    petrol   \n",
       "4   3600       small              2008   69.0  fabia      90000  gasoline   \n",
       "\n",
       "   NotRepaired  GearboxManual  \n",
       "0            0              1  \n",
       "1            0              1  \n",
       "2            0              0  \n",
       "3            0              1  \n",
       "4            0              1  "
      ]
     },
     "execution_count": 67,
     "metadata": {},
     "output_type": "execute_result"
    }
   ],
   "source": [
    "data = df.copy()\n",
    "data.head()"
   ]
  },
  {
   "cell_type": "markdown",
   "metadata": {},
   "source": [
    "Отделим целевые признаки от иных, закодируем категориальные."
   ]
  },
  {
   "cell_type": "code",
   "execution_count": 68,
   "metadata": {},
   "outputs": [],
   "source": [
    "original_features = data.drop('Price', axis=1)\n",
    "ohe_features = pd.get_dummies(original_features, drop_first=True)\n",
    "target = data['Price']"
   ]
  },
  {
   "cell_type": "markdown",
   "metadata": {},
   "source": [
    "<div class=\"alert alert-block alert-success\">\n",
    "<b>Комментарий ревьюера ✔️</b> \n",
    "\n",
    "OHE-кодирование проведено корректно.\n",
    "</div>\n"
   ]
  },
  {
   "cell_type": "code",
   "execution_count": 69,
   "metadata": {},
   "outputs": [
    {
     "data": {
      "text/html": [
       "<div>\n",
       "<style scoped>\n",
       "    .dataframe tbody tr th:only-of-type {\n",
       "        vertical-align: middle;\n",
       "    }\n",
       "\n",
       "    .dataframe tbody tr th {\n",
       "        vertical-align: top;\n",
       "    }\n",
       "\n",
       "    .dataframe thead th {\n",
       "        text-align: right;\n",
       "    }\n",
       "</style>\n",
       "<table border=\"1\" class=\"dataframe\">\n",
       "  <thead>\n",
       "    <tr style=\"text-align: right;\">\n",
       "      <th></th>\n",
       "      <th>RegistrationYear</th>\n",
       "      <th>Power</th>\n",
       "      <th>Kilometer</th>\n",
       "      <th>NotRepaired</th>\n",
       "      <th>GearboxManual</th>\n",
       "      <th>VehicleType_convertible</th>\n",
       "      <th>VehicleType_coupe</th>\n",
       "      <th>VehicleType_other</th>\n",
       "      <th>VehicleType_sedan</th>\n",
       "      <th>VehicleType_small</th>\n",
       "      <th>VehicleType_suv</th>\n",
       "      <th>VehicleType_wagon</th>\n",
       "      <th>Model_145</th>\n",
       "      <th>Model_147</th>\n",
       "      <th>Model_156</th>\n",
       "      <th>Model_159</th>\n",
       "      <th>Model_1_reihe</th>\n",
       "      <th>Model_1er</th>\n",
       "      <th>Model_200</th>\n",
       "      <th>Model_2_reihe</th>\n",
       "      <th>...</th>\n",
       "      <th>Model_viano</th>\n",
       "      <th>Model_vito</th>\n",
       "      <th>Model_vivaro</th>\n",
       "      <th>Model_voyager</th>\n",
       "      <th>Model_wrangler</th>\n",
       "      <th>Model_x_reihe</th>\n",
       "      <th>Model_x_trail</th>\n",
       "      <th>Model_x_type</th>\n",
       "      <th>Model_xc_reihe</th>\n",
       "      <th>Model_yaris</th>\n",
       "      <th>Model_yeti</th>\n",
       "      <th>Model_ypsilon</th>\n",
       "      <th>Model_z_reihe</th>\n",
       "      <th>Model_zafira</th>\n",
       "      <th>FuelType_electric</th>\n",
       "      <th>FuelType_gasoline</th>\n",
       "      <th>FuelType_hybrid</th>\n",
       "      <th>FuelType_lpg</th>\n",
       "      <th>FuelType_other</th>\n",
       "      <th>FuelType_petrol</th>\n",
       "    </tr>\n",
       "  </thead>\n",
       "  <tbody>\n",
       "    <tr>\n",
       "      <th>0</th>\n",
       "      <td>1993</td>\n",
       "      <td>101.0</td>\n",
       "      <td>150000</td>\n",
       "      <td>0</td>\n",
       "      <td>1</td>\n",
       "      <td>0</td>\n",
       "      <td>0</td>\n",
       "      <td>0</td>\n",
       "      <td>1</td>\n",
       "      <td>0</td>\n",
       "      <td>0</td>\n",
       "      <td>0</td>\n",
       "      <td>0</td>\n",
       "      <td>0</td>\n",
       "      <td>0</td>\n",
       "      <td>0</td>\n",
       "      <td>0</td>\n",
       "      <td>0</td>\n",
       "      <td>0</td>\n",
       "      <td>0</td>\n",
       "      <td>...</td>\n",
       "      <td>0</td>\n",
       "      <td>0</td>\n",
       "      <td>0</td>\n",
       "      <td>0</td>\n",
       "      <td>0</td>\n",
       "      <td>0</td>\n",
       "      <td>0</td>\n",
       "      <td>0</td>\n",
       "      <td>0</td>\n",
       "      <td>0</td>\n",
       "      <td>0</td>\n",
       "      <td>0</td>\n",
       "      <td>0</td>\n",
       "      <td>0</td>\n",
       "      <td>0</td>\n",
       "      <td>0</td>\n",
       "      <td>0</td>\n",
       "      <td>0</td>\n",
       "      <td>0</td>\n",
       "      <td>1</td>\n",
       "    </tr>\n",
       "    <tr>\n",
       "      <th>1</th>\n",
       "      <td>2011</td>\n",
       "      <td>190.0</td>\n",
       "      <td>125000</td>\n",
       "      <td>0</td>\n",
       "      <td>1</td>\n",
       "      <td>0</td>\n",
       "      <td>1</td>\n",
       "      <td>0</td>\n",
       "      <td>0</td>\n",
       "      <td>0</td>\n",
       "      <td>0</td>\n",
       "      <td>0</td>\n",
       "      <td>0</td>\n",
       "      <td>0</td>\n",
       "      <td>1</td>\n",
       "      <td>0</td>\n",
       "      <td>0</td>\n",
       "      <td>0</td>\n",
       "      <td>0</td>\n",
       "      <td>0</td>\n",
       "      <td>...</td>\n",
       "      <td>0</td>\n",
       "      <td>0</td>\n",
       "      <td>0</td>\n",
       "      <td>0</td>\n",
       "      <td>0</td>\n",
       "      <td>0</td>\n",
       "      <td>0</td>\n",
       "      <td>0</td>\n",
       "      <td>0</td>\n",
       "      <td>0</td>\n",
       "      <td>0</td>\n",
       "      <td>0</td>\n",
       "      <td>0</td>\n",
       "      <td>0</td>\n",
       "      <td>0</td>\n",
       "      <td>1</td>\n",
       "      <td>0</td>\n",
       "      <td>0</td>\n",
       "      <td>0</td>\n",
       "      <td>0</td>\n",
       "    </tr>\n",
       "    <tr>\n",
       "      <th>2</th>\n",
       "      <td>2004</td>\n",
       "      <td>163.0</td>\n",
       "      <td>125000</td>\n",
       "      <td>0</td>\n",
       "      <td>0</td>\n",
       "      <td>0</td>\n",
       "      <td>0</td>\n",
       "      <td>0</td>\n",
       "      <td>0</td>\n",
       "      <td>0</td>\n",
       "      <td>1</td>\n",
       "      <td>0</td>\n",
       "      <td>0</td>\n",
       "      <td>0</td>\n",
       "      <td>0</td>\n",
       "      <td>0</td>\n",
       "      <td>0</td>\n",
       "      <td>0</td>\n",
       "      <td>0</td>\n",
       "      <td>0</td>\n",
       "      <td>...</td>\n",
       "      <td>0</td>\n",
       "      <td>0</td>\n",
       "      <td>0</td>\n",
       "      <td>0</td>\n",
       "      <td>0</td>\n",
       "      <td>0</td>\n",
       "      <td>0</td>\n",
       "      <td>0</td>\n",
       "      <td>0</td>\n",
       "      <td>0</td>\n",
       "      <td>0</td>\n",
       "      <td>0</td>\n",
       "      <td>0</td>\n",
       "      <td>0</td>\n",
       "      <td>0</td>\n",
       "      <td>1</td>\n",
       "      <td>0</td>\n",
       "      <td>0</td>\n",
       "      <td>0</td>\n",
       "      <td>0</td>\n",
       "    </tr>\n",
       "    <tr>\n",
       "      <th>3</th>\n",
       "      <td>2001</td>\n",
       "      <td>75.0</td>\n",
       "      <td>150000</td>\n",
       "      <td>0</td>\n",
       "      <td>1</td>\n",
       "      <td>0</td>\n",
       "      <td>0</td>\n",
       "      <td>0</td>\n",
       "      <td>0</td>\n",
       "      <td>1</td>\n",
       "      <td>0</td>\n",
       "      <td>0</td>\n",
       "      <td>0</td>\n",
       "      <td>0</td>\n",
       "      <td>0</td>\n",
       "      <td>0</td>\n",
       "      <td>0</td>\n",
       "      <td>0</td>\n",
       "      <td>0</td>\n",
       "      <td>0</td>\n",
       "      <td>...</td>\n",
       "      <td>0</td>\n",
       "      <td>0</td>\n",
       "      <td>0</td>\n",
       "      <td>0</td>\n",
       "      <td>0</td>\n",
       "      <td>0</td>\n",
       "      <td>0</td>\n",
       "      <td>0</td>\n",
       "      <td>0</td>\n",
       "      <td>0</td>\n",
       "      <td>0</td>\n",
       "      <td>0</td>\n",
       "      <td>0</td>\n",
       "      <td>0</td>\n",
       "      <td>0</td>\n",
       "      <td>0</td>\n",
       "      <td>0</td>\n",
       "      <td>0</td>\n",
       "      <td>0</td>\n",
       "      <td>1</td>\n",
       "    </tr>\n",
       "    <tr>\n",
       "      <th>4</th>\n",
       "      <td>2008</td>\n",
       "      <td>69.0</td>\n",
       "      <td>90000</td>\n",
       "      <td>0</td>\n",
       "      <td>1</td>\n",
       "      <td>0</td>\n",
       "      <td>0</td>\n",
       "      <td>0</td>\n",
       "      <td>0</td>\n",
       "      <td>1</td>\n",
       "      <td>0</td>\n",
       "      <td>0</td>\n",
       "      <td>0</td>\n",
       "      <td>0</td>\n",
       "      <td>0</td>\n",
       "      <td>0</td>\n",
       "      <td>0</td>\n",
       "      <td>0</td>\n",
       "      <td>0</td>\n",
       "      <td>0</td>\n",
       "      <td>...</td>\n",
       "      <td>0</td>\n",
       "      <td>0</td>\n",
       "      <td>0</td>\n",
       "      <td>0</td>\n",
       "      <td>0</td>\n",
       "      <td>0</td>\n",
       "      <td>0</td>\n",
       "      <td>0</td>\n",
       "      <td>0</td>\n",
       "      <td>0</td>\n",
       "      <td>0</td>\n",
       "      <td>0</td>\n",
       "      <td>0</td>\n",
       "      <td>0</td>\n",
       "      <td>0</td>\n",
       "      <td>1</td>\n",
       "      <td>0</td>\n",
       "      <td>0</td>\n",
       "      <td>0</td>\n",
       "      <td>0</td>\n",
       "    </tr>\n",
       "  </tbody>\n",
       "</table>\n",
       "<p>5 rows × 267 columns</p>\n",
       "</div>"
      ],
      "text/plain": [
       "   RegistrationYear  Power  Kilometer  NotRepaired  GearboxManual  \\\n",
       "0              1993  101.0     150000            0              1   \n",
       "1              2011  190.0     125000            0              1   \n",
       "2              2004  163.0     125000            0              0   \n",
       "3              2001   75.0     150000            0              1   \n",
       "4              2008   69.0      90000            0              1   \n",
       "\n",
       "   VehicleType_convertible  VehicleType_coupe  VehicleType_other  \\\n",
       "0                        0                  0                  0   \n",
       "1                        0                  1                  0   \n",
       "2                        0                  0                  0   \n",
       "3                        0                  0                  0   \n",
       "4                        0                  0                  0   \n",
       "\n",
       "   VehicleType_sedan  VehicleType_small  VehicleType_suv  VehicleType_wagon  \\\n",
       "0                  1                  0                0                  0   \n",
       "1                  0                  0                0                  0   \n",
       "2                  0                  0                1                  0   \n",
       "3                  0                  1                0                  0   \n",
       "4                  0                  1                0                  0   \n",
       "\n",
       "   Model_145  Model_147  Model_156  Model_159  Model_1_reihe  Model_1er  \\\n",
       "0          0          0          0          0              0          0   \n",
       "1          0          0          1          0              0          0   \n",
       "2          0          0          0          0              0          0   \n",
       "3          0          0          0          0              0          0   \n",
       "4          0          0          0          0              0          0   \n",
       "\n",
       "   Model_200  Model_2_reihe  ...  Model_viano  Model_vito  Model_vivaro  \\\n",
       "0          0              0  ...            0           0             0   \n",
       "1          0              0  ...            0           0             0   \n",
       "2          0              0  ...            0           0             0   \n",
       "3          0              0  ...            0           0             0   \n",
       "4          0              0  ...            0           0             0   \n",
       "\n",
       "   Model_voyager  Model_wrangler  Model_x_reihe  Model_x_trail  Model_x_type  \\\n",
       "0              0               0              0              0             0   \n",
       "1              0               0              0              0             0   \n",
       "2              0               0              0              0             0   \n",
       "3              0               0              0              0             0   \n",
       "4              0               0              0              0             0   \n",
       "\n",
       "   Model_xc_reihe  Model_yaris  Model_yeti  Model_ypsilon  Model_z_reihe  \\\n",
       "0               0            0           0              0              0   \n",
       "1               0            0           0              0              0   \n",
       "2               0            0           0              0              0   \n",
       "3               0            0           0              0              0   \n",
       "4               0            0           0              0              0   \n",
       "\n",
       "   Model_zafira  FuelType_electric  FuelType_gasoline  FuelType_hybrid  \\\n",
       "0             0                  0                  0                0   \n",
       "1             0                  0                  1                0   \n",
       "2             0                  0                  1                0   \n",
       "3             0                  0                  0                0   \n",
       "4             0                  0                  1                0   \n",
       "\n",
       "   FuelType_lpg  FuelType_other  FuelType_petrol  \n",
       "0             0               0                1  \n",
       "1             0               0                0  \n",
       "2             0               0                0  \n",
       "3             0               0                1  \n",
       "4             0               0                0  \n",
       "\n",
       "[5 rows x 267 columns]"
      ]
     },
     "execution_count": 69,
     "metadata": {},
     "output_type": "execute_result"
    }
   ],
   "source": [
    "ohe_features.head()"
   ]
  },
  {
   "cell_type": "code",
   "execution_count": 70,
   "metadata": {},
   "outputs": [],
   "source": [
    "original_features_train, original_features_test, target_train, target_test = train_test_split(\n",
    "    original_features, target, test_size=0.25, random_state=7777777)\n",
    "\n",
    "ohe_features_train = ohe_features.loc[original_features_train.index, :]\n",
    "ohe_features_test = ohe_features.loc[original_features_test.index, :]"
   ]
  },
  {
   "cell_type": "code",
   "execution_count": 71,
   "metadata": {},
   "outputs": [
    {
     "data": {
      "text/plain": [
       "(223814, 267)"
      ]
     },
     "execution_count": 71,
     "metadata": {},
     "output_type": "execute_result"
    }
   ],
   "source": [
    "ohe_features_train.shape"
   ]
  },
  {
   "cell_type": "code",
   "execution_count": 72,
   "metadata": {},
   "outputs": [
    {
     "data": {
      "text/plain": [
       "(74605, 267)"
      ]
     },
     "execution_count": 72,
     "metadata": {},
     "output_type": "execute_result"
    }
   ],
   "source": [
    "ohe_features_test.shape"
   ]
  },
  {
   "cell_type": "markdown",
   "metadata": {},
   "source": [
    "Перейдем к моделям."
   ]
  },
  {
   "cell_type": "markdown",
   "metadata": {},
   "source": [
    "#### Linear Regression"
   ]
  },
  {
   "cell_type": "code",
   "execution_count": 73,
   "metadata": {},
   "outputs": [
    {
     "name": "stdout",
     "output_type": "stream",
     "text": [
      "Mean RMSE from cross-validation of LinearRegression = 2870.2783609850544\n"
     ]
    }
   ],
   "source": [
    "start_time = time.time()\n",
    "regressor = LinearRegression()\n",
    "\n",
    "c_v_RMSE_LR = (cross_val_score(regressor, ohe_features_train, target_train, cv=5, n_jobs=-1,\n",
    "                                       scoring='neg_mean_squared_error').mean() * -1) ** 0.5\n",
    "print('Mean RMSE from cross-validation of LinearRegression =', c_v_RMSE_LR)\n",
    "elapsed_time_LR = time.time() - start_time "
   ]
  },
  {
   "cell_type": "markdown",
   "metadata": {},
   "source": [
    "<div class=\"alert alert-block alert-success\">\n",
    "<b>Комментарий ревьюера ✔️</b> \n",
    "\n",
    "Кросс-валидация проведена верно, отлично.\n",
    "</div>\n",
    "\n"
   ]
  },
  {
   "cell_type": "markdown",
   "metadata": {},
   "source": [
    "#### Ridge Regression"
   ]
  },
  {
   "cell_type": "code",
   "execution_count": 74,
   "metadata": {},
   "outputs": [
    {
     "name": "stdout",
     "output_type": "stream",
     "text": [
      "Best parameters:\n",
      "\n",
      "{'solver': 'svd'}\n",
      "\n",
      "Grid scores:\n",
      "\n",
      "2870.275243 for {'solver': 'auto'}\n",
      "2870.275243 for {'solver': 'svd'}\n",
      "2870.275243 for {'solver': 'cholesky'}\n",
      "4292.324675 for {'solver': 'lsqr'}\n",
      "3510.033512 for {'solver': 'sparse_cg'}\n",
      "\n"
     ]
    }
   ],
   "source": [
    "start_time = time.time()\n",
    "regressor = Ridge()\n",
    "hyperparams = [{'solver':['auto', 'svd', 'cholesky', 'lsqr','sparse_cg']}]\n",
    "\n",
    "clf = GridSearchCV(regressor, hyperparams, scoring='neg_mean_squared_error', n_jobs=-1)\n",
    "clf.fit(ohe_features_train, target_train)\n",
    "\n",
    "print(\"Best parameters:\")\n",
    "print()\n",
    "print(clf.best_params_)\n",
    "print()\n",
    "print(\"Grid scores:\")\n",
    "print()\n",
    "means = clf.cv_results_['mean_test_score']\n",
    "stds = clf.cv_results_['std_test_score']\n",
    "for mean, std, params in zip(means, stds, clf.cv_results_['params']):\n",
    "    print(\"%0.6f for %r\"% ((mean*-1)** 0.5, params))\n",
    "print()\n",
    "\n",
    "cv_RMSE_R = (max(means)*-1) ** 0.5\n",
    "\n",
    "elapsed_time_R = time.time() - start_time "
   ]
  },
  {
   "cell_type": "markdown",
   "metadata": {},
   "source": [
    "<div class=\"alert alert-block alert-success\">\n",
    "<b>Комментарий ревьюера ✔️</b> \n",
    "\n",
    "Отлично!\n",
    "</div>\n",
    "\n"
   ]
  },
  {
   "cell_type": "markdown",
   "metadata": {},
   "source": [
    "#### Decision Tree Regressor"
   ]
  },
  {
   "cell_type": "code",
   "execution_count": 75,
   "metadata": {},
   "outputs": [
    {
     "name": "stdout",
     "output_type": "stream",
     "text": [
      "Best parameters:\n",
      "\n",
      "{'criterion': 'mse', 'max_depth': 14, 'random_state': 7777777}\n",
      "\n",
      "Grid scores:\n",
      "\n",
      "3357.675605 for {'criterion': 'mse', 'max_depth': 2, 'random_state': 7777777}\n",
      "3055.474569 for {'criterion': 'mse', 'max_depth': 3, 'random_state': 7777777}\n",
      "2724.565448 for {'criterion': 'mse', 'max_depth': 4, 'random_state': 7777777}\n",
      "2524.639706 for {'criterion': 'mse', 'max_depth': 5, 'random_state': 7777777}\n",
      "2379.380093 for {'criterion': 'mse', 'max_depth': 6, 'random_state': 7777777}\n",
      "2288.796044 for {'criterion': 'mse', 'max_depth': 7, 'random_state': 7777777}\n",
      "2224.213470 for {'criterion': 'mse', 'max_depth': 8, 'random_state': 7777777}\n",
      "2182.435881 for {'criterion': 'mse', 'max_depth': 9, 'random_state': 7777777}\n",
      "2142.667220 for {'criterion': 'mse', 'max_depth': 10, 'random_state': 7777777}\n",
      "2118.339621 for {'criterion': 'mse', 'max_depth': 11, 'random_state': 7777777}\n",
      "2103.157643 for {'criterion': 'mse', 'max_depth': 12, 'random_state': 7777777}\n",
      "2089.989871 for {'criterion': 'mse', 'max_depth': 13, 'random_state': 7777777}\n",
      "2085.617971 for {'criterion': 'mse', 'max_depth': 14, 'random_state': 7777777}\n",
      "2086.208517 for {'criterion': 'mse', 'max_depth': 15, 'random_state': 7777777}\n",
      "2092.430411 for {'criterion': 'mse', 'max_depth': 16, 'random_state': 7777777}\n",
      "2097.668373 for {'criterion': 'mse', 'max_depth': 17, 'random_state': 7777777}\n",
      "2107.271071 for {'criterion': 'mse', 'max_depth': 18, 'random_state': 7777777}\n",
      "2116.141951 for {'criterion': 'mse', 'max_depth': 19, 'random_state': 7777777}\n",
      "2123.360803 for {'criterion': 'mse', 'max_depth': 20, 'random_state': 7777777}\n",
      "2141.233250 for {'criterion': 'mse', 'max_depth': 21, 'random_state': 7777777}\n",
      "2150.408994 for {'criterion': 'mse', 'max_depth': 22, 'random_state': 7777777}\n",
      "2158.583905 for {'criterion': 'mse', 'max_depth': 23, 'random_state': 7777777}\n",
      "2164.287178 for {'criterion': 'mse', 'max_depth': 24, 'random_state': 7777777}\n",
      "2174.968568 for {'criterion': 'mse', 'max_depth': 25, 'random_state': 7777777}\n",
      "2174.248590 for {'criterion': 'mse', 'max_depth': 26, 'random_state': 7777777}\n",
      "2182.268671 for {'criterion': 'mse', 'max_depth': 27, 'random_state': 7777777}\n",
      "2183.202465 for {'criterion': 'mse', 'max_depth': 28, 'random_state': 7777777}\n",
      "2191.183456 for {'criterion': 'mse', 'max_depth': 29, 'random_state': 7777777}\n",
      "2195.911469 for {'criterion': 'mse', 'max_depth': 30, 'random_state': 7777777}\n",
      "\n"
     ]
    }
   ],
   "source": [
    "start_time = time.time()\n",
    "\n",
    "regressor = DecisionTreeRegressor() \n",
    "max_depth_list = [x for x in range(2, 31)]\n",
    "hyperparams = [{'criterion':['mse'], \n",
    "                'max_depth':max_depth_list, \n",
    "                'random_state':[7777777]}]\n",
    "\n",
    "clf = GridSearchCV(regressor, hyperparams, scoring='neg_mean_squared_error', n_jobs=-1)\n",
    "clf.fit(ohe_features_train, target_train)\n",
    "print(\"Best parameters:\")\n",
    "print()\n",
    "print(clf.best_params_)\n",
    "print()\n",
    "print(\"Grid scores:\")\n",
    "print()\n",
    "means = clf.cv_results_['mean_test_score']\n",
    "stds = clf.cv_results_['std_test_score']\n",
    "for mean, std, params in zip(means, stds, clf.cv_results_['params']):\n",
    "    print(\"%0.6f for %r\"% ((mean*-1)** 0.5, params))\n",
    "print()\n",
    "\n",
    "cv_RMSE_DTR_ohe = (max(means)*-1) ** 0.5\n",
    "\n",
    "elapsed_time_DTR = time.time() - start_time "
   ]
  },
  {
   "cell_type": "markdown",
   "metadata": {},
   "source": [
    "<div class=\"alert alert-block alert-danger\">\n",
    "<b>Комментарий ревьюера ❌</b> \n",
    "\n",
    "~~При OHE-кодировании растет число признаков, из-за этого модели, как правило, работают медленнее и менее эффективно. OHE-кодирование используется для линейных моделей, так как они не могут корректно работать с категориальными признаками, закодированными порядковым образом. Для остальных моделей (вкл. решающие деревья, случайный лес, бустинг) предпочтительно использовать **порядковое** кодирование категориальных признаков.~~\n",
    "\n",
    "~~При желании можешь поэкспериментировать и посмотреть, как изменится качество и время работы модели решающего дерева, если вместо порядкового кодирования использовать OHE. ~~\n",
    "</div>\n"
   ]
  },
  {
   "cell_type": "markdown",
   "metadata": {},
   "source": [
    "Получили лучшее: <div>\n",
    "2004.328176 for {'criterion': 'mse', 'max_depth': 16 ...} <div>\n",
    "Wall time: 5min 42s<div>"
   ]
  },
  {
   "cell_type": "markdown",
   "metadata": {},
   "source": [
    "<div style=\"background: #eeeeee\">\n",
    "<font color='blue'> \n",
    "    <b><u>КОММЕНТАРИЙ СТУДЕНТА:</u></b>\n",
    "<font color='blue'><br>\n",
    "Проэкспериментируем с деревом на основе признаков, закодированных порядковым кодированием. "
   ]
  },
  {
   "cell_type": "code",
   "execution_count": 76,
   "metadata": {},
   "outputs": [
    {
     "data": {
      "text/html": [
       "<div>\n",
       "<style scoped>\n",
       "    .dataframe tbody tr th:only-of-type {\n",
       "        vertical-align: middle;\n",
       "    }\n",
       "\n",
       "    .dataframe tbody tr th {\n",
       "        vertical-align: top;\n",
       "    }\n",
       "\n",
       "    .dataframe thead th {\n",
       "        text-align: right;\n",
       "    }\n",
       "</style>\n",
       "<table border=\"1\" class=\"dataframe\">\n",
       "  <thead>\n",
       "    <tr style=\"text-align: right;\">\n",
       "      <th></th>\n",
       "      <th>Price</th>\n",
       "      <th>VehicleType</th>\n",
       "      <th>RegistrationYear</th>\n",
       "      <th>Power</th>\n",
       "      <th>Model</th>\n",
       "      <th>Kilometer</th>\n",
       "      <th>FuelType</th>\n",
       "      <th>NotRepaired</th>\n",
       "      <th>GearboxManual</th>\n",
       "    </tr>\n",
       "  </thead>\n",
       "  <tbody>\n",
       "    <tr>\n",
       "      <th>0</th>\n",
       "      <td>480</td>\n",
       "      <td>sedan</td>\n",
       "      <td>1993</td>\n",
       "      <td>101.0</td>\n",
       "      <td>golf</td>\n",
       "      <td>150000</td>\n",
       "      <td>petrol</td>\n",
       "      <td>0</td>\n",
       "      <td>1</td>\n",
       "    </tr>\n",
       "    <tr>\n",
       "      <th>1</th>\n",
       "      <td>18300</td>\n",
       "      <td>coupe</td>\n",
       "      <td>2011</td>\n",
       "      <td>190.0</td>\n",
       "      <td>156</td>\n",
       "      <td>125000</td>\n",
       "      <td>gasoline</td>\n",
       "      <td>0</td>\n",
       "      <td>1</td>\n",
       "    </tr>\n",
       "    <tr>\n",
       "      <th>2</th>\n",
       "      <td>9800</td>\n",
       "      <td>suv</td>\n",
       "      <td>2004</td>\n",
       "      <td>163.0</td>\n",
       "      <td>grand</td>\n",
       "      <td>125000</td>\n",
       "      <td>gasoline</td>\n",
       "      <td>0</td>\n",
       "      <td>0</td>\n",
       "    </tr>\n",
       "    <tr>\n",
       "      <th>3</th>\n",
       "      <td>1500</td>\n",
       "      <td>small</td>\n",
       "      <td>2001</td>\n",
       "      <td>75.0</td>\n",
       "      <td>golf</td>\n",
       "      <td>150000</td>\n",
       "      <td>petrol</td>\n",
       "      <td>0</td>\n",
       "      <td>1</td>\n",
       "    </tr>\n",
       "    <tr>\n",
       "      <th>4</th>\n",
       "      <td>3600</td>\n",
       "      <td>small</td>\n",
       "      <td>2008</td>\n",
       "      <td>69.0</td>\n",
       "      <td>fabia</td>\n",
       "      <td>90000</td>\n",
       "      <td>gasoline</td>\n",
       "      <td>0</td>\n",
       "      <td>1</td>\n",
       "    </tr>\n",
       "  </tbody>\n",
       "</table>\n",
       "</div>"
      ],
      "text/plain": [
       "   Price VehicleType  RegistrationYear  Power  Model  Kilometer  FuelType  \\\n",
       "0    480       sedan              1993  101.0   golf     150000    petrol   \n",
       "1  18300       coupe              2011  190.0    156     125000  gasoline   \n",
       "2   9800         suv              2004  163.0  grand     125000  gasoline   \n",
       "3   1500       small              2001   75.0   golf     150000    petrol   \n",
       "4   3600       small              2008   69.0  fabia      90000  gasoline   \n",
       "\n",
       "   NotRepaired  GearboxManual  \n",
       "0            0              1  \n",
       "1            0              1  \n",
       "2            0              0  \n",
       "3            0              1  \n",
       "4            0              1  "
      ]
     },
     "execution_count": 76,
     "metadata": {},
     "output_type": "execute_result"
    }
   ],
   "source": [
    "df.head()"
   ]
  },
  {
   "cell_type": "code",
   "execution_count": 77,
   "metadata": {},
   "outputs": [],
   "source": [
    "encoder = OrdinalEncoder()\n",
    "cat_columns = ['VehicleType','FuelType','Model']\n",
    "cat_features = original_features[cat_columns]\n",
    "cat_features = pd.DataFrame(encoder.fit_transform(cat_features),\n",
    "                                columns=cat_features.columns, \n",
    "                                index=cat_features.index)\n",
    "ordinal_features = original_features.copy()\n",
    "for column in cat_columns:\n",
    "    ordinal_features[column] = cat_features[column]\n",
    "ordinal_features_train = ordinal_features.loc[original_features_train.index, :]\n",
    "ordinal_features_test = ordinal_features.loc[original_features_test.index, :]"
   ]
  },
  {
   "cell_type": "markdown",
   "metadata": {},
   "source": [
    "<div class=\"alert alert-block alert-success\">\n",
    "<b>Комментарий ревьюера v2 ✔️</b> \n",
    "\n",
    "С порядковым кодированием все в порядке, отлично.\n",
    "</div>\n",
    "\n"
   ]
  },
  {
   "cell_type": "code",
   "execution_count": 78,
   "metadata": {},
   "outputs": [
    {
     "data": {
      "text/html": [
       "<div>\n",
       "<style scoped>\n",
       "    .dataframe tbody tr th:only-of-type {\n",
       "        vertical-align: middle;\n",
       "    }\n",
       "\n",
       "    .dataframe tbody tr th {\n",
       "        vertical-align: top;\n",
       "    }\n",
       "\n",
       "    .dataframe thead th {\n",
       "        text-align: right;\n",
       "    }\n",
       "</style>\n",
       "<table border=\"1\" class=\"dataframe\">\n",
       "  <thead>\n",
       "    <tr style=\"text-align: right;\">\n",
       "      <th></th>\n",
       "      <th>VehicleType</th>\n",
       "      <th>RegistrationYear</th>\n",
       "      <th>Power</th>\n",
       "      <th>Model</th>\n",
       "      <th>Kilometer</th>\n",
       "      <th>FuelType</th>\n",
       "      <th>NotRepaired</th>\n",
       "      <th>GearboxManual</th>\n",
       "    </tr>\n",
       "  </thead>\n",
       "  <tbody>\n",
       "    <tr>\n",
       "      <th>98434</th>\n",
       "      <td>4.0</td>\n",
       "      <td>2016</td>\n",
       "      <td>60.0</td>\n",
       "      <td>176.0</td>\n",
       "      <td>100000</td>\n",
       "      <td>2.0</td>\n",
       "      <td>0</td>\n",
       "      <td>1</td>\n",
       "    </tr>\n",
       "    <tr>\n",
       "      <th>311588</th>\n",
       "      <td>5.0</td>\n",
       "      <td>1997</td>\n",
       "      <td>45.0</td>\n",
       "      <td>83.0</td>\n",
       "      <td>125000</td>\n",
       "      <td>6.0</td>\n",
       "      <td>0</td>\n",
       "      <td>1</td>\n",
       "    </tr>\n",
       "    <tr>\n",
       "      <th>152513</th>\n",
       "      <td>7.0</td>\n",
       "      <td>2006</td>\n",
       "      <td>140.0</td>\n",
       "      <td>163.0</td>\n",
       "      <td>150000</td>\n",
       "      <td>2.0</td>\n",
       "      <td>0</td>\n",
       "      <td>1</td>\n",
       "    </tr>\n",
       "    <tr>\n",
       "      <th>197909</th>\n",
       "      <td>4.0</td>\n",
       "      <td>2017</td>\n",
       "      <td>101.0</td>\n",
       "      <td>116.0</td>\n",
       "      <td>150000</td>\n",
       "      <td>6.0</td>\n",
       "      <td>0</td>\n",
       "      <td>1</td>\n",
       "    </tr>\n",
       "    <tr>\n",
       "      <th>130527</th>\n",
       "      <td>4.0</td>\n",
       "      <td>2003</td>\n",
       "      <td>75.0</td>\n",
       "      <td>101.0</td>\n",
       "      <td>150000</td>\n",
       "      <td>6.0</td>\n",
       "      <td>0</td>\n",
       "      <td>1</td>\n",
       "    </tr>\n",
       "  </tbody>\n",
       "</table>\n",
       "</div>"
      ],
      "text/plain": [
       "        VehicleType  RegistrationYear  Power  Model  Kilometer  FuelType  \\\n",
       "98434           4.0              2016   60.0  176.0     100000       2.0   \n",
       "311588          5.0              1997   45.0   83.0     125000       6.0   \n",
       "152513          7.0              2006  140.0  163.0     150000       2.0   \n",
       "197909          4.0              2017  101.0  116.0     150000       6.0   \n",
       "130527          4.0              2003   75.0  101.0     150000       6.0   \n",
       "\n",
       "        NotRepaired  GearboxManual  \n",
       "98434             0              1  \n",
       "311588            0              1  \n",
       "152513            0              1  \n",
       "197909            0              1  \n",
       "130527            0              1  "
      ]
     },
     "execution_count": 78,
     "metadata": {},
     "output_type": "execute_result"
    }
   ],
   "source": [
    "ordinal_features_train.head()"
   ]
  },
  {
   "cell_type": "code",
   "execution_count": 79,
   "metadata": {},
   "outputs": [
    {
     "data": {
      "text/html": [
       "<div>\n",
       "<style scoped>\n",
       "    .dataframe tbody tr th:only-of-type {\n",
       "        vertical-align: middle;\n",
       "    }\n",
       "\n",
       "    .dataframe tbody tr th {\n",
       "        vertical-align: top;\n",
       "    }\n",
       "\n",
       "    .dataframe thead th {\n",
       "        text-align: right;\n",
       "    }\n",
       "</style>\n",
       "<table border=\"1\" class=\"dataframe\">\n",
       "  <thead>\n",
       "    <tr style=\"text-align: right;\">\n",
       "      <th></th>\n",
       "      <th>VehicleType</th>\n",
       "      <th>RegistrationYear</th>\n",
       "      <th>Power</th>\n",
       "      <th>Model</th>\n",
       "      <th>Kilometer</th>\n",
       "      <th>FuelType</th>\n",
       "      <th>NotRepaired</th>\n",
       "      <th>GearboxManual</th>\n",
       "    </tr>\n",
       "  </thead>\n",
       "  <tbody>\n",
       "    <tr>\n",
       "      <th>166054</th>\n",
       "      <td>7.0</td>\n",
       "      <td>1998</td>\n",
       "      <td>75.0</td>\n",
       "      <td>42.0</td>\n",
       "      <td>150000</td>\n",
       "      <td>6.0</td>\n",
       "      <td>0</td>\n",
       "      <td>1</td>\n",
       "    </tr>\n",
       "    <tr>\n",
       "      <th>34669</th>\n",
       "      <td>0.0</td>\n",
       "      <td>2006</td>\n",
       "      <td>75.0</td>\n",
       "      <td>116.0</td>\n",
       "      <td>40000</td>\n",
       "      <td>6.0</td>\n",
       "      <td>0</td>\n",
       "      <td>1</td>\n",
       "    </tr>\n",
       "    <tr>\n",
       "      <th>183775</th>\n",
       "      <td>2.0</td>\n",
       "      <td>1989</td>\n",
       "      <td>90.0</td>\n",
       "      <td>3.0</td>\n",
       "      <td>40000</td>\n",
       "      <td>6.0</td>\n",
       "      <td>0</td>\n",
       "      <td>1</td>\n",
       "    </tr>\n",
       "    <tr>\n",
       "      <th>261226</th>\n",
       "      <td>7.0</td>\n",
       "      <td>2008</td>\n",
       "      <td>109.0</td>\n",
       "      <td>10.0</td>\n",
       "      <td>150000</td>\n",
       "      <td>2.0</td>\n",
       "      <td>0</td>\n",
       "      <td>1</td>\n",
       "    </tr>\n",
       "    <tr>\n",
       "      <th>135269</th>\n",
       "      <td>5.0</td>\n",
       "      <td>2009</td>\n",
       "      <td>75.0</td>\n",
       "      <td>173.0</td>\n",
       "      <td>150000</td>\n",
       "      <td>2.0</td>\n",
       "      <td>0</td>\n",
       "      <td>1</td>\n",
       "    </tr>\n",
       "  </tbody>\n",
       "</table>\n",
       "</div>"
      ],
      "text/plain": [
       "        VehicleType  RegistrationYear  Power  Model  Kilometer  FuelType  \\\n",
       "166054          7.0              1998   75.0   42.0     150000       6.0   \n",
       "34669           0.0              2006   75.0  116.0      40000       6.0   \n",
       "183775          2.0              1989   90.0    3.0      40000       6.0   \n",
       "261226          7.0              2008  109.0   10.0     150000       2.0   \n",
       "135269          5.0              2009   75.0  173.0     150000       2.0   \n",
       "\n",
       "        NotRepaired  GearboxManual  \n",
       "166054            0              1  \n",
       "34669             0              1  \n",
       "183775            0              1  \n",
       "261226            0              1  \n",
       "135269            0              1  "
      ]
     },
     "execution_count": 79,
     "metadata": {},
     "output_type": "execute_result"
    }
   ],
   "source": [
    "ordinal_features_test.head()"
   ]
  },
  {
   "cell_type": "code",
   "execution_count": 80,
   "metadata": {},
   "outputs": [
    {
     "name": "stdout",
     "output_type": "stream",
     "text": [
      "Best parameters set found on development set:\n",
      "\n",
      "{'criterion': 'mse', 'max_depth': 13, 'random_state': 7777777}\n",
      "\n",
      "Grid scores on development set:\n",
      "\n",
      "3357.675605 for {'criterion': 'mse', 'max_depth': 2, 'random_state': 7777777}\n",
      "3055.474569 for {'criterion': 'mse', 'max_depth': 3, 'random_state': 7777777}\n",
      "2726.262941 for {'criterion': 'mse', 'max_depth': 4, 'random_state': 7777777}\n",
      "2519.549091 for {'criterion': 'mse', 'max_depth': 5, 'random_state': 7777777}\n",
      "2381.844556 for {'criterion': 'mse', 'max_depth': 6, 'random_state': 7777777}\n",
      "2295.707238 for {'criterion': 'mse', 'max_depth': 7, 'random_state': 7777777}\n",
      "2232.651711 for {'criterion': 'mse', 'max_depth': 8, 'random_state': 7777777}\n",
      "2186.471458 for {'criterion': 'mse', 'max_depth': 9, 'random_state': 7777777}\n",
      "2150.795368 for {'criterion': 'mse', 'max_depth': 10, 'random_state': 7777777}\n",
      "2125.664126 for {'criterion': 'mse', 'max_depth': 11, 'random_state': 7777777}\n",
      "2112.373902 for {'criterion': 'mse', 'max_depth': 12, 'random_state': 7777777}\n",
      "2108.447396 for {'criterion': 'mse', 'max_depth': 13, 'random_state': 7777777}\n",
      "2116.529440 for {'criterion': 'mse', 'max_depth': 14, 'random_state': 7777777}\n",
      "2135.312160 for {'criterion': 'mse', 'max_depth': 15, 'random_state': 7777777}\n",
      "2162.797013 for {'criterion': 'mse', 'max_depth': 16, 'random_state': 7777777}\n",
      "2185.594272 for {'criterion': 'mse', 'max_depth': 17, 'random_state': 7777777}\n",
      "2203.427002 for {'criterion': 'mse', 'max_depth': 18, 'random_state': 7777777}\n",
      "2227.896492 for {'criterion': 'mse', 'max_depth': 19, 'random_state': 7777777}\n",
      "2244.116294 for {'criterion': 'mse', 'max_depth': 20, 'random_state': 7777777}\n",
      "2255.142371 for {'criterion': 'mse', 'max_depth': 21, 'random_state': 7777777}\n",
      "2267.001939 for {'criterion': 'mse', 'max_depth': 22, 'random_state': 7777777}\n",
      "2272.111298 for {'criterion': 'mse', 'max_depth': 23, 'random_state': 7777777}\n",
      "2276.300614 for {'criterion': 'mse', 'max_depth': 24, 'random_state': 7777777}\n",
      "2275.306722 for {'criterion': 'mse', 'max_depth': 25, 'random_state': 7777777}\n",
      "2286.271444 for {'criterion': 'mse', 'max_depth': 26, 'random_state': 7777777}\n",
      "2285.499261 for {'criterion': 'mse', 'max_depth': 27, 'random_state': 7777777}\n",
      "2284.154254 for {'criterion': 'mse', 'max_depth': 28, 'random_state': 7777777}\n",
      "2285.091060 for {'criterion': 'mse', 'max_depth': 29, 'random_state': 7777777}\n",
      "2282.335409 for {'criterion': 'mse', 'max_depth': 30, 'random_state': 7777777}\n",
      "\n",
      "Wall time: 44.1 s\n"
     ]
    }
   ],
   "source": [
    "%%time\n",
    "regressor = DecisionTreeRegressor() \n",
    "max_depth_list = [x for x in range(2, 31)]\n",
    "hyperparams = [{'criterion':['mse'], \n",
    "                'max_depth':max_depth_list, \n",
    "                'random_state':[7777777]}]\n",
    "clf = GridSearchCV(regressor, hyperparams, scoring='neg_mean_squared_error')\n",
    "clf.fit(ordinal_features_train, target_train)\n",
    "print(\"Best parameters set found on development set:\")\n",
    "print()\n",
    "print(clf.best_params_)\n",
    "print()\n",
    "print(\"Grid scores on development set:\")\n",
    "print()\n",
    "means = clf.cv_results_['mean_test_score']\n",
    "stds = clf.cv_results_['std_test_score']\n",
    "for mean, std, params in zip(means, stds, clf.cv_results_['params']):\n",
    "    print(\"%0.6f for %r\"% ((mean*-1)** 0.5, params))\n",
    "print()\n",
    "\n",
    "cv_RMSE_DTR_ordinal = (max(means)*-1) ** 0.5"
   ]
  },
  {
   "cell_type": "markdown",
   "metadata": {},
   "source": [
    "<div style=\"background: #eeeeee\">\n",
    "<font color='blue'> \n",
    "    <b><u>КОММЕНТАРИЙ СТУДЕНТА:</u></b>\n",
    "<font color='blue'><br>\n",
    "Получили: <div>\n",
    "2108.447396 {'criterion': 'mse', 'max_depth': 13, 'random_state': 7777777}\n",
    "<div>"
   ]
  },
  {
   "cell_type": "markdown",
   "metadata": {},
   "source": [
    "<div style=\"background: #eeeeee\">\n",
    "<font color='blue'> \n",
    "    <b><u>КОММЕНТАРИЙ СТУДЕНТА:</u></b>\n",
    "<font color='blue'><br>\n",
    "Метрика ухудшилась."
   ]
  },
  {
   "cell_type": "markdown",
   "metadata": {},
   "source": [
    "<div class=\"alert alert-block alert-success\">\n",
    "<b>Комментарий ревьюера v2 ✔️</b> \n",
    "\n",
    "Да, качество упало, но время работы сильно сократилось.\n",
    "</div>\n",
    "\n",
    "\n"
   ]
  },
  {
   "cell_type": "markdown",
   "metadata": {},
   "source": [
    "#### CatBoost Regressor"
   ]
  },
  {
   "cell_type": "code",
   "execution_count": 81,
   "metadata": {},
   "outputs": [
    {
     "name": "stdout",
     "output_type": "stream",
     "text": [
      "Mean RMSE from CV of CatBoostRegressor = 1859.1760502918407\n"
     ]
    }
   ],
   "source": [
    "start_time = time.time()\n",
    "regressor = CatBoostRegressor(learning_rate=0.5, iterations = 200, random_state=7777777, verbose=False, \n",
    "                              cat_features=['VehicleType','FuelType','Model']) \n",
    "\n",
    "cv_RMSE_CBR_original = (cross_val_score(regressor, original_features_train, target_train, cv=5, n_jobs=-1,\n",
    "                                scoring='neg_mean_squared_error').mean() * -1) ** 0.5\n",
    "print('Mean RMSE from CV of CatBoostRegressor =', cv_RMSE_CBR_original)\n",
    "elapsed_time_CBR = time.time() - start_time "
   ]
  },
  {
   "cell_type": "markdown",
   "metadata": {},
   "source": [
    "<div class=\"alert alert-block alert-success\">\n",
    "<b>Комментарий ревьюера ✔️</b> \n",
    "\n",
    "Верно, модель CatBoostRegressor умеет работать с категориальными признаками 👍\n",
    "</div>\n"
   ]
  },
  {
   "cell_type": "markdown",
   "metadata": {},
   "source": [
    "#### LGBM Regressor"
   ]
  },
  {
   "cell_type": "code",
   "execution_count": 82,
   "metadata": {},
   "outputs": [
    {
     "name": "stdout",
     "output_type": "stream",
     "text": [
      "Best parameters:\n",
      "\n",
      "{'learning_rate': 0.3, 'num_leaves': 200, 'random_state': 7777777}\n",
      "\n",
      "Grid scores:\n",
      "\n",
      "1922.649023 for {'learning_rate': 0.1, 'num_leaves': 31, 'random_state': 7777777}\n",
      "1834.774028 for {'learning_rate': 0.1, 'num_leaves': 100, 'random_state': 7777777}\n",
      "1803.593727 for {'learning_rate': 0.1, 'num_leaves': 200, 'random_state': 7777777}\n",
      "1853.089577 for {'learning_rate': 0.3, 'num_leaves': 31, 'random_state': 7777777}\n",
      "1807.143911 for {'learning_rate': 0.3, 'num_leaves': 100, 'random_state': 7777777}\n",
      "1800.505618 for {'learning_rate': 0.3, 'num_leaves': 200, 'random_state': 7777777}\n",
      "1848.040916 for {'learning_rate': 0.5, 'num_leaves': 31, 'random_state': 7777777}\n",
      "1829.870864 for {'learning_rate': 0.5, 'num_leaves': 100, 'random_state': 7777777}\n",
      "1835.585933 for {'learning_rate': 0.5, 'num_leaves': 200, 'random_state': 7777777}\n",
      "\n"
     ]
    }
   ],
   "source": [
    "start_time = time.time()\n",
    "regressor = LGBMRegressor() \n",
    "hyperparams = [{'num_leaves':[31, 100, 200], \n",
    "                'learning_rate':[0.1, 0.3, 0.5],\n",
    "                'random_state':[7777777]}]\n",
    "\n",
    "clf = GridSearchCV(regressor, hyperparams, scoring='neg_mean_squared_error')\n",
    "clf.fit(ordinal_features_train, target_train)\n",
    "print(\"Best parameters:\")\n",
    "print()\n",
    "print(clf.best_params_)\n",
    "print()\n",
    "print(\"Grid scores:\")\n",
    "print()\n",
    "means = clf.cv_results_['mean_test_score']\n",
    "stds = clf.cv_results_['std_test_score']\n",
    "for mean, std, params in zip(means, stds, clf.cv_results_['params']):\n",
    "    print(\"%0.6f for %r\"% ((mean*-1)** 0.5, params))\n",
    "print()\n",
    "\n",
    "cv_RMSE_LGBMR = (max(means)*-1) ** 0.5\n",
    "elapsed_time_LGBMR = time.time() - start_time "
   ]
  },
  {
   "cell_type": "markdown",
   "metadata": {},
   "source": [
    "<div class=\"alert alert-block alert-danger\">\n",
    "<b>Комментарий ревьюера ❌</b> \n",
    "\n",
    "~~Как и для модели решающего дерева, используй **порядковое** кодирование категориальных признаков.~~\n",
    "</div>\n"
   ]
  },
  {
   "cell_type": "markdown",
   "metadata": {},
   "source": [
    "<div style=\"background: #eeeeee\">\n",
    "<font color='blue'> \n",
    "    <b><u>КОММЕНТАРИЙ СТУДЕНТА:</u></b>\n",
    "<font color='blue'><br>\n",
    "Исправили признаки в тексте ячейки выше на признаки порядкового кодирования."
   ]
  },
  {
   "cell_type": "markdown",
   "metadata": {},
   "source": [
    "<div class=\"alert alert-block alert-success\">\n",
    "<b>Комментарий ревьюера v2 ✔️</b> \n",
    "\n",
    "Для модели LGBMRegressor можно было задать параметр categorical_feature со списком категориальных признаков. Альтернативный вариант – заменить тип категориальных признаков на «category», тогда модель будет обрабатывать эти признаки как категориальные.\n",
    "</div>\n"
   ]
  },
  {
   "cell_type": "markdown",
   "metadata": {},
   "source": [
    "<div style=\"background: #eeeeee\">\n",
    "<font color='blue'> \n",
    "    <b><u>КОММЕНТАРИЙ СТУДЕНТА:</u></b>\n",
    "<font color='blue'><br>\n",
    "Получили: <div>\n",
    "1800.505618 {'learning_rate': 0.3, 'num_leaves': 200, ...} <div>\n",
    "Wall time: 39.2s"
   ]
  },
  {
   "cell_type": "markdown",
   "metadata": {},
   "source": [
    "<div style=\"background: #eeeeee\">\n",
    "<font color='blue'> \n",
    "    <b><u>КОММЕНТАРИЙ СТУДЕНТА:</u></b>\n",
    "<font color='blue'><br>\n",
    "Отметим, что метрика после применения признаков с порядковым кодированием, стала хуже, хотя скорость возросла."
   ]
  },
  {
   "cell_type": "markdown",
   "metadata": {},
   "source": [
    "Рассмотрели пять моделей и нашли их лучшие гиперпараметры, чтобы затем обучить модели с этими параметрами и сравнить результат."
   ]
  },
  {
   "cell_type": "markdown",
   "metadata": {},
   "source": [
    "## Анализ моделей"
   ]
  },
  {
   "cell_type": "markdown",
   "metadata": {},
   "source": [
    "Примечания к заданию:\n",
    "- Для оценки качества моделей применяйте метрику RMSE."
   ]
  },
  {
   "cell_type": "markdown",
   "metadata": {},
   "source": [
    "Проанализируем скорость работы и качество моделей."
   ]
  },
  {
   "cell_type": "markdown",
   "metadata": {},
   "source": [
    "#### Linear Regressor"
   ]
  },
  {
   "cell_type": "code",
   "execution_count": 83,
   "metadata": {},
   "outputs": [],
   "source": [
    "start_time = time.time()\n",
    "model = LinearRegression(n_jobs=-1)\n",
    "model.fit(ohe_features_train, target_train)\n",
    "elapsed_time_LR_study = time.time() - start_time "
   ]
  },
  {
   "cell_type": "code",
   "execution_count": 84,
   "metadata": {},
   "outputs": [],
   "source": [
    "start_time = time.time()\n",
    "target_predict = model.predict(ohe_features_test)\n",
    "elapsed_time_LR_predict = time.time() - start_time "
   ]
  },
  {
   "cell_type": "code",
   "execution_count": 85,
   "metadata": {},
   "outputs": [
    {
     "data": {
      "text/plain": [
       "2834.308184461067"
      ]
     },
     "execution_count": 85,
     "metadata": {},
     "output_type": "execute_result"
    }
   ],
   "source": [
    "final_RMSE_LR = mean_squared_error(target_test, target_predict) ** 0.5\n",
    "final_RMSE_LR"
   ]
  },
  {
   "cell_type": "markdown",
   "metadata": {},
   "source": [
    "#### Ridge"
   ]
  },
  {
   "cell_type": "code",
   "execution_count": 86,
   "metadata": {},
   "outputs": [],
   "source": [
    "start_time = time.time()\n",
    "model = Ridge(solver='auto')\n",
    "model.fit(ohe_features_train, target_train)\n",
    "elapsed_time_R_study = time.time() - start_time "
   ]
  },
  {
   "cell_type": "code",
   "execution_count": 87,
   "metadata": {},
   "outputs": [],
   "source": [
    "start_time = time.time()\n",
    "target_predict = model.predict(ohe_features_test)\n",
    "elapsed_time_R_predict = time.time() - start_time "
   ]
  },
  {
   "cell_type": "code",
   "execution_count": 88,
   "metadata": {},
   "outputs": [
    {
     "data": {
      "text/plain": [
       "2834.193492300455"
      ]
     },
     "execution_count": 88,
     "metadata": {},
     "output_type": "execute_result"
    }
   ],
   "source": [
    "final_RMSE_R = mean_squared_error(target_test, target_predict) ** 0.5\n",
    "final_RMSE_R"
   ]
  },
  {
   "cell_type": "markdown",
   "metadata": {},
   "source": [
    "#### DecisionTree Regressor"
   ]
  },
  {
   "cell_type": "code",
   "execution_count": 89,
   "metadata": {},
   "outputs": [],
   "source": [
    "start_time = time.time()\n",
    "model = DecisionTreeRegressor(criterion='mse', max_depth=16, random_state=7777777) \n",
    "model.fit(ordinal_features_train, target_train)\n",
    "elapsed_time_DTR_study = time.time() - start_time "
   ]
  },
  {
   "cell_type": "code",
   "execution_count": 90,
   "metadata": {},
   "outputs": [],
   "source": [
    "start_time = time.time()\n",
    "target_predict = model.predict(ordinal_features_test)\n",
    "elapsed_time_DTR_predict = time.time() - start_time "
   ]
  },
  {
   "cell_type": "code",
   "execution_count": 91,
   "metadata": {},
   "outputs": [
    {
     "data": {
      "text/plain": [
       "2132.3618090326627"
      ]
     },
     "execution_count": 91,
     "metadata": {},
     "output_type": "execute_result"
    }
   ],
   "source": [
    "final_RMSE_DTR = mean_squared_error(target_test, target_predict) ** 0.5\n",
    "final_RMSE_DTR  "
   ]
  },
  {
   "cell_type": "markdown",
   "metadata": {},
   "source": [
    "#### CatBoost Regressor"
   ]
  },
  {
   "cell_type": "code",
   "execution_count": 92,
   "metadata": {},
   "outputs": [],
   "source": [
    "start_time = time.time()\n",
    "model = CatBoostRegressor(learning_rate=0.5, iterations = 200, random_state=7777777, verbose=False, \n",
    "                              cat_features=['VehicleType','FuelType','Model']) \n",
    "model.fit(original_features_train, target_train)\n",
    "elapsed_time_CBR_study = time.time() - start_time "
   ]
  },
  {
   "cell_type": "code",
   "execution_count": 93,
   "metadata": {},
   "outputs": [],
   "source": [
    "start_time = time.time()\n",
    "target_predict = model.predict(original_features_test)\n",
    "elapsed_time_CBR_predict = time.time() - start_time "
   ]
  },
  {
   "cell_type": "code",
   "execution_count": 94,
   "metadata": {},
   "outputs": [
    {
     "data": {
      "text/plain": [
       "1832.4813287943534"
      ]
     },
     "execution_count": 94,
     "metadata": {},
     "output_type": "execute_result"
    }
   ],
   "source": [
    "final_RMSE_CBR = mean_squared_error(target_test, target_predict) ** 0.5\n",
    "final_RMSE_CBR"
   ]
  },
  {
   "cell_type": "markdown",
   "metadata": {},
   "source": [
    "#### LGBM Regressor"
   ]
  },
  {
   "cell_type": "code",
   "execution_count": 95,
   "metadata": {},
   "outputs": [],
   "source": [
    "start_time = time.time()\n",
    "model = LGBMRegressor(learning_rate=0.1, num_leaves=200, random_state=7777777, n_jobs=-1)\n",
    "model.fit(ordinal_features_train, target_train)\n",
    "elapsed_time_LGBMR_study = time.time() - start_time "
   ]
  },
  {
   "cell_type": "code",
   "execution_count": 96,
   "metadata": {},
   "outputs": [],
   "source": [
    "start_time = time.time()\n",
    "target_predict = model.predict(ordinal_features_test)\n",
    "elapsed_time_LGBMR_predict = time.time() - start_time "
   ]
  },
  {
   "cell_type": "code",
   "execution_count": 97,
   "metadata": {},
   "outputs": [
    {
     "data": {
      "text/plain": [
       "1777.6217688757156"
      ]
     },
     "execution_count": 97,
     "metadata": {},
     "output_type": "execute_result"
    }
   ],
   "source": [
    "final_RMSE_LGBMR = mean_squared_error(target_test, target_predict) ** 0.5\n",
    "final_RMSE_LGBMR"
   ]
  },
  {
   "cell_type": "markdown",
   "metadata": {},
   "source": [
    "Соберем датасет из полученной информации."
   ]
  },
  {
   "cell_type": "code",
   "execution_count": 98,
   "metadata": {},
   "outputs": [
    {
     "data": {
      "text/html": [
       "<div>\n",
       "<style scoped>\n",
       "    .dataframe tbody tr th:only-of-type {\n",
       "        vertical-align: middle;\n",
       "    }\n",
       "\n",
       "    .dataframe tbody tr th {\n",
       "        vertical-align: top;\n",
       "    }\n",
       "\n",
       "    .dataframe thead th {\n",
       "        text-align: right;\n",
       "    }\n",
       "</style>\n",
       "<table border=\"1\" class=\"dataframe\">\n",
       "  <thead>\n",
       "    <tr style=\"text-align: right;\">\n",
       "      <th></th>\n",
       "      <th>RMSE на CV, евро</th>\n",
       "      <th>Время обучения на CV, сек</th>\n",
       "      <th>RMSE модели на тестовой выборке, евро</th>\n",
       "      <th>Время обучения модели, сек</th>\n",
       "      <th>Время предсказания модели, сек</th>\n",
       "      <th>Рейтинг RMSE</th>\n",
       "      <th>Рейтинг времени обучения</th>\n",
       "      <th>Рейтинг времени предсказания</th>\n",
       "      <th>Итоговый рейтинг</th>\n",
       "    </tr>\n",
       "  </thead>\n",
       "  <tbody>\n",
       "    <tr>\n",
       "      <th>LinearRegression</th>\n",
       "      <td>2870.278361</td>\n",
       "      <td>14.943645</td>\n",
       "      <td>2834.308184</td>\n",
       "      <td>3.917032</td>\n",
       "      <td>0.164772</td>\n",
       "      <td>0.627293</td>\n",
       "      <td>0.103113</td>\n",
       "      <td>0.094800</td>\n",
       "      <td>0.825207</td>\n",
       "    </tr>\n",
       "    <tr>\n",
       "      <th>Ridge</th>\n",
       "      <td>2870.275243</td>\n",
       "      <td>53.460810</td>\n",
       "      <td>2834.193492</td>\n",
       "      <td>0.935993</td>\n",
       "      <td>0.119029</td>\n",
       "      <td>0.627294</td>\n",
       "      <td>0.431519</td>\n",
       "      <td>0.131232</td>\n",
       "      <td>1.190045</td>\n",
       "    </tr>\n",
       "    <tr>\n",
       "      <th>DecisionTreeRegressor</th>\n",
       "      <td>2085.617971</td>\n",
       "      <td>290.787540</td>\n",
       "      <td>2132.361809</td>\n",
       "      <td>0.403899</td>\n",
       "      <td>0.015620</td>\n",
       "      <td>0.863296</td>\n",
       "      <td>1.000000</td>\n",
       "      <td>1.000000</td>\n",
       "      <td>2.863296</td>\n",
       "    </tr>\n",
       "    <tr>\n",
       "      <th>CatBoostRegressor</th>\n",
       "      <td>1859.176050</td>\n",
       "      <td>44.006665</td>\n",
       "      <td>1832.481329</td>\n",
       "      <td>19.251894</td>\n",
       "      <td>0.082390</td>\n",
       "      <td>0.968443</td>\n",
       "      <td>0.020980</td>\n",
       "      <td>0.189592</td>\n",
       "      <td>1.179015</td>\n",
       "    </tr>\n",
       "    <tr>\n",
       "      <th>LGBMRegressor</th>\n",
       "      <td>1800.505618</td>\n",
       "      <td>40.567482</td>\n",
       "      <td>1777.621769</td>\n",
       "      <td>2.016701</td>\n",
       "      <td>0.135993</td>\n",
       "      <td>1.000000</td>\n",
       "      <td>0.200277</td>\n",
       "      <td>0.114862</td>\n",
       "      <td>1.315139</td>\n",
       "    </tr>\n",
       "  </tbody>\n",
       "</table>\n",
       "</div>"
      ],
      "text/plain": [
       "                       RMSE на CV, евро  Время обучения на CV, сек  \\\n",
       "LinearRegression            2870.278361                  14.943645   \n",
       "Ridge                       2870.275243                  53.460810   \n",
       "DecisionTreeRegressor       2085.617971                 290.787540   \n",
       "CatBoostRegressor           1859.176050                  44.006665   \n",
       "LGBMRegressor               1800.505618                  40.567482   \n",
       "\n",
       "                       RMSE модели на тестовой выборке, евро  \\\n",
       "LinearRegression                                 2834.308184   \n",
       "Ridge                                            2834.193492   \n",
       "DecisionTreeRegressor                            2132.361809   \n",
       "CatBoostRegressor                                1832.481329   \n",
       "LGBMRegressor                                    1777.621769   \n",
       "\n",
       "                       Время обучения модели, сек  \\\n",
       "LinearRegression                         3.917032   \n",
       "Ridge                                    0.935993   \n",
       "DecisionTreeRegressor                    0.403899   \n",
       "CatBoostRegressor                       19.251894   \n",
       "LGBMRegressor                            2.016701   \n",
       "\n",
       "                       Время предсказания модели, сек  Рейтинг RMSE  \\\n",
       "LinearRegression                             0.164772      0.627293   \n",
       "Ridge                                        0.119029      0.627294   \n",
       "DecisionTreeRegressor                        0.015620      0.863296   \n",
       "CatBoostRegressor                            0.082390      0.968443   \n",
       "LGBMRegressor                                0.135993      1.000000   \n",
       "\n",
       "                       Рейтинг времени обучения  Рейтинг времени предсказания  \\\n",
       "LinearRegression                       0.103113                      0.094800   \n",
       "Ridge                                  0.431519                      0.131232   \n",
       "DecisionTreeRegressor                  1.000000                      1.000000   \n",
       "CatBoostRegressor                      0.020980                      0.189592   \n",
       "LGBMRegressor                          0.200277                      0.114862   \n",
       "\n",
       "                       Итоговый рейтинг  \n",
       "LinearRegression               0.825207  \n",
       "Ridge                          1.190045  \n",
       "DecisionTreeRegressor          2.863296  \n",
       "CatBoostRegressor              1.179015  \n",
       "LGBMRegressor                  1.315139  "
      ]
     },
     "execution_count": 98,
     "metadata": {},
     "output_type": "execute_result"
    }
   ],
   "source": [
    "index = ['LinearRegression',\n",
    "         'Ridge',\n",
    "         'DecisionTreeRegressor',\n",
    "         'CatBoostRegressor',\n",
    "         'LGBMRegressor']\n",
    "data1 = {'RMSE на CV, евро':[c_v_RMSE_LR, \n",
    "                            cv_RMSE_R, \n",
    "                            cv_RMSE_DTR_ohe,\n",
    "                            cv_RMSE_CBR_original,\n",
    "                            cv_RMSE_LGBMR],\n",
    "        'Время обучения на CV, сек':[elapsed_time_LR,\n",
    "                                     elapsed_time_R,\n",
    "                                     elapsed_time_DTR,\n",
    "                                     elapsed_time_CBR,\n",
    "                                     elapsed_time_LGBMR],\n",
    "        'RMSE модели на тестовой выборке, евро':[final_RMSE_LR,\n",
    "                                                final_RMSE_R,\n",
    "                                                final_RMSE_DTR,\n",
    "                                                final_RMSE_CBR,\n",
    "                                                final_RMSE_LGBMR],\n",
    "        'Время обучения модели, сек':[elapsed_time_LR_study,\n",
    "                                      elapsed_time_R_study,\n",
    "                                      elapsed_time_DTR_study,\n",
    "                                      elapsed_time_CBR_study,\n",
    "                                      elapsed_time_LGBMR_study],\n",
    "        'Время предсказания модели, сек':[elapsed_time_LR_predict,\n",
    "                                          elapsed_time_R_predict,\n",
    "                                          elapsed_time_DTR_predict,\n",
    "                                          elapsed_time_CBR_predict,\n",
    "                                          elapsed_time_LGBMR_predict],}\n",
    "\n",
    "scores_data = pd.DataFrame(data=data1, index=index)\n",
    "scores_data['Рейтинг RMSE'] = (scores_data['RMSE на CV, евро'].min() /\n",
    "                              scores_data['RMSE на CV, евро'])\n",
    "scores_data['Рейтинг времени обучения'] = (scores_data['Время обучения модели, сек'].min() / \n",
    "                              scores_data['Время обучения модели, сек'])\n",
    "scores_data['Рейтинг времени предсказания'] = (scores_data['Время предсказания модели, сек'].min() / \n",
    "                              scores_data['Время предсказания модели, сек'])\n",
    "scores_data['Итоговый рейтинг'] = (scores_data['Рейтинг RMSE'] +\n",
    "                                   scores_data['Рейтинг времени обучения'] +\n",
    "                                   scores_data['Рейтинг времени предсказания'])\n",
    "scores_data"
   ]
  },
  {
   "cell_type": "markdown",
   "metadata": {},
   "source": [
    "<div class=\"alert alert-block alert-success\">\n",
    "<b>Комментарий ревьюера ✔️</b> \n",
    "\n",
    "Исчерпывающе полная таблица! 👏👏👏\n",
    "</div>\n",
    "\n",
    "<div class=\"alert alert-block alert-warning\">\n",
    "<b>Комментарий ревьюера ⚠️</b> \n",
    "\n",
    "~~Время можно было тоже сохранять в переменные, а не вносить в таблицу вручную:~~\n",
    "    \n",
    "    start_time = time.time()\n",
    "    \n",
    "    ... # код\n",
    "    \n",
    "    elapsed_time = time.time() - start_time # время выполнения кода\n",
    "</div>\n",
    "\n"
   ]
  },
  {
   "cell_type": "markdown",
   "metadata": {},
   "source": [
    "#### Вывод:"
   ]
  },
  {
   "cell_type": "markdown",
   "metadata": {},
   "source": [
    "- Для общей оценки по трем параметрам был создан относительный рейтинг. <div>\n",
    "Первое место получает регрессор с самым минимальным временем или RMSE. <div>\n",
    "Остальные получают рейтинг как отношение лучшего в столбце к своему значению. <div>\n",
    "Считаем все параметры равноценными.<div>\n",
    "\n",
    "- Лучшей моделью по трем параметрам: качество, скорость обучения и скорость предсказания можно считать Ridge.<div>\n",
    "Остальные модели показали себя хуже.<div>\n",
    "\n",
    "- Если рассматривать только оценивание точности, то на первом месте LGBMRegressor, затем CatBoostRegressor и DecisionTreeRegressor.<div>"
   ]
  },
  {
   "cell_type": "markdown",
   "metadata": {},
   "source": [
    "Таким образом: \n",
    "- Для быстрых решений с хорошей точностью в данном случае подойдет Ridge.\n",
    "- Если важна точность в большей степени, чем время, то LGBMRegressor.\n",
    "- Для задач, не требующих сильной предобработки данных, CatBoostRegressor может показать себя очень хорошо."
   ]
  },
  {
   "cell_type": "markdown",
   "metadata": {},
   "source": [
    "<div style=\"border:solid green 2px; padding: 20px\">\n",
    "<b>Комментарий ревьюера:</b>    \n",
    "    \n",
    "Анна, ты провела блестящее исследование, молодец!\n",
    "    \n",
    "Отдельное спасибо за очень качественную предобработку данных 👍\n",
    "    \n",
    "Доработать нужно немного:\n",
    "    \n",
    "- исправить ошибку в коде;\n",
    "- использовать порядковое кодирование для модели решающего дерева и LightGBM;\n",
    "- исправить желтые замечания (если их больше двух)."
   ]
  },
  {
   "cell_type": "markdown",
   "metadata": {},
   "source": [
    "<div style=\"background: #eeeeee\">\n",
    "<font color='blue'> \n",
    "    <b><u>КОММЕНТАРИЙ СТУДЕНТА:</u></b>\n",
    "<font color='blue'><br>\n",
    "    - исправлена ошибка в коде, функция не используется, хотя на локальной машине все работает.<div>\n",
    "    - использовано порядковое кодирование.<div>\n",
    "    - соответственно внесены дополнения."
   ]
  },
  {
   "cell_type": "markdown",
   "metadata": {},
   "source": [
    "<div style=\"background: #eeeeee\">\n",
    "<font color='blue'> \n",
    "    <b><u>КОММЕНТАРИЙ СТУДЕНТА:</u></b>\n",
    "<font color='blue'><br>\n",
    "Изменился итоговый вывод: \n",
    "    на 1-м месте по трем параметрам: качество, скорость обучения и скорость предсказания оказался DecisionTreeRegressor. По рейтингу точности, как и был - LGBMRegressor."
   ]
  },
  {
   "cell_type": "markdown",
   "metadata": {},
   "source": [
    "<div style=\"border:solid green 2px; padding: 20px\">\n",
    "<b>Комментарий ревьюера v2:</b>   \n",
    "    \n",
    "Анна, прекрасная работа, продолжай в том же духе! :)"
   ]
  },
  {
   "cell_type": "markdown",
   "metadata": {},
   "source": [
    "## Чек-лист проверки"
   ]
  },
  {
   "cell_type": "markdown",
   "metadata": {},
   "source": [
    "Поставьте 'x' в выполненных пунктах. Далее нажмите Shift+Enter."
   ]
  },
  {
   "cell_type": "markdown",
   "metadata": {},
   "source": [
    "- [x]  Jupyter Notebook открыт\n",
    "- [x]  Весь код выполняется без ошибок\n",
    "- [x]  Ячейки с кодом расположены в порядке исполнения\n",
    "- [x]  Выполнена загрузка и подготовка данных\n",
    "- [x]  Выполнено обучение моделей\n",
    "- [x]  Есть анализ скорости работы и качества моделей"
   ]
  },
  {
   "cell_type": "code",
   "execution_count": null,
   "metadata": {},
   "outputs": [],
   "source": []
  }
 ],
 "metadata": {
  "ExecuteTimeLog": [
   {
    "duration": 4454,
    "start_time": "2022-02-07T06:15:00.188Z"
   },
   {
    "duration": 867,
    "start_time": "2022-02-07T06:15:04.645Z"
   },
   {
    "duration": 80,
    "start_time": "2022-02-07T06:15:05.515Z"
   },
   {
    "duration": 34,
    "start_time": "2022-02-07T06:15:05.608Z"
   },
   {
    "duration": 193,
    "start_time": "2022-02-07T06:15:05.644Z"
   },
   {
    "duration": 99,
    "start_time": "2022-02-07T06:15:05.839Z"
   },
   {
    "duration": 5313,
    "start_time": "2022-02-07T06:15:05.941Z"
   },
   {
    "duration": 3,
    "start_time": "2022-02-07T06:15:11.257Z"
   },
   {
    "duration": 130,
    "start_time": "2022-02-07T06:15:11.261Z"
   },
   {
    "duration": 17,
    "start_time": "2022-02-07T06:15:11.393Z"
   },
   {
    "duration": 5287,
    "start_time": "2022-02-07T06:15:11.412Z"
   },
   {
    "duration": -107,
    "start_time": "2022-02-07T06:15:16.808Z"
   },
   {
    "duration": -115,
    "start_time": "2022-02-07T06:15:16.817Z"
   },
   {
    "duration": -119,
    "start_time": "2022-02-07T06:15:16.826Z"
   },
   {
    "duration": -126,
    "start_time": "2022-02-07T06:15:16.834Z"
   },
   {
    "duration": -131,
    "start_time": "2022-02-07T06:15:16.840Z"
   },
   {
    "duration": -136,
    "start_time": "2022-02-07T06:15:16.846Z"
   },
   {
    "duration": -141,
    "start_time": "2022-02-07T06:15:16.852Z"
   },
   {
    "duration": 25,
    "start_time": "2022-02-07T06:17:27.498Z"
   },
   {
    "duration": 60,
    "start_time": "2022-02-07T06:17:33.669Z"
   },
   {
    "duration": 72,
    "start_time": "2022-02-07T06:17:37.645Z"
   },
   {
    "duration": 23,
    "start_time": "2022-02-07T06:17:40.427Z"
   },
   {
    "duration": 59,
    "start_time": "2022-02-07T06:17:43.635Z"
   },
   {
    "duration": 12,
    "start_time": "2022-02-07T06:17:44.463Z"
   },
   {
    "duration": 18,
    "start_time": "2022-02-07T06:17:47.711Z"
   },
   {
    "duration": 5,
    "start_time": "2022-02-07T06:17:57.445Z"
   },
   {
    "duration": 137,
    "start_time": "2022-02-07T06:18:08.557Z"
   },
   {
    "duration": 71,
    "start_time": "2022-02-07T06:18:29.633Z"
   },
   {
    "duration": 1304,
    "start_time": "2022-02-07T06:37:40.272Z"
   },
   {
    "duration": 764,
    "start_time": "2022-02-07T06:37:41.578Z"
   },
   {
    "duration": 77,
    "start_time": "2022-02-07T06:37:42.344Z"
   },
   {
    "duration": 30,
    "start_time": "2022-02-07T06:37:42.423Z"
   },
   {
    "duration": 186,
    "start_time": "2022-02-07T06:37:42.455Z"
   },
   {
    "duration": 89,
    "start_time": "2022-02-07T06:37:42.642Z"
   },
   {
    "duration": 81,
    "start_time": "2022-02-07T06:37:57.678Z"
   },
   {
    "duration": 53,
    "start_time": "2022-02-07T06:38:01.231Z"
   },
   {
    "duration": 17367,
    "start_time": "2022-02-07T06:38:45.516Z"
   },
   {
    "duration": 20,
    "start_time": "2022-02-07T06:39:49.668Z"
   },
   {
    "duration": 2564,
    "start_time": "2022-02-07T06:40:04.829Z"
   },
   {
    "duration": 16000,
    "start_time": "2022-02-07T06:41:03.408Z"
   },
   {
    "duration": 265,
    "start_time": "2022-02-07T06:41:47.541Z"
   },
   {
    "duration": 4,
    "start_time": "2022-02-07T06:41:58.520Z"
   },
   {
    "duration": 4,
    "start_time": "2022-02-07T06:42:08.316Z"
   },
   {
    "duration": 43,
    "start_time": "2022-02-07T06:42:59.131Z"
   },
   {
    "duration": 66,
    "start_time": "2022-02-07T06:46:28.038Z"
   },
   {
    "duration": 9321,
    "start_time": "2022-02-07T06:47:10.360Z"
   },
   {
    "duration": 76,
    "start_time": "2022-02-07T06:47:21.275Z"
   },
   {
    "duration": 838,
    "start_time": "2022-02-07T06:49:44.227Z"
   },
   {
    "duration": 825,
    "start_time": "2022-02-07T06:49:49.720Z"
   },
   {
    "duration": 79,
    "start_time": "2022-02-07T06:51:27.853Z"
   },
   {
    "duration": 16490,
    "start_time": "2022-02-07T06:55:01.510Z"
   },
   {
    "duration": 57,
    "start_time": "2022-02-07T06:55:32.196Z"
   },
   {
    "duration": 880,
    "start_time": "2022-02-07T06:55:38.344Z"
   },
   {
    "duration": 22,
    "start_time": "2022-02-07T06:56:05.056Z"
   },
   {
    "duration": 23,
    "start_time": "2022-02-07T06:56:09.458Z"
   },
   {
    "duration": 21379,
    "start_time": "2022-02-07T06:56:38.369Z"
   },
   {
    "duration": 816,
    "start_time": "2022-02-07T07:00:00.491Z"
   },
   {
    "duration": 277,
    "start_time": "2022-02-07T07:01:27.081Z"
   },
   {
    "duration": 72,
    "start_time": "2022-02-07T07:01:36.993Z"
   },
   {
    "duration": 62,
    "start_time": "2022-02-07T07:03:30.609Z"
   },
   {
    "duration": 5,
    "start_time": "2022-02-07T07:03:34.216Z"
   },
   {
    "duration": 816,
    "start_time": "2022-02-07T07:03:39.970Z"
   },
   {
    "duration": 21,
    "start_time": "2022-02-07T07:04:08.453Z"
   },
   {
    "duration": 76,
    "start_time": "2022-02-07T07:04:50.478Z"
   },
   {
    "duration": 5256,
    "start_time": "2022-02-07T07:04:55.531Z"
   },
   {
    "duration": 64,
    "start_time": "2022-02-07T07:05:08.281Z"
   },
   {
    "duration": 11,
    "start_time": "2022-02-07T07:05:11.462Z"
   },
   {
    "duration": 5181,
    "start_time": "2022-02-07T07:05:15.186Z"
   },
   {
    "duration": 58,
    "start_time": "2022-02-07T07:05:33.791Z"
   },
   {
    "duration": 4839,
    "start_time": "2022-02-07T07:05:36.376Z"
   },
   {
    "duration": 35,
    "start_time": "2022-02-07T07:06:32.878Z"
   },
   {
    "duration": 33,
    "start_time": "2022-02-07T07:07:04.264Z"
   },
   {
    "duration": 51,
    "start_time": "2022-02-07T07:07:12.073Z"
   },
   {
    "duration": 77,
    "start_time": "2022-02-07T07:07:26.463Z"
   },
   {
    "duration": 11,
    "start_time": "2022-02-07T07:08:16.561Z"
   },
   {
    "duration": 12,
    "start_time": "2022-02-07T07:08:31.905Z"
   },
   {
    "duration": 61,
    "start_time": "2022-02-07T07:08:41.176Z"
   },
   {
    "duration": 22,
    "start_time": "2022-02-07T07:08:44.229Z"
   },
   {
    "duration": 292,
    "start_time": "2022-02-07T07:09:45.564Z"
   },
   {
    "duration": 18,
    "start_time": "2022-02-07T07:09:48.645Z"
   },
   {
    "duration": 16,
    "start_time": "2022-02-07T07:09:54.764Z"
   },
   {
    "duration": 18,
    "start_time": "2022-02-07T07:09:59.505Z"
   },
   {
    "duration": 24,
    "start_time": "2022-02-07T07:12:24.651Z"
   },
   {
    "duration": 3,
    "start_time": "2022-02-07T07:12:47.243Z"
   },
   {
    "duration": 86,
    "start_time": "2022-02-07T07:12:47.784Z"
   },
   {
    "duration": 3217,
    "start_time": "2022-02-08T06:23:37.725Z"
   },
   {
    "duration": 9988,
    "start_time": "2022-02-08T06:23:40.944Z"
   },
   {
    "duration": 92,
    "start_time": "2022-02-08T06:23:50.935Z"
   },
   {
    "duration": 44,
    "start_time": "2022-02-08T06:23:51.030Z"
   },
   {
    "duration": 236,
    "start_time": "2022-02-08T06:23:51.077Z"
   },
   {
    "duration": 118,
    "start_time": "2022-02-08T06:23:51.315Z"
   },
   {
    "duration": 247,
    "start_time": "2022-02-08T06:23:51.435Z"
   },
   {
    "duration": 261,
    "start_time": "2022-02-08T06:23:51.686Z"
   },
   {
    "duration": 95,
    "start_time": "2022-02-08T06:23:51.949Z"
   },
   {
    "duration": 5044,
    "start_time": "2022-02-08T06:23:52.047Z"
   },
   {
    "duration": 3,
    "start_time": "2022-02-08T06:23:57.093Z"
   },
   {
    "duration": 113,
    "start_time": "2022-02-08T06:23:57.097Z"
   },
   {
    "duration": 3,
    "start_time": "2022-02-08T06:23:57.212Z"
   },
   {
    "duration": 22,
    "start_time": "2022-02-08T06:23:57.217Z"
   },
   {
    "duration": 285,
    "start_time": "2022-02-08T06:23:57.241Z"
   },
   {
    "duration": 168,
    "start_time": "2022-02-08T06:23:57.528Z"
   },
   {
    "duration": 266,
    "start_time": "2022-02-08T06:23:57.698Z"
   },
   {
    "duration": 245,
    "start_time": "2022-02-08T06:23:57.966Z"
   },
   {
    "duration": 279,
    "start_time": "2022-02-08T06:23:58.214Z"
   },
   {
    "duration": 156,
    "start_time": "2022-02-08T06:23:58.495Z"
   },
   {
    "duration": 87086,
    "start_time": "2022-02-08T06:24:05.212Z"
   }
  ],
  "kernelspec": {
   "display_name": "Python 3",
   "language": "python",
   "name": "python3"
  },
  "language_info": {
   "codemirror_mode": {
    "name": "ipython",
    "version": 3
   },
   "file_extension": ".py",
   "mimetype": "text/x-python",
   "name": "python",
   "nbconvert_exporter": "python",
   "pygments_lexer": "ipython3",
   "version": "3.7.8"
  },
  "toc": {
   "base_numbering": 1,
   "nav_menu": {},
   "number_sections": true,
   "sideBar": true,
   "skip_h1_title": true,
   "title_cell": "Table of Contents",
   "title_sidebar": "Contents",
   "toc_cell": false,
   "toc_position": {},
   "toc_section_display": true,
   "toc_window_display": false
  }
 },
 "nbformat": 4,
 "nbformat_minor": 2
}
