{
 "cells": [
  {
   "cell_type": "markdown",
   "metadata": {},
   "source": [
    "<div class=\"alert alert-success\">\n",
    "<b> Комментарий ревьюера</b>\n",
    "\n",
    "Привет! Меня зовут Аня Титова, буду проверять твой проект по предобработке данных. \n",
    "\n",
    "Ты проделала достойную работу над проектом. Теперь осталось доработать несколько моментов, далее прокомментирую каждый из них.\n",
    "\n",
    "Мои комментарии отмечены таким же заголовком «Комментарий ревьюера». Пожалуйста, не удаляй их и не перемещай – это важно для повторных проверок.\n",
    "Красным цветом выделены замечания, которые нужно обязательно учесть.\n",
    "Желтым выделены мои рекомендации, постарайся проработать их в этом проекте или в будущих.\n",
    "Зеленым — элегантные решения, рекомендации «со звездочкой» и прочая информация.\n",
    "</div>"
   ]
  },
  {
   "cell_type": "markdown",
   "metadata": {},
   "source": [
    "<div class=\"alert alert-success\">\n",
    "<b> Комментарий ревьюера v2</b>\n",
    "\n",
    "Привет. Спасибо за внимательную проработку замечаний! Дальше мои комментарии отмечены как **v2**.\n",
    "</div>"
   ]
  },
  {
   "cell_type": "markdown",
   "metadata": {},
   "source": [
    "# Исследование надёжности заёмщиков\n",
    "\n",
    "Заказчик — кредитный отдел банка. Нужно разобраться, влияет ли семейное положение и количество детей клиента на факт погашения кредита в срок. Входные данные от банка — статистика о платёжеспособности клиентов.\n",
    "\n",
    "Результаты исследования будут учтены при построении модели **кредитного скоринга** — специальной системы, которая оценивает способность потенциального заёмщика вернуть кредит банку."
   ]
  },
  {
   "cell_type": "markdown",
   "metadata": {},
   "source": [
    "<div class=\"alert alert-success\">\n",
    "<b> Комментарий ревьюера</b>\n",
    "\n",
    "Хорошо, обозначили цели исследования.\n",
    "</div>"
   ]
  },
  {
   "cell_type": "markdown",
   "metadata": {},
   "source": [
    "## Шаг 1. Откройте файл с данными и изучите общую информацию"
   ]
  },
  {
   "cell_type": "code",
   "execution_count": 114,
   "metadata": {},
   "outputs": [
    {
     "name": "stdout",
     "output_type": "stream",
     "text": [
      "<class 'pandas.core.frame.DataFrame'>\n",
      "RangeIndex: 21525 entries, 0 to 21524\n",
      "Data columns (total 12 columns):\n",
      "children            21525 non-null int64\n",
      "days_employed       19351 non-null float64\n",
      "dob_years           21525 non-null int64\n",
      "education           21525 non-null object\n",
      "education_id        21525 non-null int64\n",
      "family_status       21525 non-null object\n",
      "family_status_id    21525 non-null int64\n",
      "gender              21525 non-null object\n",
      "income_type         21525 non-null object\n",
      "debt                21525 non-null int64\n",
      "total_income        19351 non-null float64\n",
      "purpose             21525 non-null object\n",
      "dtypes: float64(2), int64(5), object(5)\n",
      "memory usage: 2.0+ MB\n"
     ]
    }
   ],
   "source": [
    "import pandas as pd\n",
    "data=pd.read_csv('/datasets/data.csv')\n",
    "data.info() #посмотрим общую информацию о данных"
   ]
  },
  {
   "cell_type": "markdown",
   "metadata": {},
   "source": [
    "<div class=\"alert alert-warning\">\n",
    "<b> Комментарий от ревьюера v2</b>\n",
    "\n",
    "Заметила, что ячейки в твоей тетрадке теперь начинаются не с 1. Перед отправкой работы рекомендую перезапускать ноутбук, чтобы убедиться, что все ячейки выполняются корректно. Сделать это можно с помощью пункта меню Kernel > Restart & Run All\n",
    "\n",
    "</div>"
   ]
  },
  {
   "cell_type": "markdown",
   "metadata": {},
   "source": [
    "Все столбцы таблицы названы корректно, переименование не требуется. \n",
    "Есть пропуски в данных о трудовом стаже в днях и общем доходе, их доля существенна (10%) и количество совпадает. \n",
    "Удалить их и не принимать их в расчет при анализе данных нельзя.\n",
    "Требуется работа с пропусками в данных и поиск дубликатов. "
   ]
  },
  {
   "cell_type": "markdown",
   "metadata": {},
   "source": [
    "<div class=\"alert alert-success\">\n",
    "<b> Комментарий ревьюера</b>\n",
    "\n",
    "Хорошо, заметили явные пропуски.\n",
    "</div>"
   ]
  },
  {
   "cell_type": "markdown",
   "metadata": {},
   "source": [
    "Просмотрим первые десять строк для наглядности."
   ]
  },
  {
   "cell_type": "code",
   "execution_count": 115,
   "metadata": {},
   "outputs": [
    {
     "data": {
      "text/html": [
       "<div>\n",
       "<style scoped>\n",
       "    .dataframe tbody tr th:only-of-type {\n",
       "        vertical-align: middle;\n",
       "    }\n",
       "\n",
       "    .dataframe tbody tr th {\n",
       "        vertical-align: top;\n",
       "    }\n",
       "\n",
       "    .dataframe thead th {\n",
       "        text-align: right;\n",
       "    }\n",
       "</style>\n",
       "<table border=\"1\" class=\"dataframe\">\n",
       "  <thead>\n",
       "    <tr style=\"text-align: right;\">\n",
       "      <th></th>\n",
       "      <th>children</th>\n",
       "      <th>days_employed</th>\n",
       "      <th>dob_years</th>\n",
       "      <th>education</th>\n",
       "      <th>education_id</th>\n",
       "      <th>family_status</th>\n",
       "      <th>family_status_id</th>\n",
       "      <th>gender</th>\n",
       "      <th>income_type</th>\n",
       "      <th>debt</th>\n",
       "      <th>total_income</th>\n",
       "      <th>purpose</th>\n",
       "    </tr>\n",
       "  </thead>\n",
       "  <tbody>\n",
       "    <tr>\n",
       "      <td>0</td>\n",
       "      <td>1</td>\n",
       "      <td>-8437.673028</td>\n",
       "      <td>42</td>\n",
       "      <td>высшее</td>\n",
       "      <td>0</td>\n",
       "      <td>женат / замужем</td>\n",
       "      <td>0</td>\n",
       "      <td>F</td>\n",
       "      <td>сотрудник</td>\n",
       "      <td>0</td>\n",
       "      <td>253875.639453</td>\n",
       "      <td>покупка жилья</td>\n",
       "    </tr>\n",
       "    <tr>\n",
       "      <td>1</td>\n",
       "      <td>1</td>\n",
       "      <td>-4024.803754</td>\n",
       "      <td>36</td>\n",
       "      <td>среднее</td>\n",
       "      <td>1</td>\n",
       "      <td>женат / замужем</td>\n",
       "      <td>0</td>\n",
       "      <td>F</td>\n",
       "      <td>сотрудник</td>\n",
       "      <td>0</td>\n",
       "      <td>112080.014102</td>\n",
       "      <td>приобретение автомобиля</td>\n",
       "    </tr>\n",
       "    <tr>\n",
       "      <td>2</td>\n",
       "      <td>0</td>\n",
       "      <td>-5623.422610</td>\n",
       "      <td>33</td>\n",
       "      <td>Среднее</td>\n",
       "      <td>1</td>\n",
       "      <td>женат / замужем</td>\n",
       "      <td>0</td>\n",
       "      <td>M</td>\n",
       "      <td>сотрудник</td>\n",
       "      <td>0</td>\n",
       "      <td>145885.952297</td>\n",
       "      <td>покупка жилья</td>\n",
       "    </tr>\n",
       "    <tr>\n",
       "      <td>3</td>\n",
       "      <td>3</td>\n",
       "      <td>-4124.747207</td>\n",
       "      <td>32</td>\n",
       "      <td>среднее</td>\n",
       "      <td>1</td>\n",
       "      <td>женат / замужем</td>\n",
       "      <td>0</td>\n",
       "      <td>M</td>\n",
       "      <td>сотрудник</td>\n",
       "      <td>0</td>\n",
       "      <td>267628.550329</td>\n",
       "      <td>дополнительное образование</td>\n",
       "    </tr>\n",
       "    <tr>\n",
       "      <td>4</td>\n",
       "      <td>0</td>\n",
       "      <td>340266.072047</td>\n",
       "      <td>53</td>\n",
       "      <td>среднее</td>\n",
       "      <td>1</td>\n",
       "      <td>гражданский брак</td>\n",
       "      <td>1</td>\n",
       "      <td>F</td>\n",
       "      <td>пенсионер</td>\n",
       "      <td>0</td>\n",
       "      <td>158616.077870</td>\n",
       "      <td>сыграть свадьбу</td>\n",
       "    </tr>\n",
       "    <tr>\n",
       "      <td>5</td>\n",
       "      <td>0</td>\n",
       "      <td>-926.185831</td>\n",
       "      <td>27</td>\n",
       "      <td>высшее</td>\n",
       "      <td>0</td>\n",
       "      <td>гражданский брак</td>\n",
       "      <td>1</td>\n",
       "      <td>M</td>\n",
       "      <td>компаньон</td>\n",
       "      <td>0</td>\n",
       "      <td>255763.565419</td>\n",
       "      <td>покупка жилья</td>\n",
       "    </tr>\n",
       "    <tr>\n",
       "      <td>6</td>\n",
       "      <td>0</td>\n",
       "      <td>-2879.202052</td>\n",
       "      <td>43</td>\n",
       "      <td>высшее</td>\n",
       "      <td>0</td>\n",
       "      <td>женат / замужем</td>\n",
       "      <td>0</td>\n",
       "      <td>F</td>\n",
       "      <td>компаньон</td>\n",
       "      <td>0</td>\n",
       "      <td>240525.971920</td>\n",
       "      <td>операции с жильем</td>\n",
       "    </tr>\n",
       "    <tr>\n",
       "      <td>7</td>\n",
       "      <td>0</td>\n",
       "      <td>-152.779569</td>\n",
       "      <td>50</td>\n",
       "      <td>СРЕДНЕЕ</td>\n",
       "      <td>1</td>\n",
       "      <td>женат / замужем</td>\n",
       "      <td>0</td>\n",
       "      <td>M</td>\n",
       "      <td>сотрудник</td>\n",
       "      <td>0</td>\n",
       "      <td>135823.934197</td>\n",
       "      <td>образование</td>\n",
       "    </tr>\n",
       "    <tr>\n",
       "      <td>8</td>\n",
       "      <td>2</td>\n",
       "      <td>-6929.865299</td>\n",
       "      <td>35</td>\n",
       "      <td>ВЫСШЕЕ</td>\n",
       "      <td>0</td>\n",
       "      <td>гражданский брак</td>\n",
       "      <td>1</td>\n",
       "      <td>F</td>\n",
       "      <td>сотрудник</td>\n",
       "      <td>0</td>\n",
       "      <td>95856.832424</td>\n",
       "      <td>на проведение свадьбы</td>\n",
       "    </tr>\n",
       "    <tr>\n",
       "      <td>9</td>\n",
       "      <td>0</td>\n",
       "      <td>-2188.756445</td>\n",
       "      <td>41</td>\n",
       "      <td>среднее</td>\n",
       "      <td>1</td>\n",
       "      <td>женат / замужем</td>\n",
       "      <td>0</td>\n",
       "      <td>M</td>\n",
       "      <td>сотрудник</td>\n",
       "      <td>0</td>\n",
       "      <td>144425.938277</td>\n",
       "      <td>покупка жилья для семьи</td>\n",
       "    </tr>\n",
       "  </tbody>\n",
       "</table>\n",
       "</div>"
      ],
      "text/plain": [
       "   children  days_employed  dob_years education  education_id  \\\n",
       "0         1   -8437.673028         42    высшее             0   \n",
       "1         1   -4024.803754         36   среднее             1   \n",
       "2         0   -5623.422610         33   Среднее             1   \n",
       "3         3   -4124.747207         32   среднее             1   \n",
       "4         0  340266.072047         53   среднее             1   \n",
       "5         0    -926.185831         27    высшее             0   \n",
       "6         0   -2879.202052         43    высшее             0   \n",
       "7         0    -152.779569         50   СРЕДНЕЕ             1   \n",
       "8         2   -6929.865299         35    ВЫСШЕЕ             0   \n",
       "9         0   -2188.756445         41   среднее             1   \n",
       "\n",
       "      family_status  family_status_id gender income_type  debt   total_income  \\\n",
       "0   женат / замужем                 0      F   сотрудник     0  253875.639453   \n",
       "1   женат / замужем                 0      F   сотрудник     0  112080.014102   \n",
       "2   женат / замужем                 0      M   сотрудник     0  145885.952297   \n",
       "3   женат / замужем                 0      M   сотрудник     0  267628.550329   \n",
       "4  гражданский брак                 1      F   пенсионер     0  158616.077870   \n",
       "5  гражданский брак                 1      M   компаньон     0  255763.565419   \n",
       "6   женат / замужем                 0      F   компаньон     0  240525.971920   \n",
       "7   женат / замужем                 0      M   сотрудник     0  135823.934197   \n",
       "8  гражданский брак                 1      F   сотрудник     0   95856.832424   \n",
       "9   женат / замужем                 0      M   сотрудник     0  144425.938277   \n",
       "\n",
       "                      purpose  \n",
       "0               покупка жилья  \n",
       "1     приобретение автомобиля  \n",
       "2               покупка жилья  \n",
       "3  дополнительное образование  \n",
       "4             сыграть свадьбу  \n",
       "5               покупка жилья  \n",
       "6           операции с жильем  \n",
       "7                 образование  \n",
       "8       на проведение свадьбы  \n",
       "9     покупка жилья для семьи  "
      ]
     },
     "execution_count": 115,
     "metadata": {},
     "output_type": "execute_result"
    }
   ],
   "source": [
    "data.head(10)"
   ]
  },
  {
   "cell_type": "markdown",
   "metadata": {},
   "source": [
    "Просмотрим подробнее данные по столбцам, уникальные значения, наличие пропусков и т.д. "
   ]
  },
  {
   "cell_type": "code",
   "execution_count": 116,
   "metadata": {},
   "outputs": [
    {
     "name": "stdout",
     "output_type": "stream",
     "text": [
      "Основное:\n",
      "Данные о долгах:|0|1\n",
      "Данные о детях:|1|0|3|2|-1|4|20|5\n",
      "Данные о семейном статусе:|женат / замужем|гражданский брак|вдовец / вдова|в разводе|Не женат / не замужем\n",
      "\n",
      "Проверка категорий\n",
      "Данные о поле:|F|M|XNA\n",
      "Данные о видах занятости:|сотрудник|пенсионер|компаньон|госслужащий|безработный|предприниматель|студент|в декрете\n",
      "Данные об образовании:|высшее|среднее|Среднее|СРЕДНЕЕ|ВЫСШЕЕ|неоконченное высшее|начальное|Высшее|НЕОКОНЧЕННОЕ ВЫСШЕЕ|Неоконченное высшее|НАЧАЛЬНОЕ|Начальное|Ученая степень|УЧЕНАЯ СТЕПЕНЬ|ученая степень\n",
      "\n",
      "Проверка числовых столбцов\n",
      "Минимальное значение трудового стажа, лет: -50.38068465909146, максимальное значение трудового стажа, лет: 1100.6997273296713\n",
      "Пропущенных значений о трудовом стаже:  2174\n",
      "Минимальное значение возраста, лет: 0, максимальное значение возраста, лет: 75\n",
      "Минимальное значение дохода: 20667.26379327158, максимальное значение дохода: 2265604.028722744\n",
      "Пропущенных значений о доходе:  2174\n"
     ]
    }
   ],
   "source": [
    "print ('Основное:')\n",
    "debt_values = data['debt'].unique()\n",
    "print ('Данные о долгах:', *debt_values, sep='|')\n",
    "children_values=data['children'].unique()\n",
    "print ('Данные о детях:', *children_values, sep='|') \n",
    "family_status_values = data['family_status'].unique()\n",
    "print ('Данные о семейном статусе:', *family_status_values, sep='|') \n",
    "print()\n",
    "print('Проверка категорий')\n",
    "gender_values = data['gender'].unique() \n",
    "print ('Данные о поле:', *gender_values, sep='|') \n",
    "income_type_values=data['income_type'].unique()\n",
    "print ('Данные о видах занятости:', *income_type_values, sep='|') \n",
    "education_values = data['education'].unique()\n",
    "print ('Данные об образовании:', *education_values, sep='|') \n",
    "print()\n",
    "print('Проверка числовых столбцов')\n",
    "print('Минимальное значение трудового стажа, лет: ', (data['days_employed'].min())/365, ', максимальное значение трудового стажа, лет: ', (data['days_employed'].max())/365, sep='')\n",
    "print('Пропущенных значений о трудовом стаже: ', data['days_employed'].isna().sum())\n",
    "print('Минимальное значение возраста, лет: ', data['dob_years'].min(), ', максимальное значение возраста, лет: ', data['dob_years'].max(), sep='')\n",
    "print('Минимальное значение дохода: ', data['total_income'].min(), ', максимальное значение дохода: ', data['total_income'].max(), sep='')\n",
    "print('Пропущенных значений о доходе: ', data['total_income'].isna().sum())"
   ]
  },
  {
   "cell_type": "markdown",
   "metadata": {},
   "source": [
    "<div class=\"alert alert-success\">\n",
    "<b> Комментарий ревьюера</b>\n",
    "\n",
    "Отлично, наглядная проверка корректности значений. В будующих проектах можешь обернуть это код в функцию для категориальных и для количественных переменных, чтобы просто вызывать ее для интересующего столбца.</div>"
   ]
  },
  {
   "cell_type": "code",
   "execution_count": 117,
   "metadata": {},
   "outputs": [],
   "source": [
    "#так может выглядеть функция для категориальных переменных\n",
    "def category_function (column):\n",
    "        list_name=column.unique()\n",
    "        print ('Уникальные значения столбца: ', *list_name, sep='|')\n",
    "        \n",
    "#так может выглядеть функция для количественных переменных\n",
    "def quantity_function (column): \n",
    "    print('Минимальное значение:', column.min(), ', максимальное значение:', column.max(), sep='')\n",
    "    print('Пропущенных значений: ', column.isna().sum())"
   ]
  },
  {
   "cell_type": "markdown",
   "metadata": {},
   "source": [
    "<div class=\"alert alert-success\">\n",
    "<b> Комментарий ревьюера v2</b>\n",
    "\n",
    "Здорово, что сразу пробуешь составить такие функции. Для количественных переменных можно еще использовать метод describe().\n",
    "</div>"
   ]
  },
  {
   "cell_type": "markdown",
   "metadata": {},
   "source": [
    "###### Вывод"
   ]
  },
  {
   "cell_type": "markdown",
   "metadata": {},
   "source": [
    "1 - Данные о семейном статусе заполнены все, пропусков нет, дубликатов в перечне уникальных значений нет. \n",
    "\n",
    "2 - Данные о видах занятости заполнены все, пропусков нет, дубликатов в перечне уникальных значений нет.  \n",
    "\n",
    "3 - Данные о поле заполнены некорректно (есть третья величина).\n",
    "\n",
    "4 - Данные о количестве детей содержат отрицательную величину.\n",
    "\n",
    "5 - Данные об образовании содержат дубликаты в перечне уникальных значений. \n",
    "\n",
    "6 - Данные о трудовом стаже содержат некорректные данные (отрицательные).\n",
    "\n",
    "7 - Данные о возрасте содержат как минимум нулевые данные, требуется дополнительное исследование, нет ли данных о возрасте менее 18 лет.\n",
    "________________________________________________________________\n",
    "Как определим факт погашения кредита в срок? Будем рассматривать эту задачу как нахождение доли клиентов с наличием / отсутствием долга (debt) среди общего числа клиентов по группам данных о семейном положении и количестве детей и искать взаимосвязь, сделав сводные таблицы, которые будут визуально пригодны для выводов. Мы никак не оцениваем взаимосвязь размера долга и длительности просрочек, т.к. размер долга в данных не указан, указан только факт его наличия (1) или отсутствия (0)."
   ]
  },
  {
   "cell_type": "markdown",
   "metadata": {},
   "source": [
    "# Вывод"
   ]
  },
  {
   "cell_type": "markdown",
   "metadata": {},
   "source": [
    "Требуется предобработка данных: обработка пропусков, дублей, выделение столбцов с категориями для формирования в дальнейшем сводных таблиц."
   ]
  },
  {
   "cell_type": "markdown",
   "metadata": {},
   "source": [
    "<div class=\"alert alert-success\">\n",
    "<b> Комментарий ревьюера</b>\n",
    "\n",
    "Отлично, есть первый взгляд на данные и намечены шаги для предобработки.</div>"
   ]
  },
  {
   "cell_type": "markdown",
   "metadata": {},
   "source": [
    "## Шаг 2. Предобработка данных"
   ]
  },
  {
   "cell_type": "markdown",
   "metadata": {},
   "source": [
    "### Обработка пропусков"
   ]
  },
  {
   "cell_type": "markdown",
   "metadata": {},
   "source": [
    "#### Исправим данные о поле клиента"
   ]
  },
  {
   "cell_type": "markdown",
   "metadata": {},
   "source": [
    "Найдем количество строк с некорректным полом."
   ]
  },
  {
   "cell_type": "code",
   "execution_count": 118,
   "metadata": {},
   "outputs": [
    {
     "data": {
      "text/plain": [
       "1"
      ]
     },
     "execution_count": 118,
     "metadata": {},
     "output_type": "execute_result"
    }
   ],
   "source": [
    "data.loc[data['gender']=='XNA']['gender'].count()"
   ]
  },
  {
   "cell_type": "markdown",
   "metadata": {},
   "source": [
    "Т.к. это всего 1 строка из 21595, менее 0,005%, заменим данные пола этого клиента на мужской"
   ]
  },
  {
   "cell_type": "code",
   "execution_count": 119,
   "metadata": {},
   "outputs": [
    {
     "data": {
      "text/plain": [
       "array(['F', 'M'], dtype=object)"
      ]
     },
     "execution_count": 119,
     "metadata": {},
     "output_type": "execute_result"
    }
   ],
   "source": [
    "data.loc[data['gender'] == 'XNA', 'gender'] = 'M'\n",
    "data['gender'].unique()"
   ]
  },
  {
   "cell_type": "markdown",
   "metadata": {},
   "source": [
    "Некорректно заполненные данные о поле исправлены."
   ]
  },
  {
   "cell_type": "markdown",
   "metadata": {},
   "source": [
    "<div class=\"alert alert-success\">\n",
    "<b> Комментарий ревьюера</b>\n",
    "\n",
    "Хорошо, есть обоснование замены и последующая проверка.\n",
    "</div>\n",
    "\n",
    "<div class=\"alert alert-warning\">\n",
    "Комментарии к действиям лучше давать в ячейках markdown — так их легче воспринимать. Комментарии в самом коде лучше использовать для пояснения технических аспектов, и только если они необходимы.\n",
    "</div>\n"
   ]
  },
  {
   "cell_type": "markdown",
   "metadata": {},
   "source": [
    "<div class=\"alert alert-success\">\n",
    "<b> Комментарий ревьюера v2</b>\n",
    "\n",
    "Вижу, что комментарии переехали в тектовые ячейки. Читать стало удобнее :) В целом лучше придерживаться такого принципа для всего проекта.</div>"
   ]
  },
  {
   "cell_type": "markdown",
   "metadata": {},
   "source": [
    "#### Исправим данные о количестве детей"
   ]
  },
  {
   "cell_type": "code",
   "execution_count": 120,
   "metadata": {},
   "outputs": [
    {
     "name": "stdout",
     "output_type": "stream",
     "text": [
      "47\n"
     ]
    }
   ],
   "source": [
    "#найдем количество строк с количеством детей, равным \"-1\"\n",
    "print(data.loc[data.loc[:, 'children']==-1]['children'].count())"
   ]
  },
  {
   "cell_type": "code",
   "execution_count": 121,
   "metadata": {},
   "outputs": [
    {
     "data": {
      "text/plain": [
       "array([ 1,  0,  3,  2,  4, 20,  5])"
      ]
     },
     "execution_count": 121,
     "metadata": {},
     "output_type": "execute_result"
    }
   ],
   "source": [
    "#т.к. 47 из 21525 срок составляет лишь 0.2%, заменим данные с \"-1\" на \"1\", т.к. вероятнее всего, это техническая опечатка: \n",
    "data.loc[data['children'] == -1, 'children'] = 1\n",
    "data['children'].unique() #проверим, как получилось"
   ]
  },
  {
   "cell_type": "markdown",
   "metadata": {},
   "source": [
    "Некорректно заполненные данные о количестве детей исправлены."
   ]
  },
  {
   "cell_type": "markdown",
   "metadata": {},
   "source": [
    "<div class=\"alert alert-success\">\n",
    "<b> Комментарий ревьюера</b>\n",
    "\n",
    "Ок, замену отрицательных значений произвели и дали предположение, откуда они взялись. Для замены можно еще использовать функцию abs() https://pandas.pydata.org/pandas-docs/stable/reference/api/pandas.DataFrame.abs.html</div>\n",
    "\n",
    "<div class=\"alert alert-warning\">\n",
    "Непонятно, что с 20 детьми - сколько таких записей, стоит ли их оставлять?\n",
    "</div>"
   ]
  },
  {
   "cell_type": "code",
   "execution_count": 122,
   "metadata": {},
   "outputs": [
    {
     "data": {
      "text/plain": [
       "children\n",
       "0     14149\n",
       "1      4865\n",
       "2      2055\n",
       "3       330\n",
       "4        41\n",
       "5         9\n",
       "20       76\n",
       "Name: children, dtype: int64"
      ]
     },
     "execution_count": 122,
     "metadata": {},
     "output_type": "execute_result"
    }
   ],
   "source": [
    "data.groupby('children')['children'].count()"
   ]
  },
  {
   "cell_type": "markdown",
   "metadata": {},
   "source": [
    "У клиента вполне может быть 20 детей, если это семейный детский дом, например. Таких записей 76 (0.35%), проверили ячейкой выше, их можно было бы и оставить, особенно с учетом того, что мы относим 20 детей к категории \"более 3 детей\" в дальнейшем. \n",
    "Однако признаем 20 детей опечаткой (20 вместо 2) и исправим код соответственно. "
   ]
  },
  {
   "cell_type": "code",
   "execution_count": 123,
   "metadata": {},
   "outputs": [
    {
     "data": {
      "text/plain": [
       "0    14149\n",
       "1     4865\n",
       "2     2131\n",
       "3      330\n",
       "4       41\n",
       "5        9\n",
       "Name: children, dtype: int64"
      ]
     },
     "execution_count": 123,
     "metadata": {},
     "output_type": "execute_result"
    }
   ],
   "source": [
    "data.loc[data['children']==20, 'children'] = 2\n",
    "data['children'].value_counts()"
   ]
  },
  {
   "cell_type": "markdown",
   "metadata": {},
   "source": [
    "<div class=\"alert alert-success\">\n",
    "<b> Комментарий ревьюера v2</b>\n",
    "\n",
    "Хорошо, теперь есть два предположения о записях с 20 детьми и выбрано одно из них.\n",
    "</div>"
   ]
  },
  {
   "cell_type": "markdown",
   "metadata": {},
   "source": [
    "#### Проверим и исправим данные о возрасте клиентов"
   ]
  },
  {
   "cell_type": "markdown",
   "metadata": {},
   "source": [
    "Мы знаем, что есть нулевые данные о возрасте, поищем иные ошибки - например, возраст менее 18 лет."
   ]
  },
  {
   "cell_type": "code",
   "execution_count": 124,
   "metadata": {},
   "outputs": [
    {
     "name": "stdout",
     "output_type": "stream",
     "text": [
      "Перечень возрастов клиентов: [42 36 33 32 53 27 43 50 35 41 40 65 54 56 26 48 24 21 57 67 28 63 62 47\n",
      " 34 68 25 31 30 20 49 37 45 61 64 44 52 46 23 38 39 51  0 59 29 60 55 58\n",
      " 71 22 73 66 69 19 72 70 74 75]\n",
      "Количество клиентов с возрастом менее 18 лет:  101\n",
      "Количество клиентов с возрастом 0:  101\n"
     ]
    }
   ],
   "source": [
    "print ('Перечень возрастов клиентов:', data['dob_years'].unique())\n",
    "print ('Количество клиентов с возрастом менее 18 лет: ', data.loc[data['dob_years']<18]['dob_years'].count())\n",
    "print ('Количество клиентов с возрастом 0: ', data.loc[data['dob_years']==0]['dob_years'].count())"
   ]
  },
  {
   "cell_type": "markdown",
   "metadata": {},
   "source": [
    "Проверим медиану и среднее, чтобы понять, как лучше заполнить недостающие данные о возрасте."
   ]
  },
  {
   "cell_type": "code",
   "execution_count": 125,
   "metadata": {},
   "outputs": [
    {
     "name": "stdout",
     "output_type": "stream",
     "text": [
      "Медиана: 42\n",
      "Среднее: 43\n"
     ]
    }
   ],
   "source": [
    "dob_years_med=data['dob_years'].median()\n",
    "dob_years_avg=data['dob_years'].mean()\n",
    "print('Медиана: {:.0f}'.format(dob_years_med))\n",
    "print('Среднее: {:.0f}'.format(dob_years_avg))"
   ]
  },
  {
   "cell_type": "markdown",
   "metadata": {},
   "source": [
    "Т.к. 101 запись из 21525 это менее 0.5%, заменим эти данные на медиану, которая в данном случае почти равна среднему."
   ]
  },
  {
   "cell_type": "code",
   "execution_count": 126,
   "metadata": {},
   "outputs": [
    {
     "name": "stdout",
     "output_type": "stream",
     "text": [
      "Количество клиентов с возрастом менее 18 лет:  0\n",
      "Количество клиентов с возрастом 0:  0\n"
     ]
    }
   ],
   "source": [
    "data.loc[data['dob_years']==0, 'dob_years']=dob_years_med\n",
    "print ('Количество клиентов с возрастом менее 18 лет: ', data.loc[data['dob_years']<18]['dob_years'].count())\n",
    "print ('Количество клиентов с возрастом 0: ', data.loc[data['dob_years']==0]['dob_years'].count())"
   ]
  },
  {
   "cell_type": "markdown",
   "metadata": {},
   "source": [
    "Данные о возрасте исправлены."
   ]
  },
  {
   "cell_type": "markdown",
   "metadata": {},
   "source": [
    "<div class=\"alert alert-success\">\n",
    "<b> Комментарий ревьюера</b>\n",
    "\n",
    "Ок, возможный вариант обработки. Но есть вероятность, что у нас появились 42-летние студенты. В будующем постарайся обращать внимание на такие моменты.</div>"
   ]
  },
  {
   "cell_type": "markdown",
   "metadata": {},
   "source": [
    "#### Проверим и исправим данные о трудовом стаже "
   ]
  },
  {
   "cell_type": "markdown",
   "metadata": {},
   "source": [
    "Посмотрев ранее на максимум и минимум по этому показателю, видим, что они некорректны: есть стаж, превышающий возраст в разы, есть отрицательный стаж. "
   ]
  },
  {
   "cell_type": "markdown",
   "metadata": {},
   "source": [
    "Проверим строки, стаж в которых превышает возраст. "
   ]
  },
  {
   "cell_type": "code",
   "execution_count": 127,
   "metadata": {},
   "outputs": [
    {
     "data": {
      "text/plain": [
       "<bound method Series.count of 4        340266.072047\n",
       "18       400281.136913\n",
       "24       338551.952911\n",
       "25       363548.489348\n",
       "30       335581.668515\n",
       "             ...      \n",
       "21505    338904.866406\n",
       "21508    386497.714078\n",
       "21509    362161.054124\n",
       "21518    373995.710838\n",
       "21521    343937.404131\n",
       "Name: days_employed, Length: 3445, dtype: float64>"
      ]
     },
     "execution_count": 127,
     "metadata": {},
     "output_type": "execute_result"
    }
   ],
   "source": [
    "data.loc[data['days_employed']>(data['dob_years']*365)]['days_employed'].count"
   ]
  },
  {
   "cell_type": "markdown",
   "metadata": {},
   "source": [
    "Проверим, сколько строк, стаж в которых отрицателен."
   ]
  },
  {
   "cell_type": "code",
   "execution_count": 128,
   "metadata": {},
   "outputs": [
    {
     "data": {
      "text/plain": [
       "<bound method Series.count of 0       -8437.673028\n",
       "1       -4024.803754\n",
       "2       -5623.422610\n",
       "3       -4124.747207\n",
       "5        -926.185831\n",
       "            ...     \n",
       "21519   -2351.431934\n",
       "21520   -4529.316663\n",
       "21522   -2113.346888\n",
       "21523   -3112.481705\n",
       "21524   -1984.507589\n",
       "Name: days_employed, Length: 15906, dtype: float64>"
      ]
     },
     "execution_count": 128,
     "metadata": {},
     "output_type": "execute_result"
    }
   ],
   "source": [
    "data.loc[data['days_employed']<0]['days_employed'].count"
   ]
  },
  {
   "cell_type": "markdown",
   "metadata": {},
   "source": [
    "В условиях того, что 3445+15906=19351 запись (а именно, все имеющиеся записи кроме NaN) либо превышают даже возраст клиента, либо отрицательны, а также учитывая то, что ответ на вопросы исследования не базируется на данных о трудовом стаже, заменим стаж на максимально возможный, а именно на величину возраста за вычетом 18 лет. "
   ]
  },
  {
   "cell_type": "code",
   "execution_count": 129,
   "metadata": {},
   "outputs": [],
   "source": [
    "data.loc[data['days_employed']>(data['dob_years']-18)*365, 'days_employed']=(data['dob_years']-18)*365\n",
    "data.loc[data['days_employed']<0, 'days_employed']=(data['dob_years']-18)*365\n",
    "data['days_employed']=data['days_employed'].fillna(0)"
   ]
  },
  {
   "cell_type": "code",
   "execution_count": 130,
   "metadata": {},
   "outputs": [
    {
     "name": "stdout",
     "output_type": "stream",
     "text": [
      "Количество пропусков в данных о трудовом стаже:  0\n"
     ]
    }
   ],
   "source": [
    "print('Количество пропусков в данных о трудовом стаже: ', data['days_employed'].isna().sum())"
   ]
  },
  {
   "cell_type": "markdown",
   "metadata": {},
   "source": [
    "Скорректировали данные о трудовом стаже, хотя это и те данные, которые мы не используем при ответе на вопросы исследования."
   ]
  },
  {
   "cell_type": "markdown",
   "metadata": {},
   "source": [
    "<div class=\"alert alert-warning\">\n",
    "<b> Комментарий ревьюера</b>\n",
    "\n",
    "Ок, возможный вариант. Но так как мы здесь заменили все записи датафрейма, лучше сделать предположение, откуда эти аномалии, и почему стоит обработать их именно так.\n",
    "</div>"
   ]
  },
  {
   "cell_type": "markdown",
   "metadata": {},
   "source": [
    "#### Проверим и исправим данные о доходе"
   ]
  },
  {
   "cell_type": "markdown",
   "metadata": {},
   "source": [
    "Этот параметр мы используем при ответе на вопросы исследования. "
   ]
  },
  {
   "cell_type": "code",
   "execution_count": 44,
   "metadata": {},
   "outputs": [
    {
     "name": "stdout",
     "output_type": "stream",
     "text": [
      "Пропущенных значений о доходе:  2174\n"
     ]
    }
   ],
   "source": [
    "print('Пропущенных значений о доходе: ', data['total_income'].isna().sum())"
   ]
  },
  {
   "cell_type": "markdown",
   "metadata": {},
   "source": [
    "Найдем медиану дохода по виду деятельности (income_type)."
   ]
  },
  {
   "cell_type": "code",
   "execution_count": 131,
   "metadata": {},
   "outputs": [
    {
     "name": "stdout",
     "output_type": "stream",
     "text": [
      "income_type\n",
      "безработный        131339.751676\n",
      "в декрете           53829.130729\n",
      "госслужащий        150447.935283\n",
      "компаньон          172357.950966\n",
      "пенсионер          118514.486412\n",
      "предприниматель    499163.144947\n",
      "сотрудник          142594.396847\n",
      "студент             98201.625314\n",
      "Name: total_income, dtype: float64\n"
     ]
    }
   ],
   "source": [
    "data_grouped_by_income_type=data.groupby('income_type')['total_income'].median()\n",
    "print(data_grouped_by_income_type)"
   ]
  },
  {
   "cell_type": "markdown",
   "metadata": {},
   "source": [
    "Сделаем из перечня уникальных значений видов занятости список."
   ]
  },
  {
   "cell_type": "code",
   "execution_count": 132,
   "metadata": {},
   "outputs": [
    {
     "data": {
      "text/plain": [
       "['сотрудник',\n",
       " 'пенсионер',\n",
       " 'компаньон',\n",
       " 'госслужащий',\n",
       " 'безработный',\n",
       " 'предприниматель',\n",
       " 'студент',\n",
       " 'в декрете']"
      ]
     },
     "execution_count": 132,
     "metadata": {},
     "output_type": "execute_result"
    }
   ],
   "source": [
    "import numpy as np\n",
    "income_types_list=np.array(data['income_type'].unique()).tolist()\n",
    "income_types_list "
   ]
  },
  {
   "cell_type": "markdown",
   "metadata": {},
   "source": [
    "Пройдемся по списку и для каждого вида деятельности заменим пропущенное значение в столбце total_income на медиану по группе."
   ]
  },
  {
   "cell_type": "code",
   "execution_count": 133,
   "metadata": {},
   "outputs": [],
   "source": [
    "for name in income_types_list: \n",
    "    data.loc[data['income_type']==name,'total_income']=data.loc[data['income_type']==name,'total_income'].fillna(data.loc[data['income_type']==name,'total_income'].median())"
   ]
  },
  {
   "cell_type": "code",
   "execution_count": 134,
   "metadata": {},
   "outputs": [
    {
     "data": {
      "text/plain": [
       "0"
      ]
     },
     "execution_count": 134,
     "metadata": {},
     "output_type": "execute_result"
    }
   ],
   "source": [
    "data['total_income'].isna().sum()"
   ]
  },
  {
   "cell_type": "markdown",
   "metadata": {},
   "source": [
    "Проверим теперь медиану дохода по виду деятельности (income_type)."
   ]
  },
  {
   "cell_type": "code",
   "execution_count": 136,
   "metadata": {},
   "outputs": [
    {
     "name": "stdout",
     "output_type": "stream",
     "text": [
      "income_type\n",
      "безработный        131339.751676\n",
      "в декрете           53829.130729\n",
      "госслужащий        150447.935283\n",
      "компаньон          172357.950966\n",
      "пенсионер          118514.486412\n",
      "предприниматель    499163.144947\n",
      "сотрудник          142594.396847\n",
      "студент             98201.625314\n",
      "Name: total_income, dtype: float64\n"
     ]
    }
   ],
   "source": [
    "data_grouped_by_income_type=data.groupby('income_type')['total_income'].median()\n",
    "print(data_grouped_by_income_type)"
   ]
  },
  {
   "cell_type": "markdown",
   "metadata": {},
   "source": [
    "Данные о доходах исправили на основании медианных значений по виду деятельности клиента. "
   ]
  },
  {
   "cell_type": "markdown",
   "metadata": {},
   "source": [
    "<div class=\"alert alert-success\">\n",
    "<b> Комментарий ревьюера</b>\n",
    "\n",
    "Отлично, что учитываешь род деятельности для заполнения пропусков. Элегантное решение в коде.\n",
    "\n",
    "На что еще можно обращать внимание: свзяаны ли были эти пропуски с другими пропусками в данных.\n",
    "</div>"
   ]
  },
  {
   "cell_type": "markdown",
   "metadata": {},
   "source": [
    "По количеству пропуски о доходе равны пропуска в трудовом стаже. Вряд ли возможно, что при получении кредита клиент не указал трудовой стаж и не указал свой доход, и все равно был одобрен как заемщик. Возможно, эти данные должны были быть подгружены из справок, но подгружены не были?"
   ]
  },
  {
   "cell_type": "markdown",
   "metadata": {},
   "source": [
    "<div class=\"alert alert-success\">\n",
    "<b> Комментарий ревьюера v2</b>\n",
    "\n",
    "Ок, возможный вариант. В реальной работе с такими предположениями можно обращаться к технической команде.\n",
    "</div>"
   ]
  },
  {
   "cell_type": "markdown",
   "metadata": {},
   "source": [
    "### Замена типа данных"
   ]
  },
  {
   "cell_type": "code",
   "execution_count": 138,
   "metadata": {},
   "outputs": [
    {
     "name": "stdout",
     "output_type": "stream",
     "text": [
      "<class 'pandas.core.frame.DataFrame'>\n",
      "RangeIndex: 21525 entries, 0 to 21524\n",
      "Data columns (total 12 columns):\n",
      "children            21525 non-null int64\n",
      "days_employed       21525 non-null float64\n",
      "dob_years           21525 non-null float64\n",
      "education           21525 non-null object\n",
      "education_id        21525 non-null int64\n",
      "family_status       21525 non-null object\n",
      "family_status_id    21525 non-null int64\n",
      "gender              21525 non-null object\n",
      "income_type         21525 non-null object\n",
      "debt                21525 non-null int64\n",
      "total_income        21525 non-null float64\n",
      "purpose             21525 non-null object\n",
      "dtypes: float64(3), int64(4), object(5)\n",
      "memory usage: 2.0+ MB\n"
     ]
    }
   ],
   "source": [
    "data.info()"
   ]
  },
  {
   "cell_type": "markdown",
   "metadata": {},
   "source": [
    "Превратим количество дней стажа и возраст клиента в целое число."
   ]
  },
  {
   "cell_type": "code",
   "execution_count": 139,
   "metadata": {},
   "outputs": [],
   "source": [
    "data['days_employed']=data['days_employed'].astype('int')\n",
    "data['dob_years']=data['dob_years'].astype('int')"
   ]
  },
  {
   "cell_type": "code",
   "execution_count": 140,
   "metadata": {},
   "outputs": [
    {
     "name": "stdout",
     "output_type": "stream",
     "text": [
      "<class 'pandas.core.frame.DataFrame'>\n",
      "RangeIndex: 21525 entries, 0 to 21524\n",
      "Data columns (total 12 columns):\n",
      "children            21525 non-null int64\n",
      "days_employed       21525 non-null int64\n",
      "dob_years           21525 non-null int64\n",
      "education           21525 non-null object\n",
      "education_id        21525 non-null int64\n",
      "family_status       21525 non-null object\n",
      "family_status_id    21525 non-null int64\n",
      "gender              21525 non-null object\n",
      "income_type         21525 non-null object\n",
      "debt                21525 non-null int64\n",
      "total_income        21525 non-null float64\n",
      "purpose             21525 non-null object\n",
      "dtypes: float64(1), int64(6), object(5)\n",
      "memory usage: 2.0+ MB\n"
     ]
    }
   ],
   "source": [
    "data.info()"
   ]
  },
  {
   "cell_type": "markdown",
   "metadata": {},
   "source": [
    "**Вывод**"
   ]
  },
  {
   "cell_type": "markdown",
   "metadata": {},
   "source": [
    "Типы данных приведены в соответствие с логикой, числа с плавающей запятой в кол-ве дней стажа и возраста переведены в целые. Строки (категории) имеют строковый тип данных, количественные значения - int, float. "
   ]
  },
  {
   "cell_type": "markdown",
   "metadata": {},
   "source": [
    "<div class=\"alert alert-success\">\n",
    "<b> Комментарий ревьюера</b>\n",
    "\n",
    "Хорошо, привели типы. \n",
    "    \n",
    "Комментарий о том, что по логике некоторые столбцы должны быть целочисленными, лучше помещать после шага, когда увидели эту проблему, и до шага, когда проблему исправили.\n",
    "\n",
    "</div>"
   ]
  },
  {
   "cell_type": "markdown",
   "metadata": {},
   "source": [
    "### Обработка дубликатов"
   ]
  },
  {
   "cell_type": "markdown",
   "metadata": {},
   "source": [
    "Есть дубликаты в названиях видов образования."
   ]
  },
  {
   "cell_type": "code",
   "execution_count": 142,
   "metadata": {
    "scrolled": true
   },
   "outputs": [
    {
     "name": "stdout",
     "output_type": "stream",
     "text": [
      "['высшее' 'среднее' 'Среднее' 'СРЕДНЕЕ' 'ВЫСШЕЕ' 'неоконченное высшее'\n",
      " 'начальное' 'Высшее' 'НЕОКОНЧЕННОЕ ВЫСШЕЕ' 'Неоконченное высшее'\n",
      " 'НАЧАЛЬНОЕ' 'Начальное' 'Ученая степень' 'УЧЕНАЯ СТЕПЕНЬ'\n",
      " 'ученая степень']\n"
     ]
    }
   ],
   "source": [
    "print(data['education'].unique())"
   ]
  },
  {
   "cell_type": "code",
   "execution_count": 145,
   "metadata": {},
   "outputs": [],
   "source": [
    "#можно все их вручную переписать\n",
    "#data.loc[data['education']=='Среднее', 'education']='среднее'\n",
    "#data.loc[data['education']=='СРЕДНЕЕ', 'education']='среднее'\n",
    "#data.loc[data['education']=='ВЫСШЕЕ', 'education']='высшее'\n",
    "#data.loc[data['education']=='Высшее', 'education']='высшее'\n",
    "#data.loc[data['education']=='НЕОКОНЧЕННОЕ ВЫСШЕЕ', 'education']='неоконченное высшее'\n",
    "#data.loc[data['education']=='Неоконченное высшее', 'education']='неоконченное высшее'\n",
    "#data.loc[data['education']=='НАЧАЛЬНОЕ', 'education']='начальное'\n",
    "#data.loc[data['education']=='Начальное', 'education']='начальное'\n",
    "#data.loc[data['education']=='Ученая степень', 'education']='ученая степень'\n",
    "#data.loc[data['education']=='УЧЕНАЯ СТЕПЕНЬ', 'education']='ученая степень'"
   ]
  },
  {
   "cell_type": "code",
   "execution_count": 146,
   "metadata": {},
   "outputs": [],
   "source": [
    "#print(data['education'].unique())"
   ]
  },
  {
   "cell_type": "markdown",
   "metadata": {},
   "source": [
    "<div class=\"alert alert-warning\">\n",
    "<b> Комментарий ревьюера</b>\n",
    "        \n",
    "Да, от дубликатов в образовании избавились. Но стоит сделать предположение о том, откуда они могли взяться. Еще в данных есть id для каждого вида образования — постарайся учесть и эту информацию.\n",
    "    \n",
    "Для оптимизации кода здесь можно использовать функцию str.lower() — она работает сразу со всем столбцом датафрейма https://pandas.pydata.org/pandas-docs/stable/reference/api/pandas.Series.str.lower.html\n",
    "</div>"
   ]
  },
  {
   "cell_type": "markdown",
   "metadata": {},
   "source": [
    "Дубликаты в названии образования взялись, вероятно, оттого, что в анкете это поле заполняется вручную, а не выбирается одна из категорий выпадающего списка, поэтому каждый клиент вводил данные так, как хотел. Оптимизируем код с учетом замечания, закомментировав в ячейках выше исправления, внесенные вручную. Проверим результат. "
   ]
  },
  {
   "cell_type": "code",
   "execution_count": 148,
   "metadata": {},
   "outputs": [
    {
     "data": {
      "text/plain": [
       "array(['высшее', 'среднее', 'неоконченное высшее', 'начальное',\n",
       "       'ученая степень'], dtype=object)"
      ]
     },
     "execution_count": 148,
     "metadata": {},
     "output_type": "execute_result"
    }
   ],
   "source": [
    "data['education']=data['education'].str.lower()\n",
    "data['education'].unique()"
   ]
  },
  {
   "cell_type": "markdown",
   "metadata": {},
   "source": [
    "Устранили дубликаты в названиях видов образования. Также это можно было сделать через замену значения ячейки, используя как базу education_id."
   ]
  },
  {
   "cell_type": "markdown",
   "metadata": {},
   "source": [
    "<div class=\"alert alert-success\">\n",
    "<b> Комментарий ревьюера v2</b>\n",
    "\n",
    "Хорошо, принято.\n",
    "</div>"
   ]
  },
  {
   "cell_type": "markdown",
   "metadata": {},
   "source": [
    "Проверим наличие полных дубликатов строк."
   ]
  },
  {
   "cell_type": "code",
   "execution_count": 149,
   "metadata": {},
   "outputs": [
    {
     "name": "stdout",
     "output_type": "stream",
     "text": [
      "72\n"
     ]
    }
   ],
   "source": [
    "print(data.duplicated().sum())"
   ]
  },
  {
   "cell_type": "markdown",
   "metadata": {},
   "source": [
    "Доля дубликатов составляет 0,33% от всех данных, и вероятность полного совпадения настоящих клиентов друг с другом по такому большому числу параметров очень мала. \n",
    "Дубликаты можно удалить. Причина появления дубликатов, возможно, повторное занесение анкет клиентов или случайная повторная отправка (сохранение) их анкет. "
   ]
  },
  {
   "cell_type": "code",
   "execution_count": 150,
   "metadata": {},
   "outputs": [
    {
     "name": "stdout",
     "output_type": "stream",
     "text": [
      "0\n"
     ]
    }
   ],
   "source": [
    "data=data.drop_duplicates().reset_index(drop=True)\n",
    "print(data.duplicated().sum())"
   ]
  },
  {
   "cell_type": "code",
   "execution_count": 151,
   "metadata": {},
   "outputs": [
    {
     "name": "stdout",
     "output_type": "stream",
     "text": [
      "<class 'pandas.core.frame.DataFrame'>\n",
      "RangeIndex: 21453 entries, 0 to 21452\n",
      "Data columns (total 12 columns):\n",
      "children            21453 non-null int64\n",
      "days_employed       21453 non-null int64\n",
      "dob_years           21453 non-null int64\n",
      "education           21453 non-null object\n",
      "education_id        21453 non-null int64\n",
      "family_status       21453 non-null object\n",
      "family_status_id    21453 non-null int64\n",
      "gender              21453 non-null object\n",
      "income_type         21453 non-null object\n",
      "debt                21453 non-null int64\n",
      "total_income        21453 non-null float64\n",
      "purpose             21453 non-null object\n",
      "dtypes: float64(1), int64(6), object(5)\n",
      "memory usage: 2.0+ MB\n"
     ]
    }
   ],
   "source": [
    "data.info()"
   ]
  },
  {
   "cell_type": "markdown",
   "metadata": {},
   "source": [
    "**Вывод**"
   ]
  },
  {
   "cell_type": "markdown",
   "metadata": {},
   "source": [
    "В данных нет пропусков и дубликатов. Типы данных приведены в соответствие с их содержанием. "
   ]
  },
  {
   "cell_type": "markdown",
   "metadata": {},
   "source": [
    "<div class=\"alert alert-success\">\n",
    "<b> Комментарий ревьюера</b>\n",
    "\n",
    "Хорошо.\n",
    "\n",
    "</div>"
   ]
  },
  {
   "cell_type": "markdown",
   "metadata": {},
   "source": [
    "### Лемматизация"
   ]
  },
  {
   "cell_type": "markdown",
   "metadata": {},
   "source": [
    "Просмотрим, сколько вариантов целей взятия кредита содержится в данных."
   ]
  },
  {
   "cell_type": "code",
   "execution_count": 152,
   "metadata": {},
   "outputs": [
    {
     "data": {
      "text/plain": [
       "['покупка жилья',\n",
       " 'приобретение автомобиля',\n",
       " 'дополнительное образование',\n",
       " 'сыграть свадьбу',\n",
       " 'операции с жильем',\n",
       " 'образование',\n",
       " 'на проведение свадьбы',\n",
       " 'покупка жилья для семьи',\n",
       " 'покупка недвижимости',\n",
       " 'покупка коммерческой недвижимости',\n",
       " 'покупка жилой недвижимости',\n",
       " 'строительство собственной недвижимости',\n",
       " 'недвижимость',\n",
       " 'строительство недвижимости',\n",
       " 'на покупку подержанного автомобиля',\n",
       " 'на покупку своего автомобиля',\n",
       " 'операции с коммерческой недвижимостью',\n",
       " 'строительство жилой недвижимости',\n",
       " 'жилье',\n",
       " 'операции со своей недвижимостью',\n",
       " 'автомобили',\n",
       " 'заняться образованием',\n",
       " 'сделка с подержанным автомобилем',\n",
       " 'получение образования',\n",
       " 'автомобиль',\n",
       " 'свадьба',\n",
       " 'получение дополнительного образования',\n",
       " 'покупка своего жилья',\n",
       " 'операции с недвижимостью',\n",
       " 'получение высшего образования',\n",
       " 'свой автомобиль',\n",
       " 'сделка с автомобилем',\n",
       " 'профильное образование',\n",
       " 'высшее образование',\n",
       " 'покупка жилья для сдачи',\n",
       " 'на покупку автомобиля',\n",
       " 'ремонт жилью',\n",
       " 'заняться высшим образованием']"
      ]
     },
     "execution_count": 152,
     "metadata": {},
     "output_type": "execute_result"
    }
   ],
   "source": [
    "purpose_list=data['purpose'].unique().tolist()\n",
    "purpose_list"
   ]
  },
  {
   "cell_type": "markdown",
   "metadata": {},
   "source": [
    "Узнаем их количество."
   ]
  },
  {
   "cell_type": "code",
   "execution_count": 153,
   "metadata": {},
   "outputs": [
    {
     "data": {
      "text/plain": [
       "38"
      ]
     },
     "execution_count": 153,
     "metadata": {},
     "output_type": "execute_result"
    }
   ],
   "source": [
    "len(purpose_list)"
   ]
  },
  {
   "cell_type": "markdown",
   "metadata": {},
   "source": [
    "В 38 разных вариантах видим 4 основных категории: недвижимость, автомобиль, свадьба, образование"
   ]
  },
  {
   "cell_type": "code",
   "execution_count": 154,
   "metadata": {},
   "outputs": [
    {
     "name": "stdout",
     "output_type": "stream",
     "text": [
      "недвижимость    10811\n",
      "автомобиль       4306\n",
      "образование      4013\n",
      "свадьба          2323\n",
      "Name: purpose_category, dtype: int64\n"
     ]
    }
   ],
   "source": [
    "def purpose_function (p): \n",
    "    if 'жил' in p:\n",
    "        return 'недвижимость'\n",
    "    if 'недвиж' in p:\n",
    "        return 'недвижимость'\n",
    "    if 'автом' in p: \n",
    "        return 'автомобиль'\n",
    "    if 'свад' in p: \n",
    "        return 'свадьба'\n",
    "    if 'образ' in p: \n",
    "        return 'образование'\n",
    "data['purpose_category']=data['purpose'].apply(purpose_function)\n",
    "print(data['purpose_category'].value_counts())"
   ]
  },
  {
   "cell_type": "markdown",
   "metadata": {},
   "source": [
    "<div class=\"alert alert-success\">\n",
    "<b> Комментарий ревьюера</b>\n",
    "\n",
    "Хорошо.Понятно, как выделяли категории.\n",
    "</div>"
   ]
  },
  {
   "cell_type": "markdown",
   "metadata": {},
   "source": [
    "Попробуем то же самое с леммами. "
   ]
  },
  {
   "cell_type": "code",
   "execution_count": 156,
   "metadata": {
    "scrolled": true
   },
   "outputs": [
    {
     "data": {
      "text/html": [
       "<div>\n",
       "<style scoped>\n",
       "    .dataframe tbody tr th:only-of-type {\n",
       "        vertical-align: middle;\n",
       "    }\n",
       "\n",
       "    .dataframe tbody tr th {\n",
       "        vertical-align: top;\n",
       "    }\n",
       "\n",
       "    .dataframe thead th {\n",
       "        text-align: right;\n",
       "    }\n",
       "</style>\n",
       "<table border=\"1\" class=\"dataframe\">\n",
       "  <thead>\n",
       "    <tr style=\"text-align: right;\">\n",
       "      <th></th>\n",
       "      <th>children</th>\n",
       "      <th>days_employed</th>\n",
       "      <th>dob_years</th>\n",
       "      <th>education</th>\n",
       "      <th>education_id</th>\n",
       "      <th>family_status</th>\n",
       "      <th>family_status_id</th>\n",
       "      <th>gender</th>\n",
       "      <th>income_type</th>\n",
       "      <th>debt</th>\n",
       "      <th>total_income</th>\n",
       "      <th>purpose</th>\n",
       "      <th>purpose_category</th>\n",
       "      <th>lemmas_of_purpose</th>\n",
       "    </tr>\n",
       "  </thead>\n",
       "  <tbody>\n",
       "    <tr>\n",
       "      <td>0</td>\n",
       "      <td>1</td>\n",
       "      <td>8760</td>\n",
       "      <td>42</td>\n",
       "      <td>высшее</td>\n",
       "      <td>0</td>\n",
       "      <td>женат / замужем</td>\n",
       "      <td>0</td>\n",
       "      <td>F</td>\n",
       "      <td>сотрудник</td>\n",
       "      <td>0</td>\n",
       "      <td>253875.639453</td>\n",
       "      <td>покупка жилья</td>\n",
       "      <td>недвижимость</td>\n",
       "      <td>[покупка,  , жилье, \\n]</td>\n",
       "    </tr>\n",
       "    <tr>\n",
       "      <td>1</td>\n",
       "      <td>1</td>\n",
       "      <td>6570</td>\n",
       "      <td>36</td>\n",
       "      <td>среднее</td>\n",
       "      <td>1</td>\n",
       "      <td>женат / замужем</td>\n",
       "      <td>0</td>\n",
       "      <td>F</td>\n",
       "      <td>сотрудник</td>\n",
       "      <td>0</td>\n",
       "      <td>112080.014102</td>\n",
       "      <td>приобретение автомобиля</td>\n",
       "      <td>автомобиль</td>\n",
       "      <td>[приобретение,  , автомобиль, \\n]</td>\n",
       "    </tr>\n",
       "    <tr>\n",
       "      <td>2</td>\n",
       "      <td>0</td>\n",
       "      <td>5475</td>\n",
       "      <td>33</td>\n",
       "      <td>среднее</td>\n",
       "      <td>1</td>\n",
       "      <td>женат / замужем</td>\n",
       "      <td>0</td>\n",
       "      <td>M</td>\n",
       "      <td>сотрудник</td>\n",
       "      <td>0</td>\n",
       "      <td>145885.952297</td>\n",
       "      <td>покупка жилья</td>\n",
       "      <td>недвижимость</td>\n",
       "      <td>[покупка,  , жилье, \\n]</td>\n",
       "    </tr>\n",
       "    <tr>\n",
       "      <td>3</td>\n",
       "      <td>3</td>\n",
       "      <td>5110</td>\n",
       "      <td>32</td>\n",
       "      <td>среднее</td>\n",
       "      <td>1</td>\n",
       "      <td>женат / замужем</td>\n",
       "      <td>0</td>\n",
       "      <td>M</td>\n",
       "      <td>сотрудник</td>\n",
       "      <td>0</td>\n",
       "      <td>267628.550329</td>\n",
       "      <td>дополнительное образование</td>\n",
       "      <td>образование</td>\n",
       "      <td>[дополнительный,  , образование, \\n]</td>\n",
       "    </tr>\n",
       "    <tr>\n",
       "      <td>4</td>\n",
       "      <td>0</td>\n",
       "      <td>12775</td>\n",
       "      <td>53</td>\n",
       "      <td>среднее</td>\n",
       "      <td>1</td>\n",
       "      <td>гражданский брак</td>\n",
       "      <td>1</td>\n",
       "      <td>F</td>\n",
       "      <td>пенсионер</td>\n",
       "      <td>0</td>\n",
       "      <td>158616.077870</td>\n",
       "      <td>сыграть свадьбу</td>\n",
       "      <td>свадьба</td>\n",
       "      <td>[сыграть,  , свадьба, \\n]</td>\n",
       "    </tr>\n",
       "    <tr>\n",
       "      <td>5</td>\n",
       "      <td>0</td>\n",
       "      <td>3285</td>\n",
       "      <td>27</td>\n",
       "      <td>высшее</td>\n",
       "      <td>0</td>\n",
       "      <td>гражданский брак</td>\n",
       "      <td>1</td>\n",
       "      <td>M</td>\n",
       "      <td>компаньон</td>\n",
       "      <td>0</td>\n",
       "      <td>255763.565419</td>\n",
       "      <td>покупка жилья</td>\n",
       "      <td>недвижимость</td>\n",
       "      <td>[покупка,  , жилье, \\n]</td>\n",
       "    </tr>\n",
       "    <tr>\n",
       "      <td>6</td>\n",
       "      <td>0</td>\n",
       "      <td>9125</td>\n",
       "      <td>43</td>\n",
       "      <td>высшее</td>\n",
       "      <td>0</td>\n",
       "      <td>женат / замужем</td>\n",
       "      <td>0</td>\n",
       "      <td>F</td>\n",
       "      <td>компаньон</td>\n",
       "      <td>0</td>\n",
       "      <td>240525.971920</td>\n",
       "      <td>операции с жильем</td>\n",
       "      <td>недвижимость</td>\n",
       "      <td>[операция,  , с,  , жилье, \\n]</td>\n",
       "    </tr>\n",
       "    <tr>\n",
       "      <td>7</td>\n",
       "      <td>0</td>\n",
       "      <td>11680</td>\n",
       "      <td>50</td>\n",
       "      <td>среднее</td>\n",
       "      <td>1</td>\n",
       "      <td>женат / замужем</td>\n",
       "      <td>0</td>\n",
       "      <td>M</td>\n",
       "      <td>сотрудник</td>\n",
       "      <td>0</td>\n",
       "      <td>135823.934197</td>\n",
       "      <td>образование</td>\n",
       "      <td>образование</td>\n",
       "      <td>[образование, \\n]</td>\n",
       "    </tr>\n",
       "    <tr>\n",
       "      <td>8</td>\n",
       "      <td>2</td>\n",
       "      <td>6205</td>\n",
       "      <td>35</td>\n",
       "      <td>высшее</td>\n",
       "      <td>0</td>\n",
       "      <td>гражданский брак</td>\n",
       "      <td>1</td>\n",
       "      <td>F</td>\n",
       "      <td>сотрудник</td>\n",
       "      <td>0</td>\n",
       "      <td>95856.832424</td>\n",
       "      <td>на проведение свадьбы</td>\n",
       "      <td>свадьба</td>\n",
       "      <td>[на,  , проведение,  , свадьба, \\n]</td>\n",
       "    </tr>\n",
       "    <tr>\n",
       "      <td>9</td>\n",
       "      <td>0</td>\n",
       "      <td>8395</td>\n",
       "      <td>41</td>\n",
       "      <td>среднее</td>\n",
       "      <td>1</td>\n",
       "      <td>женат / замужем</td>\n",
       "      <td>0</td>\n",
       "      <td>M</td>\n",
       "      <td>сотрудник</td>\n",
       "      <td>0</td>\n",
       "      <td>144425.938277</td>\n",
       "      <td>покупка жилья для семьи</td>\n",
       "      <td>недвижимость</td>\n",
       "      <td>[покупка,  , жилье,  , для,  , семья, \\n]</td>\n",
       "    </tr>\n",
       "  </tbody>\n",
       "</table>\n",
       "</div>"
      ],
      "text/plain": [
       "   children  days_employed  dob_years education  education_id  \\\n",
       "0         1           8760         42    высшее             0   \n",
       "1         1           6570         36   среднее             1   \n",
       "2         0           5475         33   среднее             1   \n",
       "3         3           5110         32   среднее             1   \n",
       "4         0          12775         53   среднее             1   \n",
       "5         0           3285         27    высшее             0   \n",
       "6         0           9125         43    высшее             0   \n",
       "7         0          11680         50   среднее             1   \n",
       "8         2           6205         35    высшее             0   \n",
       "9         0           8395         41   среднее             1   \n",
       "\n",
       "      family_status  family_status_id gender income_type  debt   total_income  \\\n",
       "0   женат / замужем                 0      F   сотрудник     0  253875.639453   \n",
       "1   женат / замужем                 0      F   сотрудник     0  112080.014102   \n",
       "2   женат / замужем                 0      M   сотрудник     0  145885.952297   \n",
       "3   женат / замужем                 0      M   сотрудник     0  267628.550329   \n",
       "4  гражданский брак                 1      F   пенсионер     0  158616.077870   \n",
       "5  гражданский брак                 1      M   компаньон     0  255763.565419   \n",
       "6   женат / замужем                 0      F   компаньон     0  240525.971920   \n",
       "7   женат / замужем                 0      M   сотрудник     0  135823.934197   \n",
       "8  гражданский брак                 1      F   сотрудник     0   95856.832424   \n",
       "9   женат / замужем                 0      M   сотрудник     0  144425.938277   \n",
       "\n",
       "                      purpose purpose_category  \\\n",
       "0               покупка жилья     недвижимость   \n",
       "1     приобретение автомобиля       автомобиль   \n",
       "2               покупка жилья     недвижимость   \n",
       "3  дополнительное образование      образование   \n",
       "4             сыграть свадьбу          свадьба   \n",
       "5               покупка жилья     недвижимость   \n",
       "6           операции с жильем     недвижимость   \n",
       "7                 образование      образование   \n",
       "8       на проведение свадьбы          свадьба   \n",
       "9     покупка жилья для семьи     недвижимость   \n",
       "\n",
       "                           lemmas_of_purpose  \n",
       "0                    [покупка,  , жилье, \\n]  \n",
       "1          [приобретение,  , автомобиль, \\n]  \n",
       "2                    [покупка,  , жилье, \\n]  \n",
       "3       [дополнительный,  , образование, \\n]  \n",
       "4                  [сыграть,  , свадьба, \\n]  \n",
       "5                    [покупка,  , жилье, \\n]  \n",
       "6             [операция,  , с,  , жилье, \\n]  \n",
       "7                          [образование, \\n]  \n",
       "8        [на,  , проведение,  , свадьба, \\n]  \n",
       "9  [покупка,  , жилье,  , для,  , семья, \\n]  "
      ]
     },
     "execution_count": 156,
     "metadata": {},
     "output_type": "execute_result"
    }
   ],
   "source": [
    "from pymystem3 import Mystem\n",
    "m = Mystem()\n",
    "def purpose_function(row): \n",
    "    lemmas_purpose=m.lemmatize(row['purpose'])\n",
    "    return lemmas_purpose\n",
    "\n",
    "data['lemmas_of_purpose']=data.apply(purpose_function, axis=1)\n",
    "data.head(10)"
   ]
  },
  {
   "cell_type": "markdown",
   "metadata": {},
   "source": [
    "<div class=\"alert alert-success\">\n",
    "<b> Комментарий ревьюера</b>\n",
    "\n",
    "Хорошо, провели лемматизацию.\n",
    "\n",
    "</div>"
   ]
  },
  {
   "cell_type": "markdown",
   "metadata": {},
   "source": [
    "Леммы получились. На основании их также можно отнести цель кредита к одной из четырех категорий, к которым мы уже отнесли их выше (получившийся столбец purpose_category). "
   ]
  },
  {
   "cell_type": "code",
   "execution_count": 157,
   "metadata": {},
   "outputs": [
    {
     "name": "stdout",
     "output_type": "stream",
     "text": [
      "недвижимость    10811\n",
      "автомобиль       4306\n",
      "образование      4013\n",
      "свадьба          2323\n",
      "Name: purpose_category_lemmas, dtype: int64\n"
     ]
    }
   ],
   "source": [
    "def purpose_function_lemmas (p): \n",
    "    if 'жилье' in p:\n",
    "        return 'недвижимость'\n",
    "    if 'недвижимость' in p:\n",
    "        return 'недвижимость'\n",
    "    if 'автомобиль' in p: \n",
    "        return 'автомобиль'\n",
    "    if 'свадьба' in p: \n",
    "        return 'свадьба'\n",
    "    if 'образование' in p: \n",
    "        return 'образование'\n",
    "data['purpose_category_lemmas']=data['lemmas_of_purpose'].apply(purpose_function_lemmas)\n",
    "print(data['purpose_category_lemmas'].value_counts())"
   ]
  },
  {
   "cell_type": "code",
   "execution_count": 69,
   "metadata": {},
   "outputs": [
    {
     "data": {
      "text/html": [
       "<div>\n",
       "<style scoped>\n",
       "    .dataframe tbody tr th:only-of-type {\n",
       "        vertical-align: middle;\n",
       "    }\n",
       "\n",
       "    .dataframe tbody tr th {\n",
       "        vertical-align: top;\n",
       "    }\n",
       "\n",
       "    .dataframe thead th {\n",
       "        text-align: right;\n",
       "    }\n",
       "</style>\n",
       "<table border=\"1\" class=\"dataframe\">\n",
       "  <thead>\n",
       "    <tr style=\"text-align: right;\">\n",
       "      <th></th>\n",
       "      <th>children</th>\n",
       "      <th>days_employed</th>\n",
       "      <th>dob_years</th>\n",
       "      <th>education</th>\n",
       "      <th>education_id</th>\n",
       "      <th>family_status</th>\n",
       "      <th>family_status_id</th>\n",
       "      <th>gender</th>\n",
       "      <th>income_type</th>\n",
       "      <th>debt</th>\n",
       "      <th>total_income</th>\n",
       "      <th>purpose</th>\n",
       "      <th>purpose_category</th>\n",
       "      <th>lemmas_of_purpose</th>\n",
       "      <th>purpose_category_lemmas</th>\n",
       "    </tr>\n",
       "  </thead>\n",
       "  <tbody>\n",
       "    <tr>\n",
       "      <td>0</td>\n",
       "      <td>1</td>\n",
       "      <td>8760</td>\n",
       "      <td>42</td>\n",
       "      <td>высшее</td>\n",
       "      <td>0</td>\n",
       "      <td>женат / замужем</td>\n",
       "      <td>0</td>\n",
       "      <td>F</td>\n",
       "      <td>сотрудник</td>\n",
       "      <td>0</td>\n",
       "      <td>253875.639453</td>\n",
       "      <td>покупка жилья</td>\n",
       "      <td>недвижимость</td>\n",
       "      <td>[покупка,  , жилье, \\n]</td>\n",
       "      <td>недвижимость</td>\n",
       "    </tr>\n",
       "    <tr>\n",
       "      <td>1</td>\n",
       "      <td>1</td>\n",
       "      <td>6570</td>\n",
       "      <td>36</td>\n",
       "      <td>среднее</td>\n",
       "      <td>1</td>\n",
       "      <td>женат / замужем</td>\n",
       "      <td>0</td>\n",
       "      <td>F</td>\n",
       "      <td>сотрудник</td>\n",
       "      <td>0</td>\n",
       "      <td>112080.014102</td>\n",
       "      <td>приобретение автомобиля</td>\n",
       "      <td>автомобиль</td>\n",
       "      <td>[приобретение,  , автомобиль, \\n]</td>\n",
       "      <td>автомобиль</td>\n",
       "    </tr>\n",
       "    <tr>\n",
       "      <td>2</td>\n",
       "      <td>0</td>\n",
       "      <td>5475</td>\n",
       "      <td>33</td>\n",
       "      <td>среднее</td>\n",
       "      <td>1</td>\n",
       "      <td>женат / замужем</td>\n",
       "      <td>0</td>\n",
       "      <td>M</td>\n",
       "      <td>сотрудник</td>\n",
       "      <td>0</td>\n",
       "      <td>145885.952297</td>\n",
       "      <td>покупка жилья</td>\n",
       "      <td>недвижимость</td>\n",
       "      <td>[покупка,  , жилье, \\n]</td>\n",
       "      <td>недвижимость</td>\n",
       "    </tr>\n",
       "    <tr>\n",
       "      <td>3</td>\n",
       "      <td>3</td>\n",
       "      <td>5110</td>\n",
       "      <td>32</td>\n",
       "      <td>среднее</td>\n",
       "      <td>1</td>\n",
       "      <td>женат / замужем</td>\n",
       "      <td>0</td>\n",
       "      <td>M</td>\n",
       "      <td>сотрудник</td>\n",
       "      <td>0</td>\n",
       "      <td>267628.550329</td>\n",
       "      <td>дополнительное образование</td>\n",
       "      <td>образование</td>\n",
       "      <td>[дополнительный,  , образование, \\n]</td>\n",
       "      <td>образование</td>\n",
       "    </tr>\n",
       "    <tr>\n",
       "      <td>4</td>\n",
       "      <td>0</td>\n",
       "      <td>12775</td>\n",
       "      <td>53</td>\n",
       "      <td>среднее</td>\n",
       "      <td>1</td>\n",
       "      <td>гражданский брак</td>\n",
       "      <td>1</td>\n",
       "      <td>F</td>\n",
       "      <td>пенсионер</td>\n",
       "      <td>0</td>\n",
       "      <td>158616.077870</td>\n",
       "      <td>сыграть свадьбу</td>\n",
       "      <td>свадьба</td>\n",
       "      <td>[сыграть,  , свадьба, \\n]</td>\n",
       "      <td>свадьба</td>\n",
       "    </tr>\n",
       "    <tr>\n",
       "      <td>5</td>\n",
       "      <td>0</td>\n",
       "      <td>3285</td>\n",
       "      <td>27</td>\n",
       "      <td>высшее</td>\n",
       "      <td>0</td>\n",
       "      <td>гражданский брак</td>\n",
       "      <td>1</td>\n",
       "      <td>M</td>\n",
       "      <td>компаньон</td>\n",
       "      <td>0</td>\n",
       "      <td>255763.565419</td>\n",
       "      <td>покупка жилья</td>\n",
       "      <td>недвижимость</td>\n",
       "      <td>[покупка,  , жилье, \\n]</td>\n",
       "      <td>недвижимость</td>\n",
       "    </tr>\n",
       "    <tr>\n",
       "      <td>6</td>\n",
       "      <td>0</td>\n",
       "      <td>9125</td>\n",
       "      <td>43</td>\n",
       "      <td>высшее</td>\n",
       "      <td>0</td>\n",
       "      <td>женат / замужем</td>\n",
       "      <td>0</td>\n",
       "      <td>F</td>\n",
       "      <td>компаньон</td>\n",
       "      <td>0</td>\n",
       "      <td>240525.971920</td>\n",
       "      <td>операции с жильем</td>\n",
       "      <td>недвижимость</td>\n",
       "      <td>[операция,  , с,  , жилье, \\n]</td>\n",
       "      <td>недвижимость</td>\n",
       "    </tr>\n",
       "    <tr>\n",
       "      <td>7</td>\n",
       "      <td>0</td>\n",
       "      <td>11680</td>\n",
       "      <td>50</td>\n",
       "      <td>среднее</td>\n",
       "      <td>1</td>\n",
       "      <td>женат / замужем</td>\n",
       "      <td>0</td>\n",
       "      <td>M</td>\n",
       "      <td>сотрудник</td>\n",
       "      <td>0</td>\n",
       "      <td>135823.934197</td>\n",
       "      <td>образование</td>\n",
       "      <td>образование</td>\n",
       "      <td>[образование, \\n]</td>\n",
       "      <td>образование</td>\n",
       "    </tr>\n",
       "    <tr>\n",
       "      <td>8</td>\n",
       "      <td>2</td>\n",
       "      <td>6205</td>\n",
       "      <td>35</td>\n",
       "      <td>высшее</td>\n",
       "      <td>0</td>\n",
       "      <td>гражданский брак</td>\n",
       "      <td>1</td>\n",
       "      <td>F</td>\n",
       "      <td>сотрудник</td>\n",
       "      <td>0</td>\n",
       "      <td>95856.832424</td>\n",
       "      <td>на проведение свадьбы</td>\n",
       "      <td>свадьба</td>\n",
       "      <td>[на,  , проведение,  , свадьба, \\n]</td>\n",
       "      <td>свадьба</td>\n",
       "    </tr>\n",
       "    <tr>\n",
       "      <td>9</td>\n",
       "      <td>0</td>\n",
       "      <td>8395</td>\n",
       "      <td>41</td>\n",
       "      <td>среднее</td>\n",
       "      <td>1</td>\n",
       "      <td>женат / замужем</td>\n",
       "      <td>0</td>\n",
       "      <td>M</td>\n",
       "      <td>сотрудник</td>\n",
       "      <td>0</td>\n",
       "      <td>144425.938277</td>\n",
       "      <td>покупка жилья для семьи</td>\n",
       "      <td>недвижимость</td>\n",
       "      <td>[покупка,  , жилье,  , для,  , семья, \\n]</td>\n",
       "      <td>недвижимость</td>\n",
       "    </tr>\n",
       "  </tbody>\n",
       "</table>\n",
       "</div>"
      ],
      "text/plain": [
       "   children  days_employed  dob_years education  education_id  \\\n",
       "0         1           8760         42    высшее             0   \n",
       "1         1           6570         36   среднее             1   \n",
       "2         0           5475         33   среднее             1   \n",
       "3         3           5110         32   среднее             1   \n",
       "4         0          12775         53   среднее             1   \n",
       "5         0           3285         27    высшее             0   \n",
       "6         0           9125         43    высшее             0   \n",
       "7         0          11680         50   среднее             1   \n",
       "8         2           6205         35    высшее             0   \n",
       "9         0           8395         41   среднее             1   \n",
       "\n",
       "      family_status  family_status_id gender income_type  debt   total_income  \\\n",
       "0   женат / замужем                 0      F   сотрудник     0  253875.639453   \n",
       "1   женат / замужем                 0      F   сотрудник     0  112080.014102   \n",
       "2   женат / замужем                 0      M   сотрудник     0  145885.952297   \n",
       "3   женат / замужем                 0      M   сотрудник     0  267628.550329   \n",
       "4  гражданский брак                 1      F   пенсионер     0  158616.077870   \n",
       "5  гражданский брак                 1      M   компаньон     0  255763.565419   \n",
       "6   женат / замужем                 0      F   компаньон     0  240525.971920   \n",
       "7   женат / замужем                 0      M   сотрудник     0  135823.934197   \n",
       "8  гражданский брак                 1      F   сотрудник     0   95856.832424   \n",
       "9   женат / замужем                 0      M   сотрудник     0  144425.938277   \n",
       "\n",
       "                      purpose purpose_category  \\\n",
       "0               покупка жилья     недвижимость   \n",
       "1     приобретение автомобиля       автомобиль   \n",
       "2               покупка жилья     недвижимость   \n",
       "3  дополнительное образование      образование   \n",
       "4             сыграть свадьбу          свадьба   \n",
       "5               покупка жилья     недвижимость   \n",
       "6           операции с жильем     недвижимость   \n",
       "7                 образование      образование   \n",
       "8       на проведение свадьбы          свадьба   \n",
       "9     покупка жилья для семьи     недвижимость   \n",
       "\n",
       "                           lemmas_of_purpose purpose_category_lemmas  \n",
       "0                    [покупка,  , жилье, \\n]            недвижимость  \n",
       "1          [приобретение,  , автомобиль, \\n]              автомобиль  \n",
       "2                    [покупка,  , жилье, \\n]            недвижимость  \n",
       "3       [дополнительный,  , образование, \\n]             образование  \n",
       "4                  [сыграть,  , свадьба, \\n]                 свадьба  \n",
       "5                    [покупка,  , жилье, \\n]            недвижимость  \n",
       "6             [операция,  , с,  , жилье, \\n]            недвижимость  \n",
       "7                          [образование, \\n]             образование  \n",
       "8        [на,  , проведение,  , свадьба, \\n]                 свадьба  \n",
       "9  [покупка,  , жилье,  , для,  , семья, \\n]            недвижимость  "
      ]
     },
     "execution_count": 69,
     "metadata": {},
     "output_type": "execute_result"
    }
   ],
   "source": [
    "data.head(10)"
   ]
  },
  {
   "cell_type": "markdown",
   "metadata": {},
   "source": [
    "**Вывод**"
   ]
  },
  {
   "cell_type": "markdown",
   "metadata": {},
   "source": [
    "Второй способ показал то же самое. Категории, выделенные на основе лемм и ручным способом выше, совпали. Данные получили категории согласно целям получения кредита. Их мы используем для сводных таблиц и ответа на вопрос, зависит ли просрочки по кредитам от целей взятия кредита. "
   ]
  },
  {
   "cell_type": "markdown",
   "metadata": {},
   "source": [
    "<div class=\"alert alert-success\">\n",
    "<b> Комментарий ревьюера</b>\n",
    "\n",
    "Здорово, что сравниваешь два способа категоризации.\n",
    "    \n",
    "В целом на этом шаге было достаточно выделить леммы, а разбить по категориям можно на следующем шаге. Если бы категорий было больше, или они были бы не такие явные, можно выделять еще категорию «остальное».\n",
    "\n",
    "</div>"
   ]
  },
  {
   "cell_type": "markdown",
   "metadata": {},
   "source": [
    "### Категоризация данных"
   ]
  },
  {
   "cell_type": "raw",
   "metadata": {},
   "source": [
    "Посмотрим, сколько клиентов имеет какое количество детей."
   ]
  },
  {
   "cell_type": "code",
   "execution_count": 158,
   "metadata": {},
   "outputs": [
    {
     "name": "stdout",
     "output_type": "stream",
     "text": [
      "0    14090\n",
      "1     4855\n",
      "2     2128\n",
      "3      330\n",
      "4       41\n",
      "5        9\n",
      "Name: children, dtype: int64\n"
     ]
    }
   ],
   "source": [
    "print(data['children'].value_counts())"
   ]
  },
  {
   "cell_type": "markdown",
   "metadata": {},
   "source": [
    "Разброс довольно велик, поэтому отнесем клиента к одной из категорий, которую мы введем на основании данных о том, сколько у него детей, это пригодится при создании сводных таблиц"
   ]
  },
  {
   "cell_type": "code",
   "execution_count": 159,
   "metadata": {
    "scrolled": true
   },
   "outputs": [
    {
     "data": {
      "text/html": [
       "<div>\n",
       "<style scoped>\n",
       "    .dataframe tbody tr th:only-of-type {\n",
       "        vertical-align: middle;\n",
       "    }\n",
       "\n",
       "    .dataframe tbody tr th {\n",
       "        vertical-align: top;\n",
       "    }\n",
       "\n",
       "    .dataframe thead th {\n",
       "        text-align: right;\n",
       "    }\n",
       "</style>\n",
       "<table border=\"1\" class=\"dataframe\">\n",
       "  <thead>\n",
       "    <tr style=\"text-align: right;\">\n",
       "      <th></th>\n",
       "      <th>children</th>\n",
       "      <th>days_employed</th>\n",
       "      <th>dob_years</th>\n",
       "      <th>education</th>\n",
       "      <th>education_id</th>\n",
       "      <th>family_status</th>\n",
       "      <th>family_status_id</th>\n",
       "      <th>gender</th>\n",
       "      <th>income_type</th>\n",
       "      <th>debt</th>\n",
       "      <th>total_income</th>\n",
       "      <th>purpose</th>\n",
       "      <th>purpose_category</th>\n",
       "      <th>lemmas_of_purpose</th>\n",
       "      <th>purpose_category_lemmas</th>\n",
       "      <th>children_category</th>\n",
       "    </tr>\n",
       "  </thead>\n",
       "  <tbody>\n",
       "    <tr>\n",
       "      <td>0</td>\n",
       "      <td>1</td>\n",
       "      <td>8760</td>\n",
       "      <td>42</td>\n",
       "      <td>высшее</td>\n",
       "      <td>0</td>\n",
       "      <td>женат / замужем</td>\n",
       "      <td>0</td>\n",
       "      <td>F</td>\n",
       "      <td>сотрудник</td>\n",
       "      <td>0</td>\n",
       "      <td>253875.639453</td>\n",
       "      <td>покупка жилья</td>\n",
       "      <td>недвижимость</td>\n",
       "      <td>[покупка,  , жилье, \\n]</td>\n",
       "      <td>недвижимость</td>\n",
       "      <td>1 ребенок</td>\n",
       "    </tr>\n",
       "    <tr>\n",
       "      <td>1</td>\n",
       "      <td>1</td>\n",
       "      <td>6570</td>\n",
       "      <td>36</td>\n",
       "      <td>среднее</td>\n",
       "      <td>1</td>\n",
       "      <td>женат / замужем</td>\n",
       "      <td>0</td>\n",
       "      <td>F</td>\n",
       "      <td>сотрудник</td>\n",
       "      <td>0</td>\n",
       "      <td>112080.014102</td>\n",
       "      <td>приобретение автомобиля</td>\n",
       "      <td>автомобиль</td>\n",
       "      <td>[приобретение,  , автомобиль, \\n]</td>\n",
       "      <td>автомобиль</td>\n",
       "      <td>1 ребенок</td>\n",
       "    </tr>\n",
       "    <tr>\n",
       "      <td>2</td>\n",
       "      <td>0</td>\n",
       "      <td>5475</td>\n",
       "      <td>33</td>\n",
       "      <td>среднее</td>\n",
       "      <td>1</td>\n",
       "      <td>женат / замужем</td>\n",
       "      <td>0</td>\n",
       "      <td>M</td>\n",
       "      <td>сотрудник</td>\n",
       "      <td>0</td>\n",
       "      <td>145885.952297</td>\n",
       "      <td>покупка жилья</td>\n",
       "      <td>недвижимость</td>\n",
       "      <td>[покупка,  , жилье, \\n]</td>\n",
       "      <td>недвижимость</td>\n",
       "      <td>нет детей</td>\n",
       "    </tr>\n",
       "    <tr>\n",
       "      <td>3</td>\n",
       "      <td>3</td>\n",
       "      <td>5110</td>\n",
       "      <td>32</td>\n",
       "      <td>среднее</td>\n",
       "      <td>1</td>\n",
       "      <td>женат / замужем</td>\n",
       "      <td>0</td>\n",
       "      <td>M</td>\n",
       "      <td>сотрудник</td>\n",
       "      <td>0</td>\n",
       "      <td>267628.550329</td>\n",
       "      <td>дополнительное образование</td>\n",
       "      <td>образование</td>\n",
       "      <td>[дополнительный,  , образование, \\n]</td>\n",
       "      <td>образование</td>\n",
       "      <td>2-3 ребенка</td>\n",
       "    </tr>\n",
       "    <tr>\n",
       "      <td>4</td>\n",
       "      <td>0</td>\n",
       "      <td>12775</td>\n",
       "      <td>53</td>\n",
       "      <td>среднее</td>\n",
       "      <td>1</td>\n",
       "      <td>гражданский брак</td>\n",
       "      <td>1</td>\n",
       "      <td>F</td>\n",
       "      <td>пенсионер</td>\n",
       "      <td>0</td>\n",
       "      <td>158616.077870</td>\n",
       "      <td>сыграть свадьбу</td>\n",
       "      <td>свадьба</td>\n",
       "      <td>[сыграть,  , свадьба, \\n]</td>\n",
       "      <td>свадьба</td>\n",
       "      <td>нет детей</td>\n",
       "    </tr>\n",
       "    <tr>\n",
       "      <td>5</td>\n",
       "      <td>0</td>\n",
       "      <td>3285</td>\n",
       "      <td>27</td>\n",
       "      <td>высшее</td>\n",
       "      <td>0</td>\n",
       "      <td>гражданский брак</td>\n",
       "      <td>1</td>\n",
       "      <td>M</td>\n",
       "      <td>компаньон</td>\n",
       "      <td>0</td>\n",
       "      <td>255763.565419</td>\n",
       "      <td>покупка жилья</td>\n",
       "      <td>недвижимость</td>\n",
       "      <td>[покупка,  , жилье, \\n]</td>\n",
       "      <td>недвижимость</td>\n",
       "      <td>нет детей</td>\n",
       "    </tr>\n",
       "    <tr>\n",
       "      <td>6</td>\n",
       "      <td>0</td>\n",
       "      <td>9125</td>\n",
       "      <td>43</td>\n",
       "      <td>высшее</td>\n",
       "      <td>0</td>\n",
       "      <td>женат / замужем</td>\n",
       "      <td>0</td>\n",
       "      <td>F</td>\n",
       "      <td>компаньон</td>\n",
       "      <td>0</td>\n",
       "      <td>240525.971920</td>\n",
       "      <td>операции с жильем</td>\n",
       "      <td>недвижимость</td>\n",
       "      <td>[операция,  , с,  , жилье, \\n]</td>\n",
       "      <td>недвижимость</td>\n",
       "      <td>нет детей</td>\n",
       "    </tr>\n",
       "    <tr>\n",
       "      <td>7</td>\n",
       "      <td>0</td>\n",
       "      <td>11680</td>\n",
       "      <td>50</td>\n",
       "      <td>среднее</td>\n",
       "      <td>1</td>\n",
       "      <td>женат / замужем</td>\n",
       "      <td>0</td>\n",
       "      <td>M</td>\n",
       "      <td>сотрудник</td>\n",
       "      <td>0</td>\n",
       "      <td>135823.934197</td>\n",
       "      <td>образование</td>\n",
       "      <td>образование</td>\n",
       "      <td>[образование, \\n]</td>\n",
       "      <td>образование</td>\n",
       "      <td>нет детей</td>\n",
       "    </tr>\n",
       "    <tr>\n",
       "      <td>8</td>\n",
       "      <td>2</td>\n",
       "      <td>6205</td>\n",
       "      <td>35</td>\n",
       "      <td>высшее</td>\n",
       "      <td>0</td>\n",
       "      <td>гражданский брак</td>\n",
       "      <td>1</td>\n",
       "      <td>F</td>\n",
       "      <td>сотрудник</td>\n",
       "      <td>0</td>\n",
       "      <td>95856.832424</td>\n",
       "      <td>на проведение свадьбы</td>\n",
       "      <td>свадьба</td>\n",
       "      <td>[на,  , проведение,  , свадьба, \\n]</td>\n",
       "      <td>свадьба</td>\n",
       "      <td>2-3 ребенка</td>\n",
       "    </tr>\n",
       "    <tr>\n",
       "      <td>9</td>\n",
       "      <td>0</td>\n",
       "      <td>8395</td>\n",
       "      <td>41</td>\n",
       "      <td>среднее</td>\n",
       "      <td>1</td>\n",
       "      <td>женат / замужем</td>\n",
       "      <td>0</td>\n",
       "      <td>M</td>\n",
       "      <td>сотрудник</td>\n",
       "      <td>0</td>\n",
       "      <td>144425.938277</td>\n",
       "      <td>покупка жилья для семьи</td>\n",
       "      <td>недвижимость</td>\n",
       "      <td>[покупка,  , жилье,  , для,  , семья, \\n]</td>\n",
       "      <td>недвижимость</td>\n",
       "      <td>нет детей</td>\n",
       "    </tr>\n",
       "  </tbody>\n",
       "</table>\n",
       "</div>"
      ],
      "text/plain": [
       "   children  days_employed  dob_years education  education_id  \\\n",
       "0         1           8760         42    высшее             0   \n",
       "1         1           6570         36   среднее             1   \n",
       "2         0           5475         33   среднее             1   \n",
       "3         3           5110         32   среднее             1   \n",
       "4         0          12775         53   среднее             1   \n",
       "5         0           3285         27    высшее             0   \n",
       "6         0           9125         43    высшее             0   \n",
       "7         0          11680         50   среднее             1   \n",
       "8         2           6205         35    высшее             0   \n",
       "9         0           8395         41   среднее             1   \n",
       "\n",
       "      family_status  family_status_id gender income_type  debt   total_income  \\\n",
       "0   женат / замужем                 0      F   сотрудник     0  253875.639453   \n",
       "1   женат / замужем                 0      F   сотрудник     0  112080.014102   \n",
       "2   женат / замужем                 0      M   сотрудник     0  145885.952297   \n",
       "3   женат / замужем                 0      M   сотрудник     0  267628.550329   \n",
       "4  гражданский брак                 1      F   пенсионер     0  158616.077870   \n",
       "5  гражданский брак                 1      M   компаньон     0  255763.565419   \n",
       "6   женат / замужем                 0      F   компаньон     0  240525.971920   \n",
       "7   женат / замужем                 0      M   сотрудник     0  135823.934197   \n",
       "8  гражданский брак                 1      F   сотрудник     0   95856.832424   \n",
       "9   женат / замужем                 0      M   сотрудник     0  144425.938277   \n",
       "\n",
       "                      purpose purpose_category  \\\n",
       "0               покупка жилья     недвижимость   \n",
       "1     приобретение автомобиля       автомобиль   \n",
       "2               покупка жилья     недвижимость   \n",
       "3  дополнительное образование      образование   \n",
       "4             сыграть свадьбу          свадьба   \n",
       "5               покупка жилья     недвижимость   \n",
       "6           операции с жильем     недвижимость   \n",
       "7                 образование      образование   \n",
       "8       на проведение свадьбы          свадьба   \n",
       "9     покупка жилья для семьи     недвижимость   \n",
       "\n",
       "                           lemmas_of_purpose purpose_category_lemmas  \\\n",
       "0                    [покупка,  , жилье, \\n]            недвижимость   \n",
       "1          [приобретение,  , автомобиль, \\n]              автомобиль   \n",
       "2                    [покупка,  , жилье, \\n]            недвижимость   \n",
       "3       [дополнительный,  , образование, \\n]             образование   \n",
       "4                  [сыграть,  , свадьба, \\n]                 свадьба   \n",
       "5                    [покупка,  , жилье, \\n]            недвижимость   \n",
       "6             [операция,  , с,  , жилье, \\n]            недвижимость   \n",
       "7                          [образование, \\n]             образование   \n",
       "8        [на,  , проведение,  , свадьба, \\n]                 свадьба   \n",
       "9  [покупка,  , жилье,  , для,  , семья, \\n]            недвижимость   \n",
       "\n",
       "  children_category  \n",
       "0         1 ребенок  \n",
       "1         1 ребенок  \n",
       "2         нет детей  \n",
       "3       2-3 ребенка  \n",
       "4         нет детей  \n",
       "5         нет детей  \n",
       "6         нет детей  \n",
       "7         нет детей  \n",
       "8       2-3 ребенка  \n",
       "9         нет детей  "
      ]
     },
     "execution_count": 159,
     "metadata": {},
     "output_type": "execute_result"
    }
   ],
   "source": [
    "def group_function (qty): \n",
    "    if qty==0:\n",
    "        return 'нет детей'\n",
    "    elif qty==1:\n",
    "        return '1 ребенок'\n",
    "    elif 2<=qty<=3: \n",
    "        return '2-3 ребенка'\n",
    "    elif qty>3:\n",
    "        return 'более 3 детей'\n",
    "data['children_category']=data['children'].apply(group_function)\n",
    "data.head(10)"
   ]
  },
  {
   "cell_type": "markdown",
   "metadata": {},
   "source": [
    "<div class=\"alert alert-success\">\n",
    "<b> Комментарий ревьюера</b>\n",
    "\n",
    "Хорошо, распределили по категориям. \n",
    "</div>    \n",
    "<div class=\"alert alert-warning\">\n",
    "Возможно, здесь что-то изменится после предобработки записей с 20 детьми.\n",
    "\n",
    "</div>"
   ]
  },
  {
   "cell_type": "markdown",
   "metadata": {},
   "source": [
    "Данные о 20 детях были изменены, поэтому и вывод изменился."
   ]
  },
  {
   "cell_type": "markdown",
   "metadata": {},
   "source": [
    "<div class=\"alert alert-success\">\n",
    "<b> Комментарий ревьюера v2</b>\n",
    "\n",
    "Ок.</div>"
   ]
  },
  {
   "cell_type": "markdown",
   "metadata": {},
   "source": [
    "Посмотрим, сколько у нас клиентов разного возраста."
   ]
  },
  {
   "cell_type": "code",
   "execution_count": 160,
   "metadata": {},
   "outputs": [
    {
     "name": "stdout",
     "output_type": "stream",
     "text": [
      "42    696\n",
      "35    616\n",
      "40    607\n",
      "41    605\n",
      "34    601\n",
      "38    597\n",
      "33    581\n",
      "39    572\n",
      "31    559\n",
      "36    554\n",
      "44    545\n",
      "29    544\n",
      "30    537\n",
      "37    536\n",
      "48    536\n",
      "50    513\n",
      "43    512\n",
      "32    509\n",
      "49    508\n",
      "28    503\n",
      "45    496\n",
      "27    493\n",
      "52    484\n",
      "56    483\n",
      "47    477\n",
      "54    476\n",
      "46    472\n",
      "53    459\n",
      "57    456\n",
      "58    454\n",
      "51    446\n",
      "55    443\n",
      "59    443\n",
      "26    408\n",
      "60    374\n",
      "25    357\n",
      "61    354\n",
      "62    348\n",
      "63    269\n",
      "24    264\n",
      "64    260\n",
      "23    252\n",
      "65    193\n",
      "22    183\n",
      "66    182\n",
      "67    167\n",
      "21    111\n",
      "68     99\n",
      "69     85\n",
      "70     65\n",
      "71     56\n",
      "20     51\n",
      "72     33\n",
      "19     14\n",
      "73      8\n",
      "74      6\n",
      "75      1\n",
      "Name: dob_years, dtype: int64\n"
     ]
    }
   ],
   "source": [
    "print(data['dob_years'].value_counts())"
   ]
  },
  {
   "cell_type": "markdown",
   "metadata": {},
   "source": [
    "Разброс велик, поэтому отнесем клиента к одной из категорий, которую мы введем на основании данных о его возрасте, это пригодится при создании сводных таблиц. "
   ]
  },
  {
   "cell_type": "code",
   "execution_count": 161,
   "metadata": {
    "scrolled": true
   },
   "outputs": [
    {
     "data": {
      "text/html": [
       "<div>\n",
       "<style scoped>\n",
       "    .dataframe tbody tr th:only-of-type {\n",
       "        vertical-align: middle;\n",
       "    }\n",
       "\n",
       "    .dataframe tbody tr th {\n",
       "        vertical-align: top;\n",
       "    }\n",
       "\n",
       "    .dataframe thead th {\n",
       "        text-align: right;\n",
       "    }\n",
       "</style>\n",
       "<table border=\"1\" class=\"dataframe\">\n",
       "  <thead>\n",
       "    <tr style=\"text-align: right;\">\n",
       "      <th></th>\n",
       "      <th>children</th>\n",
       "      <th>days_employed</th>\n",
       "      <th>dob_years</th>\n",
       "      <th>education</th>\n",
       "      <th>education_id</th>\n",
       "      <th>family_status</th>\n",
       "      <th>family_status_id</th>\n",
       "      <th>gender</th>\n",
       "      <th>income_type</th>\n",
       "      <th>debt</th>\n",
       "      <th>total_income</th>\n",
       "      <th>purpose</th>\n",
       "      <th>purpose_category</th>\n",
       "      <th>lemmas_of_purpose</th>\n",
       "      <th>purpose_category_lemmas</th>\n",
       "      <th>children_category</th>\n",
       "      <th>age_group</th>\n",
       "    </tr>\n",
       "  </thead>\n",
       "  <tbody>\n",
       "    <tr>\n",
       "      <td>0</td>\n",
       "      <td>1</td>\n",
       "      <td>8760</td>\n",
       "      <td>42</td>\n",
       "      <td>высшее</td>\n",
       "      <td>0</td>\n",
       "      <td>женат / замужем</td>\n",
       "      <td>0</td>\n",
       "      <td>F</td>\n",
       "      <td>сотрудник</td>\n",
       "      <td>0</td>\n",
       "      <td>253875.639453</td>\n",
       "      <td>покупка жилья</td>\n",
       "      <td>недвижимость</td>\n",
       "      <td>[покупка,  , жилье, \\n]</td>\n",
       "      <td>недвижимость</td>\n",
       "      <td>1 ребенок</td>\n",
       "      <td>31-45 лет</td>\n",
       "    </tr>\n",
       "    <tr>\n",
       "      <td>1</td>\n",
       "      <td>1</td>\n",
       "      <td>6570</td>\n",
       "      <td>36</td>\n",
       "      <td>среднее</td>\n",
       "      <td>1</td>\n",
       "      <td>женат / замужем</td>\n",
       "      <td>0</td>\n",
       "      <td>F</td>\n",
       "      <td>сотрудник</td>\n",
       "      <td>0</td>\n",
       "      <td>112080.014102</td>\n",
       "      <td>приобретение автомобиля</td>\n",
       "      <td>автомобиль</td>\n",
       "      <td>[приобретение,  , автомобиль, \\n]</td>\n",
       "      <td>автомобиль</td>\n",
       "      <td>1 ребенок</td>\n",
       "      <td>31-45 лет</td>\n",
       "    </tr>\n",
       "    <tr>\n",
       "      <td>2</td>\n",
       "      <td>0</td>\n",
       "      <td>5475</td>\n",
       "      <td>33</td>\n",
       "      <td>среднее</td>\n",
       "      <td>1</td>\n",
       "      <td>женат / замужем</td>\n",
       "      <td>0</td>\n",
       "      <td>M</td>\n",
       "      <td>сотрудник</td>\n",
       "      <td>0</td>\n",
       "      <td>145885.952297</td>\n",
       "      <td>покупка жилья</td>\n",
       "      <td>недвижимость</td>\n",
       "      <td>[покупка,  , жилье, \\n]</td>\n",
       "      <td>недвижимость</td>\n",
       "      <td>нет детей</td>\n",
       "      <td>31-45 лет</td>\n",
       "    </tr>\n",
       "    <tr>\n",
       "      <td>3</td>\n",
       "      <td>3</td>\n",
       "      <td>5110</td>\n",
       "      <td>32</td>\n",
       "      <td>среднее</td>\n",
       "      <td>1</td>\n",
       "      <td>женат / замужем</td>\n",
       "      <td>0</td>\n",
       "      <td>M</td>\n",
       "      <td>сотрудник</td>\n",
       "      <td>0</td>\n",
       "      <td>267628.550329</td>\n",
       "      <td>дополнительное образование</td>\n",
       "      <td>образование</td>\n",
       "      <td>[дополнительный,  , образование, \\n]</td>\n",
       "      <td>образование</td>\n",
       "      <td>2-3 ребенка</td>\n",
       "      <td>31-45 лет</td>\n",
       "    </tr>\n",
       "    <tr>\n",
       "      <td>4</td>\n",
       "      <td>0</td>\n",
       "      <td>12775</td>\n",
       "      <td>53</td>\n",
       "      <td>среднее</td>\n",
       "      <td>1</td>\n",
       "      <td>гражданский брак</td>\n",
       "      <td>1</td>\n",
       "      <td>F</td>\n",
       "      <td>пенсионер</td>\n",
       "      <td>0</td>\n",
       "      <td>158616.077870</td>\n",
       "      <td>сыграть свадьбу</td>\n",
       "      <td>свадьба</td>\n",
       "      <td>[сыграть,  , свадьба, \\n]</td>\n",
       "      <td>свадьба</td>\n",
       "      <td>нет детей</td>\n",
       "      <td>46-60 лет</td>\n",
       "    </tr>\n",
       "    <tr>\n",
       "      <td>5</td>\n",
       "      <td>0</td>\n",
       "      <td>3285</td>\n",
       "      <td>27</td>\n",
       "      <td>высшее</td>\n",
       "      <td>0</td>\n",
       "      <td>гражданский брак</td>\n",
       "      <td>1</td>\n",
       "      <td>M</td>\n",
       "      <td>компаньон</td>\n",
       "      <td>0</td>\n",
       "      <td>255763.565419</td>\n",
       "      <td>покупка жилья</td>\n",
       "      <td>недвижимость</td>\n",
       "      <td>[покупка,  , жилье, \\n]</td>\n",
       "      <td>недвижимость</td>\n",
       "      <td>нет детей</td>\n",
       "      <td>18-30 лет</td>\n",
       "    </tr>\n",
       "    <tr>\n",
       "      <td>6</td>\n",
       "      <td>0</td>\n",
       "      <td>9125</td>\n",
       "      <td>43</td>\n",
       "      <td>высшее</td>\n",
       "      <td>0</td>\n",
       "      <td>женат / замужем</td>\n",
       "      <td>0</td>\n",
       "      <td>F</td>\n",
       "      <td>компаньон</td>\n",
       "      <td>0</td>\n",
       "      <td>240525.971920</td>\n",
       "      <td>операции с жильем</td>\n",
       "      <td>недвижимость</td>\n",
       "      <td>[операция,  , с,  , жилье, \\n]</td>\n",
       "      <td>недвижимость</td>\n",
       "      <td>нет детей</td>\n",
       "      <td>31-45 лет</td>\n",
       "    </tr>\n",
       "    <tr>\n",
       "      <td>7</td>\n",
       "      <td>0</td>\n",
       "      <td>11680</td>\n",
       "      <td>50</td>\n",
       "      <td>среднее</td>\n",
       "      <td>1</td>\n",
       "      <td>женат / замужем</td>\n",
       "      <td>0</td>\n",
       "      <td>M</td>\n",
       "      <td>сотрудник</td>\n",
       "      <td>0</td>\n",
       "      <td>135823.934197</td>\n",
       "      <td>образование</td>\n",
       "      <td>образование</td>\n",
       "      <td>[образование, \\n]</td>\n",
       "      <td>образование</td>\n",
       "      <td>нет детей</td>\n",
       "      <td>46-60 лет</td>\n",
       "    </tr>\n",
       "    <tr>\n",
       "      <td>8</td>\n",
       "      <td>2</td>\n",
       "      <td>6205</td>\n",
       "      <td>35</td>\n",
       "      <td>высшее</td>\n",
       "      <td>0</td>\n",
       "      <td>гражданский брак</td>\n",
       "      <td>1</td>\n",
       "      <td>F</td>\n",
       "      <td>сотрудник</td>\n",
       "      <td>0</td>\n",
       "      <td>95856.832424</td>\n",
       "      <td>на проведение свадьбы</td>\n",
       "      <td>свадьба</td>\n",
       "      <td>[на,  , проведение,  , свадьба, \\n]</td>\n",
       "      <td>свадьба</td>\n",
       "      <td>2-3 ребенка</td>\n",
       "      <td>31-45 лет</td>\n",
       "    </tr>\n",
       "    <tr>\n",
       "      <td>9</td>\n",
       "      <td>0</td>\n",
       "      <td>8395</td>\n",
       "      <td>41</td>\n",
       "      <td>среднее</td>\n",
       "      <td>1</td>\n",
       "      <td>женат / замужем</td>\n",
       "      <td>0</td>\n",
       "      <td>M</td>\n",
       "      <td>сотрудник</td>\n",
       "      <td>0</td>\n",
       "      <td>144425.938277</td>\n",
       "      <td>покупка жилья для семьи</td>\n",
       "      <td>недвижимость</td>\n",
       "      <td>[покупка,  , жилье,  , для,  , семья, \\n]</td>\n",
       "      <td>недвижимость</td>\n",
       "      <td>нет детей</td>\n",
       "      <td>31-45 лет</td>\n",
       "    </tr>\n",
       "  </tbody>\n",
       "</table>\n",
       "</div>"
      ],
      "text/plain": [
       "   children  days_employed  dob_years education  education_id  \\\n",
       "0         1           8760         42    высшее             0   \n",
       "1         1           6570         36   среднее             1   \n",
       "2         0           5475         33   среднее             1   \n",
       "3         3           5110         32   среднее             1   \n",
       "4         0          12775         53   среднее             1   \n",
       "5         0           3285         27    высшее             0   \n",
       "6         0           9125         43    высшее             0   \n",
       "7         0          11680         50   среднее             1   \n",
       "8         2           6205         35    высшее             0   \n",
       "9         0           8395         41   среднее             1   \n",
       "\n",
       "      family_status  family_status_id gender income_type  debt   total_income  \\\n",
       "0   женат / замужем                 0      F   сотрудник     0  253875.639453   \n",
       "1   женат / замужем                 0      F   сотрудник     0  112080.014102   \n",
       "2   женат / замужем                 0      M   сотрудник     0  145885.952297   \n",
       "3   женат / замужем                 0      M   сотрудник     0  267628.550329   \n",
       "4  гражданский брак                 1      F   пенсионер     0  158616.077870   \n",
       "5  гражданский брак                 1      M   компаньон     0  255763.565419   \n",
       "6   женат / замужем                 0      F   компаньон     0  240525.971920   \n",
       "7   женат / замужем                 0      M   сотрудник     0  135823.934197   \n",
       "8  гражданский брак                 1      F   сотрудник     0   95856.832424   \n",
       "9   женат / замужем                 0      M   сотрудник     0  144425.938277   \n",
       "\n",
       "                      purpose purpose_category  \\\n",
       "0               покупка жилья     недвижимость   \n",
       "1     приобретение автомобиля       автомобиль   \n",
       "2               покупка жилья     недвижимость   \n",
       "3  дополнительное образование      образование   \n",
       "4             сыграть свадьбу          свадьба   \n",
       "5               покупка жилья     недвижимость   \n",
       "6           операции с жильем     недвижимость   \n",
       "7                 образование      образование   \n",
       "8       на проведение свадьбы          свадьба   \n",
       "9     покупка жилья для семьи     недвижимость   \n",
       "\n",
       "                           lemmas_of_purpose purpose_category_lemmas  \\\n",
       "0                    [покупка,  , жилье, \\n]            недвижимость   \n",
       "1          [приобретение,  , автомобиль, \\n]              автомобиль   \n",
       "2                    [покупка,  , жилье, \\n]            недвижимость   \n",
       "3       [дополнительный,  , образование, \\n]             образование   \n",
       "4                  [сыграть,  , свадьба, \\n]                 свадьба   \n",
       "5                    [покупка,  , жилье, \\n]            недвижимость   \n",
       "6             [операция,  , с,  , жилье, \\n]            недвижимость   \n",
       "7                          [образование, \\n]             образование   \n",
       "8        [на,  , проведение,  , свадьба, \\n]                 свадьба   \n",
       "9  [покупка,  , жилье,  , для,  , семья, \\n]            недвижимость   \n",
       "\n",
       "  children_category  age_group  \n",
       "0         1 ребенок  31-45 лет  \n",
       "1         1 ребенок  31-45 лет  \n",
       "2         нет детей  31-45 лет  \n",
       "3       2-3 ребенка  31-45 лет  \n",
       "4         нет детей  46-60 лет  \n",
       "5         нет детей  18-30 лет  \n",
       "6         нет детей  31-45 лет  \n",
       "7         нет детей  46-60 лет  \n",
       "8       2-3 ребенка  31-45 лет  \n",
       "9         нет детей  31-45 лет  "
      ]
     },
     "execution_count": 161,
     "metadata": {},
     "output_type": "execute_result"
    }
   ],
   "source": [
    "def age_selection (age): \n",
    "    if 18<=age<=30:\n",
    "        return '18-30 лет'\n",
    "    elif 30<age<=45:\n",
    "        return '31-45 лет'\n",
    "    elif 45<age<=60:\n",
    "        return '46-60 лет'\n",
    "    elif age>60:\n",
    "        return 'более 60 лет'\n",
    "data['age_group']=data['dob_years'].apply(age_selection)\n",
    "data.head(10)"
   ]
  },
  {
   "cell_type": "markdown",
   "metadata": {},
   "source": [
    "<div class=\"alert alert-success\">\n",
    "<b> Комментарий ревьюера</b>\n",
    "\n",
    "Ок, возможный вариант разбивки. Можно еще указывать, как именно выбирали границы возраста для категорий.\n",
    "\n",
    "</div>"
   ]
  },
  {
   "cell_type": "markdown",
   "metadata": {},
   "source": [
    "Проверим семейное положение клиентов. Сделаем более крупную категорию. Отнесем клиента к одной из двух категорий, которую мы введем, на основании данных о том, одинок он или находится в паре. "
   ]
  },
  {
   "cell_type": "code",
   "execution_count": 162,
   "metadata": {},
   "outputs": [
    {
     "data": {
      "text/plain": [
       "array(['женат / замужем', 'гражданский брак', 'вдовец / вдова',\n",
       "       'в разводе', 'Не женат / не замужем'], dtype=object)"
      ]
     },
     "execution_count": 162,
     "metadata": {},
     "output_type": "execute_result"
    }
   ],
   "source": [
    "data['family_status'].unique()"
   ]
  },
  {
   "cell_type": "code",
   "execution_count": 164,
   "metadata": {
    "scrolled": false
   },
   "outputs": [
    {
     "data": {
      "text/html": [
       "<div>\n",
       "<style scoped>\n",
       "    .dataframe tbody tr th:only-of-type {\n",
       "        vertical-align: middle;\n",
       "    }\n",
       "\n",
       "    .dataframe tbody tr th {\n",
       "        vertical-align: top;\n",
       "    }\n",
       "\n",
       "    .dataframe thead th {\n",
       "        text-align: right;\n",
       "    }\n",
       "</style>\n",
       "<table border=\"1\" class=\"dataframe\">\n",
       "  <thead>\n",
       "    <tr style=\"text-align: right;\">\n",
       "      <th></th>\n",
       "      <th>children</th>\n",
       "      <th>days_employed</th>\n",
       "      <th>dob_years</th>\n",
       "      <th>education</th>\n",
       "      <th>education_id</th>\n",
       "      <th>family_status</th>\n",
       "      <th>family_status_id</th>\n",
       "      <th>gender</th>\n",
       "      <th>income_type</th>\n",
       "      <th>debt</th>\n",
       "      <th>total_income</th>\n",
       "      <th>purpose</th>\n",
       "      <th>purpose_category</th>\n",
       "      <th>lemmas_of_purpose</th>\n",
       "      <th>purpose_category_lemmas</th>\n",
       "      <th>children_category</th>\n",
       "      <th>age_group</th>\n",
       "      <th>family_status_category</th>\n",
       "    </tr>\n",
       "  </thead>\n",
       "  <tbody>\n",
       "    <tr>\n",
       "      <td>0</td>\n",
       "      <td>1</td>\n",
       "      <td>8760</td>\n",
       "      <td>42</td>\n",
       "      <td>высшее</td>\n",
       "      <td>0</td>\n",
       "      <td>женат / замужем</td>\n",
       "      <td>0</td>\n",
       "      <td>F</td>\n",
       "      <td>сотрудник</td>\n",
       "      <td>0</td>\n",
       "      <td>253875.639453</td>\n",
       "      <td>покупка жилья</td>\n",
       "      <td>недвижимость</td>\n",
       "      <td>[покупка,  , жилье, \\n]</td>\n",
       "      <td>недвижимость</td>\n",
       "      <td>1 ребенок</td>\n",
       "      <td>31-45 лет</td>\n",
       "      <td>в паре</td>\n",
       "    </tr>\n",
       "    <tr>\n",
       "      <td>1</td>\n",
       "      <td>1</td>\n",
       "      <td>6570</td>\n",
       "      <td>36</td>\n",
       "      <td>среднее</td>\n",
       "      <td>1</td>\n",
       "      <td>женат / замужем</td>\n",
       "      <td>0</td>\n",
       "      <td>F</td>\n",
       "      <td>сотрудник</td>\n",
       "      <td>0</td>\n",
       "      <td>112080.014102</td>\n",
       "      <td>приобретение автомобиля</td>\n",
       "      <td>автомобиль</td>\n",
       "      <td>[приобретение,  , автомобиль, \\n]</td>\n",
       "      <td>автомобиль</td>\n",
       "      <td>1 ребенок</td>\n",
       "      <td>31-45 лет</td>\n",
       "      <td>в паре</td>\n",
       "    </tr>\n",
       "    <tr>\n",
       "      <td>2</td>\n",
       "      <td>0</td>\n",
       "      <td>5475</td>\n",
       "      <td>33</td>\n",
       "      <td>среднее</td>\n",
       "      <td>1</td>\n",
       "      <td>женат / замужем</td>\n",
       "      <td>0</td>\n",
       "      <td>M</td>\n",
       "      <td>сотрудник</td>\n",
       "      <td>0</td>\n",
       "      <td>145885.952297</td>\n",
       "      <td>покупка жилья</td>\n",
       "      <td>недвижимость</td>\n",
       "      <td>[покупка,  , жилье, \\n]</td>\n",
       "      <td>недвижимость</td>\n",
       "      <td>нет детей</td>\n",
       "      <td>31-45 лет</td>\n",
       "      <td>в паре</td>\n",
       "    </tr>\n",
       "    <tr>\n",
       "      <td>3</td>\n",
       "      <td>3</td>\n",
       "      <td>5110</td>\n",
       "      <td>32</td>\n",
       "      <td>среднее</td>\n",
       "      <td>1</td>\n",
       "      <td>женат / замужем</td>\n",
       "      <td>0</td>\n",
       "      <td>M</td>\n",
       "      <td>сотрудник</td>\n",
       "      <td>0</td>\n",
       "      <td>267628.550329</td>\n",
       "      <td>дополнительное образование</td>\n",
       "      <td>образование</td>\n",
       "      <td>[дополнительный,  , образование, \\n]</td>\n",
       "      <td>образование</td>\n",
       "      <td>2-3 ребенка</td>\n",
       "      <td>31-45 лет</td>\n",
       "      <td>в паре</td>\n",
       "    </tr>\n",
       "    <tr>\n",
       "      <td>4</td>\n",
       "      <td>0</td>\n",
       "      <td>12775</td>\n",
       "      <td>53</td>\n",
       "      <td>среднее</td>\n",
       "      <td>1</td>\n",
       "      <td>гражданский брак</td>\n",
       "      <td>1</td>\n",
       "      <td>F</td>\n",
       "      <td>пенсионер</td>\n",
       "      <td>0</td>\n",
       "      <td>158616.077870</td>\n",
       "      <td>сыграть свадьбу</td>\n",
       "      <td>свадьба</td>\n",
       "      <td>[сыграть,  , свадьба, \\n]</td>\n",
       "      <td>свадьба</td>\n",
       "      <td>нет детей</td>\n",
       "      <td>46-60 лет</td>\n",
       "      <td>в паре</td>\n",
       "    </tr>\n",
       "    <tr>\n",
       "      <td>5</td>\n",
       "      <td>0</td>\n",
       "      <td>3285</td>\n",
       "      <td>27</td>\n",
       "      <td>высшее</td>\n",
       "      <td>0</td>\n",
       "      <td>гражданский брак</td>\n",
       "      <td>1</td>\n",
       "      <td>M</td>\n",
       "      <td>компаньон</td>\n",
       "      <td>0</td>\n",
       "      <td>255763.565419</td>\n",
       "      <td>покупка жилья</td>\n",
       "      <td>недвижимость</td>\n",
       "      <td>[покупка,  , жилье, \\n]</td>\n",
       "      <td>недвижимость</td>\n",
       "      <td>нет детей</td>\n",
       "      <td>18-30 лет</td>\n",
       "      <td>в паре</td>\n",
       "    </tr>\n",
       "    <tr>\n",
       "      <td>6</td>\n",
       "      <td>0</td>\n",
       "      <td>9125</td>\n",
       "      <td>43</td>\n",
       "      <td>высшее</td>\n",
       "      <td>0</td>\n",
       "      <td>женат / замужем</td>\n",
       "      <td>0</td>\n",
       "      <td>F</td>\n",
       "      <td>компаньон</td>\n",
       "      <td>0</td>\n",
       "      <td>240525.971920</td>\n",
       "      <td>операции с жильем</td>\n",
       "      <td>недвижимость</td>\n",
       "      <td>[операция,  , с,  , жилье, \\n]</td>\n",
       "      <td>недвижимость</td>\n",
       "      <td>нет детей</td>\n",
       "      <td>31-45 лет</td>\n",
       "      <td>в паре</td>\n",
       "    </tr>\n",
       "    <tr>\n",
       "      <td>7</td>\n",
       "      <td>0</td>\n",
       "      <td>11680</td>\n",
       "      <td>50</td>\n",
       "      <td>среднее</td>\n",
       "      <td>1</td>\n",
       "      <td>женат / замужем</td>\n",
       "      <td>0</td>\n",
       "      <td>M</td>\n",
       "      <td>сотрудник</td>\n",
       "      <td>0</td>\n",
       "      <td>135823.934197</td>\n",
       "      <td>образование</td>\n",
       "      <td>образование</td>\n",
       "      <td>[образование, \\n]</td>\n",
       "      <td>образование</td>\n",
       "      <td>нет детей</td>\n",
       "      <td>46-60 лет</td>\n",
       "      <td>в паре</td>\n",
       "    </tr>\n",
       "    <tr>\n",
       "      <td>8</td>\n",
       "      <td>2</td>\n",
       "      <td>6205</td>\n",
       "      <td>35</td>\n",
       "      <td>высшее</td>\n",
       "      <td>0</td>\n",
       "      <td>гражданский брак</td>\n",
       "      <td>1</td>\n",
       "      <td>F</td>\n",
       "      <td>сотрудник</td>\n",
       "      <td>0</td>\n",
       "      <td>95856.832424</td>\n",
       "      <td>на проведение свадьбы</td>\n",
       "      <td>свадьба</td>\n",
       "      <td>[на,  , проведение,  , свадьба, \\n]</td>\n",
       "      <td>свадьба</td>\n",
       "      <td>2-3 ребенка</td>\n",
       "      <td>31-45 лет</td>\n",
       "      <td>в паре</td>\n",
       "    </tr>\n",
       "    <tr>\n",
       "      <td>9</td>\n",
       "      <td>0</td>\n",
       "      <td>8395</td>\n",
       "      <td>41</td>\n",
       "      <td>среднее</td>\n",
       "      <td>1</td>\n",
       "      <td>женат / замужем</td>\n",
       "      <td>0</td>\n",
       "      <td>M</td>\n",
       "      <td>сотрудник</td>\n",
       "      <td>0</td>\n",
       "      <td>144425.938277</td>\n",
       "      <td>покупка жилья для семьи</td>\n",
       "      <td>недвижимость</td>\n",
       "      <td>[покупка,  , жилье,  , для,  , семья, \\n]</td>\n",
       "      <td>недвижимость</td>\n",
       "      <td>нет детей</td>\n",
       "      <td>31-45 лет</td>\n",
       "      <td>в паре</td>\n",
       "    </tr>\n",
       "  </tbody>\n",
       "</table>\n",
       "</div>"
      ],
      "text/plain": [
       "   children  days_employed  dob_years education  education_id  \\\n",
       "0         1           8760         42    высшее             0   \n",
       "1         1           6570         36   среднее             1   \n",
       "2         0           5475         33   среднее             1   \n",
       "3         3           5110         32   среднее             1   \n",
       "4         0          12775         53   среднее             1   \n",
       "5         0           3285         27    высшее             0   \n",
       "6         0           9125         43    высшее             0   \n",
       "7         0          11680         50   среднее             1   \n",
       "8         2           6205         35    высшее             0   \n",
       "9         0           8395         41   среднее             1   \n",
       "\n",
       "      family_status  family_status_id gender income_type  debt   total_income  \\\n",
       "0   женат / замужем                 0      F   сотрудник     0  253875.639453   \n",
       "1   женат / замужем                 0      F   сотрудник     0  112080.014102   \n",
       "2   женат / замужем                 0      M   сотрудник     0  145885.952297   \n",
       "3   женат / замужем                 0      M   сотрудник     0  267628.550329   \n",
       "4  гражданский брак                 1      F   пенсионер     0  158616.077870   \n",
       "5  гражданский брак                 1      M   компаньон     0  255763.565419   \n",
       "6   женат / замужем                 0      F   компаньон     0  240525.971920   \n",
       "7   женат / замужем                 0      M   сотрудник     0  135823.934197   \n",
       "8  гражданский брак                 1      F   сотрудник     0   95856.832424   \n",
       "9   женат / замужем                 0      M   сотрудник     0  144425.938277   \n",
       "\n",
       "                      purpose purpose_category  \\\n",
       "0               покупка жилья     недвижимость   \n",
       "1     приобретение автомобиля       автомобиль   \n",
       "2               покупка жилья     недвижимость   \n",
       "3  дополнительное образование      образование   \n",
       "4             сыграть свадьбу          свадьба   \n",
       "5               покупка жилья     недвижимость   \n",
       "6           операции с жильем     недвижимость   \n",
       "7                 образование      образование   \n",
       "8       на проведение свадьбы          свадьба   \n",
       "9     покупка жилья для семьи     недвижимость   \n",
       "\n",
       "                           lemmas_of_purpose purpose_category_lemmas  \\\n",
       "0                    [покупка,  , жилье, \\n]            недвижимость   \n",
       "1          [приобретение,  , автомобиль, \\n]              автомобиль   \n",
       "2                    [покупка,  , жилье, \\n]            недвижимость   \n",
       "3       [дополнительный,  , образование, \\n]             образование   \n",
       "4                  [сыграть,  , свадьба, \\n]                 свадьба   \n",
       "5                    [покупка,  , жилье, \\n]            недвижимость   \n",
       "6             [операция,  , с,  , жилье, \\n]            недвижимость   \n",
       "7                          [образование, \\n]             образование   \n",
       "8        [на,  , проведение,  , свадьба, \\n]                 свадьба   \n",
       "9  [покупка,  , жилье,  , для,  , семья, \\n]            недвижимость   \n",
       "\n",
       "  children_category  age_group family_status_category  \n",
       "0         1 ребенок  31-45 лет                 в паре  \n",
       "1         1 ребенок  31-45 лет                 в паре  \n",
       "2         нет детей  31-45 лет                 в паре  \n",
       "3       2-3 ребенка  31-45 лет                 в паре  \n",
       "4         нет детей  46-60 лет                 в паре  \n",
       "5         нет детей  18-30 лет                 в паре  \n",
       "6         нет детей  31-45 лет                 в паре  \n",
       "7         нет детей  46-60 лет                 в паре  \n",
       "8       2-3 ребенка  31-45 лет                 в паре  \n",
       "9         нет детей  31-45 лет                 в паре  "
      ]
     },
     "execution_count": 164,
     "metadata": {},
     "output_type": "execute_result"
    }
   ],
   "source": [
    "def group_family_status (status): \n",
    "    if status=='женат / замужем' or status=='гражданский брак':\n",
    "        return 'в паре'\n",
    "    return 'одинок'\n",
    "data['family_status_category']=data['family_status'].apply(group_family_status) \n",
    "data.head(10) "
   ]
  },
  {
   "cell_type": "markdown",
   "metadata": {},
   "source": [
    "<div class=\"alert alert-success\">\n",
    "<b> Комментарий ревьюера</b>\n",
    "\n",
    "Хорошо, иногда стоит объединять похожие или малочисленные группы. Красивое решение с функцией.\n",
    "\n",
    "</div>"
   ]
  },
  {
   "cell_type": "markdown",
   "metadata": {},
   "source": [
    "Отнесем клиента к одной из категорий в зависимости от размера дохода, который он получает. "
   ]
  },
  {
   "cell_type": "code",
   "execution_count": 165,
   "metadata": {},
   "outputs": [
    {
     "name": "stdout",
     "output_type": "stream",
     "text": [
      "Первая четверть: 0.25    107620.948105\n",
      "Name: total_income, dtype: float64\n",
      "Медиана: 142594.39684740017\n",
      "Вторая четверть: 0.75    195821.632457\n",
      "Name: total_income, dtype: float64\n"
     ]
    }
   ],
   "source": [
    "quantile25percent = data['total_income'].quantile([0.25], interpolation='nearest')\n",
    "median_data=data['total_income'].median()\n",
    "quantile75percent = data['total_income'].quantile([0.75], interpolation='nearest')\n",
    "print ('Первая четверть:', quantile25percent)\n",
    "print ('Медиана:', median_data)\n",
    "print ('Вторая четверть:', quantile75percent)"
   ]
  },
  {
   "cell_type": "code",
   "execution_count": 166,
   "metadata": {
    "scrolled": true
   },
   "outputs": [
    {
     "data": {
      "text/html": [
       "<div>\n",
       "<style scoped>\n",
       "    .dataframe tbody tr th:only-of-type {\n",
       "        vertical-align: middle;\n",
       "    }\n",
       "\n",
       "    .dataframe tbody tr th {\n",
       "        vertical-align: top;\n",
       "    }\n",
       "\n",
       "    .dataframe thead th {\n",
       "        text-align: right;\n",
       "    }\n",
       "</style>\n",
       "<table border=\"1\" class=\"dataframe\">\n",
       "  <thead>\n",
       "    <tr style=\"text-align: right;\">\n",
       "      <th></th>\n",
       "      <th>children</th>\n",
       "      <th>days_employed</th>\n",
       "      <th>dob_years</th>\n",
       "      <th>education</th>\n",
       "      <th>education_id</th>\n",
       "      <th>family_status</th>\n",
       "      <th>family_status_id</th>\n",
       "      <th>gender</th>\n",
       "      <th>income_type</th>\n",
       "      <th>debt</th>\n",
       "      <th>total_income</th>\n",
       "      <th>purpose</th>\n",
       "      <th>purpose_category</th>\n",
       "      <th>lemmas_of_purpose</th>\n",
       "      <th>purpose_category_lemmas</th>\n",
       "      <th>children_category</th>\n",
       "      <th>age_group</th>\n",
       "      <th>family_status_category</th>\n",
       "      <th>income_group</th>\n",
       "    </tr>\n",
       "  </thead>\n",
       "  <tbody>\n",
       "    <tr>\n",
       "      <td>0</td>\n",
       "      <td>1</td>\n",
       "      <td>8760</td>\n",
       "      <td>42</td>\n",
       "      <td>высшее</td>\n",
       "      <td>0</td>\n",
       "      <td>женат / замужем</td>\n",
       "      <td>0</td>\n",
       "      <td>F</td>\n",
       "      <td>сотрудник</td>\n",
       "      <td>0</td>\n",
       "      <td>253875.639453</td>\n",
       "      <td>покупка жилья</td>\n",
       "      <td>недвижимость</td>\n",
       "      <td>[покупка,  , жилье, \\n]</td>\n",
       "      <td>недвижимость</td>\n",
       "      <td>1 ребенок</td>\n",
       "      <td>31-45 лет</td>\n",
       "      <td>в паре</td>\n",
       "      <td>очень высокий доход</td>\n",
       "    </tr>\n",
       "    <tr>\n",
       "      <td>1</td>\n",
       "      <td>1</td>\n",
       "      <td>6570</td>\n",
       "      <td>36</td>\n",
       "      <td>среднее</td>\n",
       "      <td>1</td>\n",
       "      <td>женат / замужем</td>\n",
       "      <td>0</td>\n",
       "      <td>F</td>\n",
       "      <td>сотрудник</td>\n",
       "      <td>0</td>\n",
       "      <td>112080.014102</td>\n",
       "      <td>приобретение автомобиля</td>\n",
       "      <td>автомобиль</td>\n",
       "      <td>[приобретение,  , автомобиль, \\n]</td>\n",
       "      <td>автомобиль</td>\n",
       "      <td>1 ребенок</td>\n",
       "      <td>31-45 лет</td>\n",
       "      <td>в паре</td>\n",
       "      <td>средний доход</td>\n",
       "    </tr>\n",
       "    <tr>\n",
       "      <td>2</td>\n",
       "      <td>0</td>\n",
       "      <td>5475</td>\n",
       "      <td>33</td>\n",
       "      <td>среднее</td>\n",
       "      <td>1</td>\n",
       "      <td>женат / замужем</td>\n",
       "      <td>0</td>\n",
       "      <td>M</td>\n",
       "      <td>сотрудник</td>\n",
       "      <td>0</td>\n",
       "      <td>145885.952297</td>\n",
       "      <td>покупка жилья</td>\n",
       "      <td>недвижимость</td>\n",
       "      <td>[покупка,  , жилье, \\n]</td>\n",
       "      <td>недвижимость</td>\n",
       "      <td>нет детей</td>\n",
       "      <td>31-45 лет</td>\n",
       "      <td>в паре</td>\n",
       "      <td>высокий доход</td>\n",
       "    </tr>\n",
       "    <tr>\n",
       "      <td>3</td>\n",
       "      <td>3</td>\n",
       "      <td>5110</td>\n",
       "      <td>32</td>\n",
       "      <td>среднее</td>\n",
       "      <td>1</td>\n",
       "      <td>женат / замужем</td>\n",
       "      <td>0</td>\n",
       "      <td>M</td>\n",
       "      <td>сотрудник</td>\n",
       "      <td>0</td>\n",
       "      <td>267628.550329</td>\n",
       "      <td>дополнительное образование</td>\n",
       "      <td>образование</td>\n",
       "      <td>[дополнительный,  , образование, \\n]</td>\n",
       "      <td>образование</td>\n",
       "      <td>2-3 ребенка</td>\n",
       "      <td>31-45 лет</td>\n",
       "      <td>в паре</td>\n",
       "      <td>очень высокий доход</td>\n",
       "    </tr>\n",
       "    <tr>\n",
       "      <td>4</td>\n",
       "      <td>0</td>\n",
       "      <td>12775</td>\n",
       "      <td>53</td>\n",
       "      <td>среднее</td>\n",
       "      <td>1</td>\n",
       "      <td>гражданский брак</td>\n",
       "      <td>1</td>\n",
       "      <td>F</td>\n",
       "      <td>пенсионер</td>\n",
       "      <td>0</td>\n",
       "      <td>158616.077870</td>\n",
       "      <td>сыграть свадьбу</td>\n",
       "      <td>свадьба</td>\n",
       "      <td>[сыграть,  , свадьба, \\n]</td>\n",
       "      <td>свадьба</td>\n",
       "      <td>нет детей</td>\n",
       "      <td>46-60 лет</td>\n",
       "      <td>в паре</td>\n",
       "      <td>высокий доход</td>\n",
       "    </tr>\n",
       "    <tr>\n",
       "      <td>5</td>\n",
       "      <td>0</td>\n",
       "      <td>3285</td>\n",
       "      <td>27</td>\n",
       "      <td>высшее</td>\n",
       "      <td>0</td>\n",
       "      <td>гражданский брак</td>\n",
       "      <td>1</td>\n",
       "      <td>M</td>\n",
       "      <td>компаньон</td>\n",
       "      <td>0</td>\n",
       "      <td>255763.565419</td>\n",
       "      <td>покупка жилья</td>\n",
       "      <td>недвижимость</td>\n",
       "      <td>[покупка,  , жилье, \\n]</td>\n",
       "      <td>недвижимость</td>\n",
       "      <td>нет детей</td>\n",
       "      <td>18-30 лет</td>\n",
       "      <td>в паре</td>\n",
       "      <td>очень высокий доход</td>\n",
       "    </tr>\n",
       "    <tr>\n",
       "      <td>6</td>\n",
       "      <td>0</td>\n",
       "      <td>9125</td>\n",
       "      <td>43</td>\n",
       "      <td>высшее</td>\n",
       "      <td>0</td>\n",
       "      <td>женат / замужем</td>\n",
       "      <td>0</td>\n",
       "      <td>F</td>\n",
       "      <td>компаньон</td>\n",
       "      <td>0</td>\n",
       "      <td>240525.971920</td>\n",
       "      <td>операции с жильем</td>\n",
       "      <td>недвижимость</td>\n",
       "      <td>[операция,  , с,  , жилье, \\n]</td>\n",
       "      <td>недвижимость</td>\n",
       "      <td>нет детей</td>\n",
       "      <td>31-45 лет</td>\n",
       "      <td>в паре</td>\n",
       "      <td>очень высокий доход</td>\n",
       "    </tr>\n",
       "    <tr>\n",
       "      <td>7</td>\n",
       "      <td>0</td>\n",
       "      <td>11680</td>\n",
       "      <td>50</td>\n",
       "      <td>среднее</td>\n",
       "      <td>1</td>\n",
       "      <td>женат / замужем</td>\n",
       "      <td>0</td>\n",
       "      <td>M</td>\n",
       "      <td>сотрудник</td>\n",
       "      <td>0</td>\n",
       "      <td>135823.934197</td>\n",
       "      <td>образование</td>\n",
       "      <td>образование</td>\n",
       "      <td>[образование, \\n]</td>\n",
       "      <td>образование</td>\n",
       "      <td>нет детей</td>\n",
       "      <td>46-60 лет</td>\n",
       "      <td>в паре</td>\n",
       "      <td>средний доход</td>\n",
       "    </tr>\n",
       "    <tr>\n",
       "      <td>8</td>\n",
       "      <td>2</td>\n",
       "      <td>6205</td>\n",
       "      <td>35</td>\n",
       "      <td>высшее</td>\n",
       "      <td>0</td>\n",
       "      <td>гражданский брак</td>\n",
       "      <td>1</td>\n",
       "      <td>F</td>\n",
       "      <td>сотрудник</td>\n",
       "      <td>0</td>\n",
       "      <td>95856.832424</td>\n",
       "      <td>на проведение свадьбы</td>\n",
       "      <td>свадьба</td>\n",
       "      <td>[на,  , проведение,  , свадьба, \\n]</td>\n",
       "      <td>свадьба</td>\n",
       "      <td>2-3 ребенка</td>\n",
       "      <td>31-45 лет</td>\n",
       "      <td>в паре</td>\n",
       "      <td>низкий доход</td>\n",
       "    </tr>\n",
       "    <tr>\n",
       "      <td>9</td>\n",
       "      <td>0</td>\n",
       "      <td>8395</td>\n",
       "      <td>41</td>\n",
       "      <td>среднее</td>\n",
       "      <td>1</td>\n",
       "      <td>женат / замужем</td>\n",
       "      <td>0</td>\n",
       "      <td>M</td>\n",
       "      <td>сотрудник</td>\n",
       "      <td>0</td>\n",
       "      <td>144425.938277</td>\n",
       "      <td>покупка жилья для семьи</td>\n",
       "      <td>недвижимость</td>\n",
       "      <td>[покупка,  , жилье,  , для,  , семья, \\n]</td>\n",
       "      <td>недвижимость</td>\n",
       "      <td>нет детей</td>\n",
       "      <td>31-45 лет</td>\n",
       "      <td>в паре</td>\n",
       "      <td>высокий доход</td>\n",
       "    </tr>\n",
       "  </tbody>\n",
       "</table>\n",
       "</div>"
      ],
      "text/plain": [
       "   children  days_employed  dob_years education  education_id  \\\n",
       "0         1           8760         42    высшее             0   \n",
       "1         1           6570         36   среднее             1   \n",
       "2         0           5475         33   среднее             1   \n",
       "3         3           5110         32   среднее             1   \n",
       "4         0          12775         53   среднее             1   \n",
       "5         0           3285         27    высшее             0   \n",
       "6         0           9125         43    высшее             0   \n",
       "7         0          11680         50   среднее             1   \n",
       "8         2           6205         35    высшее             0   \n",
       "9         0           8395         41   среднее             1   \n",
       "\n",
       "      family_status  family_status_id gender income_type  debt   total_income  \\\n",
       "0   женат / замужем                 0      F   сотрудник     0  253875.639453   \n",
       "1   женат / замужем                 0      F   сотрудник     0  112080.014102   \n",
       "2   женат / замужем                 0      M   сотрудник     0  145885.952297   \n",
       "3   женат / замужем                 0      M   сотрудник     0  267628.550329   \n",
       "4  гражданский брак                 1      F   пенсионер     0  158616.077870   \n",
       "5  гражданский брак                 1      M   компаньон     0  255763.565419   \n",
       "6   женат / замужем                 0      F   компаньон     0  240525.971920   \n",
       "7   женат / замужем                 0      M   сотрудник     0  135823.934197   \n",
       "8  гражданский брак                 1      F   сотрудник     0   95856.832424   \n",
       "9   женат / замужем                 0      M   сотрудник     0  144425.938277   \n",
       "\n",
       "                      purpose purpose_category  \\\n",
       "0               покупка жилья     недвижимость   \n",
       "1     приобретение автомобиля       автомобиль   \n",
       "2               покупка жилья     недвижимость   \n",
       "3  дополнительное образование      образование   \n",
       "4             сыграть свадьбу          свадьба   \n",
       "5               покупка жилья     недвижимость   \n",
       "6           операции с жильем     недвижимость   \n",
       "7                 образование      образование   \n",
       "8       на проведение свадьбы          свадьба   \n",
       "9     покупка жилья для семьи     недвижимость   \n",
       "\n",
       "                           lemmas_of_purpose purpose_category_lemmas  \\\n",
       "0                    [покупка,  , жилье, \\n]            недвижимость   \n",
       "1          [приобретение,  , автомобиль, \\n]              автомобиль   \n",
       "2                    [покупка,  , жилье, \\n]            недвижимость   \n",
       "3       [дополнительный,  , образование, \\n]             образование   \n",
       "4                  [сыграть,  , свадьба, \\n]                 свадьба   \n",
       "5                    [покупка,  , жилье, \\n]            недвижимость   \n",
       "6             [операция,  , с,  , жилье, \\n]            недвижимость   \n",
       "7                          [образование, \\n]             образование   \n",
       "8        [на,  , проведение,  , свадьба, \\n]                 свадьба   \n",
       "9  [покупка,  , жилье,  , для,  , семья, \\n]            недвижимость   \n",
       "\n",
       "  children_category  age_group family_status_category         income_group  \n",
       "0         1 ребенок  31-45 лет                 в паре  очень высокий доход  \n",
       "1         1 ребенок  31-45 лет                 в паре        средний доход  \n",
       "2         нет детей  31-45 лет                 в паре        высокий доход  \n",
       "3       2-3 ребенка  31-45 лет                 в паре  очень высокий доход  \n",
       "4         нет детей  46-60 лет                 в паре        высокий доход  \n",
       "5         нет детей  18-30 лет                 в паре  очень высокий доход  \n",
       "6         нет детей  31-45 лет                 в паре  очень высокий доход  \n",
       "7         нет детей  46-60 лет                 в паре        средний доход  \n",
       "8       2-3 ребенка  31-45 лет                 в паре         низкий доход  \n",
       "9         нет детей  31-45 лет                 в паре        высокий доход  "
      ]
     },
     "execution_count": 166,
     "metadata": {},
     "output_type": "execute_result"
    }
   ],
   "source": [
    "def income_rate (income): \n",
    "    if income<=int(quantile25percent):\n",
    "        return 'низкий доход'\n",
    "    if int(quantile25percent)<income<=int(median_data):\n",
    "        return 'средний доход'\n",
    "    if int(median_data)<income<=int(quantile75percent):\n",
    "        return 'высокий доход'\n",
    "    if income>int(quantile75percent):\n",
    "        return 'очень высокий доход'\n",
    "data['income_group']=data['total_income'].apply(income_rate)\n",
    "data.head(10)"
   ]
  },
  {
   "cell_type": "markdown",
   "metadata": {},
   "source": [
    "<div class=\"alert alert-success\">\n",
    "<b> Комментарий ревьюера</b>\n",
    "\n",
    "Отлично. Поделив на группы по процентилям, мы сделали их равными по объему.\n",
    "\n",
    "</div>"
   ]
  },
  {
   "cell_type": "markdown",
   "metadata": {},
   "source": [
    "Мы создали категории на основании данных о количестве детей, возрасте, семейном положении и доходе. "
   ]
  },
  {
   "cell_type": "markdown",
   "metadata": {},
   "source": [
    "<div class=\"alert alert-success\">\n",
    "<b> Комментарий ревьюера</b>\n",
    "\n",
    "Да, категоризацию выполнили.\n",
    "\n",
    "</div>"
   ]
  },
  {
   "cell_type": "markdown",
   "metadata": {},
   "source": [
    "## Шаг 3. Ответьте на вопросы"
   ]
  },
  {
   "cell_type": "markdown",
   "metadata": {},
   "source": [
    "- Есть ли зависимость между наличием детей и возвратом кредита в срок?"
   ]
  },
  {
   "cell_type": "markdown",
   "metadata": {},
   "source": [
    "Посмотрим, как количество детей влияет на возврат кредита, используя данные о полном количестве детей без категорий. Данные изменились с учетом того, что мы исправили 20 детей на 2, признав это за опечатку. "
   ]
  },
  {
   "cell_type": "markdown",
   "metadata": {},
   "source": [
    "Построим сводную таблицу о наличии / отсутствии долгов и количестве детей."
   ]
  },
  {
   "cell_type": "code",
   "execution_count": 167,
   "metadata": {},
   "outputs": [
    {
     "data": {
      "text/html": [
       "<div>\n",
       "<style scoped>\n",
       "    .dataframe tbody tr th:only-of-type {\n",
       "        vertical-align: middle;\n",
       "    }\n",
       "\n",
       "    .dataframe tbody tr th {\n",
       "        vertical-align: top;\n",
       "    }\n",
       "\n",
       "    .dataframe thead th {\n",
       "        text-align: right;\n",
       "    }\n",
       "</style>\n",
       "<table border=\"1\" class=\"dataframe\">\n",
       "  <thead>\n",
       "    <tr style=\"text-align: right;\">\n",
       "      <th>debt</th>\n",
       "      <th>0</th>\n",
       "      <th>1</th>\n",
       "    </tr>\n",
       "    <tr>\n",
       "      <th>children</th>\n",
       "      <th></th>\n",
       "      <th></th>\n",
       "    </tr>\n",
       "  </thead>\n",
       "  <tbody>\n",
       "    <tr>\n",
       "      <td>0</td>\n",
       "      <td>13027.0</td>\n",
       "      <td>1063.0</td>\n",
       "    </tr>\n",
       "    <tr>\n",
       "      <td>1</td>\n",
       "      <td>4410.0</td>\n",
       "      <td>445.0</td>\n",
       "    </tr>\n",
       "    <tr>\n",
       "      <td>2</td>\n",
       "      <td>1926.0</td>\n",
       "      <td>202.0</td>\n",
       "    </tr>\n",
       "    <tr>\n",
       "      <td>3</td>\n",
       "      <td>303.0</td>\n",
       "      <td>27.0</td>\n",
       "    </tr>\n",
       "    <tr>\n",
       "      <td>4</td>\n",
       "      <td>37.0</td>\n",
       "      <td>4.0</td>\n",
       "    </tr>\n",
       "    <tr>\n",
       "      <td>5</td>\n",
       "      <td>9.0</td>\n",
       "      <td>NaN</td>\n",
       "    </tr>\n",
       "  </tbody>\n",
       "</table>\n",
       "</div>"
      ],
      "text/plain": [
       "debt            0       1\n",
       "children                 \n",
       "0         13027.0  1063.0\n",
       "1          4410.0   445.0\n",
       "2          1926.0   202.0\n",
       "3           303.0    27.0\n",
       "4            37.0     4.0\n",
       "5             9.0     NaN"
      ]
     },
     "execution_count": 167,
     "metadata": {},
     "output_type": "execute_result"
    }
   ],
   "source": [
    "children_pivot_table=data.pivot_table(index=['children'], columns='debt', values='dob_years', aggfunc='count')\n",
    "children_pivot_table"
   ]
  },
  {
   "cell_type": "markdown",
   "metadata": {},
   "source": [
    "Обнаружили NaN как данные о тех, у кого пять детей и есть долги, т.е. тех клиентов, у кого 5 детей и есть долг, нет вообще. Заменим на ноль. Отсортируем по столбцу уровня задержки кредита эту и все последующие таблицы. "
   ]
  },
  {
   "cell_type": "code",
   "execution_count": 168,
   "metadata": {},
   "outputs": [
    {
     "data": {
      "text/html": [
       "<div>\n",
       "<style scoped>\n",
       "    .dataframe tbody tr th:only-of-type {\n",
       "        vertical-align: middle;\n",
       "    }\n",
       "\n",
       "    .dataframe tbody tr th {\n",
       "        vertical-align: top;\n",
       "    }\n",
       "\n",
       "    .dataframe thead th {\n",
       "        text-align: right;\n",
       "    }\n",
       "</style>\n",
       "<table border=\"1\" class=\"dataframe\">\n",
       "  <thead>\n",
       "    <tr style=\"text-align: right;\">\n",
       "      <th>debt</th>\n",
       "      <th>0</th>\n",
       "      <th>1</th>\n",
       "      <th>debt_ratio_percent</th>\n",
       "    </tr>\n",
       "    <tr>\n",
       "      <th>children</th>\n",
       "      <th></th>\n",
       "      <th></th>\n",
       "      <th></th>\n",
       "    </tr>\n",
       "  </thead>\n",
       "  <tbody>\n",
       "    <tr>\n",
       "      <td>5</td>\n",
       "      <td>9.0</td>\n",
       "      <td>0.0</td>\n",
       "      <td>0.000000</td>\n",
       "    </tr>\n",
       "    <tr>\n",
       "      <td>0</td>\n",
       "      <td>13027.0</td>\n",
       "      <td>1063.0</td>\n",
       "      <td>8.159975</td>\n",
       "    </tr>\n",
       "    <tr>\n",
       "      <td>3</td>\n",
       "      <td>303.0</td>\n",
       "      <td>27.0</td>\n",
       "      <td>8.910891</td>\n",
       "    </tr>\n",
       "    <tr>\n",
       "      <td>1</td>\n",
       "      <td>4410.0</td>\n",
       "      <td>445.0</td>\n",
       "      <td>10.090703</td>\n",
       "    </tr>\n",
       "    <tr>\n",
       "      <td>2</td>\n",
       "      <td>1926.0</td>\n",
       "      <td>202.0</td>\n",
       "      <td>10.488058</td>\n",
       "    </tr>\n",
       "    <tr>\n",
       "      <td>4</td>\n",
       "      <td>37.0</td>\n",
       "      <td>4.0</td>\n",
       "      <td>10.810811</td>\n",
       "    </tr>\n",
       "  </tbody>\n",
       "</table>\n",
       "</div>"
      ],
      "text/plain": [
       "debt            0       1  debt_ratio_percent\n",
       "children                                     \n",
       "5             9.0     0.0            0.000000\n",
       "0         13027.0  1063.0            8.159975\n",
       "3           303.0    27.0            8.910891\n",
       "1          4410.0   445.0           10.090703\n",
       "2          1926.0   202.0           10.488058\n",
       "4            37.0     4.0           10.810811"
      ]
     },
     "execution_count": 168,
     "metadata": {},
     "output_type": "execute_result"
    }
   ],
   "source": [
    "children_pivot_table=children_pivot_table.fillna(0)\n",
    "children_pivot_table['debt_ratio_percent']=(children_pivot_table[1]/children_pivot_table[0])*100\n",
    "children_pivot_table.sort_values(by='debt_ratio_percent', ascending=True)"
   ]
  },
  {
   "cell_type": "markdown",
   "metadata": {},
   "source": [
    "Учитывая количество данных в той или иной группе, видим, что зависимость есть: чем больше детей, тем выше уровень задержки кредита, хотя на первом (самом благонадежном месте) клиенты с 5 детьми - но их количество очень мало: всего 9 человек. \n",
    "Для наглядности построим еще одну сводную таблицу, используем категории, введенные нами ранее в отношении количества детей. "
   ]
  },
  {
   "cell_type": "code",
   "execution_count": 169,
   "metadata": {},
   "outputs": [
    {
     "data": {
      "text/html": [
       "<div>\n",
       "<style scoped>\n",
       "    .dataframe tbody tr th:only-of-type {\n",
       "        vertical-align: middle;\n",
       "    }\n",
       "\n",
       "    .dataframe tbody tr th {\n",
       "        vertical-align: top;\n",
       "    }\n",
       "\n",
       "    .dataframe thead th {\n",
       "        text-align: right;\n",
       "    }\n",
       "</style>\n",
       "<table border=\"1\" class=\"dataframe\">\n",
       "  <thead>\n",
       "    <tr style=\"text-align: right;\">\n",
       "      <th>debt</th>\n",
       "      <th>0</th>\n",
       "      <th>1</th>\n",
       "      <th>debt_ratio_percent</th>\n",
       "    </tr>\n",
       "    <tr>\n",
       "      <th>children_category</th>\n",
       "      <th></th>\n",
       "      <th></th>\n",
       "      <th></th>\n",
       "    </tr>\n",
       "  </thead>\n",
       "  <tbody>\n",
       "    <tr>\n",
       "      <td>нет детей</td>\n",
       "      <td>13027</td>\n",
       "      <td>1063</td>\n",
       "      <td>8.159975</td>\n",
       "    </tr>\n",
       "    <tr>\n",
       "      <td>более 3 детей</td>\n",
       "      <td>46</td>\n",
       "      <td>4</td>\n",
       "      <td>8.695652</td>\n",
       "    </tr>\n",
       "    <tr>\n",
       "      <td>1 ребенок</td>\n",
       "      <td>4410</td>\n",
       "      <td>445</td>\n",
       "      <td>10.090703</td>\n",
       "    </tr>\n",
       "    <tr>\n",
       "      <td>2-3 ребенка</td>\n",
       "      <td>2229</td>\n",
       "      <td>229</td>\n",
       "      <td>10.273665</td>\n",
       "    </tr>\n",
       "  </tbody>\n",
       "</table>\n",
       "</div>"
      ],
      "text/plain": [
       "debt                   0     1  debt_ratio_percent\n",
       "children_category                                 \n",
       "нет детей          13027  1063            8.159975\n",
       "более 3 детей         46     4            8.695652\n",
       "1 ребенок           4410   445           10.090703\n",
       "2-3 ребенка         2229   229           10.273665"
      ]
     },
     "execution_count": 169,
     "metadata": {},
     "output_type": "execute_result"
    }
   ],
   "source": [
    "children_category_pivot_table=data.pivot_table(index=['children_category'], columns='debt', values='dob_years', aggfunc='count')\n",
    "children_category_pivot_table['debt_ratio_percent']=(children_category_pivot_table[1]/children_category_pivot_table[0])*100\n",
    "children_category_pivot_table.sort_values(by='debt_ratio_percent', ascending=True)"
   ]
  },
  {
   "cell_type": "markdown",
   "metadata": {},
   "source": [
    "**Вывод**"
   ]
  },
  {
   "cell_type": "markdown",
   "metadata": {},
   "source": [
    "Видим, что чем больше детей, тем выше показатель задержки или невозврата кредита, показатель debt_ratio_percent возрастает. Клиенты без детей в меньшей степени задерживают / не выплачивают кредиты. \n",
    "Зависимость есть, она проиллюстрирована в этой сводной таблице."
   ]
  },
  {
   "cell_type": "markdown",
   "metadata": {},
   "source": [
    "<div class=\"alert alert-success\">\n",
    "<b> Комментарий ревьюера</b>\n",
    "\n",
    "Хорошо, посмотрели на связь с количеством детей с разным делением по категориям. Отличное применение сводных таблиц.\n",
    "</div>\n",
    "\n",
    "<div class=\"alert alert-warning\">\n",
    "    \n",
    "В выводе стоит прямо указать, какую именно зависимость обнаружили.\n",
    "\n",
    "</div>"
   ]
  },
  {
   "cell_type": "markdown",
   "metadata": {},
   "source": [
    "<div class=\"alert alert-success\">\n",
    "<b> Комментарий ревьюера v2</b>\n",
    "\n",
    "Отлично, внесли ясность в вывод.\n",
    "</div>"
   ]
  },
  {
   "cell_type": "markdown",
   "metadata": {},
   "source": [
    "Обнаруженная зависимость прямая: чем больше детей, тем больше уровень наличия просрочки по кредиту. "
   ]
  },
  {
   "cell_type": "markdown",
   "metadata": {},
   "source": [
    "- Есть ли зависимость между семейным положением и возвратом кредита в срок?"
   ]
  },
  {
   "cell_type": "code",
   "execution_count": 170,
   "metadata": {},
   "outputs": [
    {
     "data": {
      "text/html": [
       "<div>\n",
       "<style scoped>\n",
       "    .dataframe tbody tr th:only-of-type {\n",
       "        vertical-align: middle;\n",
       "    }\n",
       "\n",
       "    .dataframe tbody tr th {\n",
       "        vertical-align: top;\n",
       "    }\n",
       "\n",
       "    .dataframe thead th {\n",
       "        text-align: right;\n",
       "    }\n",
       "</style>\n",
       "<table border=\"1\" class=\"dataframe\">\n",
       "  <thead>\n",
       "    <tr style=\"text-align: right;\">\n",
       "      <th>debt</th>\n",
       "      <th>0</th>\n",
       "      <th>1</th>\n",
       "      <th>debt_ratio_percent</th>\n",
       "    </tr>\n",
       "    <tr>\n",
       "      <th>family_status</th>\n",
       "      <th></th>\n",
       "      <th></th>\n",
       "      <th></th>\n",
       "    </tr>\n",
       "  </thead>\n",
       "  <tbody>\n",
       "    <tr>\n",
       "      <td>вдовец / вдова</td>\n",
       "      <td>896</td>\n",
       "      <td>63</td>\n",
       "      <td>7.031250</td>\n",
       "    </tr>\n",
       "    <tr>\n",
       "      <td>в разводе</td>\n",
       "      <td>1110</td>\n",
       "      <td>85</td>\n",
       "      <td>7.657658</td>\n",
       "    </tr>\n",
       "    <tr>\n",
       "      <td>женат / замужем</td>\n",
       "      <td>11408</td>\n",
       "      <td>931</td>\n",
       "      <td>8.160940</td>\n",
       "    </tr>\n",
       "    <tr>\n",
       "      <td>гражданский брак</td>\n",
       "      <td>3762</td>\n",
       "      <td>388</td>\n",
       "      <td>10.313663</td>\n",
       "    </tr>\n",
       "    <tr>\n",
       "      <td>Не женат / не замужем</td>\n",
       "      <td>2536</td>\n",
       "      <td>274</td>\n",
       "      <td>10.804416</td>\n",
       "    </tr>\n",
       "  </tbody>\n",
       "</table>\n",
       "</div>"
      ],
      "text/plain": [
       "debt                       0    1  debt_ratio_percent\n",
       "family_status                                        \n",
       "вдовец / вдова           896   63            7.031250\n",
       "в разводе               1110   85            7.657658\n",
       "женат / замужем        11408  931            8.160940\n",
       "гражданский брак        3762  388           10.313663\n",
       "Не женат / не замужем   2536  274           10.804416"
      ]
     },
     "execution_count": 170,
     "metadata": {},
     "output_type": "execute_result"
    }
   ],
   "source": [
    "family_status_pivot_table=data.pivot_table(index=['family_status'], columns='debt', values='dob_years', aggfunc='count')\n",
    "family_status_pivot_table['debt_ratio_percent']=(family_status_pivot_table[1]/family_status_pivot_table[0])*100\n",
    "family_status_pivot_table.sort_values(by='debt_ratio_percent', ascending=True)"
   ]
  },
  {
   "cell_type": "markdown",
   "metadata": {},
   "source": [
    "Клиенты, не состоящие в паре (и не бывшие женаты /замужем) или состоящие в гражданском браке, в большей степени задерживают кредиты, чем те, кто женат/замужем, в разводе или вдовец. Проверим на основании более укрупненной категории. "
   ]
  },
  {
   "cell_type": "code",
   "execution_count": 171,
   "metadata": {},
   "outputs": [
    {
     "data": {
      "text/html": [
       "<div>\n",
       "<style scoped>\n",
       "    .dataframe tbody tr th:only-of-type {\n",
       "        vertical-align: middle;\n",
       "    }\n",
       "\n",
       "    .dataframe tbody tr th {\n",
       "        vertical-align: top;\n",
       "    }\n",
       "\n",
       "    .dataframe thead th {\n",
       "        text-align: right;\n",
       "    }\n",
       "</style>\n",
       "<table border=\"1\" class=\"dataframe\">\n",
       "  <thead>\n",
       "    <tr style=\"text-align: right;\">\n",
       "      <th>debt</th>\n",
       "      <th>0</th>\n",
       "      <th>1</th>\n",
       "      <th>debt_ratio_percent</th>\n",
       "    </tr>\n",
       "    <tr>\n",
       "      <th>family_status_category</th>\n",
       "      <th></th>\n",
       "      <th></th>\n",
       "      <th></th>\n",
       "    </tr>\n",
       "  </thead>\n",
       "  <tbody>\n",
       "    <tr>\n",
       "      <td>в паре</td>\n",
       "      <td>15170</td>\n",
       "      <td>1319</td>\n",
       "      <td>8.694792</td>\n",
       "    </tr>\n",
       "    <tr>\n",
       "      <td>одинок</td>\n",
       "      <td>4542</td>\n",
       "      <td>422</td>\n",
       "      <td>9.291061</td>\n",
       "    </tr>\n",
       "  </tbody>\n",
       "</table>\n",
       "</div>"
      ],
      "text/plain": [
       "debt                        0     1  debt_ratio_percent\n",
       "family_status_category                                 \n",
       "в паре                  15170  1319            8.694792\n",
       "одинок                   4542   422            9.291061"
      ]
     },
     "execution_count": 171,
     "metadata": {},
     "output_type": "execute_result"
    }
   ],
   "source": [
    "family_status_category_pivot_table=data.pivot_table(index=['family_status_category'], columns='debt', values='dob_years', aggfunc='count')\n",
    "family_status_category_pivot_table['debt_ratio_percent']=(family_status_category_pivot_table[1]/family_status_category_pivot_table[0])*100\n",
    "family_status_category_pivot_table.sort_values(by='debt_ratio_percent', ascending=True)"
   ]
  },
  {
   "cell_type": "markdown",
   "metadata": {},
   "source": [
    "Исследовав данные также на основании категории одинок клиент или состоит в паре, мы видим, что клиент, не состоящий в паре, с большей вероятностью может иметь просрочку или невозврат по кредиту. "
   ]
  },
  {
   "cell_type": "markdown",
   "metadata": {},
   "source": [
    "<div class=\"alert alert-success\">\n",
    "<b> Комментарий ревьюера</b>\n",
    "\n",
    "Хорошо, ответили на вопрос.\n",
    "\n",
    "</div>"
   ]
  },
  {
   "cell_type": "markdown",
   "metadata": {},
   "source": [
    "Также посмотрим, как возраст влияет на просрочки по кредитам. "
   ]
  },
  {
   "cell_type": "code",
   "execution_count": 85,
   "metadata": {},
   "outputs": [
    {
     "data": {
      "text/html": [
       "<div>\n",
       "<style scoped>\n",
       "    .dataframe tbody tr th:only-of-type {\n",
       "        vertical-align: middle;\n",
       "    }\n",
       "\n",
       "    .dataframe tbody tr th {\n",
       "        vertical-align: top;\n",
       "    }\n",
       "\n",
       "    .dataframe thead th {\n",
       "        text-align: right;\n",
       "    }\n",
       "</style>\n",
       "<table border=\"1\" class=\"dataframe\">\n",
       "  <thead>\n",
       "    <tr style=\"text-align: right;\">\n",
       "      <th>debt</th>\n",
       "      <th>0</th>\n",
       "      <th>1</th>\n",
       "      <th>debt_ratio_percent</th>\n",
       "    </tr>\n",
       "    <tr>\n",
       "      <th>age_group</th>\n",
       "      <th></th>\n",
       "      <th></th>\n",
       "      <th></th>\n",
       "    </tr>\n",
       "  </thead>\n",
       "  <tbody>\n",
       "    <tr>\n",
       "      <td>более 60 лет</td>\n",
       "      <td>2025</td>\n",
       "      <td>101</td>\n",
       "      <td>4.987654</td>\n",
       "    </tr>\n",
       "    <tr>\n",
       "      <td>46-60 лет</td>\n",
       "      <td>6557</td>\n",
       "      <td>467</td>\n",
       "      <td>7.122160</td>\n",
       "    </tr>\n",
       "    <tr>\n",
       "      <td>31-45 лет</td>\n",
       "      <td>7816</td>\n",
       "      <td>770</td>\n",
       "      <td>9.851586</td>\n",
       "    </tr>\n",
       "    <tr>\n",
       "      <td>18-30 лет</td>\n",
       "      <td>3314</td>\n",
       "      <td>403</td>\n",
       "      <td>12.160531</td>\n",
       "    </tr>\n",
       "  </tbody>\n",
       "</table>\n",
       "</div>"
      ],
      "text/plain": [
       "debt             0    1  debt_ratio_percent\n",
       "age_group                                  \n",
       "более 60 лет  2025  101            4.987654\n",
       "46-60 лет     6557  467            7.122160\n",
       "31-45 лет     7816  770            9.851586\n",
       "18-30 лет     3314  403           12.160531"
      ]
     },
     "execution_count": 85,
     "metadata": {},
     "output_type": "execute_result"
    }
   ],
   "source": [
    "age_group_pivot_table=data.pivot_table(index=['age_group'], columns='debt', values='dob_years', aggfunc='count')\n",
    "age_group_pivot_table['debt_ratio_percent']=(age_group_pivot_table[1]/age_group_pivot_table[0])*100\n",
    "age_group_pivot_table.sort_values(by='debt_ratio_percent', ascending=True)"
   ]
  },
  {
   "cell_type": "markdown",
   "metadata": {},
   "source": [
    "Чем выше возраст, тем меньшая доля наличия просрочек по кредиту."
   ]
  },
  {
   "cell_type": "markdown",
   "metadata": {},
   "source": [
    "<div class=\"alert alert-success\">\n",
    "<b> Комментарий ревьюера</b>\n",
    "\n",
    "Ок.\n",
    "\n",
    "</div>"
   ]
  },
  {
   "cell_type": "markdown",
   "metadata": {},
   "source": [
    "Посмотрим по двум категориям одновременно: по возрасту и семейному положению."
   ]
  },
  {
   "cell_type": "code",
   "execution_count": 172,
   "metadata": {},
   "outputs": [
    {
     "data": {
      "text/html": [
       "<div>\n",
       "<style scoped>\n",
       "    .dataframe tbody tr th:only-of-type {\n",
       "        vertical-align: middle;\n",
       "    }\n",
       "\n",
       "    .dataframe tbody tr th {\n",
       "        vertical-align: top;\n",
       "    }\n",
       "\n",
       "    .dataframe thead th {\n",
       "        text-align: right;\n",
       "    }\n",
       "</style>\n",
       "<table border=\"1\" class=\"dataframe\">\n",
       "  <thead>\n",
       "    <tr style=\"text-align: right;\">\n",
       "      <th></th>\n",
       "      <th>debt</th>\n",
       "      <th>0</th>\n",
       "      <th>1</th>\n",
       "      <th>debt_ratio_percent</th>\n",
       "    </tr>\n",
       "    <tr>\n",
       "      <th>family_status_category</th>\n",
       "      <th>age_group</th>\n",
       "      <th></th>\n",
       "      <th></th>\n",
       "      <th></th>\n",
       "    </tr>\n",
       "  </thead>\n",
       "  <tbody>\n",
       "    <tr>\n",
       "      <td>в паре</td>\n",
       "      <td>более 60 лет</td>\n",
       "      <td>1387</td>\n",
       "      <td>64</td>\n",
       "      <td>4.614275</td>\n",
       "    </tr>\n",
       "    <tr>\n",
       "      <td>одинок</td>\n",
       "      <td>более 60 лет</td>\n",
       "      <td>638</td>\n",
       "      <td>37</td>\n",
       "      <td>5.799373</td>\n",
       "    </tr>\n",
       "    <tr>\n",
       "      <td>в паре</td>\n",
       "      <td>46-60 лет</td>\n",
       "      <td>5051</td>\n",
       "      <td>353</td>\n",
       "      <td>6.988715</td>\n",
       "    </tr>\n",
       "    <tr>\n",
       "      <td>одинок</td>\n",
       "      <td>46-60 лет</td>\n",
       "      <td>1506</td>\n",
       "      <td>114</td>\n",
       "      <td>7.569721</td>\n",
       "    </tr>\n",
       "    <tr>\n",
       "      <td>в паре</td>\n",
       "      <td>31-45 лет</td>\n",
       "      <td>6424</td>\n",
       "      <td>631</td>\n",
       "      <td>9.822540</td>\n",
       "    </tr>\n",
       "    <tr>\n",
       "      <td>одинок</td>\n",
       "      <td>31-45 лет</td>\n",
       "      <td>1392</td>\n",
       "      <td>139</td>\n",
       "      <td>9.985632</td>\n",
       "    </tr>\n",
       "    <tr>\n",
       "      <td>в паре</td>\n",
       "      <td>18-30 лет</td>\n",
       "      <td>2308</td>\n",
       "      <td>271</td>\n",
       "      <td>11.741768</td>\n",
       "    </tr>\n",
       "    <tr>\n",
       "      <td>одинок</td>\n",
       "      <td>18-30 лет</td>\n",
       "      <td>1006</td>\n",
       "      <td>132</td>\n",
       "      <td>13.121272</td>\n",
       "    </tr>\n",
       "  </tbody>\n",
       "</table>\n",
       "</div>"
      ],
      "text/plain": [
       "debt                                    0    1  debt_ratio_percent\n",
       "family_status_category age_group                                  \n",
       "в паре                 более 60 лет  1387   64            4.614275\n",
       "одинок                 более 60 лет   638   37            5.799373\n",
       "в паре                 46-60 лет     5051  353            6.988715\n",
       "одинок                 46-60 лет     1506  114            7.569721\n",
       "в паре                 31-45 лет     6424  631            9.822540\n",
       "одинок                 31-45 лет     1392  139            9.985632\n",
       "в паре                 18-30 лет     2308  271           11.741768\n",
       "одинок                 18-30 лет     1006  132           13.121272"
      ]
     },
     "execution_count": 172,
     "metadata": {},
     "output_type": "execute_result"
    }
   ],
   "source": [
    "two_group_pivot_table=data.pivot_table(index=['family_status_category','age_group'], columns='debt', values='dob_years', aggfunc='count')\n",
    "two_group_pivot_table['debt_ratio_percent']=(two_group_pivot_table[1]/two_group_pivot_table[0])*100\n",
    "two_group_pivot_table.sort_values(by='debt_ratio_percent', ascending=True)"
   ]
  },
  {
   "cell_type": "markdown",
   "metadata": {},
   "source": [
    "Здесь мы также видим, что чем выше возраст, тем меньше просрочек по кредиту, и в каждой категории также видим, что люди, состоящие в паре в меньшей степени имеют просрочки, чем те, кто одинок."
   ]
  },
  {
   "cell_type": "markdown",
   "metadata": {},
   "source": [
    "<div class=\"alert alert-success\">\n",
    "<b> Комментарий ревьюера</b>\n",
    "\n",
    "Хорошее замечание.\n",
    "\n",
    "</div>"
   ]
  },
  {
   "cell_type": "markdown",
   "metadata": {},
   "source": [
    "Сделаем сводную таблицу, которая показывала бы зависимость просрочки по кредиту от семейного положения и количества детей одновременно."
   ]
  },
  {
   "cell_type": "code",
   "execution_count": 173,
   "metadata": {},
   "outputs": [
    {
     "data": {
      "text/html": [
       "<div>\n",
       "<style scoped>\n",
       "    .dataframe tbody tr th:only-of-type {\n",
       "        vertical-align: middle;\n",
       "    }\n",
       "\n",
       "    .dataframe tbody tr th {\n",
       "        vertical-align: top;\n",
       "    }\n",
       "\n",
       "    .dataframe thead th {\n",
       "        text-align: right;\n",
       "    }\n",
       "</style>\n",
       "<table border=\"1\" class=\"dataframe\">\n",
       "  <thead>\n",
       "    <tr style=\"text-align: right;\">\n",
       "      <th></th>\n",
       "      <th>debt</th>\n",
       "      <th>0</th>\n",
       "      <th>1</th>\n",
       "      <th>debt_ratio_percent</th>\n",
       "    </tr>\n",
       "    <tr>\n",
       "      <th>children_category</th>\n",
       "      <th>family_status_category</th>\n",
       "      <th></th>\n",
       "      <th></th>\n",
       "      <th></th>\n",
       "    </tr>\n",
       "  </thead>\n",
       "  <tbody>\n",
       "    <tr>\n",
       "      <td>более 3 детей</td>\n",
       "      <td>в паре</td>\n",
       "      <td>43</td>\n",
       "      <td>3</td>\n",
       "      <td>6.976744</td>\n",
       "    </tr>\n",
       "    <tr>\n",
       "      <td rowspan=\"2\" valign=\"top\">нет детей</td>\n",
       "      <td>в паре</td>\n",
       "      <td>9452</td>\n",
       "      <td>745</td>\n",
       "      <td>7.881930</td>\n",
       "    </tr>\n",
       "    <tr>\n",
       "      <td>одинок</td>\n",
       "      <td>3575</td>\n",
       "      <td>318</td>\n",
       "      <td>8.895105</td>\n",
       "    </tr>\n",
       "    <tr>\n",
       "      <td>1 ребенок</td>\n",
       "      <td>в паре</td>\n",
       "      <td>3639</td>\n",
       "      <td>365</td>\n",
       "      <td>10.030228</td>\n",
       "    </tr>\n",
       "    <tr>\n",
       "      <td>2-3 ребенка</td>\n",
       "      <td>в паре</td>\n",
       "      <td>2036</td>\n",
       "      <td>206</td>\n",
       "      <td>10.117878</td>\n",
       "    </tr>\n",
       "    <tr>\n",
       "      <td>1 ребенок</td>\n",
       "      <td>одинок</td>\n",
       "      <td>771</td>\n",
       "      <td>80</td>\n",
       "      <td>10.376135</td>\n",
       "    </tr>\n",
       "    <tr>\n",
       "      <td>2-3 ребенка</td>\n",
       "      <td>одинок</td>\n",
       "      <td>193</td>\n",
       "      <td>23</td>\n",
       "      <td>11.917098</td>\n",
       "    </tr>\n",
       "    <tr>\n",
       "      <td>более 3 детей</td>\n",
       "      <td>одинок</td>\n",
       "      <td>3</td>\n",
       "      <td>1</td>\n",
       "      <td>33.333333</td>\n",
       "    </tr>\n",
       "  </tbody>\n",
       "</table>\n",
       "</div>"
      ],
      "text/plain": [
       "debt                                         0    1  debt_ratio_percent\n",
       "children_category family_status_category                               \n",
       "более 3 детей     в паре                    43    3            6.976744\n",
       "нет детей         в паре                  9452  745            7.881930\n",
       "                  одинок                  3575  318            8.895105\n",
       "1 ребенок         в паре                  3639  365           10.030228\n",
       "2-3 ребенка       в паре                  2036  206           10.117878\n",
       "1 ребенок         одинок                   771   80           10.376135\n",
       "2-3 ребенка       одинок                   193   23           11.917098\n",
       "более 3 детей     одинок                     3    1           33.333333"
      ]
     },
     "execution_count": 173,
     "metadata": {},
     "output_type": "execute_result"
    }
   ],
   "source": [
    "two_group_pivot_table=data.pivot_table(index=['children_category', 'family_status_category'], columns='debt', values='dob_years', aggfunc='count')\n",
    "two_group_pivot_table['debt_ratio_percent']=(two_group_pivot_table[1]/two_group_pivot_table[0])*100\n",
    "two_group_pivot_table.sort_values(by='debt_ratio_percent', ascending=True)"
   ]
  },
  {
   "cell_type": "markdown",
   "metadata": {},
   "source": [
    "Одинокие люди с числом детей более 3 в два раза больше допускают просрочек по выплате кредитов, чем люди, находящиеся в паре (в браке, в гражданском браке) с тем же количеством детей. Меньше всего просрочек допускают клиенты, состоящие в паре и не имеющие детей, а также клиенты, не состоящие в паре и не имеющие детей."
   ]
  },
  {
   "cell_type": "markdown",
   "metadata": {},
   "source": [
    "###### Вывод"
   ]
  },
  {
   "cell_type": "markdown",
   "metadata": {},
   "source": [
    "Чем больше детей, тем больше просрочек по кредиту. А наличие пары имеет положительное влияние на платежеспособность. "
   ]
  },
  {
   "cell_type": "markdown",
   "metadata": {},
   "source": [
    "<div class=\"alert alert-success\">\n",
    "<b> Комментарий ревьюера</b>\n",
    "\n",
    "Здорово, что смотришь на данные под разными углами.\n",
    "\n",
    "</div>"
   ]
  },
  {
   "cell_type": "markdown",
   "metadata": {},
   "source": [
    "- Есть ли зависимость между уровнем дохода и возвратом кредита в срок?"
   ]
  },
  {
   "cell_type": "code",
   "execution_count": 174,
   "metadata": {},
   "outputs": [
    {
     "data": {
      "text/html": [
       "<div>\n",
       "<style scoped>\n",
       "    .dataframe tbody tr th:only-of-type {\n",
       "        vertical-align: middle;\n",
       "    }\n",
       "\n",
       "    .dataframe tbody tr th {\n",
       "        vertical-align: top;\n",
       "    }\n",
       "\n",
       "    .dataframe thead th {\n",
       "        text-align: right;\n",
       "    }\n",
       "</style>\n",
       "<table border=\"1\" class=\"dataframe\">\n",
       "  <thead>\n",
       "    <tr style=\"text-align: right;\">\n",
       "      <th>debt</th>\n",
       "      <th>0</th>\n",
       "      <th>1</th>\n",
       "      <th>debt_ratio_percent</th>\n",
       "    </tr>\n",
       "    <tr>\n",
       "      <th>income_group</th>\n",
       "      <th></th>\n",
       "      <th></th>\n",
       "      <th></th>\n",
       "    </tr>\n",
       "  </thead>\n",
       "  <tbody>\n",
       "    <tr>\n",
       "      <td>очень высокий доход</td>\n",
       "      <td>4981</td>\n",
       "      <td>383</td>\n",
       "      <td>7.689219</td>\n",
       "    </tr>\n",
       "    <tr>\n",
       "      <td>низкий доход</td>\n",
       "      <td>4936</td>\n",
       "      <td>427</td>\n",
       "      <td>8.650729</td>\n",
       "    </tr>\n",
       "    <tr>\n",
       "      <td>высокий доход</td>\n",
       "      <td>5770</td>\n",
       "      <td>546</td>\n",
       "      <td>9.462738</td>\n",
       "    </tr>\n",
       "    <tr>\n",
       "      <td>средний доход</td>\n",
       "      <td>4025</td>\n",
       "      <td>385</td>\n",
       "      <td>9.565217</td>\n",
       "    </tr>\n",
       "  </tbody>\n",
       "</table>\n",
       "</div>"
      ],
      "text/plain": [
       "debt                    0    1  debt_ratio_percent\n",
       "income_group                                      \n",
       "очень высокий доход  4981  383            7.689219\n",
       "низкий доход         4936  427            8.650729\n",
       "высокий доход        5770  546            9.462738\n",
       "средний доход        4025  385            9.565217"
      ]
     },
     "execution_count": 174,
     "metadata": {},
     "output_type": "execute_result"
    }
   ],
   "source": [
    "income_pivot_table=data.pivot_table(index=['income_group'], columns='debt', values='dob_years', aggfunc='count')\n",
    "income_pivot_table['debt_ratio_percent']=(income_pivot_table[1]/income_pivot_table[0])*100\n",
    "income_pivot_table.sort_values(by='debt_ratio_percent', ascending=True)"
   ]
  },
  {
   "cell_type": "markdown",
   "metadata": {},
   "source": [
    "Клиенты с очень высоким доходом в меньшей степени допускают просрочки по кредиту, как и клиенты с низким доходом. Больше просрочек допускают те, кто имеет высокий и средний доход. "
   ]
  },
  {
   "cell_type": "markdown",
   "metadata": {},
   "source": [
    "<div class=\"alert alert-success\">\n",
    "<b> Комментарий ревьюера</b>\n",
    "\n",
    "Ок.\n",
    "\n",
    "</div>"
   ]
  },
  {
   "cell_type": "markdown",
   "metadata": {},
   "source": [
    "- Как разные цели кредита влияют на его возврат в срок?"
   ]
  },
  {
   "cell_type": "code",
   "execution_count": 175,
   "metadata": {},
   "outputs": [
    {
     "data": {
      "text/html": [
       "<div>\n",
       "<style scoped>\n",
       "    .dataframe tbody tr th:only-of-type {\n",
       "        vertical-align: middle;\n",
       "    }\n",
       "\n",
       "    .dataframe tbody tr th {\n",
       "        vertical-align: top;\n",
       "    }\n",
       "\n",
       "    .dataframe thead th {\n",
       "        text-align: right;\n",
       "    }\n",
       "</style>\n",
       "<table border=\"1\" class=\"dataframe\">\n",
       "  <thead>\n",
       "    <tr style=\"text-align: right;\">\n",
       "      <th>debt</th>\n",
       "      <th>0</th>\n",
       "      <th>1</th>\n",
       "      <th>debt_ratio_percent</th>\n",
       "    </tr>\n",
       "    <tr>\n",
       "      <th>purpose_category</th>\n",
       "      <th></th>\n",
       "      <th></th>\n",
       "      <th></th>\n",
       "    </tr>\n",
       "  </thead>\n",
       "  <tbody>\n",
       "    <tr>\n",
       "      <td>недвижимость</td>\n",
       "      <td>10029</td>\n",
       "      <td>782</td>\n",
       "      <td>7.797388</td>\n",
       "    </tr>\n",
       "    <tr>\n",
       "      <td>свадьба</td>\n",
       "      <td>2137</td>\n",
       "      <td>186</td>\n",
       "      <td>8.703790</td>\n",
       "    </tr>\n",
       "    <tr>\n",
       "      <td>образование</td>\n",
       "      <td>3643</td>\n",
       "      <td>370</td>\n",
       "      <td>10.156464</td>\n",
       "    </tr>\n",
       "    <tr>\n",
       "      <td>автомобиль</td>\n",
       "      <td>3903</td>\n",
       "      <td>403</td>\n",
       "      <td>10.325391</td>\n",
       "    </tr>\n",
       "  </tbody>\n",
       "</table>\n",
       "</div>"
      ],
      "text/plain": [
       "debt                  0    1  debt_ratio_percent\n",
       "purpose_category                                \n",
       "недвижимость      10029  782            7.797388\n",
       "свадьба            2137  186            8.703790\n",
       "образование        3643  370           10.156464\n",
       "автомобиль         3903  403           10.325391"
      ]
     },
     "execution_count": 175,
     "metadata": {},
     "output_type": "execute_result"
    }
   ],
   "source": [
    "purpose_pivot_table=data.pivot_table(index=['purpose_category'], columns='debt', values='dob_years', aggfunc='count')\n",
    "purpose_pivot_table['debt_ratio_percent']=(purpose_pivot_table[1]/purpose_pivot_table[0])*100\n",
    "purpose_pivot_table.sort_values(by='debt_ratio_percent', ascending=True)"
   ]
  },
  {
   "cell_type": "markdown",
   "metadata": {},
   "source": [
    "Просрочек за кредит, взятый на автомобиль и образование, больше, чем на свадьбу и недвижимость. \n",
    "Просрочек по кредитам на недвижимость меньше всего."
   ]
  },
  {
   "cell_type": "markdown",
   "metadata": {},
   "source": [
    "<div class=\"alert alert-success\">\n",
    "<b> Комментарий ревьюера</b>\n",
    "\n",
    "Ответили на вопрос.\n",
    "\n",
    "</div>"
   ]
  },
  {
   "cell_type": "markdown",
   "metadata": {},
   "source": [
    "## Шаг 4. Общий вывод"
   ]
  },
  {
   "cell_type": "markdown",
   "metadata": {},
   "source": [
    "Мы нашли зависимость просрочек по кредитам от количества детей, уровня дохода, целей кредита и семейного положения клиентов. \n",
    "Меньше всего просрочек по кредитам на недвижимость, по кредитам, взятым людьми более старшего возраста, людьми, состоящими в браке (гражданском браке) и не имеющими детей. \n",
    "Клиенты с самым высоким доходом и с самым низким доходом задерживают кредит в меньшей степени, чем клиенты со средним доходом. "
   ]
  },
  {
   "cell_type": "markdown",
   "metadata": {},
   "source": [
    "<div class=\"alert alert-success\">\n",
    "<b> Комментарий ревьюера</b>\n",
    "\n",
    "Отлично, ответили на вопросы исследования.\n",
    "    \n",
    "Дополнительно в выводе можно указать, с какими данными работали, с какими проблемами столкнулись. Помимо рекомендаций по кредитному скорингу твои выводы могут содержать ценную информацию для технической команды, которая готовит выгрузки или собирает данные.\n",
    "\n",
    "</div>"
   ]
  },
  {
   "cell_type": "markdown",
   "metadata": {},
   "source": [
    "<div class=\"alert alert-warning\">\n",
    "<b> Итоговый комментарий ревьюера</b>\n",
    "\n",
    "Отличная работа, молодец! Проект неплохо оформлен, сделаны основные шаги, есть промежуточные выводы и итоговые рекомендации. Критичных замечаний у меня нет, но мелких многовато. Постарайся, пожалуйста, учесть хотя бы несколько из них, чтобы я могла зачесть проект. Напомню, это было в желтых комментариях:\n",
    "\n",
    "* Комментарии к действиям в ячейках markdown, не в коде\n",
    "* Обработка записей с 20 детьми\n",
    "* Гипотезы о возникновении аномалий в данных\n",
    "* Гипотезы о возникновении дубликатов\n",
    "* Использование готовых функций Pandas\n",
    "* Мелочи в выводах на 3 шаге\n",
    "\n",
    "Зеленые комментарии содержат инфомацию на будущее, в этом проекте учитывать их не обязательно.\n",
    "\n",
    "Успехов!\n",
    "</div>"
   ]
  },
  {
   "cell_type": "markdown",
   "metadata": {},
   "source": [
    "Все комментарии перенесла в ячейки, убрав из кода ненужные пояснения. \n",
    "Обработка записей с 20 детьми: провела по-другому, хотя это можно было и обосновать (возможно, это семейный детский дом). \n",
    "Гипотезы о возникновении аномалий в данных: внесла (не подгружаются справки, анкеты). \n",
    "Гипотезы о возникновении дубликатов: внесла (дублирование анкет). \n",
    "Мелочи в выводах на 3 шаге: указала, что найденная зависимость прямая. \n",
    "СПАСИБО!"
   ]
  },
  {
   "cell_type": "markdown",
   "metadata": {},
   "source": [
    "<div class=\"alert alert-success\">\n",
    "<b> Итоговый комментарий ревьюера v2</b>\n",
    "\n",
    "Просмотрела изменения, отличная работа! Твой проект принят.\n",
    "    \n",
    "Еще два замечания на будущее:\n",
    "* Постарайся перезапускать ядро и все ячейки перед отправкой проекта. Это придает тетрадке более опрятный вид и позволяет отловить ошибки кода.\n",
    "* Когда меняешь или удаляешь значительную часть данных, лучше приводить подробные обоснования для такого действия.\n",
    "    \n",
    "Спасибо за классный проект, было приятно его проверять.\n",
    "</div>"
   ]
  },
  {
   "cell_type": "markdown",
   "metadata": {},
   "source": [
    "## Чек-лист готовности проекта\n",
    "\n",
    "Поставьте 'x' в выполненных пунктах. Далее нажмите Shift+Enter."
   ]
  },
  {
   "cell_type": "markdown",
   "metadata": {},
   "source": [
    "- [x]  открыт файл;\n",
    "- [x]  файл изучен;\n",
    "- [x]  определены пропущенные значения;\n",
    "- [x]  заполнены пропущенные значения;\n",
    "- [x]  есть пояснение, какие пропущенные значения обнаружены;\n",
    "- [x]  описаны возможные причины появления пропусков в данных;\n",
    "- [x]  объяснено, по какому принципу заполнены пропуски;\n",
    "- [x]  заменен вещественный тип данных на целочисленный;\n",
    "- [x]  есть пояснение, какой метод используется для изменения типа данных и почему;\n",
    "- [x]  удалены дубликаты;\n",
    "- [x]  есть пояснение, какой метод используется для поиска и удаления дубликатов;\n",
    "- [x]  описаны возможные причины появления дубликатов в данных;\n",
    "- [x]  выделены леммы в значениях столбца с целями получения кредита;\n",
    "- [x]  описан процесс лемматизации;\n",
    "- [x]  данные категоризированы;\n",
    "- [x]  есть объяснение принципа категоризации данных;\n",
    "- [x]  есть ответ на вопрос: \"Есть ли зависимость между наличием детей и возвратом кредита в срок?\";\n",
    "- [x]  есть ответ на вопрос: \"Есть ли зависимость между семейным положением и возвратом кредита в срок?\";\n",
    "- [x]  есть ответ на вопрос: \"Есть ли зависимость между уровнем дохода и возвратом кредита в срок?\";\n",
    "- [x]  есть ответ на вопрос: \"Как разные цели кредита влияют на его возврат в срок?\";\n",
    "- [x]  в каждом этапе есть выводы;\n",
    "- [x]  есть общий вывод."
   ]
  }
 ],
 "metadata": {
  "kernelspec": {
   "display_name": "Python 3",
   "language": "python",
   "name": "python3"
  },
  "language_info": {
   "codemirror_mode": {
    "name": "ipython",
    "version": 3
   },
   "file_extension": ".py",
   "mimetype": "text/x-python",
   "name": "python",
   "nbconvert_exporter": "python",
   "pygments_lexer": "ipython3",
   "version": "3.7.8"
  },
  "toc": {
   "base_numbering": 1,
   "nav_menu": {},
   "number_sections": true,
   "sideBar": true,
   "skip_h1_title": true,
   "title_cell": "Table of Contents",
   "title_sidebar": "Contents",
   "toc_cell": false,
   "toc_position": {},
   "toc_section_display": true,
   "toc_window_display": false
  }
 },
 "nbformat": 4,
 "nbformat_minor": 2
}
